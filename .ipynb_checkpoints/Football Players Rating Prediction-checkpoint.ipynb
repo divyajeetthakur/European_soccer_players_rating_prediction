{
 "cells": [
  {
   "cell_type": "code",
   "execution_count": 74,
   "metadata": {},
   "outputs": [],
   "source": [
    "import sqlite3\n",
    "import pandas as pd\n",
    "import numpy as np\n",
    "import matplotlib.pyplot as plt\n",
    "import seaborn as sns\n",
    "pd.set_option('display.max_columns',None)"
   ]
  },
  {
   "cell_type": "markdown",
   "metadata": {},
   "source": [
    "## Importing Data Set"
   ]
  },
  {
   "cell_type": "raw",
   "metadata": {},
   "source": [
    "con = sqlite3.connect(r\"C:\\Users\\Divyajeet\\Documents\\Ankur Proj\\Data Set\\database.sqlite\")\n",
    "tables = pd.read_sql(\"\"\"SELECT * FROM sqlite_master WHERE type='table';\"\"\", con)\n",
    "print(\"Connection Successful\",con)"
   ]
  },
  {
   "cell_type": "raw",
   "metadata": {},
   "source": [
    "df = pd.read_sql_query(\"SELECT * FROM Player_Attributes\", con)"
   ]
  },
  {
   "cell_type": "code",
   "execution_count": 75,
   "metadata": {},
   "outputs": [
    {
     "data": {
      "text/html": [
       "<div>\n",
       "<style scoped>\n",
       "    .dataframe tbody tr th:only-of-type {\n",
       "        vertical-align: middle;\n",
       "    }\n",
       "\n",
       "    .dataframe tbody tr th {\n",
       "        vertical-align: top;\n",
       "    }\n",
       "\n",
       "    .dataframe thead th {\n",
       "        text-align: right;\n",
       "    }\n",
       "</style>\n",
       "<table border=\"1\" class=\"dataframe\">\n",
       "  <thead>\n",
       "    <tr style=\"text-align: right;\">\n",
       "      <th></th>\n",
       "      <th>id</th>\n",
       "      <th>player_fifa_api_id</th>\n",
       "      <th>player_api_id</th>\n",
       "      <th>date</th>\n",
       "      <th>overall_rating</th>\n",
       "      <th>potential</th>\n",
       "      <th>preferred_foot</th>\n",
       "      <th>attacking_work_rate</th>\n",
       "      <th>defensive_work_rate</th>\n",
       "      <th>crossing</th>\n",
       "      <th>finishing</th>\n",
       "      <th>heading_accuracy</th>\n",
       "      <th>short_passing</th>\n",
       "      <th>volleys</th>\n",
       "      <th>dribbling</th>\n",
       "      <th>curve</th>\n",
       "      <th>free_kick_accuracy</th>\n",
       "      <th>long_passing</th>\n",
       "      <th>ball_control</th>\n",
       "      <th>acceleration</th>\n",
       "      <th>sprint_speed</th>\n",
       "      <th>agility</th>\n",
       "      <th>reactions</th>\n",
       "      <th>balance</th>\n",
       "      <th>shot_power</th>\n",
       "      <th>jumping</th>\n",
       "      <th>stamina</th>\n",
       "      <th>strength</th>\n",
       "      <th>long_shots</th>\n",
       "      <th>aggression</th>\n",
       "      <th>interceptions</th>\n",
       "      <th>positioning</th>\n",
       "      <th>vision</th>\n",
       "      <th>penalties</th>\n",
       "      <th>marking</th>\n",
       "      <th>standing_tackle</th>\n",
       "      <th>sliding_tackle</th>\n",
       "      <th>gk_diving</th>\n",
       "      <th>gk_handling</th>\n",
       "      <th>gk_kicking</th>\n",
       "      <th>gk_positioning</th>\n",
       "      <th>gk_reflexes</th>\n",
       "    </tr>\n",
       "  </thead>\n",
       "  <tbody>\n",
       "    <tr>\n",
       "      <th>0</th>\n",
       "      <td>1</td>\n",
       "      <td>218353</td>\n",
       "      <td>505942</td>\n",
       "      <td>2016-02-18 00:00:00</td>\n",
       "      <td>67.0</td>\n",
       "      <td>71.0</td>\n",
       "      <td>right</td>\n",
       "      <td>medium</td>\n",
       "      <td>medium</td>\n",
       "      <td>49.0</td>\n",
       "      <td>44.0</td>\n",
       "      <td>71.0</td>\n",
       "      <td>61.0</td>\n",
       "      <td>44.0</td>\n",
       "      <td>51.0</td>\n",
       "      <td>45.0</td>\n",
       "      <td>39.0</td>\n",
       "      <td>64.0</td>\n",
       "      <td>49.0</td>\n",
       "      <td>60.0</td>\n",
       "      <td>64.0</td>\n",
       "      <td>59.0</td>\n",
       "      <td>47.0</td>\n",
       "      <td>65.0</td>\n",
       "      <td>55.0</td>\n",
       "      <td>58.0</td>\n",
       "      <td>54.0</td>\n",
       "      <td>76.0</td>\n",
       "      <td>35.0</td>\n",
       "      <td>71.0</td>\n",
       "      <td>70.0</td>\n",
       "      <td>45.0</td>\n",
       "      <td>54.0</td>\n",
       "      <td>48.0</td>\n",
       "      <td>65.0</td>\n",
       "      <td>69.0</td>\n",
       "      <td>69.0</td>\n",
       "      <td>6.0</td>\n",
       "      <td>11.0</td>\n",
       "      <td>10.0</td>\n",
       "      <td>8.0</td>\n",
       "      <td>8.0</td>\n",
       "    </tr>\n",
       "    <tr>\n",
       "      <th>1</th>\n",
       "      <td>2</td>\n",
       "      <td>218353</td>\n",
       "      <td>505942</td>\n",
       "      <td>2015-11-19 00:00:00</td>\n",
       "      <td>67.0</td>\n",
       "      <td>71.0</td>\n",
       "      <td>right</td>\n",
       "      <td>medium</td>\n",
       "      <td>medium</td>\n",
       "      <td>49.0</td>\n",
       "      <td>44.0</td>\n",
       "      <td>71.0</td>\n",
       "      <td>61.0</td>\n",
       "      <td>44.0</td>\n",
       "      <td>51.0</td>\n",
       "      <td>45.0</td>\n",
       "      <td>39.0</td>\n",
       "      <td>64.0</td>\n",
       "      <td>49.0</td>\n",
       "      <td>60.0</td>\n",
       "      <td>64.0</td>\n",
       "      <td>59.0</td>\n",
       "      <td>47.0</td>\n",
       "      <td>65.0</td>\n",
       "      <td>55.0</td>\n",
       "      <td>58.0</td>\n",
       "      <td>54.0</td>\n",
       "      <td>76.0</td>\n",
       "      <td>35.0</td>\n",
       "      <td>71.0</td>\n",
       "      <td>70.0</td>\n",
       "      <td>45.0</td>\n",
       "      <td>54.0</td>\n",
       "      <td>48.0</td>\n",
       "      <td>65.0</td>\n",
       "      <td>69.0</td>\n",
       "      <td>69.0</td>\n",
       "      <td>6.0</td>\n",
       "      <td>11.0</td>\n",
       "      <td>10.0</td>\n",
       "      <td>8.0</td>\n",
       "      <td>8.0</td>\n",
       "    </tr>\n",
       "    <tr>\n",
       "      <th>2</th>\n",
       "      <td>3</td>\n",
       "      <td>218353</td>\n",
       "      <td>505942</td>\n",
       "      <td>2015-09-21 00:00:00</td>\n",
       "      <td>62.0</td>\n",
       "      <td>66.0</td>\n",
       "      <td>right</td>\n",
       "      <td>medium</td>\n",
       "      <td>medium</td>\n",
       "      <td>49.0</td>\n",
       "      <td>44.0</td>\n",
       "      <td>71.0</td>\n",
       "      <td>61.0</td>\n",
       "      <td>44.0</td>\n",
       "      <td>51.0</td>\n",
       "      <td>45.0</td>\n",
       "      <td>39.0</td>\n",
       "      <td>64.0</td>\n",
       "      <td>49.0</td>\n",
       "      <td>60.0</td>\n",
       "      <td>64.0</td>\n",
       "      <td>59.0</td>\n",
       "      <td>47.0</td>\n",
       "      <td>65.0</td>\n",
       "      <td>55.0</td>\n",
       "      <td>58.0</td>\n",
       "      <td>54.0</td>\n",
       "      <td>76.0</td>\n",
       "      <td>35.0</td>\n",
       "      <td>63.0</td>\n",
       "      <td>41.0</td>\n",
       "      <td>45.0</td>\n",
       "      <td>54.0</td>\n",
       "      <td>48.0</td>\n",
       "      <td>65.0</td>\n",
       "      <td>66.0</td>\n",
       "      <td>69.0</td>\n",
       "      <td>6.0</td>\n",
       "      <td>11.0</td>\n",
       "      <td>10.0</td>\n",
       "      <td>8.0</td>\n",
       "      <td>8.0</td>\n",
       "    </tr>\n",
       "    <tr>\n",
       "      <th>3</th>\n",
       "      <td>4</td>\n",
       "      <td>218353</td>\n",
       "      <td>505942</td>\n",
       "      <td>2015-03-20 00:00:00</td>\n",
       "      <td>61.0</td>\n",
       "      <td>65.0</td>\n",
       "      <td>right</td>\n",
       "      <td>medium</td>\n",
       "      <td>medium</td>\n",
       "      <td>48.0</td>\n",
       "      <td>43.0</td>\n",
       "      <td>70.0</td>\n",
       "      <td>60.0</td>\n",
       "      <td>43.0</td>\n",
       "      <td>50.0</td>\n",
       "      <td>44.0</td>\n",
       "      <td>38.0</td>\n",
       "      <td>63.0</td>\n",
       "      <td>48.0</td>\n",
       "      <td>60.0</td>\n",
       "      <td>64.0</td>\n",
       "      <td>59.0</td>\n",
       "      <td>46.0</td>\n",
       "      <td>65.0</td>\n",
       "      <td>54.0</td>\n",
       "      <td>58.0</td>\n",
       "      <td>54.0</td>\n",
       "      <td>76.0</td>\n",
       "      <td>34.0</td>\n",
       "      <td>62.0</td>\n",
       "      <td>40.0</td>\n",
       "      <td>44.0</td>\n",
       "      <td>53.0</td>\n",
       "      <td>47.0</td>\n",
       "      <td>62.0</td>\n",
       "      <td>63.0</td>\n",
       "      <td>66.0</td>\n",
       "      <td>5.0</td>\n",
       "      <td>10.0</td>\n",
       "      <td>9.0</td>\n",
       "      <td>7.0</td>\n",
       "      <td>7.0</td>\n",
       "    </tr>\n",
       "    <tr>\n",
       "      <th>4</th>\n",
       "      <td>5</td>\n",
       "      <td>218353</td>\n",
       "      <td>505942</td>\n",
       "      <td>2007-02-22 00:00:00</td>\n",
       "      <td>61.0</td>\n",
       "      <td>65.0</td>\n",
       "      <td>right</td>\n",
       "      <td>medium</td>\n",
       "      <td>medium</td>\n",
       "      <td>48.0</td>\n",
       "      <td>43.0</td>\n",
       "      <td>70.0</td>\n",
       "      <td>60.0</td>\n",
       "      <td>43.0</td>\n",
       "      <td>50.0</td>\n",
       "      <td>44.0</td>\n",
       "      <td>38.0</td>\n",
       "      <td>63.0</td>\n",
       "      <td>48.0</td>\n",
       "      <td>60.0</td>\n",
       "      <td>64.0</td>\n",
       "      <td>59.0</td>\n",
       "      <td>46.0</td>\n",
       "      <td>65.0</td>\n",
       "      <td>54.0</td>\n",
       "      <td>58.0</td>\n",
       "      <td>54.0</td>\n",
       "      <td>76.0</td>\n",
       "      <td>34.0</td>\n",
       "      <td>62.0</td>\n",
       "      <td>40.0</td>\n",
       "      <td>44.0</td>\n",
       "      <td>53.0</td>\n",
       "      <td>47.0</td>\n",
       "      <td>62.0</td>\n",
       "      <td>63.0</td>\n",
       "      <td>66.0</td>\n",
       "      <td>5.0</td>\n",
       "      <td>10.0</td>\n",
       "      <td>9.0</td>\n",
       "      <td>7.0</td>\n",
       "      <td>7.0</td>\n",
       "    </tr>\n",
       "  </tbody>\n",
       "</table>\n",
       "</div>"
      ],
      "text/plain": [
       "   id  player_fifa_api_id  player_api_id                 date  overall_rating  \\\n",
       "0   1              218353         505942  2016-02-18 00:00:00            67.0   \n",
       "1   2              218353         505942  2015-11-19 00:00:00            67.0   \n",
       "2   3              218353         505942  2015-09-21 00:00:00            62.0   \n",
       "3   4              218353         505942  2015-03-20 00:00:00            61.0   \n",
       "4   5              218353         505942  2007-02-22 00:00:00            61.0   \n",
       "\n",
       "   potential preferred_foot attacking_work_rate defensive_work_rate  crossing  \\\n",
       "0       71.0          right              medium              medium      49.0   \n",
       "1       71.0          right              medium              medium      49.0   \n",
       "2       66.0          right              medium              medium      49.0   \n",
       "3       65.0          right              medium              medium      48.0   \n",
       "4       65.0          right              medium              medium      48.0   \n",
       "\n",
       "   finishing  heading_accuracy  short_passing  volleys  dribbling  curve  \\\n",
       "0       44.0              71.0           61.0     44.0       51.0   45.0   \n",
       "1       44.0              71.0           61.0     44.0       51.0   45.0   \n",
       "2       44.0              71.0           61.0     44.0       51.0   45.0   \n",
       "3       43.0              70.0           60.0     43.0       50.0   44.0   \n",
       "4       43.0              70.0           60.0     43.0       50.0   44.0   \n",
       "\n",
       "   free_kick_accuracy  long_passing  ball_control  acceleration  sprint_speed  \\\n",
       "0                39.0          64.0          49.0          60.0          64.0   \n",
       "1                39.0          64.0          49.0          60.0          64.0   \n",
       "2                39.0          64.0          49.0          60.0          64.0   \n",
       "3                38.0          63.0          48.0          60.0          64.0   \n",
       "4                38.0          63.0          48.0          60.0          64.0   \n",
       "\n",
       "   agility  reactions  balance  shot_power  jumping  stamina  strength  \\\n",
       "0     59.0       47.0     65.0        55.0     58.0     54.0      76.0   \n",
       "1     59.0       47.0     65.0        55.0     58.0     54.0      76.0   \n",
       "2     59.0       47.0     65.0        55.0     58.0     54.0      76.0   \n",
       "3     59.0       46.0     65.0        54.0     58.0     54.0      76.0   \n",
       "4     59.0       46.0     65.0        54.0     58.0     54.0      76.0   \n",
       "\n",
       "   long_shots  aggression  interceptions  positioning  vision  penalties  \\\n",
       "0        35.0        71.0           70.0         45.0    54.0       48.0   \n",
       "1        35.0        71.0           70.0         45.0    54.0       48.0   \n",
       "2        35.0        63.0           41.0         45.0    54.0       48.0   \n",
       "3        34.0        62.0           40.0         44.0    53.0       47.0   \n",
       "4        34.0        62.0           40.0         44.0    53.0       47.0   \n",
       "\n",
       "   marking  standing_tackle  sliding_tackle  gk_diving  gk_handling  \\\n",
       "0     65.0             69.0            69.0        6.0         11.0   \n",
       "1     65.0             69.0            69.0        6.0         11.0   \n",
       "2     65.0             66.0            69.0        6.0         11.0   \n",
       "3     62.0             63.0            66.0        5.0         10.0   \n",
       "4     62.0             63.0            66.0        5.0         10.0   \n",
       "\n",
       "   gk_kicking  gk_positioning  gk_reflexes  \n",
       "0        10.0             8.0          8.0  \n",
       "1        10.0             8.0          8.0  \n",
       "2        10.0             8.0          8.0  \n",
       "3         9.0             7.0          7.0  \n",
       "4         9.0             7.0          7.0  "
      ]
     },
     "execution_count": 75,
     "metadata": {},
     "output_type": "execute_result"
    }
   ],
   "source": [
    "df = pd.read_csv('players.csv')\n",
    "df.head()"
   ]
  },
  {
   "cell_type": "code",
   "execution_count": null,
   "metadata": {},
   "outputs": [],
   "source": []
  },
  {
   "cell_type": "markdown",
   "metadata": {},
   "source": [
    "### Total number of rows and columns present in the data set"
   ]
  },
  {
   "cell_type": "code",
   "execution_count": 76,
   "metadata": {},
   "outputs": [
    {
     "name": "stdout",
     "output_type": "stream",
     "text": [
      "Total Rows present:  183978\n",
      "Total Columns present:  42\n"
     ]
    }
   ],
   "source": [
    "print('Total Rows present: ',df.shape[0])\n",
    "print('Total Columns present: ',df.shape[1])"
   ]
  },
  {
   "cell_type": "markdown",
   "metadata": {},
   "source": [
    "## Treating Null Values"
   ]
  },
  {
   "cell_type": "code",
   "execution_count": 77,
   "metadata": {
    "scrolled": true
   },
   "outputs": [
    {
     "data": {
      "text/plain": [
       "47301"
      ]
     },
     "execution_count": 77,
     "metadata": {},
     "output_type": "execute_result"
    }
   ],
   "source": [
    "# Total 47301 Null values are present in different columns\n",
    "df.isnull().sum().sum()"
   ]
  },
  {
   "cell_type": "code",
   "execution_count": 78,
   "metadata": {},
   "outputs": [
    {
     "data": {
      "text/plain": [
       "id                        0\n",
       "player_fifa_api_id        0\n",
       "player_api_id             0\n",
       "date                      0\n",
       "overall_rating          836\n",
       "potential               836\n",
       "preferred_foot          836\n",
       "attacking_work_rate    3230\n",
       "defensive_work_rate     836\n",
       "crossing                836\n",
       "finishing               836\n",
       "heading_accuracy        836\n",
       "short_passing           836\n",
       "volleys                2713\n",
       "dribbling               836\n",
       "curve                  2713\n",
       "free_kick_accuracy      836\n",
       "long_passing            836\n",
       "ball_control            836\n",
       "acceleration            836\n",
       "sprint_speed            836\n",
       "agility                2713\n",
       "reactions               836\n",
       "balance                2713\n",
       "shot_power              836\n",
       "jumping                2713\n",
       "stamina                 836\n",
       "strength                836\n",
       "long_shots              836\n",
       "aggression              836\n",
       "interceptions           836\n",
       "positioning             836\n",
       "vision                 2713\n",
       "penalties               836\n",
       "marking                 836\n",
       "standing_tackle         836\n",
       "sliding_tackle         2713\n",
       "gk_diving               836\n",
       "gk_handling             836\n",
       "gk_kicking              836\n",
       "gk_positioning          836\n",
       "gk_reflexes             836\n",
       "dtype: int64"
      ]
     },
     "execution_count": 78,
     "metadata": {},
     "output_type": "execute_result"
    }
   ],
   "source": [
    "# Missing values in each columns\n",
    "df.isnull().sum()"
   ]
  },
  {
   "cell_type": "code",
   "execution_count": 79,
   "metadata": {},
   "outputs": [
    {
     "data": {
      "text/plain": [
       "id                     0.000000\n",
       "player_fifa_api_id     0.000000\n",
       "player_api_id          0.000000\n",
       "date                   0.000000\n",
       "overall_rating         0.454402\n",
       "potential              0.454402\n",
       "preferred_foot         0.454402\n",
       "attacking_work_rate    1.755645\n",
       "defensive_work_rate    0.454402\n",
       "crossing               0.454402\n",
       "finishing              0.454402\n",
       "heading_accuracy       0.454402\n",
       "short_passing          0.454402\n",
       "volleys                1.474633\n",
       "dribbling              0.454402\n",
       "curve                  1.474633\n",
       "free_kick_accuracy     0.454402\n",
       "long_passing           0.454402\n",
       "ball_control           0.454402\n",
       "acceleration           0.454402\n",
       "sprint_speed           0.454402\n",
       "agility                1.474633\n",
       "reactions              0.454402\n",
       "balance                1.474633\n",
       "shot_power             0.454402\n",
       "jumping                1.474633\n",
       "stamina                0.454402\n",
       "strength               0.454402\n",
       "long_shots             0.454402\n",
       "aggression             0.454402\n",
       "interceptions          0.454402\n",
       "positioning            0.454402\n",
       "vision                 1.474633\n",
       "penalties              0.454402\n",
       "marking                0.454402\n",
       "standing_tackle        0.454402\n",
       "sliding_tackle         1.474633\n",
       "gk_diving              0.454402\n",
       "gk_handling            0.454402\n",
       "gk_kicking             0.454402\n",
       "gk_positioning         0.454402\n",
       "gk_reflexes            0.454402\n",
       "dtype: float64"
      ]
     },
     "execution_count": 79,
     "metadata": {},
     "output_type": "execute_result"
    }
   ],
   "source": [
    "# Null values in percentage\n",
    "df.isnull().sum()/df.shape[0]*100"
   ]
  },
  {
   "cell_type": "code",
   "execution_count": 80,
   "metadata": {},
   "outputs": [
    {
     "data": {
      "text/plain": [
       "Text(0.5, 1.0, 'Missing Values in %')"
      ]
     },
     "execution_count": 80,
     "metadata": {},
     "output_type": "execute_result"
    },
    {
     "data": {
      "image/png": "[encoded data removed]",
      "text/plain": [
       "<Figure size 1080x360 with 1 Axes>"
      ]
     },
     "metadata": {
      "needs_background": "light"
     },
     "output_type": "display_data"
    }
   ],
   "source": [
    "df1 = df[['overall_rating','attacking_work_rate','crossing','heading_accuracy','vision','dribbling','sliding_tackle']].isnull().sum().T/df.shape[0]*100\n",
    "plt.figure(figsize=(15,5))\n",
    "plt.bar(df1.index, df1)\n",
    "plt.title('Missing Values in %')"
   ]
  },
  {
   "cell_type": "markdown",
   "metadata": {},
   "source": [
    "### Removing rows which contains Null Values in Target Column (Overall Rating)"
   ]
  },
  {
   "cell_type": "markdown",
   "metadata": {},
   "source": [
    "Target variable contains 836 null values, its better to remove those."
   ]
  },
  {
   "cell_type": "code",
   "execution_count": 81,
   "metadata": {},
   "outputs": [
    {
     "data": {
      "text/plain": [
       "(183142, 42)"
      ]
     },
     "execution_count": 81,
     "metadata": {},
     "output_type": "execute_result"
    }
   ],
   "source": [
    "df = df.dropna(axis=0 , subset=['overall_rating'])\n",
    "df.shape  # Current dimensions of Dataset"
   ]
  },
  {
   "cell_type": "code",
   "execution_count": 82,
   "metadata": {},
   "outputs": [
    {
     "name": "stdout",
     "output_type": "stream",
     "text": [
      "Total null values present in the dataset:  15533\n"
     ]
    }
   ],
   "source": [
    "print('Total null values present in the dataset: ',df.isnull().sum().sum())"
   ]
  },
  {
   "cell_type": "markdown",
   "metadata": {},
   "source": [
    "### Removing Null values from Other columns"
   ]
  },
  {
   "cell_type": "raw",
   "metadata": {},
   "source": [
    "There are some rows which contains null values in most number of columns, so its better to drop them."
   ]
  },
  {
   "cell_type": "code",
   "execution_count": 83,
   "metadata": {},
   "outputs": [],
   "source": [
    "df = df.dropna(axis=0, subset=['volleys'])  \n",
    "# Dropping all the rows contains Null values in 'volleys' columns\n",
    "# since most of the columns contains null in same records"
   ]
  },
  {
   "cell_type": "code",
   "execution_count": 84,
   "metadata": {},
   "outputs": [
    {
     "data": {
      "text/plain": [
       "id                       0\n",
       "player_fifa_api_id       0\n",
       "player_api_id            0\n",
       "date                     0\n",
       "overall_rating           0\n",
       "potential                0\n",
       "preferred_foot           0\n",
       "attacking_work_rate    911\n",
       "defensive_work_rate      0\n",
       "crossing                 0\n",
       "finishing                0\n",
       "heading_accuracy         0\n",
       "short_passing            0\n",
       "volleys                  0\n",
       "dribbling                0\n",
       "curve                    0\n",
       "free_kick_accuracy       0\n",
       "long_passing             0\n",
       "ball_control             0\n",
       "acceleration             0\n",
       "sprint_speed             0\n",
       "agility                  0\n",
       "reactions                0\n",
       "balance                  0\n",
       "shot_power               0\n",
       "jumping                  0\n",
       "stamina                  0\n",
       "strength                 0\n",
       "long_shots               0\n",
       "aggression               0\n",
       "interceptions            0\n",
       "positioning              0\n",
       "vision                   0\n",
       "penalties                0\n",
       "marking                  0\n",
       "standing_tackle          0\n",
       "sliding_tackle           0\n",
       "gk_diving                0\n",
       "gk_handling              0\n",
       "gk_kicking               0\n",
       "gk_positioning           0\n",
       "gk_reflexes              0\n",
       "dtype: int64"
      ]
     },
     "execution_count": 84,
     "metadata": {},
     "output_type": "execute_result"
    }
   ],
   "source": [
    "df.isnull().sum()"
   ]
  },
  {
   "cell_type": "code",
   "execution_count": 85,
   "metadata": {},
   "outputs": [
    {
     "data": {
      "text/plain": [
       "medium    125070\n",
       "high       42823\n",
       "low         8569\n",
       "None        3317\n",
       "norm         317\n",
       "y             94\n",
       "stoc          86\n",
       "le            78\n",
       "Name: attacking_work_rate, dtype: int64"
      ]
     },
     "execution_count": 85,
     "metadata": {},
     "output_type": "execute_result"
    }
   ],
   "source": [
    "df['attacking_work_rate'].value_counts()"
   ]
  },
  {
   "cell_type": "code",
   "execution_count": 86,
   "metadata": {},
   "outputs": [
    {
     "data": {
      "text/plain": [
       "'medium'"
      ]
     },
     "execution_count": 86,
     "metadata": {},
     "output_type": "execute_result"
    }
   ],
   "source": [
    "df['attacking_work_rate'].mode()[0]"
   ]
  },
  {
   "cell_type": "code",
   "execution_count": 87,
   "metadata": {},
   "outputs": [],
   "source": [
    "# Imputing attacking_work_rate with mode i.e. 'Medium'\n",
    "df.loc[ df['attacking_work_rate'].isnull() , 'attacking_work_rate' ] = df['attacking_work_rate'].mode()[0]"
   ]
  },
  {
   "cell_type": "code",
   "execution_count": 88,
   "metadata": {},
   "outputs": [
    {
     "name": "stdout",
     "output_type": "stream",
     "text": [
      "Total Missing values present now:  0\n"
     ]
    }
   ],
   "source": [
    "print('Total Missing values present now: ',df.isnull().sum().sum())"
   ]
  },
  {
   "cell_type": "code",
   "execution_count": 89,
   "metadata": {},
   "outputs": [
    {
     "data": {
      "text/plain": [
       "(181265, 42)"
      ]
     },
     "execution_count": 89,
     "metadata": {},
     "output_type": "execute_result"
    }
   ],
   "source": [
    "# Shape of the Data Set\n",
    "df.shape"
   ]
  },
  {
   "cell_type": "code",
   "execution_count": 90,
   "metadata": {},
   "outputs": [],
   "source": [
    "df = df.reset_index(drop=True)"
   ]
  },
  {
   "cell_type": "markdown",
   "metadata": {},
   "source": [
    "## Removing Redundant Features"
   ]
  },
  {
   "cell_type": "raw",
   "metadata": {},
   "source": [
    "Since our main aim is to predict the overall rating of the players, based upon their performances in different aspects of athletics, We will remove, some unique features like is, api_id as well as date."
   ]
  },
  {
   "cell_type": "code",
   "execution_count": 91,
   "metadata": {},
   "outputs": [
    {
     "data": {
      "text/html": [
       "<div>\n",
       "<style scoped>\n",
       "    .dataframe tbody tr th:only-of-type {\n",
       "        vertical-align: middle;\n",
       "    }\n",
       "\n",
       "    .dataframe tbody tr th {\n",
       "        vertical-align: top;\n",
       "    }\n",
       "\n",
       "    .dataframe thead th {\n",
       "        text-align: right;\n",
       "    }\n",
       "</style>\n",
       "<table border=\"1\" class=\"dataframe\">\n",
       "  <thead>\n",
       "    <tr style=\"text-align: right;\">\n",
       "      <th></th>\n",
       "      <th>overall_rating</th>\n",
       "      <th>potential</th>\n",
       "      <th>preferred_foot</th>\n",
       "      <th>attacking_work_rate</th>\n",
       "      <th>defensive_work_rate</th>\n",
       "      <th>crossing</th>\n",
       "      <th>finishing</th>\n",
       "      <th>heading_accuracy</th>\n",
       "      <th>short_passing</th>\n",
       "      <th>volleys</th>\n",
       "      <th>dribbling</th>\n",
       "      <th>curve</th>\n",
       "      <th>free_kick_accuracy</th>\n",
       "      <th>long_passing</th>\n",
       "      <th>ball_control</th>\n",
       "      <th>acceleration</th>\n",
       "      <th>sprint_speed</th>\n",
       "      <th>agility</th>\n",
       "      <th>reactions</th>\n",
       "      <th>balance</th>\n",
       "      <th>shot_power</th>\n",
       "      <th>jumping</th>\n",
       "      <th>stamina</th>\n",
       "      <th>strength</th>\n",
       "      <th>long_shots</th>\n",
       "      <th>aggression</th>\n",
       "      <th>interceptions</th>\n",
       "      <th>positioning</th>\n",
       "      <th>vision</th>\n",
       "      <th>penalties</th>\n",
       "      <th>marking</th>\n",
       "      <th>standing_tackle</th>\n",
       "      <th>sliding_tackle</th>\n",
       "      <th>gk_diving</th>\n",
       "      <th>gk_handling</th>\n",
       "      <th>gk_kicking</th>\n",
       "      <th>gk_positioning</th>\n",
       "      <th>gk_reflexes</th>\n",
       "    </tr>\n",
       "  </thead>\n",
       "  <tbody>\n",
       "    <tr>\n",
       "      <th>0</th>\n",
       "      <td>67.0</td>\n",
       "      <td>71.0</td>\n",
       "      <td>right</td>\n",
       "      <td>medium</td>\n",
       "      <td>medium</td>\n",
       "      <td>49.0</td>\n",
       "      <td>44.0</td>\n",
       "      <td>71.0</td>\n",
       "      <td>61.0</td>\n",
       "      <td>44.0</td>\n",
       "      <td>51.0</td>\n",
       "      <td>45.0</td>\n",
       "      <td>39.0</td>\n",
       "      <td>64.0</td>\n",
       "      <td>49.0</td>\n",
       "      <td>60.0</td>\n",
       "      <td>64.0</td>\n",
       "      <td>59.0</td>\n",
       "      <td>47.0</td>\n",
       "      <td>65.0</td>\n",
       "      <td>55.0</td>\n",
       "      <td>58.0</td>\n",
       "      <td>54.0</td>\n",
       "      <td>76.0</td>\n",
       "      <td>35.0</td>\n",
       "      <td>71.0</td>\n",
       "      <td>70.0</td>\n",
       "      <td>45.0</td>\n",
       "      <td>54.0</td>\n",
       "      <td>48.0</td>\n",
       "      <td>65.0</td>\n",
       "      <td>69.0</td>\n",
       "      <td>69.0</td>\n",
       "      <td>6.0</td>\n",
       "      <td>11.0</td>\n",
       "      <td>10.0</td>\n",
       "      <td>8.0</td>\n",
       "      <td>8.0</td>\n",
       "    </tr>\n",
       "    <tr>\n",
       "      <th>1</th>\n",
       "      <td>67.0</td>\n",
       "      <td>71.0</td>\n",
       "      <td>right</td>\n",
       "      <td>medium</td>\n",
       "      <td>medium</td>\n",
       "      <td>49.0</td>\n",
       "      <td>44.0</td>\n",
       "      <td>71.0</td>\n",
       "      <td>61.0</td>\n",
       "      <td>44.0</td>\n",
       "      <td>51.0</td>\n",
       "      <td>45.0</td>\n",
       "      <td>39.0</td>\n",
       "      <td>64.0</td>\n",
       "      <td>49.0</td>\n",
       "      <td>60.0</td>\n",
       "      <td>64.0</td>\n",
       "      <td>59.0</td>\n",
       "      <td>47.0</td>\n",
       "      <td>65.0</td>\n",
       "      <td>55.0</td>\n",
       "      <td>58.0</td>\n",
       "      <td>54.0</td>\n",
       "      <td>76.0</td>\n",
       "      <td>35.0</td>\n",
       "      <td>71.0</td>\n",
       "      <td>70.0</td>\n",
       "      <td>45.0</td>\n",
       "      <td>54.0</td>\n",
       "      <td>48.0</td>\n",
       "      <td>65.0</td>\n",
       "      <td>69.0</td>\n",
       "      <td>69.0</td>\n",
       "      <td>6.0</td>\n",
       "      <td>11.0</td>\n",
       "      <td>10.0</td>\n",
       "      <td>8.0</td>\n",
       "      <td>8.0</td>\n",
       "    </tr>\n",
       "    <tr>\n",
       "      <th>2</th>\n",
       "      <td>62.0</td>\n",
       "      <td>66.0</td>\n",
       "      <td>right</td>\n",
       "      <td>medium</td>\n",
       "      <td>medium</td>\n",
       "      <td>49.0</td>\n",
       "      <td>44.0</td>\n",
       "      <td>71.0</td>\n",
       "      <td>61.0</td>\n",
       "      <td>44.0</td>\n",
       "      <td>51.0</td>\n",
       "      <td>45.0</td>\n",
       "      <td>39.0</td>\n",
       "      <td>64.0</td>\n",
       "      <td>49.0</td>\n",
       "      <td>60.0</td>\n",
       "      <td>64.0</td>\n",
       "      <td>59.0</td>\n",
       "      <td>47.0</td>\n",
       "      <td>65.0</td>\n",
       "      <td>55.0</td>\n",
       "      <td>58.0</td>\n",
       "      <td>54.0</td>\n",
       "      <td>76.0</td>\n",
       "      <td>35.0</td>\n",
       "      <td>63.0</td>\n",
       "      <td>41.0</td>\n",
       "      <td>45.0</td>\n",
       "      <td>54.0</td>\n",
       "      <td>48.0</td>\n",
       "      <td>65.0</td>\n",
       "      <td>66.0</td>\n",
       "      <td>69.0</td>\n",
       "      <td>6.0</td>\n",
       "      <td>11.0</td>\n",
       "      <td>10.0</td>\n",
       "      <td>8.0</td>\n",
       "      <td>8.0</td>\n",
       "    </tr>\n",
       "    <tr>\n",
       "      <th>3</th>\n",
       "      <td>61.0</td>\n",
       "      <td>65.0</td>\n",
       "      <td>right</td>\n",
       "      <td>medium</td>\n",
       "      <td>medium</td>\n",
       "      <td>48.0</td>\n",
       "      <td>43.0</td>\n",
       "      <td>70.0</td>\n",
       "      <td>60.0</td>\n",
       "      <td>43.0</td>\n",
       "      <td>50.0</td>\n",
       "      <td>44.0</td>\n",
       "      <td>38.0</td>\n",
       "      <td>63.0</td>\n",
       "      <td>48.0</td>\n",
       "      <td>60.0</td>\n",
       "      <td>64.0</td>\n",
       "      <td>59.0</td>\n",
       "      <td>46.0</td>\n",
       "      <td>65.0</td>\n",
       "      <td>54.0</td>\n",
       "      <td>58.0</td>\n",
       "      <td>54.0</td>\n",
       "      <td>76.0</td>\n",
       "      <td>34.0</td>\n",
       "      <td>62.0</td>\n",
       "      <td>40.0</td>\n",
       "      <td>44.0</td>\n",
       "      <td>53.0</td>\n",
       "      <td>47.0</td>\n",
       "      <td>62.0</td>\n",
       "      <td>63.0</td>\n",
       "      <td>66.0</td>\n",
       "      <td>5.0</td>\n",
       "      <td>10.0</td>\n",
       "      <td>9.0</td>\n",
       "      <td>7.0</td>\n",
       "      <td>7.0</td>\n",
       "    </tr>\n",
       "    <tr>\n",
       "      <th>4</th>\n",
       "      <td>61.0</td>\n",
       "      <td>65.0</td>\n",
       "      <td>right</td>\n",
       "      <td>medium</td>\n",
       "      <td>medium</td>\n",
       "      <td>48.0</td>\n",
       "      <td>43.0</td>\n",
       "      <td>70.0</td>\n",
       "      <td>60.0</td>\n",
       "      <td>43.0</td>\n",
       "      <td>50.0</td>\n",
       "      <td>44.0</td>\n",
       "      <td>38.0</td>\n",
       "      <td>63.0</td>\n",
       "      <td>48.0</td>\n",
       "      <td>60.0</td>\n",
       "      <td>64.0</td>\n",
       "      <td>59.0</td>\n",
       "      <td>46.0</td>\n",
       "      <td>65.0</td>\n",
       "      <td>54.0</td>\n",
       "      <td>58.0</td>\n",
       "      <td>54.0</td>\n",
       "      <td>76.0</td>\n",
       "      <td>34.0</td>\n",
       "      <td>62.0</td>\n",
       "      <td>40.0</td>\n",
       "      <td>44.0</td>\n",
       "      <td>53.0</td>\n",
       "      <td>47.0</td>\n",
       "      <td>62.0</td>\n",
       "      <td>63.0</td>\n",
       "      <td>66.0</td>\n",
       "      <td>5.0</td>\n",
       "      <td>10.0</td>\n",
       "      <td>9.0</td>\n",
       "      <td>7.0</td>\n",
       "      <td>7.0</td>\n",
       "    </tr>\n",
       "  </tbody>\n",
       "</table>\n",
       "</div>"
      ],
      "text/plain": [
       "   overall_rating  potential preferred_foot attacking_work_rate  \\\n",
       "0            67.0       71.0          right              medium   \n",
       "1            67.0       71.0          right              medium   \n",
       "2            62.0       66.0          right              medium   \n",
       "3            61.0       65.0          right              medium   \n",
       "4            61.0       65.0          right              medium   \n",
       "\n",
       "  defensive_work_rate  crossing  finishing  heading_accuracy  short_passing  \\\n",
       "0              medium      49.0       44.0              71.0           61.0   \n",
       "1              medium      49.0       44.0              71.0           61.0   \n",
       "2              medium      49.0       44.0              71.0           61.0   \n",
       "3              medium      48.0       43.0              70.0           60.0   \n",
       "4              medium      48.0       43.0              70.0           60.0   \n",
       "\n",
       "   volleys  dribbling  curve  free_kick_accuracy  long_passing  ball_control  \\\n",
       "0     44.0       51.0   45.0                39.0          64.0          49.0   \n",
       "1     44.0       51.0   45.0                39.0          64.0          49.0   \n",
       "2     44.0       51.0   45.0                39.0          64.0          49.0   \n",
       "3     43.0       50.0   44.0                38.0          63.0          48.0   \n",
       "4     43.0       50.0   44.0                38.0          63.0          48.0   \n",
       "\n",
       "   acceleration  sprint_speed  agility  reactions  balance  shot_power  \\\n",
       "0          60.0          64.0     59.0       47.0     65.0        55.0   \n",
       "1          60.0          64.0     59.0       47.0     65.0        55.0   \n",
       "2          60.0          64.0     59.0       47.0     65.0        55.0   \n",
       "3          60.0          64.0     59.0       46.0     65.0        54.0   \n",
       "4          60.0          64.0     59.0       46.0     65.0        54.0   \n",
       "\n",
       "   jumping  stamina  strength  long_shots  aggression  interceptions  \\\n",
       "0     58.0     54.0      76.0        35.0        71.0           70.0   \n",
       "1     58.0     54.0      76.0        35.0        71.0           70.0   \n",
       "2     58.0     54.0      76.0        35.0        63.0           41.0   \n",
       "3     58.0     54.0      76.0        34.0        62.0           40.0   \n",
       "4     58.0     54.0      76.0        34.0        62.0           40.0   \n",
       "\n",
       "   positioning  vision  penalties  marking  standing_tackle  sliding_tackle  \\\n",
       "0         45.0    54.0       48.0     65.0             69.0            69.0   \n",
       "1         45.0    54.0       48.0     65.0             69.0            69.0   \n",
       "2         45.0    54.0       48.0     65.0             66.0            69.0   \n",
       "3         44.0    53.0       47.0     62.0             63.0            66.0   \n",
       "4         44.0    53.0       47.0     62.0             63.0            66.0   \n",
       "\n",
       "   gk_diving  gk_handling  gk_kicking  gk_positioning  gk_reflexes  \n",
       "0        6.0         11.0        10.0             8.0          8.0  \n",
       "1        6.0         11.0        10.0             8.0          8.0  \n",
       "2        6.0         11.0        10.0             8.0          8.0  \n",
       "3        5.0         10.0         9.0             7.0          7.0  \n",
       "4        5.0         10.0         9.0             7.0          7.0  "
      ]
     },
     "execution_count": 91,
     "metadata": {},
     "output_type": "execute_result"
    }
   ],
   "source": [
    "df = df.drop(columns=['id','player_fifa_api_id','player_api_id','date'])\n",
    "df.head()"
   ]
  },
  {
   "cell_type": "code",
   "execution_count": 92,
   "metadata": {},
   "outputs": [
    {
     "data": {
      "text/plain": [
       "(181265, 38)"
      ]
     },
     "execution_count": 92,
     "metadata": {},
     "output_type": "execute_result"
    }
   ],
   "source": [
    "df.shape"
   ]
  },
  {
   "cell_type": "markdown",
   "metadata": {},
   "source": [
    "## Creating Dummy columns for Categorical Variable"
   ]
  },
  {
   "cell_type": "raw",
   "metadata": {},
   "source": [
    "We have 3 categorical variable in the data set namely\n",
    "1. preferred_foot : It consists of 2 category i.e. Right and Left. After encoding, right will be termed as 1 and left as 0.\n",
    "2. attacking_work_rate and defensive_work_rate will create a new columns for each category in it."
   ]
  },
  {
   "cell_type": "code",
   "execution_count": 93,
   "metadata": {},
   "outputs": [
    {
     "data": {
      "text/plain": [
       "medium    125981\n",
       "high       42823\n",
       "low         8569\n",
       "None        3317\n",
       "norm         317\n",
       "y             94\n",
       "stoc          86\n",
       "le            78\n",
       "Name: attacking_work_rate, dtype: int64"
      ]
     },
     "execution_count": 93,
     "metadata": {},
     "output_type": "execute_result"
    }
   ],
   "source": [
    "df['attacking_work_rate'].value_counts()"
   ]
  },
  {
   "cell_type": "code",
   "execution_count": 94,
   "metadata": {
    "scrolled": true
   },
   "outputs": [
    {
     "data": {
      "text/plain": [
       "medium    130846\n",
       "high       27041\n",
       "low        18432\n",
       "o           1328\n",
       "_0           911\n",
       "1            421\n",
       "2            334\n",
       "ormal        317\n",
       "3            243\n",
       "5            231\n",
       "7            207\n",
       "0            188\n",
       "6            179\n",
       "9            143\n",
       "4            116\n",
       "es            94\n",
       "tocky         86\n",
       "ean           78\n",
       "8             70\n",
       "Name: defensive_work_rate, dtype: int64"
      ]
     },
     "execution_count": 94,
     "metadata": {},
     "output_type": "execute_result"
    }
   ],
   "source": [
    "df['defensive_work_rate'].value_counts()"
   ]
  },
  {
   "cell_type": "code",
   "execution_count": 95,
   "metadata": {},
   "outputs": [
    {
     "data": {
      "text/html": [
       "<div>\n",
       "<style scoped>\n",
       "    .dataframe tbody tr th:only-of-type {\n",
       "        vertical-align: middle;\n",
       "    }\n",
       "\n",
       "    .dataframe tbody tr th {\n",
       "        vertical-align: top;\n",
       "    }\n",
       "\n",
       "    .dataframe thead th {\n",
       "        text-align: right;\n",
       "    }\n",
       "</style>\n",
       "<table border=\"1\" class=\"dataframe\">\n",
       "  <thead>\n",
       "    <tr style=\"text-align: right;\">\n",
       "      <th>defensive_work_rate</th>\n",
       "      <th>0</th>\n",
       "      <th>1</th>\n",
       "      <th>2</th>\n",
       "      <th>3</th>\n",
       "      <th>4</th>\n",
       "      <th>5</th>\n",
       "      <th>6</th>\n",
       "      <th>7</th>\n",
       "      <th>8</th>\n",
       "      <th>9</th>\n",
       "      <th>_0</th>\n",
       "      <th>ean</th>\n",
       "      <th>es</th>\n",
       "      <th>high</th>\n",
       "      <th>low</th>\n",
       "      <th>medium</th>\n",
       "      <th>o</th>\n",
       "      <th>ormal</th>\n",
       "      <th>tocky</th>\n",
       "    </tr>\n",
       "    <tr>\n",
       "      <th>attacking_work_rate</th>\n",
       "      <th></th>\n",
       "      <th></th>\n",
       "      <th></th>\n",
       "      <th></th>\n",
       "      <th></th>\n",
       "      <th></th>\n",
       "      <th></th>\n",
       "      <th></th>\n",
       "      <th></th>\n",
       "      <th></th>\n",
       "      <th></th>\n",
       "      <th></th>\n",
       "      <th></th>\n",
       "      <th></th>\n",
       "      <th></th>\n",
       "      <th></th>\n",
       "      <th></th>\n",
       "      <th></th>\n",
       "      <th></th>\n",
       "    </tr>\n",
       "  </thead>\n",
       "  <tbody>\n",
       "    <tr>\n",
       "      <th>None</th>\n",
       "      <td>168</td>\n",
       "      <td>377</td>\n",
       "      <td>245</td>\n",
       "      <td>220</td>\n",
       "      <td>89</td>\n",
       "      <td>203</td>\n",
       "      <td>145</td>\n",
       "      <td>193</td>\n",
       "      <td>65</td>\n",
       "      <td>126</td>\n",
       "      <td>0</td>\n",
       "      <td>0</td>\n",
       "      <td>0</td>\n",
       "      <td>69</td>\n",
       "      <td>7</td>\n",
       "      <td>82</td>\n",
       "      <td>1328</td>\n",
       "      <td>0</td>\n",
       "      <td>0</td>\n",
       "    </tr>\n",
       "    <tr>\n",
       "      <th>high</th>\n",
       "      <td>11</td>\n",
       "      <td>9</td>\n",
       "      <td>13</td>\n",
       "      <td>0</td>\n",
       "      <td>0</td>\n",
       "      <td>17</td>\n",
       "      <td>13</td>\n",
       "      <td>5</td>\n",
       "      <td>0</td>\n",
       "      <td>4</td>\n",
       "      <td>0</td>\n",
       "      <td>0</td>\n",
       "      <td>0</td>\n",
       "      <td>7939</td>\n",
       "      <td>5727</td>\n",
       "      <td>29085</td>\n",
       "      <td>0</td>\n",
       "      <td>0</td>\n",
       "      <td>0</td>\n",
       "    </tr>\n",
       "    <tr>\n",
       "      <th>le</th>\n",
       "      <td>0</td>\n",
       "      <td>0</td>\n",
       "      <td>0</td>\n",
       "      <td>0</td>\n",
       "      <td>0</td>\n",
       "      <td>0</td>\n",
       "      <td>0</td>\n",
       "      <td>0</td>\n",
       "      <td>0</td>\n",
       "      <td>0</td>\n",
       "      <td>0</td>\n",
       "      <td>78</td>\n",
       "      <td>0</td>\n",
       "      <td>0</td>\n",
       "      <td>0</td>\n",
       "      <td>0</td>\n",
       "      <td>0</td>\n",
       "      <td>0</td>\n",
       "      <td>0</td>\n",
       "    </tr>\n",
       "    <tr>\n",
       "      <th>low</th>\n",
       "      <td>0</td>\n",
       "      <td>0</td>\n",
       "      <td>0</td>\n",
       "      <td>12</td>\n",
       "      <td>18</td>\n",
       "      <td>0</td>\n",
       "      <td>0</td>\n",
       "      <td>0</td>\n",
       "      <td>0</td>\n",
       "      <td>0</td>\n",
       "      <td>0</td>\n",
       "      <td>0</td>\n",
       "      <td>0</td>\n",
       "      <td>3319</td>\n",
       "      <td>695</td>\n",
       "      <td>4525</td>\n",
       "      <td>0</td>\n",
       "      <td>0</td>\n",
       "      <td>0</td>\n",
       "    </tr>\n",
       "    <tr>\n",
       "      <th>medium</th>\n",
       "      <td>9</td>\n",
       "      <td>35</td>\n",
       "      <td>76</td>\n",
       "      <td>11</td>\n",
       "      <td>9</td>\n",
       "      <td>11</td>\n",
       "      <td>21</td>\n",
       "      <td>9</td>\n",
       "      <td>5</td>\n",
       "      <td>13</td>\n",
       "      <td>911</td>\n",
       "      <td>0</td>\n",
       "      <td>0</td>\n",
       "      <td>15714</td>\n",
       "      <td>12003</td>\n",
       "      <td>97154</td>\n",
       "      <td>0</td>\n",
       "      <td>0</td>\n",
       "      <td>0</td>\n",
       "    </tr>\n",
       "    <tr>\n",
       "      <th>norm</th>\n",
       "      <td>0</td>\n",
       "      <td>0</td>\n",
       "      <td>0</td>\n",
       "      <td>0</td>\n",
       "      <td>0</td>\n",
       "      <td>0</td>\n",
       "      <td>0</td>\n",
       "      <td>0</td>\n",
       "      <td>0</td>\n",
       "      <td>0</td>\n",
       "      <td>0</td>\n",
       "      <td>0</td>\n",
       "      <td>0</td>\n",
       "      <td>0</td>\n",
       "      <td>0</td>\n",
       "      <td>0</td>\n",
       "      <td>0</td>\n",
       "      <td>317</td>\n",
       "      <td>0</td>\n",
       "    </tr>\n",
       "    <tr>\n",
       "      <th>stoc</th>\n",
       "      <td>0</td>\n",
       "      <td>0</td>\n",
       "      <td>0</td>\n",
       "      <td>0</td>\n",
       "      <td>0</td>\n",
       "      <td>0</td>\n",
       "      <td>0</td>\n",
       "      <td>0</td>\n",
       "      <td>0</td>\n",
       "      <td>0</td>\n",
       "      <td>0</td>\n",
       "      <td>0</td>\n",
       "      <td>0</td>\n",
       "      <td>0</td>\n",
       "      <td>0</td>\n",
       "      <td>0</td>\n",
       "      <td>0</td>\n",
       "      <td>0</td>\n",
       "      <td>86</td>\n",
       "    </tr>\n",
       "    <tr>\n",
       "      <th>y</th>\n",
       "      <td>0</td>\n",
       "      <td>0</td>\n",
       "      <td>0</td>\n",
       "      <td>0</td>\n",
       "      <td>0</td>\n",
       "      <td>0</td>\n",
       "      <td>0</td>\n",
       "      <td>0</td>\n",
       "      <td>0</td>\n",
       "      <td>0</td>\n",
       "      <td>0</td>\n",
       "      <td>0</td>\n",
       "      <td>94</td>\n",
       "      <td>0</td>\n",
       "      <td>0</td>\n",
       "      <td>0</td>\n",
       "      <td>0</td>\n",
       "      <td>0</td>\n",
       "      <td>0</td>\n",
       "    </tr>\n",
       "  </tbody>\n",
       "</table>\n",
       "</div>"
      ],
      "text/plain": [
       "defensive_work_rate    0    1    2    3   4    5    6    7   8    9   _0  ean  \\\n",
       "attacking_work_rate                                                             \n",
       "None                 168  377  245  220  89  203  145  193  65  126    0    0   \n",
       "high                  11    9   13    0   0   17   13    5   0    4    0    0   \n",
       "le                     0    0    0    0   0    0    0    0   0    0    0   78   \n",
       "low                    0    0    0   12  18    0    0    0   0    0    0    0   \n",
       "medium                 9   35   76   11   9   11   21    9   5   13  911    0   \n",
       "norm                   0    0    0    0   0    0    0    0   0    0    0    0   \n",
       "stoc                   0    0    0    0   0    0    0    0   0    0    0    0   \n",
       "y                      0    0    0    0   0    0    0    0   0    0    0    0   \n",
       "\n",
       "defensive_work_rate  es   high    low  medium     o  ormal  tocky  \n",
       "attacking_work_rate                                                \n",
       "None                  0     69      7      82  1328      0      0  \n",
       "high                  0   7939   5727   29085     0      0      0  \n",
       "le                    0      0      0       0     0      0      0  \n",
       "low                   0   3319    695    4525     0      0      0  \n",
       "medium                0  15714  12003   97154     0      0      0  \n",
       "norm                  0      0      0       0     0    317      0  \n",
       "stoc                  0      0      0       0     0      0     86  \n",
       "y                    94      0      0       0     0      0      0  "
      ]
     },
     "execution_count": 95,
     "metadata": {},
     "output_type": "execute_result"
    }
   ],
   "source": [
    "pd.crosstab(df['attacking_work_rate'], df['defensive_work_rate'])"
   ]
  },
  {
   "cell_type": "markdown",
   "metadata": {},
   "source": [
    "Assuming some mistakes while taking data, it is assumed that some of the cataegories from attacking_work_rate is present in the defensive_work_rate like\n",
    "* stoc - tockey --> stockey (a person who has short height but borad chest and shoulders)\n",
    "* norm - ormal --> normal\n",
    "* le - ean --> lean\n",
    "* None - o --> None\n"
   ]
  },
  {
   "cell_type": "code",
   "execution_count": 96,
   "metadata": {},
   "outputs": [],
   "source": [
    "# Changing Classes name in attacking_work_rate\n",
    "df['attacking_work_rate'].replace({'le':'lean','norm':'normal','stoc':'stocky','y':'yes'}, inplace=True)"
   ]
  },
  {
   "cell_type": "code",
   "execution_count": 97,
   "metadata": {},
   "outputs": [],
   "source": [
    "# Changing Classes name in attacking_work_rate\n",
    "df['defensive_work_rate'].replace({'ean':'lean','ormal':'normal','tocky':'stocky','es':'yes','o':'None','_0':'medium'}, inplace=True)"
   ]
  },
  {
   "cell_type": "code",
   "execution_count": 98,
   "metadata": {},
   "outputs": [],
   "source": [
    "# Imputing numeric classes to None\n",
    "df.loc[ df['defensive_work_rate'].isin(list('0123456789')) , 'defensive_work_rate' ] = 'None'"
   ]
  },
  {
   "cell_type": "code",
   "execution_count": 99,
   "metadata": {},
   "outputs": [
    {
     "data": {
      "text/plain": [
       "medium    125981\n",
       "high       42823\n",
       "low         8569\n",
       "None        3317\n",
       "normal       317\n",
       "yes           94\n",
       "stocky        86\n",
       "lean          78\n",
       "Name: attacking_work_rate, dtype: int64"
      ]
     },
     "execution_count": 99,
     "metadata": {},
     "output_type": "execute_result"
    }
   ],
   "source": [
    "df['attacking_work_rate'].value_counts()"
   ]
  },
  {
   "cell_type": "code",
   "execution_count": 100,
   "metadata": {},
   "outputs": [
    {
     "data": {
      "text/plain": [
       "medium    131757\n",
       "high       27041\n",
       "low        18432\n",
       "None        3460\n",
       "normal       317\n",
       "yes           94\n",
       "stocky        86\n",
       "lean          78\n",
       "Name: defensive_work_rate, dtype: int64"
      ]
     },
     "execution_count": 100,
     "metadata": {},
     "output_type": "execute_result"
    }
   ],
   "source": [
    "# All the classes have same name.\n",
    "df['defensive_work_rate'].value_counts()"
   ]
  },
  {
   "cell_type": "code",
   "execution_count": 101,
   "metadata": {},
   "outputs": [
    {
     "data": {
      "text/html": [
       "<div>\n",
       "<style scoped>\n",
       "    .dataframe tbody tr th:only-of-type {\n",
       "        vertical-align: middle;\n",
       "    }\n",
       "\n",
       "    .dataframe tbody tr th {\n",
       "        vertical-align: top;\n",
       "    }\n",
       "\n",
       "    .dataframe thead th {\n",
       "        text-align: right;\n",
       "    }\n",
       "</style>\n",
       "<table border=\"1\" class=\"dataframe\">\n",
       "  <thead>\n",
       "    <tr style=\"text-align: right;\">\n",
       "      <th></th>\n",
       "      <th>overall_rating</th>\n",
       "      <th>potential</th>\n",
       "      <th>crossing</th>\n",
       "      <th>finishing</th>\n",
       "      <th>heading_accuracy</th>\n",
       "      <th>short_passing</th>\n",
       "      <th>volleys</th>\n",
       "      <th>dribbling</th>\n",
       "      <th>curve</th>\n",
       "      <th>free_kick_accuracy</th>\n",
       "      <th>long_passing</th>\n",
       "      <th>ball_control</th>\n",
       "      <th>acceleration</th>\n",
       "      <th>sprint_speed</th>\n",
       "      <th>agility</th>\n",
       "      <th>reactions</th>\n",
       "      <th>balance</th>\n",
       "      <th>shot_power</th>\n",
       "      <th>jumping</th>\n",
       "      <th>stamina</th>\n",
       "      <th>strength</th>\n",
       "      <th>long_shots</th>\n",
       "      <th>aggression</th>\n",
       "      <th>interceptions</th>\n",
       "      <th>positioning</th>\n",
       "      <th>vision</th>\n",
       "      <th>penalties</th>\n",
       "      <th>marking</th>\n",
       "      <th>standing_tackle</th>\n",
       "      <th>sliding_tackle</th>\n",
       "      <th>gk_diving</th>\n",
       "      <th>gk_handling</th>\n",
       "      <th>gk_kicking</th>\n",
       "      <th>gk_positioning</th>\n",
       "      <th>gk_reflexes</th>\n",
       "      <th>preferred_foot_right</th>\n",
       "      <th>attacking_work_rate_high</th>\n",
       "      <th>attacking_work_rate_lean</th>\n",
       "      <th>attacking_work_rate_low</th>\n",
       "      <th>attacking_work_rate_medium</th>\n",
       "      <th>attacking_work_rate_normal</th>\n",
       "      <th>attacking_work_rate_stocky</th>\n",
       "      <th>attacking_work_rate_yes</th>\n",
       "      <th>defensive_work_rate_high</th>\n",
       "      <th>defensive_work_rate_lean</th>\n",
       "      <th>defensive_work_rate_low</th>\n",
       "      <th>defensive_work_rate_medium</th>\n",
       "      <th>defensive_work_rate_normal</th>\n",
       "      <th>defensive_work_rate_stocky</th>\n",
       "      <th>defensive_work_rate_yes</th>\n",
       "    </tr>\n",
       "  </thead>\n",
       "  <tbody>\n",
       "    <tr>\n",
       "      <th>0</th>\n",
       "      <td>67.0</td>\n",
       "      <td>71.0</td>\n",
       "      <td>49.0</td>\n",
       "      <td>44.0</td>\n",
       "      <td>71.0</td>\n",
       "      <td>61.0</td>\n",
       "      <td>44.0</td>\n",
       "      <td>51.0</td>\n",
       "      <td>45.0</td>\n",
       "      <td>39.0</td>\n",
       "      <td>64.0</td>\n",
       "      <td>49.0</td>\n",
       "      <td>60.0</td>\n",
       "      <td>64.0</td>\n",
       "      <td>59.0</td>\n",
       "      <td>47.0</td>\n",
       "      <td>65.0</td>\n",
       "      <td>55.0</td>\n",
       "      <td>58.0</td>\n",
       "      <td>54.0</td>\n",
       "      <td>76.0</td>\n",
       "      <td>35.0</td>\n",
       "      <td>71.0</td>\n",
       "      <td>70.0</td>\n",
       "      <td>45.0</td>\n",
       "      <td>54.0</td>\n",
       "      <td>48.0</td>\n",
       "      <td>65.0</td>\n",
       "      <td>69.0</td>\n",
       "      <td>69.0</td>\n",
       "      <td>6.0</td>\n",
       "      <td>11.0</td>\n",
       "      <td>10.0</td>\n",
       "      <td>8.0</td>\n",
       "      <td>8.0</td>\n",
       "      <td>1</td>\n",
       "      <td>0</td>\n",
       "      <td>0</td>\n",
       "      <td>0</td>\n",
       "      <td>1</td>\n",
       "      <td>0</td>\n",
       "      <td>0</td>\n",
       "      <td>0</td>\n",
       "      <td>0</td>\n",
       "      <td>0</td>\n",
       "      <td>0</td>\n",
       "      <td>1</td>\n",
       "      <td>0</td>\n",
       "      <td>0</td>\n",
       "      <td>0</td>\n",
       "    </tr>\n",
       "    <tr>\n",
       "      <th>1</th>\n",
       "      <td>67.0</td>\n",
       "      <td>71.0</td>\n",
       "      <td>49.0</td>\n",
       "      <td>44.0</td>\n",
       "      <td>71.0</td>\n",
       "      <td>61.0</td>\n",
       "      <td>44.0</td>\n",
       "      <td>51.0</td>\n",
       "      <td>45.0</td>\n",
       "      <td>39.0</td>\n",
       "      <td>64.0</td>\n",
       "      <td>49.0</td>\n",
       "      <td>60.0</td>\n",
       "      <td>64.0</td>\n",
       "      <td>59.0</td>\n",
       "      <td>47.0</td>\n",
       "      <td>65.0</td>\n",
       "      <td>55.0</td>\n",
       "      <td>58.0</td>\n",
       "      <td>54.0</td>\n",
       "      <td>76.0</td>\n",
       "      <td>35.0</td>\n",
       "      <td>71.0</td>\n",
       "      <td>70.0</td>\n",
       "      <td>45.0</td>\n",
       "      <td>54.0</td>\n",
       "      <td>48.0</td>\n",
       "      <td>65.0</td>\n",
       "      <td>69.0</td>\n",
       "      <td>69.0</td>\n",
       "      <td>6.0</td>\n",
       "      <td>11.0</td>\n",
       "      <td>10.0</td>\n",
       "      <td>8.0</td>\n",
       "      <td>8.0</td>\n",
       "      <td>1</td>\n",
       "      <td>0</td>\n",
       "      <td>0</td>\n",
       "      <td>0</td>\n",
       "      <td>1</td>\n",
       "      <td>0</td>\n",
       "      <td>0</td>\n",
       "      <td>0</td>\n",
       "      <td>0</td>\n",
       "      <td>0</td>\n",
       "      <td>0</td>\n",
       "      <td>1</td>\n",
       "      <td>0</td>\n",
       "      <td>0</td>\n",
       "      <td>0</td>\n",
       "    </tr>\n",
       "    <tr>\n",
       "      <th>2</th>\n",
       "      <td>62.0</td>\n",
       "      <td>66.0</td>\n",
       "      <td>49.0</td>\n",
       "      <td>44.0</td>\n",
       "      <td>71.0</td>\n",
       "      <td>61.0</td>\n",
       "      <td>44.0</td>\n",
       "      <td>51.0</td>\n",
       "      <td>45.0</td>\n",
       "      <td>39.0</td>\n",
       "      <td>64.0</td>\n",
       "      <td>49.0</td>\n",
       "      <td>60.0</td>\n",
       "      <td>64.0</td>\n",
       "      <td>59.0</td>\n",
       "      <td>47.0</td>\n",
       "      <td>65.0</td>\n",
       "      <td>55.0</td>\n",
       "      <td>58.0</td>\n",
       "      <td>54.0</td>\n",
       "      <td>76.0</td>\n",
       "      <td>35.0</td>\n",
       "      <td>63.0</td>\n",
       "      <td>41.0</td>\n",
       "      <td>45.0</td>\n",
       "      <td>54.0</td>\n",
       "      <td>48.0</td>\n",
       "      <td>65.0</td>\n",
       "      <td>66.0</td>\n",
       "      <td>69.0</td>\n",
       "      <td>6.0</td>\n",
       "      <td>11.0</td>\n",
       "      <td>10.0</td>\n",
       "      <td>8.0</td>\n",
       "      <td>8.0</td>\n",
       "      <td>1</td>\n",
       "      <td>0</td>\n",
       "      <td>0</td>\n",
       "      <td>0</td>\n",
       "      <td>1</td>\n",
       "      <td>0</td>\n",
       "      <td>0</td>\n",
       "      <td>0</td>\n",
       "      <td>0</td>\n",
       "      <td>0</td>\n",
       "      <td>0</td>\n",
       "      <td>1</td>\n",
       "      <td>0</td>\n",
       "      <td>0</td>\n",
       "      <td>0</td>\n",
       "    </tr>\n",
       "    <tr>\n",
       "      <th>3</th>\n",
       "      <td>61.0</td>\n",
       "      <td>65.0</td>\n",
       "      <td>48.0</td>\n",
       "      <td>43.0</td>\n",
       "      <td>70.0</td>\n",
       "      <td>60.0</td>\n",
       "      <td>43.0</td>\n",
       "      <td>50.0</td>\n",
       "      <td>44.0</td>\n",
       "      <td>38.0</td>\n",
       "      <td>63.0</td>\n",
       "      <td>48.0</td>\n",
       "      <td>60.0</td>\n",
       "      <td>64.0</td>\n",
       "      <td>59.0</td>\n",
       "      <td>46.0</td>\n",
       "      <td>65.0</td>\n",
       "      <td>54.0</td>\n",
       "      <td>58.0</td>\n",
       "      <td>54.0</td>\n",
       "      <td>76.0</td>\n",
       "      <td>34.0</td>\n",
       "      <td>62.0</td>\n",
       "      <td>40.0</td>\n",
       "      <td>44.0</td>\n",
       "      <td>53.0</td>\n",
       "      <td>47.0</td>\n",
       "      <td>62.0</td>\n",
       "      <td>63.0</td>\n",
       "      <td>66.0</td>\n",
       "      <td>5.0</td>\n",
       "      <td>10.0</td>\n",
       "      <td>9.0</td>\n",
       "      <td>7.0</td>\n",
       "      <td>7.0</td>\n",
       "      <td>1</td>\n",
       "      <td>0</td>\n",
       "      <td>0</td>\n",
       "      <td>0</td>\n",
       "      <td>1</td>\n",
       "      <td>0</td>\n",
       "      <td>0</td>\n",
       "      <td>0</td>\n",
       "      <td>0</td>\n",
       "      <td>0</td>\n",
       "      <td>0</td>\n",
       "      <td>1</td>\n",
       "      <td>0</td>\n",
       "      <td>0</td>\n",
       "      <td>0</td>\n",
       "    </tr>\n",
       "    <tr>\n",
       "      <th>4</th>\n",
       "      <td>61.0</td>\n",
       "      <td>65.0</td>\n",
       "      <td>48.0</td>\n",
       "      <td>43.0</td>\n",
       "      <td>70.0</td>\n",
       "      <td>60.0</td>\n",
       "      <td>43.0</td>\n",
       "      <td>50.0</td>\n",
       "      <td>44.0</td>\n",
       "      <td>38.0</td>\n",
       "      <td>63.0</td>\n",
       "      <td>48.0</td>\n",
       "      <td>60.0</td>\n",
       "      <td>64.0</td>\n",
       "      <td>59.0</td>\n",
       "      <td>46.0</td>\n",
       "      <td>65.0</td>\n",
       "      <td>54.0</td>\n",
       "      <td>58.0</td>\n",
       "      <td>54.0</td>\n",
       "      <td>76.0</td>\n",
       "      <td>34.0</td>\n",
       "      <td>62.0</td>\n",
       "      <td>40.0</td>\n",
       "      <td>44.0</td>\n",
       "      <td>53.0</td>\n",
       "      <td>47.0</td>\n",
       "      <td>62.0</td>\n",
       "      <td>63.0</td>\n",
       "      <td>66.0</td>\n",
       "      <td>5.0</td>\n",
       "      <td>10.0</td>\n",
       "      <td>9.0</td>\n",
       "      <td>7.0</td>\n",
       "      <td>7.0</td>\n",
       "      <td>1</td>\n",
       "      <td>0</td>\n",
       "      <td>0</td>\n",
       "      <td>0</td>\n",
       "      <td>1</td>\n",
       "      <td>0</td>\n",
       "      <td>0</td>\n",
       "      <td>0</td>\n",
       "      <td>0</td>\n",
       "      <td>0</td>\n",
       "      <td>0</td>\n",
       "      <td>1</td>\n",
       "      <td>0</td>\n",
       "      <td>0</td>\n",
       "      <td>0</td>\n",
       "    </tr>\n",
       "  </tbody>\n",
       "</table>\n",
       "</div>"
      ],
      "text/plain": [
       "   overall_rating  potential  crossing  finishing  heading_accuracy  \\\n",
       "0            67.0       71.0      49.0       44.0              71.0   \n",
       "1            67.0       71.0      49.0       44.0              71.0   \n",
       "2            62.0       66.0      49.0       44.0              71.0   \n",
       "3            61.0       65.0      48.0       43.0              70.0   \n",
       "4            61.0       65.0      48.0       43.0              70.0   \n",
       "\n",
       "   short_passing  volleys  dribbling  curve  free_kick_accuracy  long_passing  \\\n",
       "0           61.0     44.0       51.0   45.0                39.0          64.0   \n",
       "1           61.0     44.0       51.0   45.0                39.0          64.0   \n",
       "2           61.0     44.0       51.0   45.0                39.0          64.0   \n",
       "3           60.0     43.0       50.0   44.0                38.0          63.0   \n",
       "4           60.0     43.0       50.0   44.0                38.0          63.0   \n",
       "\n",
       "   ball_control  acceleration  sprint_speed  agility  reactions  balance  \\\n",
       "0          49.0          60.0          64.0     59.0       47.0     65.0   \n",
       "1          49.0          60.0          64.0     59.0       47.0     65.0   \n",
       "2          49.0          60.0          64.0     59.0       47.0     65.0   \n",
       "3          48.0          60.0          64.0     59.0       46.0     65.0   \n",
       "4          48.0          60.0          64.0     59.0       46.0     65.0   \n",
       "\n",
       "   shot_power  jumping  stamina  strength  long_shots  aggression  \\\n",
       "0        55.0     58.0     54.0      76.0        35.0        71.0   \n",
       "1        55.0     58.0     54.0      76.0        35.0        71.0   \n",
       "2        55.0     58.0     54.0      76.0        35.0        63.0   \n",
       "3        54.0     58.0     54.0      76.0        34.0        62.0   \n",
       "4        54.0     58.0     54.0      76.0        34.0        62.0   \n",
       "\n",
       "   interceptions  positioning  vision  penalties  marking  standing_tackle  \\\n",
       "0           70.0         45.0    54.0       48.0     65.0             69.0   \n",
       "1           70.0         45.0    54.0       48.0     65.0             69.0   \n",
       "2           41.0         45.0    54.0       48.0     65.0             66.0   \n",
       "3           40.0         44.0    53.0       47.0     62.0             63.0   \n",
       "4           40.0         44.0    53.0       47.0     62.0             63.0   \n",
       "\n",
       "   sliding_tackle  gk_diving  gk_handling  gk_kicking  gk_positioning  \\\n",
       "0            69.0        6.0         11.0        10.0             8.0   \n",
       "1            69.0        6.0         11.0        10.0             8.0   \n",
       "2            69.0        6.0         11.0        10.0             8.0   \n",
       "3            66.0        5.0         10.0         9.0             7.0   \n",
       "4            66.0        5.0         10.0         9.0             7.0   \n",
       "\n",
       "   gk_reflexes  preferred_foot_right  attacking_work_rate_high  \\\n",
       "0          8.0                     1                         0   \n",
       "1          8.0                     1                         0   \n",
       "2          8.0                     1                         0   \n",
       "3          7.0                     1                         0   \n",
       "4          7.0                     1                         0   \n",
       "\n",
       "   attacking_work_rate_lean  attacking_work_rate_low  \\\n",
       "0                         0                        0   \n",
       "1                         0                        0   \n",
       "2                         0                        0   \n",
       "3                         0                        0   \n",
       "4                         0                        0   \n",
       "\n",
       "   attacking_work_rate_medium  attacking_work_rate_normal  \\\n",
       "0                           1                           0   \n",
       "1                           1                           0   \n",
       "2                           1                           0   \n",
       "3                           1                           0   \n",
       "4                           1                           0   \n",
       "\n",
       "   attacking_work_rate_stocky  attacking_work_rate_yes  \\\n",
       "0                           0                        0   \n",
       "1                           0                        0   \n",
       "2                           0                        0   \n",
       "3                           0                        0   \n",
       "4                           0                        0   \n",
       "\n",
       "   defensive_work_rate_high  defensive_work_rate_lean  \\\n",
       "0                         0                         0   \n",
       "1                         0                         0   \n",
       "2                         0                         0   \n",
       "3                         0                         0   \n",
       "4                         0                         0   \n",
       "\n",
       "   defensive_work_rate_low  defensive_work_rate_medium  \\\n",
       "0                        0                           1   \n",
       "1                        0                           1   \n",
       "2                        0                           1   \n",
       "3                        0                           1   \n",
       "4                        0                           1   \n",
       "\n",
       "   defensive_work_rate_normal  defensive_work_rate_stocky  \\\n",
       "0                           0                           0   \n",
       "1                           0                           0   \n",
       "2                           0                           0   \n",
       "3                           0                           0   \n",
       "4                           0                           0   \n",
       "\n",
       "   defensive_work_rate_yes  \n",
       "0                        0  \n",
       "1                        0  \n",
       "2                        0  \n",
       "3                        0  \n",
       "4                        0  "
      ]
     },
     "execution_count": 101,
     "metadata": {},
     "output_type": "execute_result"
    }
   ],
   "source": [
    "df = pd.get_dummies(df, drop_first=True)\n",
    "df.head()"
   ]
  },
  {
   "cell_type": "code",
   "execution_count": 102,
   "metadata": {},
   "outputs": [],
   "source": [
    "x = df.drop(columns='overall_rating')\n",
    "y = df[['overall_rating']]"
   ]
  },
  {
   "cell_type": "code",
   "execution_count": 103,
   "metadata": {},
   "outputs": [],
   "source": [
    "x_num = x.iloc[:,:-15]\n",
    "x_cat = x.iloc[:,-15:]"
   ]
  },
  {
   "cell_type": "code",
   "execution_count": 104,
   "metadata": {},
   "outputs": [
    {
     "name": "stderr",
     "output_type": "stream",
     "text": [
      "C:\\Users\\Divyajeet\\anaconda3\\lib\\site-packages\\seaborn\\_decorators.py:43: FutureWarning: Pass the following variable as a keyword arg: x. From version 0.12, the only valid positional argument will be `data`, and passing other arguments without an explicit keyword will result in an error or misinterpretation.\n",
      "  FutureWarning\n"
     ]
    },
    {
     "data": {
      "image/png": "[encoded data removed]",
      "text/plain": [
       "<Figure size 432x288 with 1 Axes>"
      ]
     },
     "metadata": {
      "needs_background": "light"
     },
     "output_type": "display_data"
    },
    {
     "name": "stderr",
     "output_type": "stream",
     "text": [
      "C:\\Users\\Divyajeet\\anaconda3\\lib\\site-packages\\seaborn\\_decorators.py:43: FutureWarning: Pass the following variable as a keyword arg: x. From version 0.12, the only valid positional argument will be `data`, and passing other arguments without an explicit keyword will result in an error or misinterpretation.\n",
      "  FutureWarning\n"
     ]
    },
    {
     "data": {
      "image/png": "[encoded data removed]",
      "text/plain": [
       "<Figure size 432x288 with 1 Axes>"
      ]
     },
     "metadata": {
      "needs_background": "light"
     },
     "output_type": "display_data"
    },
    {
     "name": "stderr",
     "output_type": "stream",
     "text": [
      "C:\\Users\\Divyajeet\\anaconda3\\lib\\site-packages\\seaborn\\_decorators.py:43: FutureWarning: Pass the following variable as a keyword arg: x. From version 0.12, the only valid positional argument will be `data`, and passing other arguments without an explicit keyword will result in an error or misinterpretation.\n",
      "  FutureWarning\n"
     ]
    },
    {
     "data": {
      "image/png": "[encoded data removed]",
      "text/plain": [
       "<Figure size 432x288 with 1 Axes>"
      ]
     },
     "metadata": {
      "needs_background": "light"
     },
     "output_type": "display_data"
    }
   ],
   "source": [
    "for i in x_num.columns[:3]:  # only checking top 3\n",
    "    sns.boxplot(x_num[i])\n",
    "    plt.show()"
   ]
  },
  {
   "cell_type": "code",
   "execution_count": 105,
   "metadata": {},
   "outputs": [],
   "source": [
    "for i in x_num.columns:\n",
    "    q1 = x_num[i].quantile(0.25)\n",
    "    q3 = x_num[i].quantile(0.75)\n",
    "    \n",
    "    iqr = q3-q1\n",
    "    \n",
    "    ub = q3 + iqr*1.5\n",
    "    lb = q1 - iqr*1.5\n",
    "    \n",
    "#     x_num.loc[ (x_num[i] > ub) , i] = x_num[i].quantile(0.99)\n",
    "    x_num.loc[ (x_num[i] < lb) , i] = x_num[i].quantile(0.01)"
   ]
  },
  {
   "cell_type": "code",
   "execution_count": 106,
   "metadata": {},
   "outputs": [
    {
     "name": "stderr",
     "output_type": "stream",
     "text": [
      "C:\\Users\\Divyajeet\\anaconda3\\lib\\site-packages\\seaborn\\_decorators.py:43: FutureWarning: Pass the following variable as a keyword arg: x. From version 0.12, the only valid positional argument will be `data`, and passing other arguments without an explicit keyword will result in an error or misinterpretation.\n",
      "  FutureWarning\n"
     ]
    },
    {
     "data": {
      "image/png": "[encoded data removed]",
      "text/plain": [
       "<Figure size 432x288 with 1 Axes>"
      ]
     },
     "metadata": {
      "needs_background": "light"
     },
     "output_type": "display_data"
    },
    {
     "name": "stderr",
     "output_type": "stream",
     "text": [
      "C:\\Users\\Divyajeet\\anaconda3\\lib\\site-packages\\seaborn\\_decorators.py:43: FutureWarning: Pass the following variable as a keyword arg: x. From version 0.12, the only valid positional argument will be `data`, and passing other arguments without an explicit keyword will result in an error or misinterpretation.\n",
      "  FutureWarning\n"
     ]
    },
    {
     "data": {
      "image/png": "[encoded data removed]",
      "text/plain": [
       "<Figure size 432x288 with 1 Axes>"
      ]
     },
     "metadata": {
      "needs_background": "light"
     },
     "output_type": "display_data"
    },
    {
     "name": "stderr",
     "output_type": "stream",
     "text": [
      "C:\\Users\\Divyajeet\\anaconda3\\lib\\site-packages\\seaborn\\_decorators.py:43: FutureWarning: Pass the following variable as a keyword arg: x. From version 0.12, the only valid positional argument will be `data`, and passing other arguments without an explicit keyword will result in an error or misinterpretation.\n",
      "  FutureWarning\n"
     ]
    },
    {
     "data": {
      "image/png": "[encoded data removed]",
      "text/plain": [
       "<Figure size 432x288 with 1 Axes>"
      ]
     },
     "metadata": {
      "needs_background": "light"
     },
     "output_type": "display_data"
    }
   ],
   "source": [
    "for i in x_num.columns[:3]:  \n",
    "    sns.boxplot(x_num[i])\n",
    "    plt.show()"
   ]
  },
  {
   "cell_type": "code",
   "execution_count": 107,
   "metadata": {},
   "outputs": [],
   "source": [
    "x = pd.concat([x_num, x_cat], axis=1)"
   ]
  },
  {
   "cell_type": "markdown",
   "metadata": {},
   "source": [
    "## Creating a Base model"
   ]
  },
  {
   "cell_type": "code",
   "execution_count": 108,
   "metadata": {},
   "outputs": [],
   "source": [
    "import statsmodels.api as sm\n",
    "\n",
    "xc = sm.add_constant(x)\n",
    "ols1 = sm.OLS(y, xc)\n",
    "ols_mod = ols1.fit()"
   ]
  },
  {
   "cell_type": "code",
   "execution_count": 109,
   "metadata": {},
   "outputs": [
    {
     "data": {
      "text/html": [
       "<table class=\"simpletable\">\n",
       "<caption>OLS Regression Results</caption>\n",
       "<tr>\n",
       "  <th>Dep. Variable:</th>     <td>overall_rating</td>  <th>  R-squared:         </th>  <td>   0.844</td>  \n",
       "</tr>\n",
       "<tr>\n",
       "  <th>Model:</th>                   <td>OLS</td>       <th>  Adj. R-squared:    </th>  <td>   0.844</td>  \n",
       "</tr>\n",
       "<tr>\n",
       "  <th>Method:</th>             <td>Least Squares</td>  <th>  F-statistic:       </th>  <td>2.181e+04</td> \n",
       "</tr>\n",
       "<tr>\n",
       "  <th>Date:</th>             <td>Mon, 01 Feb 2021</td> <th>  Prob (F-statistic):</th>   <td>  0.00</td>   \n",
       "</tr>\n",
       "<tr>\n",
       "  <th>Time:</th>                 <td>23:05:17</td>     <th>  Log-Likelihood:    </th> <td>-4.4222e+05</td>\n",
       "</tr>\n",
       "<tr>\n",
       "  <th>No. Observations:</th>      <td>181265</td>      <th>  AIC:               </th>  <td>8.845e+05</td> \n",
       "</tr>\n",
       "<tr>\n",
       "  <th>Df Residuals:</th>          <td>181219</td>      <th>  BIC:               </th>  <td>8.850e+05</td> \n",
       "</tr>\n",
       "<tr>\n",
       "  <th>Df Model:</th>              <td>    45</td>      <th>                     </th>      <td> </td>     \n",
       "</tr>\n",
       "<tr>\n",
       "  <th>Covariance Type:</th>      <td>nonrobust</td>    <th>                     </th>      <td> </td>     \n",
       "</tr>\n",
       "</table>\n",
       "<table class=\"simpletable\">\n",
       "<tr>\n",
       "               <td></td>                 <th>coef</th>     <th>std err</th>      <th>t</th>      <th>P>|t|</th>  <th>[0.025</th>    <th>0.975]</th>  \n",
       "</tr>\n",
       "<tr>\n",
       "  <th>const</th>                      <td>   -3.9154</td> <td>    0.106</td> <td>  -36.843</td> <td> 0.000</td> <td>   -4.124</td> <td>   -3.707</td>\n",
       "</tr>\n",
       "<tr>\n",
       "  <th>potential</th>                  <td>    0.3769</td> <td>    0.001</td> <td>  258.723</td> <td> 0.000</td> <td>    0.374</td> <td>    0.380</td>\n",
       "</tr>\n",
       "<tr>\n",
       "  <th>crossing</th>                   <td>    0.0225</td> <td>    0.001</td> <td>   26.788</td> <td> 0.000</td> <td>    0.021</td> <td>    0.024</td>\n",
       "</tr>\n",
       "<tr>\n",
       "  <th>finishing</th>                  <td>    0.0125</td> <td>    0.001</td> <td>   13.680</td> <td> 0.000</td> <td>    0.011</td> <td>    0.014</td>\n",
       "</tr>\n",
       "<tr>\n",
       "  <th>heading_accuracy</th>           <td>    0.0667</td> <td>    0.001</td> <td>   82.598</td> <td> 0.000</td> <td>    0.065</td> <td>    0.068</td>\n",
       "</tr>\n",
       "<tr>\n",
       "  <th>short_passing</th>              <td>    0.0519</td> <td>    0.001</td> <td>   39.510</td> <td> 0.000</td> <td>    0.049</td> <td>    0.054</td>\n",
       "</tr>\n",
       "<tr>\n",
       "  <th>volleys</th>                    <td>    0.0035</td> <td>    0.001</td> <td>    4.309</td> <td> 0.000</td> <td>    0.002</td> <td>    0.005</td>\n",
       "</tr>\n",
       "<tr>\n",
       "  <th>dribbling</th>                  <td>   -0.0070</td> <td>    0.001</td> <td>   -6.300</td> <td> 0.000</td> <td>   -0.009</td> <td>   -0.005</td>\n",
       "</tr>\n",
       "<tr>\n",
       "  <th>curve</th>                      <td>    0.0127</td> <td>    0.001</td> <td>   15.919</td> <td> 0.000</td> <td>    0.011</td> <td>    0.014</td>\n",
       "</tr>\n",
       "<tr>\n",
       "  <th>free_kick_accuracy</th>         <td>    0.0131</td> <td>    0.001</td> <td>   18.446</td> <td> 0.000</td> <td>    0.012</td> <td>    0.014</td>\n",
       "</tr>\n",
       "<tr>\n",
       "  <th>long_passing</th>               <td>    0.0084</td> <td>    0.001</td> <td>    8.966</td> <td> 0.000</td> <td>    0.007</td> <td>    0.010</td>\n",
       "</tr>\n",
       "<tr>\n",
       "  <th>ball_control</th>               <td>    0.1183</td> <td>    0.001</td> <td>   80.898</td> <td> 0.000</td> <td>    0.115</td> <td>    0.121</td>\n",
       "</tr>\n",
       "<tr>\n",
       "  <th>acceleration</th>               <td>    0.0057</td> <td>    0.001</td> <td>    4.207</td> <td> 0.000</td> <td>    0.003</td> <td>    0.008</td>\n",
       "</tr>\n",
       "<tr>\n",
       "  <th>sprint_speed</th>               <td>    0.0115</td> <td>    0.001</td> <td>    8.923</td> <td> 0.000</td> <td>    0.009</td> <td>    0.014</td>\n",
       "</tr>\n",
       "<tr>\n",
       "  <th>agility</th>                    <td>   -0.0075</td> <td>    0.001</td> <td>   -7.369</td> <td> 0.000</td> <td>   -0.009</td> <td>   -0.005</td>\n",
       "</tr>\n",
       "<tr>\n",
       "  <th>reactions</th>                  <td>    0.2177</td> <td>    0.001</td> <td>  198.137</td> <td> 0.000</td> <td>    0.216</td> <td>    0.220</td>\n",
       "</tr>\n",
       "<tr>\n",
       "  <th>balance</th>                    <td>    0.0082</td> <td>    0.001</td> <td>   10.435</td> <td> 0.000</td> <td>    0.007</td> <td>    0.010</td>\n",
       "</tr>\n",
       "<tr>\n",
       "  <th>shot_power</th>                 <td>    0.0168</td> <td>    0.001</td> <td>   19.489</td> <td> 0.000</td> <td>    0.015</td> <td>    0.019</td>\n",
       "</tr>\n",
       "<tr>\n",
       "  <th>jumping</th>                    <td>    0.0157</td> <td>    0.001</td> <td>   21.473</td> <td> 0.000</td> <td>    0.014</td> <td>    0.017</td>\n",
       "</tr>\n",
       "<tr>\n",
       "  <th>stamina</th>                    <td>   -0.0045</td> <td>    0.001</td> <td>   -5.664</td> <td> 0.000</td> <td>   -0.006</td> <td>   -0.003</td>\n",
       "</tr>\n",
       "<tr>\n",
       "  <th>strength</th>                   <td>    0.0632</td> <td>    0.001</td> <td>   75.015</td> <td> 0.000</td> <td>    0.062</td> <td>    0.065</td>\n",
       "</tr>\n",
       "<tr>\n",
       "  <th>long_shots</th>                 <td>   -0.0147</td> <td>    0.001</td> <td>  -16.141</td> <td> 0.000</td> <td>   -0.016</td> <td>   -0.013</td>\n",
       "</tr>\n",
       "<tr>\n",
       "  <th>aggression</th>                 <td>    0.0188</td> <td>    0.001</td> <td>   27.278</td> <td> 0.000</td> <td>    0.017</td> <td>    0.020</td>\n",
       "</tr>\n",
       "<tr>\n",
       "  <th>interceptions</th>              <td>    0.0105</td> <td>    0.001</td> <td>   14.379</td> <td> 0.000</td> <td>    0.009</td> <td>    0.012</td>\n",
       "</tr>\n",
       "<tr>\n",
       "  <th>positioning</th>                <td>   -0.0088</td> <td>    0.001</td> <td>  -11.171</td> <td> 0.000</td> <td>   -0.010</td> <td>   -0.007</td>\n",
       "</tr>\n",
       "<tr>\n",
       "  <th>vision</th>                     <td>   -0.0032</td> <td>    0.001</td> <td>   -3.599</td> <td> 0.000</td> <td>   -0.005</td> <td>   -0.001</td>\n",
       "</tr>\n",
       "<tr>\n",
       "  <th>penalties</th>                  <td>    0.0140</td> <td>    0.001</td> <td>   18.740</td> <td> 0.000</td> <td>    0.013</td> <td>    0.015</td>\n",
       "</tr>\n",
       "<tr>\n",
       "  <th>marking</th>                    <td>    0.0318</td> <td>    0.001</td> <td>   28.497</td> <td> 0.000</td> <td>    0.030</td> <td>    0.034</td>\n",
       "</tr>\n",
       "<tr>\n",
       "  <th>standing_tackle</th>            <td>    0.0051</td> <td>    0.001</td> <td>    3.972</td> <td> 0.000</td> <td>    0.003</td> <td>    0.008</td>\n",
       "</tr>\n",
       "<tr>\n",
       "  <th>sliding_tackle</th>             <td>   -0.0263</td> <td>    0.001</td> <td>  -24.013</td> <td> 0.000</td> <td>   -0.028</td> <td>   -0.024</td>\n",
       "</tr>\n",
       "<tr>\n",
       "  <th>gk_diving</th>                  <td>    0.1696</td> <td>    0.001</td> <td>  116.279</td> <td> 0.000</td> <td>    0.167</td> <td>    0.172</td>\n",
       "</tr>\n",
       "<tr>\n",
       "  <th>gk_handling</th>                <td>    0.0332</td> <td>    0.002</td> <td>   17.396</td> <td> 0.000</td> <td>    0.029</td> <td>    0.037</td>\n",
       "</tr>\n",
       "<tr>\n",
       "  <th>gk_kicking</th>                 <td>   -0.0341</td> <td>    0.001</td> <td>  -55.078</td> <td> 0.000</td> <td>   -0.035</td> <td>   -0.033</td>\n",
       "</tr>\n",
       "<tr>\n",
       "  <th>gk_positioning</th>             <td>    0.0589</td> <td>    0.002</td> <td>   31.005</td> <td> 0.000</td> <td>    0.055</td> <td>    0.063</td>\n",
       "</tr>\n",
       "<tr>\n",
       "  <th>gk_reflexes</th>                <td>    0.0256</td> <td>    0.002</td> <td>   13.719</td> <td> 0.000</td> <td>    0.022</td> <td>    0.029</td>\n",
       "</tr>\n",
       "<tr>\n",
       "  <th>preferred_foot_right</th>       <td>   -0.0041</td> <td>    0.016</td> <td>   -0.260</td> <td> 0.795</td> <td>   -0.035</td> <td>    0.027</td>\n",
       "</tr>\n",
       "<tr>\n",
       "  <th>attacking_work_rate_high</th>   <td>    0.2419</td> <td>    0.134</td> <td>    1.801</td> <td> 0.072</td> <td>   -0.021</td> <td>    0.505</td>\n",
       "</tr>\n",
       "<tr>\n",
       "  <th>attacking_work_rate_lean</th>   <td>   -0.6583</td> <td>    0.159</td> <td>   -4.137</td> <td> 0.000</td> <td>   -0.970</td> <td>   -0.346</td>\n",
       "</tr>\n",
       "<tr>\n",
       "  <th>attacking_work_rate_low</th>    <td>    1.5118</td> <td>    0.137</td> <td>   11.064</td> <td> 0.000</td> <td>    1.244</td> <td>    1.780</td>\n",
       "</tr>\n",
       "<tr>\n",
       "  <th>attacking_work_rate_medium</th> <td>    0.1646</td> <td>    0.134</td> <td>    1.231</td> <td> 0.218</td> <td>   -0.097</td> <td>    0.427</td>\n",
       "</tr>\n",
       "<tr>\n",
       "  <th>attacking_work_rate_normal</th> <td>    0.0189</td> <td>    0.082</td> <td>    0.231</td> <td> 0.818</td> <td>   -0.141</td> <td>    0.179</td>\n",
       "</tr>\n",
       "<tr>\n",
       "  <th>attacking_work_rate_stocky</th> <td>   -0.6577</td> <td>    0.152</td> <td>   -4.335</td> <td> 0.000</td> <td>   -0.955</td> <td>   -0.360</td>\n",
       "</tr>\n",
       "<tr>\n",
       "  <th>attacking_work_rate_yes</th>    <td>    0.0741</td> <td>    0.146</td> <td>    0.509</td> <td> 0.611</td> <td>   -0.211</td> <td>    0.359</td>\n",
       "</tr>\n",
       "<tr>\n",
       "  <th>defensive_work_rate_high</th>   <td>   -0.0151</td> <td>    0.132</td> <td>   -0.114</td> <td> 0.909</td> <td>   -0.273</td> <td>    0.243</td>\n",
       "</tr>\n",
       "<tr>\n",
       "  <th>defensive_work_rate_lean</th>   <td>   -0.6583</td> <td>    0.159</td> <td>   -4.137</td> <td> 0.000</td> <td>   -0.970</td> <td>   -0.346</td>\n",
       "</tr>\n",
       "<tr>\n",
       "  <th>defensive_work_rate_low</th>    <td>    0.4179</td> <td>    0.133</td> <td>    3.153</td> <td> 0.002</td> <td>    0.158</td> <td>    0.678</td>\n",
       "</tr>\n",
       "<tr>\n",
       "  <th>defensive_work_rate_medium</th> <td>   -0.2609</td> <td>    0.131</td> <td>   -1.992</td> <td> 0.046</td> <td>   -0.518</td> <td>   -0.004</td>\n",
       "</tr>\n",
       "<tr>\n",
       "  <th>defensive_work_rate_normal</th> <td>    0.0189</td> <td>    0.082</td> <td>    0.231</td> <td> 0.818</td> <td>   -0.141</td> <td>    0.179</td>\n",
       "</tr>\n",
       "<tr>\n",
       "  <th>defensive_work_rate_stocky</th> <td>   -0.6577</td> <td>    0.152</td> <td>   -4.335</td> <td> 0.000</td> <td>   -0.955</td> <td>   -0.360</td>\n",
       "</tr>\n",
       "<tr>\n",
       "  <th>defensive_work_rate_yes</th>    <td>    0.0741</td> <td>    0.146</td> <td>    0.509</td> <td> 0.611</td> <td>   -0.211</td> <td>    0.359</td>\n",
       "</tr>\n",
       "</table>\n",
       "<table class=\"simpletable\">\n",
       "<tr>\n",
       "  <th>Omnibus:</th>       <td>7995.210</td> <th>  Durbin-Watson:     </th> <td>   0.380</td> \n",
       "</tr>\n",
       "<tr>\n",
       "  <th>Prob(Omnibus):</th>  <td> 0.000</td>  <th>  Jarque-Bera (JB):  </th> <td>17679.620</td>\n",
       "</tr>\n",
       "<tr>\n",
       "  <th>Skew:</th>           <td>-0.290</td>  <th>  Prob(JB):          </th> <td>    0.00</td> \n",
       "</tr>\n",
       "<tr>\n",
       "  <th>Kurtosis:</th>       <td> 4.416</td>  <th>  Cond. No.          </th> <td>1.01e+16</td> \n",
       "</tr>\n",
       "</table><br/><br/>Warnings:<br/>[1] Standard Errors assume that the covariance matrix of the errors is correctly specified.<br/>[2] The smallest eigenvalue is 1.87e-22. This might indicate that there are<br/>strong multicollinearity problems or that the design matrix is singular."
      ],
      "text/plain": [
       "<class 'statsmodels.iolib.summary.Summary'>\n",
       "\"\"\"\n",
       "                            OLS Regression Results                            \n",
       "==============================================================================\n",
       "Dep. Variable:         overall_rating   R-squared:                       0.844\n",
       "Model:                            OLS   Adj. R-squared:                  0.844\n",
       "Method:                 Least Squares   F-statistic:                 2.181e+04\n",
       "Date:                Mon, 01 Feb 2021   Prob (F-statistic):               0.00\n",
       "Time:                        23:05:17   Log-Likelihood:            -4.4222e+05\n",
       "No. Observations:              181265   AIC:                         8.845e+05\n",
       "Df Residuals:                  181219   BIC:                         8.850e+05\n",
       "Df Model:                          45                                         \n",
       "Covariance Type:            nonrobust                                         \n",
       "==============================================================================================\n",
       "                                 coef    std err          t      P>|t|      [0.025      0.975]\n",
       "----------------------------------------------------------------------------------------------\n",
       "const                         -3.9154      0.106    -36.843      0.000      -4.124      -3.707\n",
       "potential                      0.3769      0.001    258.723      0.000       0.374       0.380\n",
       "crossing                       0.0225      0.001     26.788      0.000       0.021       0.024\n",
       "finishing                      0.0125      0.001     13.680      0.000       0.011       0.014\n",
       "heading_accuracy               0.0667      0.001     82.598      0.000       0.065       0.068\n",
       "short_passing                  0.0519      0.001     39.510      0.000       0.049       0.054\n",
       "volleys                        0.0035      0.001      4.309      0.000       0.002       0.005\n",
       "dribbling                     -0.0070      0.001     -6.300      0.000      -0.009      -0.005\n",
       "curve                          0.0127      0.001     15.919      0.000       0.011       0.014\n",
       "free_kick_accuracy             0.0131      0.001     18.446      0.000       0.012       0.014\n",
       "long_passing                   0.0084      0.001      8.966      0.000       0.007       0.010\n",
       "ball_control                   0.1183      0.001     80.898      0.000       0.115       0.121\n",
       "acceleration                   0.0057      0.001      4.207      0.000       0.003       0.008\n",
       "sprint_speed                   0.0115      0.001      8.923      0.000       0.009       0.014\n",
       "agility                       -0.0075      0.001     -7.369      0.000      -0.009      -0.005\n",
       "reactions                      0.2177      0.001    198.137      0.000       0.216       0.220\n",
       "balance                        0.0082      0.001     10.435      0.000       0.007       0.010\n",
       "shot_power                     0.0168      0.001     19.489      0.000       0.015       0.019\n",
       "jumping                        0.0157      0.001     21.473      0.000       0.014       0.017\n",
       "stamina                       -0.0045      0.001     -5.664      0.000      -0.006      -0.003\n",
       "strength                       0.0632      0.001     75.015      0.000       0.062       0.065\n",
       "long_shots                    -0.0147      0.001    -16.141      0.000      -0.016      -0.013\n",
       "aggression                     0.0188      0.001     27.278      0.000       0.017       0.020\n",
       "interceptions                  0.0105      0.001     14.379      0.000       0.009       0.012\n",
       "positioning                   -0.0088      0.001    -11.171      0.000      -0.010      -0.007\n",
       "vision                        -0.0032      0.001     -3.599      0.000      -0.005      -0.001\n",
       "penalties                      0.0140      0.001     18.740      0.000       0.013       0.015\n",
       "marking                        0.0318      0.001     28.497      0.000       0.030       0.034\n",
       "standing_tackle                0.0051      0.001      3.972      0.000       0.003       0.008\n",
       "sliding_tackle                -0.0263      0.001    -24.013      0.000      -0.028      -0.024\n",
       "gk_diving                      0.1696      0.001    116.279      0.000       0.167       0.172\n",
       "gk_handling                    0.0332      0.002     17.396      0.000       0.029       0.037\n",
       "gk_kicking                    -0.0341      0.001    -55.078      0.000      -0.035      -0.033\n",
       "gk_positioning                 0.0589      0.002     31.005      0.000       0.055       0.063\n",
       "gk_reflexes                    0.0256      0.002     13.719      0.000       0.022       0.029\n",
       "preferred_foot_right          -0.0041      0.016     -0.260      0.795      -0.035       0.027\n",
       "attacking_work_rate_high       0.2419      0.134      1.801      0.072      -0.021       0.505\n",
       "attacking_work_rate_lean      -0.6583      0.159     -4.137      0.000      -0.970      -0.346\n",
       "attacking_work_rate_low        1.5118      0.137     11.064      0.000       1.244       1.780\n",
       "attacking_work_rate_medium     0.1646      0.134      1.231      0.218      -0.097       0.427\n",
       "attacking_work_rate_normal     0.0189      0.082      0.231      0.818      -0.141       0.179\n",
       "attacking_work_rate_stocky    -0.6577      0.152     -4.335      0.000      -0.955      -0.360\n",
       "attacking_work_rate_yes        0.0741      0.146      0.509      0.611      -0.211       0.359\n",
       "defensive_work_rate_high      -0.0151      0.132     -0.114      0.909      -0.273       0.243\n",
       "defensive_work_rate_lean      -0.6583      0.159     -4.137      0.000      -0.970      -0.346\n",
       "defensive_work_rate_low        0.4179      0.133      3.153      0.002       0.158       0.678\n",
       "defensive_work_rate_medium    -0.2609      0.131     -1.992      0.046      -0.518      -0.004\n",
       "defensive_work_rate_normal     0.0189      0.082      0.231      0.818      -0.141       0.179\n",
       "defensive_work_rate_stocky    -0.6577      0.152     -4.335      0.000      -0.955      -0.360\n",
       "defensive_work_rate_yes        0.0741      0.146      0.509      0.611      -0.211       0.359\n",
       "==============================================================================\n",
       "Omnibus:                     7995.210   Durbin-Watson:                   0.380\n",
       "Prob(Omnibus):                  0.000   Jarque-Bera (JB):            17679.620\n",
       "Skew:                          -0.290   Prob(JB):                         0.00\n",
       "Kurtosis:                       4.416   Cond. No.                     1.01e+16\n",
       "==============================================================================\n",
       "\n",
       "Warnings:\n",
       "[1] Standard Errors assume that the covariance matrix of the errors is correctly specified.\n",
       "[2] The smallest eigenvalue is 1.87e-22. This might indicate that there are\n",
       "strong multicollinearity problems or that the design matrix is singular.\n",
       "\"\"\""
      ]
     },
     "execution_count": 109,
     "metadata": {},
     "output_type": "execute_result"
    }
   ],
   "source": [
    "ols_mod.summary()"
   ]
  },
  {
   "cell_type": "markdown",
   "metadata": {},
   "source": [
    "As we can see that p-value of mostly all the categorical features are more than 0.05 and value of condition no is around 10^16, which is showing high multicollinearity. Lets remove all these categorical features and their label encoding."
   ]
  },
  {
   "cell_type": "code",
   "execution_count": 110,
   "metadata": {},
   "outputs": [],
   "source": [
    "# Removing categorical features and their respective labels\n",
    "x1 = x.iloc[:,:-15]"
   ]
  },
  {
   "cell_type": "code",
   "execution_count": 111,
   "metadata": {},
   "outputs": [],
   "source": [
    "# Creating model again\n",
    "xc = sm.add_constant(x1)\n",
    "ols1 = sm.OLS(y, xc)\n",
    "ols_mod = ols1.fit()"
   ]
  },
  {
   "cell_type": "code",
   "execution_count": 112,
   "metadata": {
    "scrolled": true
   },
   "outputs": [
    {
     "data": {
      "text/html": [
       "<table class=\"simpletable\">\n",
       "<caption>OLS Regression Results</caption>\n",
       "<tr>\n",
       "  <th>Dep. Variable:</th>     <td>overall_rating</td>  <th>  R-squared:         </th>  <td>   0.842</td>  \n",
       "</tr>\n",
       "<tr>\n",
       "  <th>Model:</th>                   <td>OLS</td>       <th>  Adj. R-squared:    </th>  <td>   0.842</td>  \n",
       "</tr>\n",
       "<tr>\n",
       "  <th>Method:</th>             <td>Least Squares</td>  <th>  F-statistic:       </th>  <td>2.832e+04</td> \n",
       "</tr>\n",
       "<tr>\n",
       "  <th>Date:</th>             <td>Mon, 01 Feb 2021</td> <th>  Prob (F-statistic):</th>   <td>  0.00</td>   \n",
       "</tr>\n",
       "<tr>\n",
       "  <th>Time:</th>                 <td>23:05:17</td>     <th>  Log-Likelihood:    </th> <td>-4.4369e+05</td>\n",
       "</tr>\n",
       "<tr>\n",
       "  <th>No. Observations:</th>      <td>181265</td>      <th>  AIC:               </th>  <td>8.875e+05</td> \n",
       "</tr>\n",
       "<tr>\n",
       "  <th>Df Residuals:</th>          <td>181230</td>      <th>  BIC:               </th>  <td>8.878e+05</td> \n",
       "</tr>\n",
       "<tr>\n",
       "  <th>Df Model:</th>              <td>    34</td>      <th>                     </th>      <td> </td>     \n",
       "</tr>\n",
       "<tr>\n",
       "  <th>Covariance Type:</th>      <td>nonrobust</td>    <th>                     </th>      <td> </td>     \n",
       "</tr>\n",
       "</table>\n",
       "<table class=\"simpletable\">\n",
       "<tr>\n",
       "           <td></td>             <th>coef</th>     <th>std err</th>      <th>t</th>      <th>P>|t|</th>  <th>[0.025</th>    <th>0.975]</th>  \n",
       "</tr>\n",
       "<tr>\n",
       "  <th>const</th>              <td>   -3.9475</td> <td>    0.095</td> <td>  -41.712</td> <td> 0.000</td> <td>   -4.133</td> <td>   -3.762</td>\n",
       "</tr>\n",
       "<tr>\n",
       "  <th>potential</th>          <td>    0.3791</td> <td>    0.001</td> <td>  258.556</td> <td> 0.000</td> <td>    0.376</td> <td>    0.382</td>\n",
       "</tr>\n",
       "<tr>\n",
       "  <th>crossing</th>           <td>    0.0217</td> <td>    0.001</td> <td>   25.876</td> <td> 0.000</td> <td>    0.020</td> <td>    0.023</td>\n",
       "</tr>\n",
       "<tr>\n",
       "  <th>finishing</th>          <td>    0.0119</td> <td>    0.001</td> <td>   12.932</td> <td> 0.000</td> <td>    0.010</td> <td>    0.014</td>\n",
       "</tr>\n",
       "<tr>\n",
       "  <th>heading_accuracy</th>   <td>    0.0678</td> <td>    0.001</td> <td>   83.390</td> <td> 0.000</td> <td>    0.066</td> <td>    0.069</td>\n",
       "</tr>\n",
       "<tr>\n",
       "  <th>short_passing</th>      <td>    0.0512</td> <td>    0.001</td> <td>   38.746</td> <td> 0.000</td> <td>    0.049</td> <td>    0.054</td>\n",
       "</tr>\n",
       "<tr>\n",
       "  <th>volleys</th>            <td>    0.0047</td> <td>    0.001</td> <td>    5.669</td> <td> 0.000</td> <td>    0.003</td> <td>    0.006</td>\n",
       "</tr>\n",
       "<tr>\n",
       "  <th>dribbling</th>          <td>   -0.0090</td> <td>    0.001</td> <td>   -7.997</td> <td> 0.000</td> <td>   -0.011</td> <td>   -0.007</td>\n",
       "</tr>\n",
       "<tr>\n",
       "  <th>curve</th>              <td>    0.0122</td> <td>    0.001</td> <td>   15.296</td> <td> 0.000</td> <td>    0.011</td> <td>    0.014</td>\n",
       "</tr>\n",
       "<tr>\n",
       "  <th>free_kick_accuracy</th> <td>    0.0129</td> <td>    0.001</td> <td>   18.175</td> <td> 0.000</td> <td>    0.012</td> <td>    0.014</td>\n",
       "</tr>\n",
       "<tr>\n",
       "  <th>long_passing</th>       <td>    0.0086</td> <td>    0.001</td> <td>    9.123</td> <td> 0.000</td> <td>    0.007</td> <td>    0.010</td>\n",
       "</tr>\n",
       "<tr>\n",
       "  <th>ball_control</th>       <td>    0.1198</td> <td>    0.001</td> <td>   81.369</td> <td> 0.000</td> <td>    0.117</td> <td>    0.123</td>\n",
       "</tr>\n",
       "<tr>\n",
       "  <th>acceleration</th>       <td>    0.0062</td> <td>    0.001</td> <td>    4.516</td> <td> 0.000</td> <td>    0.004</td> <td>    0.009</td>\n",
       "</tr>\n",
       "<tr>\n",
       "  <th>sprint_speed</th>       <td>    0.0098</td> <td>    0.001</td> <td>    7.567</td> <td> 0.000</td> <td>    0.007</td> <td>    0.012</td>\n",
       "</tr>\n",
       "<tr>\n",
       "  <th>agility</th>            <td>   -0.0074</td> <td>    0.001</td> <td>   -7.254</td> <td> 0.000</td> <td>   -0.009</td> <td>   -0.005</td>\n",
       "</tr>\n",
       "<tr>\n",
       "  <th>reactions</th>          <td>    0.2199</td> <td>    0.001</td> <td>  198.797</td> <td> 0.000</td> <td>    0.218</td> <td>    0.222</td>\n",
       "</tr>\n",
       "<tr>\n",
       "  <th>balance</th>            <td>    0.0091</td> <td>    0.001</td> <td>   11.498</td> <td> 0.000</td> <td>    0.008</td> <td>    0.011</td>\n",
       "</tr>\n",
       "<tr>\n",
       "  <th>shot_power</th>         <td>    0.0169</td> <td>    0.001</td> <td>   19.419</td> <td> 0.000</td> <td>    0.015</td> <td>    0.019</td>\n",
       "</tr>\n",
       "<tr>\n",
       "  <th>jumping</th>            <td>    0.0158</td> <td>    0.001</td> <td>   21.539</td> <td> 0.000</td> <td>    0.014</td> <td>    0.017</td>\n",
       "</tr>\n",
       "<tr>\n",
       "  <th>stamina</th>            <td>   -0.0066</td> <td>    0.001</td> <td>   -8.449</td> <td> 0.000</td> <td>   -0.008</td> <td>   -0.005</td>\n",
       "</tr>\n",
       "<tr>\n",
       "  <th>strength</th>           <td>    0.0655</td> <td>    0.001</td> <td>   77.196</td> <td> 0.000</td> <td>    0.064</td> <td>    0.067</td>\n",
       "</tr>\n",
       "<tr>\n",
       "  <th>long_shots</th>         <td>   -0.0143</td> <td>    0.001</td> <td>  -15.628</td> <td> 0.000</td> <td>   -0.016</td> <td>   -0.013</td>\n",
       "</tr>\n",
       "<tr>\n",
       "  <th>aggression</th>         <td>    0.0191</td> <td>    0.001</td> <td>   27.714</td> <td> 0.000</td> <td>    0.018</td> <td>    0.020</td>\n",
       "</tr>\n",
       "<tr>\n",
       "  <th>interceptions</th>      <td>    0.0109</td> <td>    0.001</td> <td>   14.815</td> <td> 0.000</td> <td>    0.009</td> <td>    0.012</td>\n",
       "</tr>\n",
       "<tr>\n",
       "  <th>positioning</th>        <td>   -0.0102</td> <td>    0.001</td> <td>  -12.923</td> <td> 0.000</td> <td>   -0.012</td> <td>   -0.009</td>\n",
       "</tr>\n",
       "<tr>\n",
       "  <th>vision</th>             <td>   -0.0034</td> <td>    0.001</td> <td>   -3.850</td> <td> 0.000</td> <td>   -0.005</td> <td>   -0.002</td>\n",
       "</tr>\n",
       "<tr>\n",
       "  <th>penalties</th>          <td>    0.0150</td> <td>    0.001</td> <td>   19.935</td> <td> 0.000</td> <td>    0.014</td> <td>    0.016</td>\n",
       "</tr>\n",
       "<tr>\n",
       "  <th>marking</th>            <td>    0.0325</td> <td>    0.001</td> <td>   28.869</td> <td> 0.000</td> <td>    0.030</td> <td>    0.035</td>\n",
       "</tr>\n",
       "<tr>\n",
       "  <th>standing_tackle</th>    <td>    0.0044</td> <td>    0.001</td> <td>    3.382</td> <td> 0.001</td> <td>    0.002</td> <td>    0.007</td>\n",
       "</tr>\n",
       "<tr>\n",
       "  <th>sliding_tackle</th>     <td>   -0.0280</td> <td>    0.001</td> <td>  -25.353</td> <td> 0.000</td> <td>   -0.030</td> <td>   -0.026</td>\n",
       "</tr>\n",
       "<tr>\n",
       "  <th>gk_diving</th>          <td>    0.1673</td> <td>    0.001</td> <td>  113.868</td> <td> 0.000</td> <td>    0.164</td> <td>    0.170</td>\n",
       "</tr>\n",
       "<tr>\n",
       "  <th>gk_handling</th>        <td>    0.0323</td> <td>    0.002</td> <td>   16.759</td> <td> 0.000</td> <td>    0.028</td> <td>    0.036</td>\n",
       "</tr>\n",
       "<tr>\n",
       "  <th>gk_kicking</th>         <td>   -0.0332</td> <td>    0.001</td> <td>  -53.377</td> <td> 0.000</td> <td>   -0.034</td> <td>   -0.032</td>\n",
       "</tr>\n",
       "<tr>\n",
       "  <th>gk_positioning</th>     <td>    0.0563</td> <td>    0.002</td> <td>   29.437</td> <td> 0.000</td> <td>    0.053</td> <td>    0.060</td>\n",
       "</tr>\n",
       "<tr>\n",
       "  <th>gk_reflexes</th>        <td>    0.0248</td> <td>    0.002</td> <td>   13.200</td> <td> 0.000</td> <td>    0.021</td> <td>    0.028</td>\n",
       "</tr>\n",
       "</table>\n",
       "<table class=\"simpletable\">\n",
       "<tr>\n",
       "  <th>Omnibus:</th>       <td>7614.192</td> <th>  Durbin-Watson:     </th> <td>   0.376</td> \n",
       "</tr>\n",
       "<tr>\n",
       "  <th>Prob(Omnibus):</th>  <td> 0.000</td>  <th>  Jarque-Bera (JB):  </th> <td>16885.152</td>\n",
       "</tr>\n",
       "<tr>\n",
       "  <th>Skew:</th>           <td>-0.274</td>  <th>  Prob(JB):          </th> <td>    0.00</td> \n",
       "</tr>\n",
       "<tr>\n",
       "  <th>Kurtosis:</th>       <td> 4.392</td>  <th>  Cond. No.          </th> <td>4.68e+03</td> \n",
       "</tr>\n",
       "</table><br/><br/>Warnings:<br/>[1] Standard Errors assume that the covariance matrix of the errors is correctly specified.<br/>[2] The condition number is large, 4.68e+03. This might indicate that there are<br/>strong multicollinearity or other numerical problems."
      ],
      "text/plain": [
       "<class 'statsmodels.iolib.summary.Summary'>\n",
       "\"\"\"\n",
       "                            OLS Regression Results                            \n",
       "==============================================================================\n",
       "Dep. Variable:         overall_rating   R-squared:                       0.842\n",
       "Model:                            OLS   Adj. R-squared:                  0.842\n",
       "Method:                 Least Squares   F-statistic:                 2.832e+04\n",
       "Date:                Mon, 01 Feb 2021   Prob (F-statistic):               0.00\n",
       "Time:                        23:05:17   Log-Likelihood:            -4.4369e+05\n",
       "No. Observations:              181265   AIC:                         8.875e+05\n",
       "Df Residuals:                  181230   BIC:                         8.878e+05\n",
       "Df Model:                          34                                         \n",
       "Covariance Type:            nonrobust                                         \n",
       "======================================================================================\n",
       "                         coef    std err          t      P>|t|      [0.025      0.975]\n",
       "--------------------------------------------------------------------------------------\n",
       "const                 -3.9475      0.095    -41.712      0.000      -4.133      -3.762\n",
       "potential              0.3791      0.001    258.556      0.000       0.376       0.382\n",
       "crossing               0.0217      0.001     25.876      0.000       0.020       0.023\n",
       "finishing              0.0119      0.001     12.932      0.000       0.010       0.014\n",
       "heading_accuracy       0.0678      0.001     83.390      0.000       0.066       0.069\n",
       "short_passing          0.0512      0.001     38.746      0.000       0.049       0.054\n",
       "volleys                0.0047      0.001      5.669      0.000       0.003       0.006\n",
       "dribbling             -0.0090      0.001     -7.997      0.000      -0.011      -0.007\n",
       "curve                  0.0122      0.001     15.296      0.000       0.011       0.014\n",
       "free_kick_accuracy     0.0129      0.001     18.175      0.000       0.012       0.014\n",
       "long_passing           0.0086      0.001      9.123      0.000       0.007       0.010\n",
       "ball_control           0.1198      0.001     81.369      0.000       0.117       0.123\n",
       "acceleration           0.0062      0.001      4.516      0.000       0.004       0.009\n",
       "sprint_speed           0.0098      0.001      7.567      0.000       0.007       0.012\n",
       "agility               -0.0074      0.001     -7.254      0.000      -0.009      -0.005\n",
       "reactions              0.2199      0.001    198.797      0.000       0.218       0.222\n",
       "balance                0.0091      0.001     11.498      0.000       0.008       0.011\n",
       "shot_power             0.0169      0.001     19.419      0.000       0.015       0.019\n",
       "jumping                0.0158      0.001     21.539      0.000       0.014       0.017\n",
       "stamina               -0.0066      0.001     -8.449      0.000      -0.008      -0.005\n",
       "strength               0.0655      0.001     77.196      0.000       0.064       0.067\n",
       "long_shots            -0.0143      0.001    -15.628      0.000      -0.016      -0.013\n",
       "aggression             0.0191      0.001     27.714      0.000       0.018       0.020\n",
       "interceptions          0.0109      0.001     14.815      0.000       0.009       0.012\n",
       "positioning           -0.0102      0.001    -12.923      0.000      -0.012      -0.009\n",
       "vision                -0.0034      0.001     -3.850      0.000      -0.005      -0.002\n",
       "penalties              0.0150      0.001     19.935      0.000       0.014       0.016\n",
       "marking                0.0325      0.001     28.869      0.000       0.030       0.035\n",
       "standing_tackle        0.0044      0.001      3.382      0.001       0.002       0.007\n",
       "sliding_tackle        -0.0280      0.001    -25.353      0.000      -0.030      -0.026\n",
       "gk_diving              0.1673      0.001    113.868      0.000       0.164       0.170\n",
       "gk_handling            0.0323      0.002     16.759      0.000       0.028       0.036\n",
       "gk_kicking            -0.0332      0.001    -53.377      0.000      -0.034      -0.032\n",
       "gk_positioning         0.0563      0.002     29.437      0.000       0.053       0.060\n",
       "gk_reflexes            0.0248      0.002     13.200      0.000       0.021       0.028\n",
       "==============================================================================\n",
       "Omnibus:                     7614.192   Durbin-Watson:                   0.376\n",
       "Prob(Omnibus):                  0.000   Jarque-Bera (JB):            16885.152\n",
       "Skew:                          -0.274   Prob(JB):                         0.00\n",
       "Kurtosis:                       4.392   Cond. No.                     4.68e+03\n",
       "==============================================================================\n",
       "\n",
       "Warnings:\n",
       "[1] Standard Errors assume that the covariance matrix of the errors is correctly specified.\n",
       "[2] The condition number is large, 4.68e+03. This might indicate that there are\n",
       "strong multicollinearity or other numerical problems.\n",
       "\"\"\""
      ]
     },
     "execution_count": 112,
     "metadata": {},
     "output_type": "execute_result"
    }
   ],
   "source": [
    "ols_mod.summary()"
   ]
  },
  {
   "cell_type": "markdown",
   "metadata": {},
   "source": [
    "* Multicollineairy is decreased from 10^16 to 4650. Suggesting the categorical feature we removed have lower variance among them with higher correlation.\n",
    "\n",
    "* All the features now have less than 0.05 p-value suggesting all these features are statistically significant."
   ]
  },
  {
   "cell_type": "code",
   "execution_count": null,
   "metadata": {},
   "outputs": [],
   "source": []
  },
  {
   "cell_type": "markdown",
   "metadata": {},
   "source": [
    "## Cross Validation of Linear Regression Model"
   ]
  },
  {
   "cell_type": "code",
   "execution_count": 113,
   "metadata": {},
   "outputs": [],
   "source": [
    "from sklearn.linear_model import LinearRegression\n",
    "from sklearn.metrics import r2_score, mean_squared_error\n",
    "from sklearn.model_selection import KFold, cross_val_score"
   ]
  },
  {
   "cell_type": "markdown",
   "metadata": {},
   "source": [
    "### Cross validation with all the features including categorical"
   ]
  },
  {
   "cell_type": "code",
   "execution_count": 114,
   "metadata": {},
   "outputs": [
    {
     "data": {
      "text/plain": [
       "(2.7839949607630614, 0.011176475953345628)"
      ]
     },
     "execution_count": 114,
     "metadata": {},
     "output_type": "execute_result"
    }
   ],
   "source": [
    "lr = LinearRegression()\n",
    "kf = KFold(n_splits= 5, shuffle = True)\n",
    "mse = cross_val_score(lr, x, y, cv=5, scoring='neg_mean_squared_error')\n",
    "rmse = np.sqrt(abs(mse))\n",
    "np.mean(rmse), np.std(rmse)"
   ]
  },
  {
   "cell_type": "markdown",
   "metadata": {},
   "source": [
    "### Cross validation without categorical features"
   ]
  },
  {
   "cell_type": "code",
   "execution_count": 115,
   "metadata": {},
   "outputs": [
    {
     "data": {
      "text/plain": [
       "(2.805006965191923, 0.010128700943119497)"
      ]
     },
     "execution_count": 115,
     "metadata": {},
     "output_type": "execute_result"
    }
   ],
   "source": [
    "lr = LinearRegression()\n",
    "kf = KFold(n_splits= 5, shuffle = True)\n",
    "mse = cross_val_score(lr, x1, y, cv=5, scoring='neg_mean_squared_error')\n",
    "rmse = np.sqrt(abs(mse))\n",
    "np.mean(rmse), np.std(rmse)"
   ]
  },
  {
   "cell_type": "markdown",
   "metadata": {},
   "source": [
    "<b> There is very little to no sign of overfitting <b>"
   ]
  },
  {
   "cell_type": "markdown",
   "metadata": {},
   "source": [
    "<b>There is very limited effect of excluding categorical features. Bias error is increased by 0.02 and variance error decreases by 0.001. This may be due to the fact that the columns we have excluded are having higher amount of multicollinearity. <b>"
   ]
  },
  {
   "cell_type": "markdown",
   "metadata": {},
   "source": [
    "## Fitting a Base Linear regression Model"
   ]
  },
  {
   "cell_type": "code",
   "execution_count": 116,
   "metadata": {},
   "outputs": [],
   "source": [
    "from sklearn.model_selection import train_test_split\n",
    "from sklearn.metrics import r2_score, mean_squared_error"
   ]
  },
  {
   "cell_type": "markdown",
   "metadata": {},
   "source": [
    "### LR model with all features"
   ]
  },
  {
   "cell_type": "code",
   "execution_count": 117,
   "metadata": {},
   "outputs": [],
   "source": [
    "xtrain, xtest, ytrain, ytest = train_test_split(x, y, test_size=0.3, random_state=42)"
   ]
  },
  {
   "cell_type": "code",
   "execution_count": 118,
   "metadata": {},
   "outputs": [
    {
     "name": "stdout",
     "output_type": "stream",
     "text": [
      "Train R2:  0.8445699992289595\n",
      "Test R2:  0.8431251377052987\n",
      "Train RMSE:  2.777695122749002\n",
      "Test R2:  2.7697121269279275\n"
     ]
    }
   ],
   "source": [
    "lr = LinearRegression()\n",
    "lr.fit(xtrain, ytrain)\n",
    "\n",
    "ytrain_pred = lr.predict(xtrain)\n",
    "ytest_pred = lr.predict(xtest)\n",
    "\n",
    "print('Train R2: ',r2_score(ytrain, ytrain_pred))\n",
    "print('Test R2: ',r2_score(ytest, ytest_pred))\n",
    "\n",
    "print('Train RMSE: ',mean_squared_error(ytrain, ytrain_pred)**0.5)\n",
    "print('Test R2: ',mean_squared_error(ytest, ytest_pred)**0.5)"
   ]
  },
  {
   "cell_type": "markdown",
   "metadata": {},
   "source": [
    "### LR model without categorical features"
   ]
  },
  {
   "cell_type": "code",
   "execution_count": 119,
   "metadata": {},
   "outputs": [],
   "source": [
    "xtrain, xtest, ytrain, ytest = train_test_split(x1, y, test_size=0.3, random_state=42)"
   ]
  },
  {
   "cell_type": "code",
   "execution_count": 120,
   "metadata": {},
   "outputs": [
    {
     "name": "stdout",
     "output_type": "stream",
     "text": [
      "Train R2:  0.8420593072224918\n",
      "Test R2:  0.840497686487108\n",
      "Train RMSE:  2.8000395840664027\n",
      "Test R2:  2.792810361595036\n"
     ]
    }
   ],
   "source": [
    "lr = LinearRegression()\n",
    "lr.fit(xtrain, ytrain)\n",
    "\n",
    "ytrain_pred = lr.predict(xtrain)\n",
    "ytest_pred = lr.predict(xtest)\n",
    "\n",
    "print('Train R2: ',r2_score(ytrain, ytrain_pred))\n",
    "print('Test R2: ',r2_score(ytest, ytest_pred))\n",
    "\n",
    "print('Train RMSE: ',mean_squared_error(ytrain, ytrain_pred)**0.5)\n",
    "print('Test R2: ',mean_squared_error(ytest, ytest_pred)**0.5)"
   ]
  },
  {
   "cell_type": "markdown",
   "metadata": {},
   "source": [
    "<b> R2- score and RMSE of train and test data are almost equal inferencing that the model is not overfit. <b>"
   ]
  },
  {
   "cell_type": "code",
   "execution_count": null,
   "metadata": {},
   "outputs": [],
   "source": []
  },
  {
   "cell_type": "markdown",
   "metadata": {},
   "source": [
    "## Regularization"
   ]
  },
  {
   "cell_type": "code",
   "execution_count": 121,
   "metadata": {},
   "outputs": [],
   "source": [
    "from sklearn.linear_model import Ridge, Lasso, ElasticNet\n",
    "from sklearn.model_selection import GridSearchCV"
   ]
  },
  {
   "cell_type": "markdown",
   "metadata": {},
   "source": [
    "### Scaling the dat before regularization"
   ]
  },
  {
   "cell_type": "code",
   "execution_count": 122,
   "metadata": {},
   "outputs": [],
   "source": [
    "from sklearn.preprocessing import StandardScaler"
   ]
  },
  {
   "cell_type": "code",
   "execution_count": 123,
   "metadata": {},
   "outputs": [],
   "source": [
    "st = StandardScaler()\n",
    "x1 = pd.DataFrame(st.fit_transform(x1) , columns=x1.columns)"
   ]
  },
  {
   "cell_type": "markdown",
   "metadata": {},
   "source": [
    "### Ridge Regularization"
   ]
  },
  {
   "cell_type": "code",
   "execution_count": 124,
   "metadata": {},
   "outputs": [
    {
     "name": "stdout",
     "output_type": "stream",
     "text": [
      "{'alpha': 30}\n",
      "7.868100784155791\n"
     ]
    }
   ],
   "source": [
    "rid = Ridge()\n",
    "param = {'alpha':[0.00005,0.00008,0.0001,0.001,0.01,0.1,0.5,1,2,3,4,5,6,7,8,9,10,20,30]}\n",
    "\n",
    "grid = GridSearchCV(rid, param_grid=param, cv=5, scoring='neg_mean_squared_error' )\n",
    "\n",
    "rid_mod=grid.fit(x1,y)\n",
    "\n",
    "print(rid_mod.best_params_)\n",
    "print(abs(rid_mod.best_score_))"
   ]
  },
  {
   "cell_type": "code",
   "execution_count": 125,
   "metadata": {},
   "outputs": [
    {
     "data": {
      "text/plain": [
       "(2.7837663615494197, 0.011094704462867746)"
      ]
     },
     "execution_count": 125,
     "metadata": {},
     "output_type": "execute_result"
    }
   ],
   "source": [
    "rid = Ridge(**rid_mod.best_params_)\n",
    "mse = cross_val_score(rid, x, y, cv=5, scoring='neg_mean_squared_error')\n",
    "rmse = np.sqrt(abs(mse))\n",
    "np.mean(rmse), np.std(rmse)"
   ]
  },
  {
   "cell_type": "markdown",
   "metadata": {},
   "source": [
    "### Lasso Regularization"
   ]
  },
  {
   "cell_type": "code",
   "execution_count": 126,
   "metadata": {},
   "outputs": [
    {
     "name": "stdout",
     "output_type": "stream",
     "text": [
      "{'alpha': 5e-05}\n",
      "7.868168885925712\n"
     ]
    }
   ],
   "source": [
    "las = Lasso()\n",
    "param = {'alpha':[0.00005,0.0008,0.0001,0.001,0.01,0.1,0.5,1,2,3,4,5,6,7,8,9,10,20,30]}\n",
    "\n",
    "grid = GridSearchCV(las, param_grid=param, cv=5, scoring='neg_mean_squared_error' )\n",
    "\n",
    "las_mod=grid.fit(x1,y)\n",
    "\n",
    "print(las_mod.best_params_)\n",
    "print(abs(las_mod.best_score_))"
   ]
  },
  {
   "cell_type": "code",
   "execution_count": 127,
   "metadata": {},
   "outputs": [
    {
     "name": "stderr",
     "output_type": "stream",
     "text": [
      "C:\\Users\\Divyajeet\\anaconda3\\lib\\site-packages\\sklearn\\linear_model\\_coordinate_descent.py:531: ConvergenceWarning: Objective did not converge. You might want to increase the number of iterations. Duality gap: 1203.4727385763545, tolerance: 723.1814390505625\n",
      "  positive)\n"
     ]
    },
    {
     "data": {
      "text/plain": [
       "(2.783866110632283, 0.011113422230659949)"
      ]
     },
     "execution_count": 127,
     "metadata": {},
     "output_type": "execute_result"
    }
   ],
   "source": [
    "las = Lasso(**las_mod.best_params_)\n",
    "mse = cross_val_score(las, x, y, cv=5, scoring='neg_mean_squared_error')\n",
    "rmse = np.sqrt(abs(mse))\n",
    "np.mean(rmse), np.std(rmse)"
   ]
  },
  {
   "cell_type": "code",
   "execution_count": null,
   "metadata": {},
   "outputs": [],
   "source": []
  },
  {
   "cell_type": "markdown",
   "metadata": {},
   "source": [
    "## Principal Component Analysis"
   ]
  },
  {
   "cell_type": "markdown",
   "metadata": {},
   "source": [
    "### Splitting in test and train"
   ]
  },
  {
   "cell_type": "code",
   "execution_count": 128,
   "metadata": {},
   "outputs": [],
   "source": [
    "from sklearn.model_selection import train_test_split"
   ]
  },
  {
   "cell_type": "code",
   "execution_count": 129,
   "metadata": {},
   "outputs": [
    {
     "data": {
      "text/plain": [
       "((126885, 34), (54380, 34), (126885, 1), (54380, 1))"
      ]
     },
     "execution_count": 129,
     "metadata": {},
     "output_type": "execute_result"
    }
   ],
   "source": [
    "xtrain, xtest, ytrain, ytest = train_test_split(x1, y, test_size=0.3, random_state=42)\n",
    "xtrain.shape, xtest.shape, ytrain.shape, ytest.shape"
   ]
  },
  {
   "cell_type": "markdown",
   "metadata": {},
   "source": [
    "### Scaling of Original Features"
   ]
  },
  {
   "cell_type": "code",
   "execution_count": 130,
   "metadata": {},
   "outputs": [
    {
     "data": {
      "text/html": [
       "<div>\n",
       "<style scoped>\n",
       "    .dataframe tbody tr th:only-of-type {\n",
       "        vertical-align: middle;\n",
       "    }\n",
       "\n",
       "    .dataframe tbody tr th {\n",
       "        vertical-align: top;\n",
       "    }\n",
       "\n",
       "    .dataframe thead th {\n",
       "        text-align: right;\n",
       "    }\n",
       "</style>\n",
       "<table border=\"1\" class=\"dataframe\">\n",
       "  <thead>\n",
       "    <tr style=\"text-align: right;\">\n",
       "      <th></th>\n",
       "      <th>potential</th>\n",
       "      <th>crossing</th>\n",
       "      <th>finishing</th>\n",
       "      <th>heading_accuracy</th>\n",
       "      <th>short_passing</th>\n",
       "      <th>volleys</th>\n",
       "      <th>dribbling</th>\n",
       "      <th>curve</th>\n",
       "      <th>free_kick_accuracy</th>\n",
       "      <th>long_passing</th>\n",
       "      <th>ball_control</th>\n",
       "      <th>acceleration</th>\n",
       "      <th>sprint_speed</th>\n",
       "      <th>agility</th>\n",
       "      <th>reactions</th>\n",
       "      <th>balance</th>\n",
       "      <th>shot_power</th>\n",
       "      <th>jumping</th>\n",
       "      <th>stamina</th>\n",
       "      <th>strength</th>\n",
       "      <th>long_shots</th>\n",
       "      <th>aggression</th>\n",
       "      <th>interceptions</th>\n",
       "      <th>positioning</th>\n",
       "      <th>vision</th>\n",
       "      <th>penalties</th>\n",
       "      <th>marking</th>\n",
       "      <th>standing_tackle</th>\n",
       "      <th>sliding_tackle</th>\n",
       "      <th>gk_diving</th>\n",
       "      <th>gk_handling</th>\n",
       "      <th>gk_kicking</th>\n",
       "      <th>gk_positioning</th>\n",
       "      <th>gk_reflexes</th>\n",
       "    </tr>\n",
       "  </thead>\n",
       "  <tbody>\n",
       "    <tr>\n",
       "      <th>0</th>\n",
       "      <td>0.841822</td>\n",
       "      <td>1.096358</td>\n",
       "      <td>1.054880</td>\n",
       "      <td>0.707694</td>\n",
       "      <td>0.324597</td>\n",
       "      <td>0.743081</td>\n",
       "      <td>1.372446</td>\n",
       "      <td>1.207476</td>\n",
       "      <td>0.653186</td>\n",
       "      <td>0.551547</td>\n",
       "      <td>0.980163</td>\n",
       "      <td>1.330148</td>\n",
       "      <td>0.867905</td>\n",
       "      <td>0.932097</td>\n",
       "      <td>0.312038</td>\n",
       "      <td>1.292984</td>\n",
       "      <td>0.812357</td>\n",
       "      <td>-0.090840</td>\n",
       "      <td>0.886514</td>\n",
       "      <td>0.628713</td>\n",
       "      <td>0.797116</td>\n",
       "      <td>-1.182488</td>\n",
       "      <td>-0.356903</td>\n",
       "      <td>1.097616</td>\n",
       "      <td>0.870617</td>\n",
       "      <td>1.033397</td>\n",
       "      <td>-0.555207</td>\n",
       "      <td>-0.993782</td>\n",
       "      <td>-0.696877</td>\n",
       "      <td>-0.338457</td>\n",
       "      <td>-0.566696</td>\n",
       "      <td>-0.596350</td>\n",
       "      <td>-0.003540</td>\n",
       "      <td>-0.021503</td>\n",
       "    </tr>\n",
       "    <tr>\n",
       "      <th>1</th>\n",
       "      <td>-1.910544</td>\n",
       "      <td>-1.342898</td>\n",
       "      <td>-1.362834</td>\n",
       "      <td>-0.309851</td>\n",
       "      <td>-1.403724</td>\n",
       "      <td>-1.504277</td>\n",
       "      <td>-1.597022</td>\n",
       "      <td>-1.642120</td>\n",
       "      <td>-0.245092</td>\n",
       "      <td>-1.333591</td>\n",
       "      <td>-2.678173</td>\n",
       "      <td>-0.205329</td>\n",
       "      <td>-0.004997</td>\n",
       "      <td>-1.318502</td>\n",
       "      <td>-2.017662</td>\n",
       "      <td>-0.479277</td>\n",
       "      <td>-1.337249</td>\n",
       "      <td>0.365465</td>\n",
       "      <td>-0.647824</td>\n",
       "      <td>-0.540371</td>\n",
       "      <td>-1.542118</td>\n",
       "      <td>0.436806</td>\n",
       "      <td>0.310297</td>\n",
       "      <td>-1.449402</td>\n",
       "      <td>-1.732389</td>\n",
       "      <td>-1.223553</td>\n",
       "      <td>0.527762</td>\n",
       "      <td>0.540329</td>\n",
       "      <td>0.598994</td>\n",
       "      <td>-0.457057</td>\n",
       "      <td>-0.503593</td>\n",
       "      <td>-0.690502</td>\n",
       "      <td>-0.127930</td>\n",
       "      <td>-0.544531</td>\n",
       "    </tr>\n",
       "    <tr>\n",
       "      <th>2</th>\n",
       "      <td>0.536003</td>\n",
       "      <td>-0.007115</td>\n",
       "      <td>-0.469331</td>\n",
       "      <td>0.468271</td>\n",
       "      <td>-0.140720</td>\n",
       "      <td>-0.572446</td>\n",
       "      <td>-0.717180</td>\n",
       "      <td>-0.272122</td>\n",
       "      <td>0.372474</td>\n",
       "      <td>-0.216472</td>\n",
       "      <td>-0.239283</td>\n",
       "      <td>0.715957</td>\n",
       "      <td>-0.322416</td>\n",
       "      <td>-0.232006</td>\n",
       "      <td>-0.797343</td>\n",
       "      <td>0.676545</td>\n",
       "      <td>-0.538824</td>\n",
       "      <td>-0.182101</td>\n",
       "      <td>0.228941</td>\n",
       "      <td>0.712219</td>\n",
       "      <td>-0.127697</td>\n",
       "      <td>0.748209</td>\n",
       "      <td>0.515589</td>\n",
       "      <td>0.880848</td>\n",
       "      <td>0.002948</td>\n",
       "      <td>0.130617</td>\n",
       "      <td>0.669019</td>\n",
       "      <td>0.958723</td>\n",
       "      <td>0.506432</td>\n",
       "      <td>-0.457057</td>\n",
       "      <td>0.316754</td>\n",
       "      <td>1.522063</td>\n",
       "      <td>0.307432</td>\n",
       "      <td>0.269069</td>\n",
       "    </tr>\n",
       "    <tr>\n",
       "      <th>3</th>\n",
       "      <td>1.453459</td>\n",
       "      <td>1.038280</td>\n",
       "      <td>0.529290</td>\n",
       "      <td>-0.549273</td>\n",
       "      <td>0.856388</td>\n",
       "      <td>0.359386</td>\n",
       "      <td>1.152485</td>\n",
       "      <td>0.659477</td>\n",
       "      <td>0.147905</td>\n",
       "      <td>0.411907</td>\n",
       "      <td>1.041135</td>\n",
       "      <td>1.330148</td>\n",
       "      <td>0.867905</td>\n",
       "      <td>1.242525</td>\n",
       "      <td>0.755790</td>\n",
       "      <td>1.061819</td>\n",
       "      <td>-0.293155</td>\n",
       "      <td>0.000421</td>\n",
       "      <td>0.521196</td>\n",
       "      <td>-2.377504</td>\n",
       "      <td>-0.073297</td>\n",
       "      <td>-0.995646</td>\n",
       "      <td>0.772204</td>\n",
       "      <td>0.772465</td>\n",
       "      <td>0.937361</td>\n",
       "      <td>0.195101</td>\n",
       "      <td>0.810276</td>\n",
       "      <td>0.912235</td>\n",
       "      <td>1.061805</td>\n",
       "      <td>-0.101256</td>\n",
       "      <td>-0.061867</td>\n",
       "      <td>-0.502199</td>\n",
       "      <td>-0.190124</td>\n",
       "      <td>-0.428302</td>\n",
       "    </tr>\n",
       "    <tr>\n",
       "      <th>4</th>\n",
       "      <td>0.841822</td>\n",
       "      <td>-0.239425</td>\n",
       "      <td>1.054880</td>\n",
       "      <td>-0.429562</td>\n",
       "      <td>0.125175</td>\n",
       "      <td>1.455657</td>\n",
       "      <td>0.877535</td>\n",
       "      <td>0.275878</td>\n",
       "      <td>-0.974943</td>\n",
       "      <td>-1.263771</td>\n",
       "      <td>0.736274</td>\n",
       "      <td>1.406921</td>\n",
       "      <td>1.582098</td>\n",
       "      <td>1.009704</td>\n",
       "      <td>1.088604</td>\n",
       "      <td>0.984765</td>\n",
       "      <td>0.996609</td>\n",
       "      <td>0.821770</td>\n",
       "      <td>0.813451</td>\n",
       "      <td>0.879231</td>\n",
       "      <td>1.123520</td>\n",
       "      <td>1.308734</td>\n",
       "      <td>-1.691304</td>\n",
       "      <td>0.989232</td>\n",
       "      <td>0.937361</td>\n",
       "      <td>-0.320773</td>\n",
       "      <td>-1.402749</td>\n",
       "      <td>-0.947294</td>\n",
       "      <td>-0.743158</td>\n",
       "      <td>-0.041955</td>\n",
       "      <td>-0.188074</td>\n",
       "      <td>-0.643426</td>\n",
       "      <td>-0.563291</td>\n",
       "      <td>-0.137731</td>\n",
       "    </tr>\n",
       "  </tbody>\n",
       "</table>\n",
       "</div>"
      ],
      "text/plain": [
       "   potential  crossing  finishing  heading_accuracy  short_passing   volleys  \\\n",
       "0   0.841822  1.096358   1.054880          0.707694       0.324597  0.743081   \n",
       "1  -1.910544 -1.342898  -1.362834         -0.309851      -1.403724 -1.504277   \n",
       "2   0.536003 -0.007115  -0.469331          0.468271      -0.140720 -0.572446   \n",
       "3   1.453459  1.038280   0.529290         -0.549273       0.856388  0.359386   \n",
       "4   0.841822 -0.239425   1.054880         -0.429562       0.125175  1.455657   \n",
       "\n",
       "   dribbling     curve  free_kick_accuracy  long_passing  ball_control  \\\n",
       "0   1.372446  1.207476            0.653186      0.551547      0.980163   \n",
       "1  -1.597022 -1.642120           -0.245092     -1.333591     -2.678173   \n",
       "2  -0.717180 -0.272122            0.372474     -0.216472     -0.239283   \n",
       "3   1.152485  0.659477            0.147905      0.411907      1.041135   \n",
       "4   0.877535  0.275878           -0.974943     -1.263771      0.736274   \n",
       "\n",
       "   acceleration  sprint_speed   agility  reactions   balance  shot_power  \\\n",
       "0      1.330148      0.867905  0.932097   0.312038  1.292984    0.812357   \n",
       "1     -0.205329     -0.004997 -1.318502  -2.017662 -0.479277   -1.337249   \n",
       "2      0.715957     -0.322416 -0.232006  -0.797343  0.676545   -0.538824   \n",
       "3      1.330148      0.867905  1.242525   0.755790  1.061819   -0.293155   \n",
       "4      1.406921      1.582098  1.009704   1.088604  0.984765    0.996609   \n",
       "\n",
       "    jumping   stamina  strength  long_shots  aggression  interceptions  \\\n",
       "0 -0.090840  0.886514  0.628713    0.797116   -1.182488      -0.356903   \n",
       "1  0.365465 -0.647824 -0.540371   -1.542118    0.436806       0.310297   \n",
       "2 -0.182101  0.228941  0.712219   -0.127697    0.748209       0.515589   \n",
       "3  0.000421  0.521196 -2.377504   -0.073297   -0.995646       0.772204   \n",
       "4  0.821770  0.813451  0.879231    1.123520    1.308734      -1.691304   \n",
       "\n",
       "   positioning    vision  penalties   marking  standing_tackle  \\\n",
       "0     1.097616  0.870617   1.033397 -0.555207        -0.993782   \n",
       "1    -1.449402 -1.732389  -1.223553  0.527762         0.540329   \n",
       "2     0.880848  0.002948   0.130617  0.669019         0.958723   \n",
       "3     0.772465  0.937361   0.195101  0.810276         0.912235   \n",
       "4     0.989232  0.937361  -0.320773 -1.402749        -0.947294   \n",
       "\n",
       "   sliding_tackle  gk_diving  gk_handling  gk_kicking  gk_positioning  \\\n",
       "0       -0.696877  -0.338457    -0.566696   -0.596350       -0.003540   \n",
       "1        0.598994  -0.457057    -0.503593   -0.690502       -0.127930   \n",
       "2        0.506432  -0.457057     0.316754    1.522063        0.307432   \n",
       "3        1.061805  -0.101256    -0.061867   -0.502199       -0.190124   \n",
       "4       -0.743158  -0.041955    -0.188074   -0.643426       -0.563291   \n",
       "\n",
       "   gk_reflexes  \n",
       "0    -0.021503  \n",
       "1    -0.544531  \n",
       "2     0.269069  \n",
       "3    -0.428302  \n",
       "4    -0.137731  "
      ]
     },
     "execution_count": 130,
     "metadata": {},
     "output_type": "execute_result"
    }
   ],
   "source": [
    "st = StandardScaler()\n",
    "\n",
    "xtrain = pd.DataFrame(st.fit_transform(xtrain), columns = xtrain.columns)\n",
    "\n",
    "xtest = pd.DataFrame(st.transform(xtest), columns = xtest.columns)\n",
    "\n",
    "xtrain.head()"
   ]
  },
  {
   "cell_type": "markdown",
   "metadata": {},
   "source": [
    "### Creating covariance matrix"
   ]
  },
  {
   "cell_type": "code",
   "execution_count": 131,
   "metadata": {},
   "outputs": [
    {
     "data": {
      "text/plain": [
       "(34, 34)"
      ]
     },
     "execution_count": 131,
     "metadata": {},
     "output_type": "execute_result"
    }
   ],
   "source": [
    "cov_matrix =  np.cov(xtrain.T)  # We use transpose, because np.cov function will by default take rows for finding covariance\n",
    "cov_matrix.shape"
   ]
  },
  {
   "cell_type": "markdown",
   "metadata": {},
   "source": [
    "### Eigen Values and Eigen Vectors"
   ]
  },
  {
   "cell_type": "code",
   "execution_count": 132,
   "metadata": {},
   "outputs": [
    {
     "data": {
      "text/plain": [
       "((34,), (34, 34))"
      ]
     },
     "execution_count": 132,
     "metadata": {},
     "output_type": "execute_result"
    }
   ],
   "source": [
    "eig_vals, eig_vecs = np.linalg.eig(cov_matrix) \n",
    "eig_vals.shape, eig_vecs.shape"
   ]
  },
  {
   "cell_type": "code",
   "execution_count": 133,
   "metadata": {},
   "outputs": [
    {
     "data": {
      "text/plain": [
       "array([15.61851576,  5.52612424,  2.6126341 ,  1.91242708,  1.54133722,\n",
       "        0.7978193 ,  0.67199495,  0.56188824,  0.45491045,  0.39633581,\n",
       "        0.36696176,  0.32293978,  0.31125896,  0.28845337,  0.28142193,\n",
       "        0.24376389,  0.03231196,  0.03382161,  0.03905587,  0.04911375,\n",
       "        0.05598123,  0.05956025,  0.08573219,  0.09013168,  0.10376699,\n",
       "        0.12734935,  0.13162569,  0.22754096,  0.20861419,  0.15088205,\n",
       "        0.16236346,  0.18555935,  0.17272657,  0.17534398])"
      ]
     },
     "execution_count": 133,
     "metadata": {},
     "output_type": "execute_result"
    }
   ],
   "source": [
    "# Array of eigen values. But this is not in sorted order.\n",
    "eig_vals"
   ]
  },
  {
   "cell_type": "code",
   "execution_count": 134,
   "metadata": {},
   "outputs": [],
   "source": [
    "# Fetching eigen values and their cooresponding eigen vectors so that we can later sort them on the basis of eigen values\n",
    "\n",
    "# Fetching eigen vector. they are columns\n",
    "eigen_pairs = [(np.abs(eig_vals[i]), eig_vecs[ :, i]) for i in range(eig_vecs.shape[0])]"
   ]
  },
  {
   "cell_type": "code",
   "execution_count": 135,
   "metadata": {},
   "outputs": [],
   "source": [
    "eigen_pairs_sorted=sorted(eigen_pairs,reverse=True)"
   ]
  },
  {
   "cell_type": "markdown",
   "metadata": {},
   "source": [
    "### Cumulative sum of eigen values"
   ]
  },
  {
   "cell_type": "code",
   "execution_count": 136,
   "metadata": {},
   "outputs": [
    {
     "name": "stdout",
     "output_type": "stream",
     "text": [
      "Variance of each eigen vector:\n",
      " [45.936, 16.253, 7.684, 5.625, 4.533, 2.347, 1.976, 1.653, 1.338, 1.166, 1.079, 0.95, 0.915, 0.848, 0.828, 0.717, 0.669, 0.614, 0.546, 0.516, 0.508, 0.478, 0.444, 0.387, 0.375, 0.305, 0.265, 0.252, 0.175, 0.165, 0.144, 0.115, 0.099, 0.095]\n",
      "\n",
      "Cumulative Variance Explained [ 45.936  62.189  69.873  75.498  80.031  82.378  84.354  86.007  87.345\n",
      "  88.511  89.59   90.54   91.455  92.303  93.131  93.848  94.517  95.131\n",
      "  95.677  96.193  96.701  97.179  97.623  98.01   98.385  98.69   98.955\n",
      "  99.207  99.382  99.547  99.691  99.806  99.905 100.   ]\n"
     ]
    }
   ],
   "source": [
    "# Total sum of eigen value\n",
    "tot = sum(eig_vals)\n",
    "\n",
    "# List contain percenatage wise eigen value contain\n",
    "var_exp = [round(( i /tot )*100,3) for i in sorted(eig_vals, reverse=True)]\n",
    "print('Variance of each eigen vector:\\n',var_exp)\n",
    "\n",
    "# List contains cumulative eigen value for each eigen vector starting from the first eigen vector's eigen value\n",
    "cum_var_exp = np.cumsum(var_exp)\n",
    "print(\"\\nCumulative Variance Explained\", cum_var_exp)\n",
    "# The last 4 features are contributing very less amount, similar to 1.4% of total variance"
   ]
  },
  {
   "cell_type": "code",
   "execution_count": 137,
   "metadata": {},
   "outputs": [
    {
     "name": "stderr",
     "output_type": "stream",
     "text": [
      "C:\\Users\\Divyajeet\\anaconda3\\lib\\site-packages\\seaborn\\_decorators.py:43: FutureWarning: Pass the following variables as keyword args: x, y. From version 0.12, the only valid positional argument will be `data`, and passing other arguments without an explicit keyword will result in an error or misinterpretation.\n",
      "  FutureWarning\n"
     ]
    },
    {
     "data": {
      "text/plain": [
       "<AxesSubplot:>"
      ]
     },
     "execution_count": 137,
     "metadata": {},
     "output_type": "execute_result"
    },
    {
     "data": {
      "image/png": "[encoded data removed]",
      "text/plain": [
       "<Figure size 1080x432 with 1 Axes>"
      ]
     },
     "metadata": {
      "needs_background": "light"
     },
     "output_type": "display_data"
    }
   ],
   "source": [
    "plt.figure(figsize=(15,6))\n",
    "sns.barplot(np.arange(1,cum_var_exp.shape[0]+1) , cum_var_exp)"
   ]
  },
  {
   "cell_type": "markdown",
   "metadata": {},
   "source": [
    "Around 18 PCA are able to explain 95% of the total variance."
   ]
  },
  {
   "cell_type": "markdown",
   "metadata": {},
   "source": [
    "### Extracting Eigen values and eigen vector back"
   ]
  },
  {
   "cell_type": "code",
   "execution_count": 138,
   "metadata": {},
   "outputs": [],
   "source": [
    "# Extract the eigenvalues and eigenvectors from the eigen pair (sorted)\n",
    "eigvalues_sort = [eigen_pairs_sorted[j][0] for j in range(len(eig_vals))]\n",
    "eigvectors_sort = [eigen_pairs_sorted[j][1] for j in range(len(eig_vals))]\n",
    "\n",
    "# Here the aigen vectors are row wise. we have to again change them to columns-wise"
   ]
  },
  {
   "cell_type": "code",
   "execution_count": 139,
   "metadata": {},
   "outputs": [],
   "source": [
    "# Eigen vectors columns wise\n",
    "eig_vect =  np.array(eigvectors_sort).transpose()"
   ]
  },
  {
   "cell_type": "markdown",
   "metadata": {},
   "source": [
    "Since we got our eigen vectors for PCA, we can check that which original feature is given most importance for PCA1"
   ]
  },
  {
   "cell_type": "markdown",
   "metadata": {},
   "source": [
    "### Top 5 features impacting PCA1"
   ]
  },
  {
   "cell_type": "code",
   "execution_count": 140,
   "metadata": {},
   "outputs": [
    {
     "data": {
      "text/html": [
       "<div>\n",
       "<style scoped>\n",
       "    .dataframe tbody tr th:only-of-type {\n",
       "        vertical-align: middle;\n",
       "    }\n",
       "\n",
       "    .dataframe tbody tr th {\n",
       "        vertical-align: top;\n",
       "    }\n",
       "\n",
       "    .dataframe thead th {\n",
       "        text-align: right;\n",
       "    }\n",
       "</style>\n",
       "<table border=\"1\" class=\"dataframe\">\n",
       "  <thead>\n",
       "    <tr style=\"text-align: right;\">\n",
       "      <th></th>\n",
       "      <th>feature</th>\n",
       "      <th>PCA1_weight</th>\n",
       "      <th>PCA1_abs</th>\n",
       "    </tr>\n",
       "  </thead>\n",
       "  <tbody>\n",
       "    <tr>\n",
       "      <th>10</th>\n",
       "      <td>ball_control</td>\n",
       "      <td>-0.240190</td>\n",
       "      <td>0.240190</td>\n",
       "    </tr>\n",
       "    <tr>\n",
       "      <th>4</th>\n",
       "      <td>short_passing</td>\n",
       "      <td>-0.229521</td>\n",
       "      <td>0.229521</td>\n",
       "    </tr>\n",
       "    <tr>\n",
       "      <th>6</th>\n",
       "      <td>dribbling</td>\n",
       "      <td>-0.227534</td>\n",
       "      <td>0.227534</td>\n",
       "    </tr>\n",
       "    <tr>\n",
       "      <th>1</th>\n",
       "      <td>crossing</td>\n",
       "      <td>-0.214932</td>\n",
       "      <td>0.214932</td>\n",
       "    </tr>\n",
       "    <tr>\n",
       "      <th>20</th>\n",
       "      <td>long_shots</td>\n",
       "      <td>-0.212150</td>\n",
       "      <td>0.212150</td>\n",
       "    </tr>\n",
       "  </tbody>\n",
       "</table>\n",
       "</div>"
      ],
      "text/plain": [
       "          feature  PCA1_weight  PCA1_abs\n",
       "10   ball_control    -0.240190  0.240190\n",
       "4   short_passing    -0.229521  0.229521\n",
       "6       dribbling    -0.227534  0.227534\n",
       "1        crossing    -0.214932  0.214932\n",
       "20     long_shots    -0.212150  0.212150"
      ]
     },
     "execution_count": 140,
     "metadata": {},
     "output_type": "execute_result"
    }
   ],
   "source": [
    "feat_importance =  pd.DataFrame({'feature':xtrain.columns , 'PCA1_weight':eig_vect[:,0], 'PCA1_abs':abs(eig_vect[:,0])})\n",
    "feat_importance.sort_values(by='PCA1_abs', ascending=False).head()"
   ]
  },
  {
   "cell_type": "markdown",
   "metadata": {},
   "source": [
    "### Transforming data in PCA space."
   ]
  },
  {
   "cell_type": "code",
   "execution_count": 141,
   "metadata": {},
   "outputs": [
    {
     "data": {
      "text/plain": [
       "array([-3.61905911,  2.47866668,  0.34270108,  0.06127944,  0.64656724,\n",
       "        0.29208221,  0.25026785,  0.0670028 ,  0.05773125,  0.58907415,\n",
       "        0.1902463 , -0.39683313, -0.25878998,  0.46292949,  1.23130356,\n",
       "        0.16371042,  0.28899747,  0.43768136,  0.27343957, -0.09731527,\n",
       "        0.01596933, -0.73868431,  0.26921172, -0.02229451, -0.09696828,\n",
       "       -0.05727352, -0.49196716, -0.23384362, -0.08055713, -0.05642752,\n",
       "       -0.17227232, -0.36136215,  0.42019134, -0.23348673])"
      ]
     },
     "execution_count": 141,
     "metadata": {},
     "output_type": "execute_result"
    }
   ],
   "source": [
    "xtrain_pca = np.dot(xtrain, eig_vect)\n",
    "\n",
    "xtest_pca = np.dot(xtest, eig_vect)\n",
    "\n",
    "xtrain_pca[0]  # Values of 1st record on PCA scale."
   ]
  },
  {
   "cell_type": "markdown",
   "metadata": {},
   "source": [
    "### Importing PCA"
   ]
  },
  {
   "cell_type": "code",
   "execution_count": 142,
   "metadata": {},
   "outputs": [],
   "source": [
    "from sklearn.decomposition import PCA"
   ]
  },
  {
   "cell_type": "code",
   "execution_count": 143,
   "metadata": {},
   "outputs": [
    {
     "data": {
      "text/plain": [
       "array([-3.61905911, -2.47866668,  0.34270108, -0.06127944, -0.64656724,\n",
       "        0.29208221,  0.25026785, -0.0670028 ,  0.05773125,  0.58907415,\n",
       "        0.1902463 ,  0.39683313,  0.25878998, -0.46292949, -1.23130356,\n",
       "       -0.16371042, -0.28899747,  0.43768136,  0.27343957,  0.09731527,\n",
       "        0.01596933,  0.73868431,  0.26921172,  0.02229451,  0.09696828,\n",
       "        0.05727352,  0.49196716,  0.23384362, -0.08055713, -0.05642752,\n",
       "       -0.17227232,  0.36136215, -0.42019134, -0.23348673])"
      ]
     },
     "execution_count": 143,
     "metadata": {},
     "output_type": "execute_result"
    }
   ],
   "source": [
    "pc = PCA()\n",
    "xtr_pca = pc.fit_transform(xtrain)\n",
    "xtt_pca = pc.transform(xtest)\n",
    "xtr_pca[0]"
   ]
  },
  {
   "cell_type": "markdown",
   "metadata": {},
   "source": [
    "`As we can see that`, values of the record using manual calculation and using PCA are exactly same."
   ]
  },
  {
   "cell_type": "code",
   "execution_count": null,
   "metadata": {},
   "outputs": [],
   "source": []
  },
  {
   "cell_type": "markdown",
   "metadata": {},
   "source": [
    "### Creating LR model"
   ]
  },
  {
   "cell_type": "markdown",
   "metadata": {},
   "source": [
    "#### Using all PCA Model"
   ]
  },
  {
   "cell_type": "code",
   "execution_count": 144,
   "metadata": {},
   "outputs": [
    {
     "name": "stdout",
     "output_type": "stream",
     "text": [
      "Train R2:  0.8420593072224919\n",
      "Test R2:  0.8404976864871081\n",
      "Train RMSE:  2.8000395840664027\n",
      "Test R2:  2.792810361595036\n"
     ]
    }
   ],
   "source": [
    "lr = LinearRegression()\n",
    "lr.fit(xtrain_pca, ytrain)\n",
    "\n",
    "ytrain_pred = lr.predict(xtrain_pca)\n",
    "ytest_pred = lr.predict(xtest_pca)\n",
    "\n",
    "print('Train R2: ',r2_score(ytrain, ytrain_pred))\n",
    "print('Test R2: ',r2_score(ytest, ytest_pred))\n",
    "\n",
    "print('Train RMSE: ',mean_squared_error(ytrain, ytrain_pred)**0.5)\n",
    "print('Test R2: ',mean_squared_error(ytest, ytest_pred)**0.5)"
   ]
  },
  {
   "cell_type": "markdown",
   "metadata": {},
   "source": [
    "#### Using only 18 PCA components"
   ]
  },
  {
   "cell_type": "code",
   "execution_count": 145,
   "metadata": {},
   "outputs": [
    {
     "name": "stdout",
     "output_type": "stream",
     "text": [
      "Train R2:  0.8277872643410717\n",
      "Test R2:  0.8262290575208309\n",
      "Train RMSE:  2.9238142911318636\n",
      "Test R2:  2.9150535151565866\n"
     ]
    }
   ],
   "source": [
    "lr = LinearRegression()\n",
    "lr.fit(xtrain_pca[:,:18], ytrain)\n",
    "\n",
    "ytrain_pred = lr.predict(xtrain_pca[:,:18])\n",
    "ytest_pred = lr.predict(xtest_pca[:,:18])\n",
    "\n",
    "print('Train R2: ',r2_score(ytrain, ytrain_pred))\n",
    "print('Test R2: ',r2_score(ytest, ytest_pred))\n",
    "\n",
    "print('Train RMSE: ',mean_squared_error(ytrain, ytrain_pred)**0.5)\n",
    "print('Test R2: ',mean_squared_error(ytest, ytest_pred)**0.5)"
   ]
  },
  {
   "cell_type": "markdown",
   "metadata": {},
   "source": [
    "### Conclusion\n",
    "#### After using regularization and PCA the result is not getting improve, since the already the model is very rightly fit."
   ]
  }
 ],
 "metadata": {
  "kernelspec": {
   "display_name": "Python 3",
   "language": "python",
   "name": "python3"
  },
  "language_info": {
   "codemirror_mode": {
    "name": "ipython",
    "version": 3
   },
   "file_extension": ".py",
   "mimetype": "text/x-python",
   "name": "python",
   "nbconvert_exporter": "python",
   "pygments_lexer": "ipython3",
   "version": "3.7.9"
  }
 },
 "nbformat": 4,
 "nbformat_minor": 4
}
