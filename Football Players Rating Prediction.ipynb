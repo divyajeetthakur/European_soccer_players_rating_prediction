{
 "cells": [
  {
   "cell_type": "code",
   "execution_count": 1,
   "metadata": {},
   "outputs": [],
   "source": [
    "import sqlite3\n",
    "import pandas as pd\n",
    "import numpy as np\n",
    "import matplotlib.pyplot as plt\n",
    "import seaborn as sns\n",
    "pd.set_option('display.max_columns',None)"
   ]
  },
  {
   "cell_type": "markdown",
   "metadata": {},
   "source": [
    "## Importing Data Set"
   ]
  },
  {
   "cell_type": "raw",
   "metadata": {},
   "source": [
    "con = sqlite3.connect(r\"C:\\Users\\Divyajeet\\Documents\\Ankur Proj\\Data Set\\database.sqlite\")\n",
    "tables = pd.read_sql(\"\"\"SELECT * FROM sqlite_master WHERE type='table';\"\"\", con)\n",
    "print(\"Connection Successful\",con)"
   ]
  },
  {
   "cell_type": "raw",
   "metadata": {},
   "source": [
    "df = pd.read_sql_query(\"SELECT * FROM Player_Attributes\", con)"
   ]
  },
  {
   "cell_type": "code",
   "execution_count": 2,
   "metadata": {},
   "outputs": [
    {
     "data": {
      "text/html": [
       "<div>\n",
       "<style scoped>\n",
       "    .dataframe tbody tr th:only-of-type {\n",
       "        vertical-align: middle;\n",
       "    }\n",
       "\n",
       "    .dataframe tbody tr th {\n",
       "        vertical-align: top;\n",
       "    }\n",
       "\n",
       "    .dataframe thead th {\n",
       "        text-align: right;\n",
       "    }\n",
       "</style>\n",
       "<table border=\"1\" class=\"dataframe\">\n",
       "  <thead>\n",
       "    <tr style=\"text-align: right;\">\n",
       "      <th></th>\n",
       "      <th>id</th>\n",
       "      <th>player_fifa_api_id</th>\n",
       "      <th>player_api_id</th>\n",
       "      <th>date</th>\n",
       "      <th>overall_rating</th>\n",
       "      <th>potential</th>\n",
       "      <th>preferred_foot</th>\n",
       "      <th>attacking_work_rate</th>\n",
       "      <th>defensive_work_rate</th>\n",
       "      <th>crossing</th>\n",
       "      <th>finishing</th>\n",
       "      <th>heading_accuracy</th>\n",
       "      <th>short_passing</th>\n",
       "      <th>volleys</th>\n",
       "      <th>dribbling</th>\n",
       "      <th>curve</th>\n",
       "      <th>free_kick_accuracy</th>\n",
       "      <th>long_passing</th>\n",
       "      <th>ball_control</th>\n",
       "      <th>acceleration</th>\n",
       "      <th>sprint_speed</th>\n",
       "      <th>agility</th>\n",
       "      <th>reactions</th>\n",
       "      <th>balance</th>\n",
       "      <th>shot_power</th>\n",
       "      <th>jumping</th>\n",
       "      <th>stamina</th>\n",
       "      <th>strength</th>\n",
       "      <th>long_shots</th>\n",
       "      <th>aggression</th>\n",
       "      <th>interceptions</th>\n",
       "      <th>positioning</th>\n",
       "      <th>vision</th>\n",
       "      <th>penalties</th>\n",
       "      <th>marking</th>\n",
       "      <th>standing_tackle</th>\n",
       "      <th>sliding_tackle</th>\n",
       "      <th>gk_diving</th>\n",
       "      <th>gk_handling</th>\n",
       "      <th>gk_kicking</th>\n",
       "      <th>gk_positioning</th>\n",
       "      <th>gk_reflexes</th>\n",
       "    </tr>\n",
       "  </thead>\n",
       "  <tbody>\n",
       "    <tr>\n",
       "      <th>0</th>\n",
       "      <td>1</td>\n",
       "      <td>218353</td>\n",
       "      <td>505942</td>\n",
       "      <td>2016-02-18 00:00:00</td>\n",
       "      <td>67.0</td>\n",
       "      <td>71.0</td>\n",
       "      <td>right</td>\n",
       "      <td>medium</td>\n",
       "      <td>medium</td>\n",
       "      <td>49.0</td>\n",
       "      <td>44.0</td>\n",
       "      <td>71.0</td>\n",
       "      <td>61.0</td>\n",
       "      <td>44.0</td>\n",
       "      <td>51.0</td>\n",
       "      <td>45.0</td>\n",
       "      <td>39.0</td>\n",
       "      <td>64.0</td>\n",
       "      <td>49.0</td>\n",
       "      <td>60.0</td>\n",
       "      <td>64.0</td>\n",
       "      <td>59.0</td>\n",
       "      <td>47.0</td>\n",
       "      <td>65.0</td>\n",
       "      <td>55.0</td>\n",
       "      <td>58.0</td>\n",
       "      <td>54.0</td>\n",
       "      <td>76.0</td>\n",
       "      <td>35.0</td>\n",
       "      <td>71.0</td>\n",
       "      <td>70.0</td>\n",
       "      <td>45.0</td>\n",
       "      <td>54.0</td>\n",
       "      <td>48.0</td>\n",
       "      <td>65.0</td>\n",
       "      <td>69.0</td>\n",
       "      <td>69.0</td>\n",
       "      <td>6.0</td>\n",
       "      <td>11.0</td>\n",
       "      <td>10.0</td>\n",
       "      <td>8.0</td>\n",
       "      <td>8.0</td>\n",
       "    </tr>\n",
       "    <tr>\n",
       "      <th>1</th>\n",
       "      <td>2</td>\n",
       "      <td>218353</td>\n",
       "      <td>505942</td>\n",
       "      <td>2015-11-19 00:00:00</td>\n",
       "      <td>67.0</td>\n",
       "      <td>71.0</td>\n",
       "      <td>right</td>\n",
       "      <td>medium</td>\n",
       "      <td>medium</td>\n",
       "      <td>49.0</td>\n",
       "      <td>44.0</td>\n",
       "      <td>71.0</td>\n",
       "      <td>61.0</td>\n",
       "      <td>44.0</td>\n",
       "      <td>51.0</td>\n",
       "      <td>45.0</td>\n",
       "      <td>39.0</td>\n",
       "      <td>64.0</td>\n",
       "      <td>49.0</td>\n",
       "      <td>60.0</td>\n",
       "      <td>64.0</td>\n",
       "      <td>59.0</td>\n",
       "      <td>47.0</td>\n",
       "      <td>65.0</td>\n",
       "      <td>55.0</td>\n",
       "      <td>58.0</td>\n",
       "      <td>54.0</td>\n",
       "      <td>76.0</td>\n",
       "      <td>35.0</td>\n",
       "      <td>71.0</td>\n",
       "      <td>70.0</td>\n",
       "      <td>45.0</td>\n",
       "      <td>54.0</td>\n",
       "      <td>48.0</td>\n",
       "      <td>65.0</td>\n",
       "      <td>69.0</td>\n",
       "      <td>69.0</td>\n",
       "      <td>6.0</td>\n",
       "      <td>11.0</td>\n",
       "      <td>10.0</td>\n",
       "      <td>8.0</td>\n",
       "      <td>8.0</td>\n",
       "    </tr>\n",
       "    <tr>\n",
       "      <th>2</th>\n",
       "      <td>3</td>\n",
       "      <td>218353</td>\n",
       "      <td>505942</td>\n",
       "      <td>2015-09-21 00:00:00</td>\n",
       "      <td>62.0</td>\n",
       "      <td>66.0</td>\n",
       "      <td>right</td>\n",
       "      <td>medium</td>\n",
       "      <td>medium</td>\n",
       "      <td>49.0</td>\n",
       "      <td>44.0</td>\n",
       "      <td>71.0</td>\n",
       "      <td>61.0</td>\n",
       "      <td>44.0</td>\n",
       "      <td>51.0</td>\n",
       "      <td>45.0</td>\n",
       "      <td>39.0</td>\n",
       "      <td>64.0</td>\n",
       "      <td>49.0</td>\n",
       "      <td>60.0</td>\n",
       "      <td>64.0</td>\n",
       "      <td>59.0</td>\n",
       "      <td>47.0</td>\n",
       "      <td>65.0</td>\n",
       "      <td>55.0</td>\n",
       "      <td>58.0</td>\n",
       "      <td>54.0</td>\n",
       "      <td>76.0</td>\n",
       "      <td>35.0</td>\n",
       "      <td>63.0</td>\n",
       "      <td>41.0</td>\n",
       "      <td>45.0</td>\n",
       "      <td>54.0</td>\n",
       "      <td>48.0</td>\n",
       "      <td>65.0</td>\n",
       "      <td>66.0</td>\n",
       "      <td>69.0</td>\n",
       "      <td>6.0</td>\n",
       "      <td>11.0</td>\n",
       "      <td>10.0</td>\n",
       "      <td>8.0</td>\n",
       "      <td>8.0</td>\n",
       "    </tr>\n",
       "    <tr>\n",
       "      <th>3</th>\n",
       "      <td>4</td>\n",
       "      <td>218353</td>\n",
       "      <td>505942</td>\n",
       "      <td>2015-03-20 00:00:00</td>\n",
       "      <td>61.0</td>\n",
       "      <td>65.0</td>\n",
       "      <td>right</td>\n",
       "      <td>medium</td>\n",
       "      <td>medium</td>\n",
       "      <td>48.0</td>\n",
       "      <td>43.0</td>\n",
       "      <td>70.0</td>\n",
       "      <td>60.0</td>\n",
       "      <td>43.0</td>\n",
       "      <td>50.0</td>\n",
       "      <td>44.0</td>\n",
       "      <td>38.0</td>\n",
       "      <td>63.0</td>\n",
       "      <td>48.0</td>\n",
       "      <td>60.0</td>\n",
       "      <td>64.0</td>\n",
       "      <td>59.0</td>\n",
       "      <td>46.0</td>\n",
       "      <td>65.0</td>\n",
       "      <td>54.0</td>\n",
       "      <td>58.0</td>\n",
       "      <td>54.0</td>\n",
       "      <td>76.0</td>\n",
       "      <td>34.0</td>\n",
       "      <td>62.0</td>\n",
       "      <td>40.0</td>\n",
       "      <td>44.0</td>\n",
       "      <td>53.0</td>\n",
       "      <td>47.0</td>\n",
       "      <td>62.0</td>\n",
       "      <td>63.0</td>\n",
       "      <td>66.0</td>\n",
       "      <td>5.0</td>\n",
       "      <td>10.0</td>\n",
       "      <td>9.0</td>\n",
       "      <td>7.0</td>\n",
       "      <td>7.0</td>\n",
       "    </tr>\n",
       "    <tr>\n",
       "      <th>4</th>\n",
       "      <td>5</td>\n",
       "      <td>218353</td>\n",
       "      <td>505942</td>\n",
       "      <td>2007-02-22 00:00:00</td>\n",
       "      <td>61.0</td>\n",
       "      <td>65.0</td>\n",
       "      <td>right</td>\n",
       "      <td>medium</td>\n",
       "      <td>medium</td>\n",
       "      <td>48.0</td>\n",
       "      <td>43.0</td>\n",
       "      <td>70.0</td>\n",
       "      <td>60.0</td>\n",
       "      <td>43.0</td>\n",
       "      <td>50.0</td>\n",
       "      <td>44.0</td>\n",
       "      <td>38.0</td>\n",
       "      <td>63.0</td>\n",
       "      <td>48.0</td>\n",
       "      <td>60.0</td>\n",
       "      <td>64.0</td>\n",
       "      <td>59.0</td>\n",
       "      <td>46.0</td>\n",
       "      <td>65.0</td>\n",
       "      <td>54.0</td>\n",
       "      <td>58.0</td>\n",
       "      <td>54.0</td>\n",
       "      <td>76.0</td>\n",
       "      <td>34.0</td>\n",
       "      <td>62.0</td>\n",
       "      <td>40.0</td>\n",
       "      <td>44.0</td>\n",
       "      <td>53.0</td>\n",
       "      <td>47.0</td>\n",
       "      <td>62.0</td>\n",
       "      <td>63.0</td>\n",
       "      <td>66.0</td>\n",
       "      <td>5.0</td>\n",
       "      <td>10.0</td>\n",
       "      <td>9.0</td>\n",
       "      <td>7.0</td>\n",
       "      <td>7.0</td>\n",
       "    </tr>\n",
       "  </tbody>\n",
       "</table>\n",
       "</div>"
      ],
      "text/plain": [
       "   id  player_fifa_api_id  player_api_id                 date  overall_rating  \\\n",
       "0   1              218353         505942  2016-02-18 00:00:00            67.0   \n",
       "1   2              218353         505942  2015-11-19 00:00:00            67.0   \n",
       "2   3              218353         505942  2015-09-21 00:00:00            62.0   \n",
       "3   4              218353         505942  2015-03-20 00:00:00            61.0   \n",
       "4   5              218353         505942  2007-02-22 00:00:00            61.0   \n",
       "\n",
       "   potential preferred_foot attacking_work_rate defensive_work_rate  crossing  \\\n",
       "0       71.0          right              medium              medium      49.0   \n",
       "1       71.0          right              medium              medium      49.0   \n",
       "2       66.0          right              medium              medium      49.0   \n",
       "3       65.0          right              medium              medium      48.0   \n",
       "4       65.0          right              medium              medium      48.0   \n",
       "\n",
       "   finishing  heading_accuracy  short_passing  volleys  dribbling  curve  \\\n",
       "0       44.0              71.0           61.0     44.0       51.0   45.0   \n",
       "1       44.0              71.0           61.0     44.0       51.0   45.0   \n",
       "2       44.0              71.0           61.0     44.0       51.0   45.0   \n",
       "3       43.0              70.0           60.0     43.0       50.0   44.0   \n",
       "4       43.0              70.0           60.0     43.0       50.0   44.0   \n",
       "\n",
       "   free_kick_accuracy  long_passing  ball_control  acceleration  sprint_speed  \\\n",
       "0                39.0          64.0          49.0          60.0          64.0   \n",
       "1                39.0          64.0          49.0          60.0          64.0   \n",
       "2                39.0          64.0          49.0          60.0          64.0   \n",
       "3                38.0          63.0          48.0          60.0          64.0   \n",
       "4                38.0          63.0          48.0          60.0          64.0   \n",
       "\n",
       "   agility  reactions  balance  shot_power  jumping  stamina  strength  \\\n",
       "0     59.0       47.0     65.0        55.0     58.0     54.0      76.0   \n",
       "1     59.0       47.0     65.0        55.0     58.0     54.0      76.0   \n",
       "2     59.0       47.0     65.0        55.0     58.0     54.0      76.0   \n",
       "3     59.0       46.0     65.0        54.0     58.0     54.0      76.0   \n",
       "4     59.0       46.0     65.0        54.0     58.0     54.0      76.0   \n",
       "\n",
       "   long_shots  aggression  interceptions  positioning  vision  penalties  \\\n",
       "0        35.0        71.0           70.0         45.0    54.0       48.0   \n",
       "1        35.0        71.0           70.0         45.0    54.0       48.0   \n",
       "2        35.0        63.0           41.0         45.0    54.0       48.0   \n",
       "3        34.0        62.0           40.0         44.0    53.0       47.0   \n",
       "4        34.0        62.0           40.0         44.0    53.0       47.0   \n",
       "\n",
       "   marking  standing_tackle  sliding_tackle  gk_diving  gk_handling  \\\n",
       "0     65.0             69.0            69.0        6.0         11.0   \n",
       "1     65.0             69.0            69.0        6.0         11.0   \n",
       "2     65.0             66.0            69.0        6.0         11.0   \n",
       "3     62.0             63.0            66.0        5.0         10.0   \n",
       "4     62.0             63.0            66.0        5.0         10.0   \n",
       "\n",
       "   gk_kicking  gk_positioning  gk_reflexes  \n",
       "0        10.0             8.0          8.0  \n",
       "1        10.0             8.0          8.0  \n",
       "2        10.0             8.0          8.0  \n",
       "3         9.0             7.0          7.0  \n",
       "4         9.0             7.0          7.0  "
      ]
     },
     "execution_count": 2,
     "metadata": {},
     "output_type": "execute_result"
    }
   ],
   "source": [
    "df = pd.read_csv('players.csv')\n",
    "df.head()"
   ]
  },
  {
   "cell_type": "code",
   "execution_count": null,
   "metadata": {},
   "outputs": [],
   "source": []
  },
  {
   "cell_type": "markdown",
   "metadata": {},
   "source": [
    "### Total number of rows and columns present in the data set"
   ]
  },
  {
   "cell_type": "code",
   "execution_count": 3,
   "metadata": {},
   "outputs": [
    {
     "name": "stdout",
     "output_type": "stream",
     "text": [
      "Total Rows present:  183978\n",
      "Total Columns present:  42\n"
     ]
    }
   ],
   "source": [
    "print('Total Rows present: ',df.shape[0])\n",
    "print('Total Columns present: ',df.shape[1])"
   ]
  },
  {
   "cell_type": "markdown",
   "metadata": {},
   "source": [
    "## Treating Null Values"
   ]
  },
  {
   "cell_type": "code",
   "execution_count": 4,
   "metadata": {
    "scrolled": true
   },
   "outputs": [
    {
     "data": {
      "text/plain": [
       "47301"
      ]
     },
     "execution_count": 4,
     "metadata": {},
     "output_type": "execute_result"
    }
   ],
   "source": [
    "# Total 47301 Null values are present in different columns\n",
    "df.isnull().sum().sum()"
   ]
  },
  {
   "cell_type": "code",
   "execution_count": 5,
   "metadata": {},
   "outputs": [
    {
     "data": {
      "text/plain": [
       "id                        0\n",
       "player_fifa_api_id        0\n",
       "player_api_id             0\n",
       "date                      0\n",
       "overall_rating          836\n",
       "potential               836\n",
       "preferred_foot          836\n",
       "attacking_work_rate    3230\n",
       "defensive_work_rate     836\n",
       "crossing                836\n",
       "finishing               836\n",
       "heading_accuracy        836\n",
       "short_passing           836\n",
       "volleys                2713\n",
       "dribbling               836\n",
       "curve                  2713\n",
       "free_kick_accuracy      836\n",
       "long_passing            836\n",
       "ball_control            836\n",
       "acceleration            836\n",
       "sprint_speed            836\n",
       "agility                2713\n",
       "reactions               836\n",
       "balance                2713\n",
       "shot_power              836\n",
       "jumping                2713\n",
       "stamina                 836\n",
       "strength                836\n",
       "long_shots              836\n",
       "aggression              836\n",
       "interceptions           836\n",
       "positioning             836\n",
       "vision                 2713\n",
       "penalties               836\n",
       "marking                 836\n",
       "standing_tackle         836\n",
       "sliding_tackle         2713\n",
       "gk_diving               836\n",
       "gk_handling             836\n",
       "gk_kicking              836\n",
       "gk_positioning          836\n",
       "gk_reflexes             836\n",
       "dtype: int64"
      ]
     },
     "execution_count": 5,
     "metadata": {},
     "output_type": "execute_result"
    }
   ],
   "source": [
    "# Missing values in each columns\n",
    "df.isnull().sum()"
   ]
  },
  {
   "cell_type": "code",
   "execution_count": 6,
   "metadata": {},
   "outputs": [
    {
     "data": {
      "text/plain": [
       "id                     0.000000\n",
       "player_fifa_api_id     0.000000\n",
       "player_api_id          0.000000\n",
       "date                   0.000000\n",
       "overall_rating         0.454402\n",
       "potential              0.454402\n",
       "preferred_foot         0.454402\n",
       "attacking_work_rate    1.755645\n",
       "defensive_work_rate    0.454402\n",
       "crossing               0.454402\n",
       "finishing              0.454402\n",
       "heading_accuracy       0.454402\n",
       "short_passing          0.454402\n",
       "volleys                1.474633\n",
       "dribbling              0.454402\n",
       "curve                  1.474633\n",
       "free_kick_accuracy     0.454402\n",
       "long_passing           0.454402\n",
       "ball_control           0.454402\n",
       "acceleration           0.454402\n",
       "sprint_speed           0.454402\n",
       "agility                1.474633\n",
       "reactions              0.454402\n",
       "balance                1.474633\n",
       "shot_power             0.454402\n",
       "jumping                1.474633\n",
       "stamina                0.454402\n",
       "strength               0.454402\n",
       "long_shots             0.454402\n",
       "aggression             0.454402\n",
       "interceptions          0.454402\n",
       "positioning            0.454402\n",
       "vision                 1.474633\n",
       "penalties              0.454402\n",
       "marking                0.454402\n",
       "standing_tackle        0.454402\n",
       "sliding_tackle         1.474633\n",
       "gk_diving              0.454402\n",
       "gk_handling            0.454402\n",
       "gk_kicking             0.454402\n",
       "gk_positioning         0.454402\n",
       "gk_reflexes            0.454402\n",
       "dtype: float64"
      ]
     },
     "execution_count": 6,
     "metadata": {},
     "output_type": "execute_result"
    }
   ],
   "source": [
    "# Null values in percentage\n",
    "df.isnull().sum()/df.shape[0]*100"
   ]
  },
  {
   "cell_type": "code",
   "execution_count": 7,
   "metadata": {},
   "outputs": [
    {
     "data": {
      "text/plain": [
       "Text(0.5, 1.0, 'Missing Values in %')"
      ]
     },
     "execution_count": 7,
     "metadata": {},
     "output_type": "execute_result"
    },
    {
     "data": {
      "image/png": "[encoded data removed]",
      "text/plain": [
       "<Figure size 1080x360 with 1 Axes>"
      ]
     },
     "metadata": {
      "needs_background": "light"
     },
     "output_type": "display_data"
    }
   ],
   "source": [
    "df1 = df[['overall_rating','attacking_work_rate','crossing','heading_accuracy','vision','dribbling','sliding_tackle']].isnull().sum().T/df.shape[0]*100\n",
    "plt.figure(figsize=(15,5))\n",
    "plt.bar(df1.index, df1)\n",
    "plt.title('Missing Values in %')"
   ]
  },
  {
   "cell_type": "markdown",
   "metadata": {},
   "source": [
    "### Removing rows which contains Null Values in Target Column (Overall Rating)"
   ]
  },
  {
   "cell_type": "markdown",
   "metadata": {},
   "source": [
    "Target variable contains 836 null values, its better to remove those."
   ]
  },
  {
   "cell_type": "code",
   "execution_count": 8,
   "metadata": {},
   "outputs": [
    {
     "data": {
      "text/plain": [
       "(183142, 42)"
      ]
     },
     "execution_count": 8,
     "metadata": {},
     "output_type": "execute_result"
    }
   ],
   "source": [
    "df = df.dropna(axis=0 , subset=['overall_rating'])\n",
    "df.shape  # Current dimensions of Dataset"
   ]
  },
  {
   "cell_type": "code",
   "execution_count": 9,
   "metadata": {},
   "outputs": [
    {
     "name": "stdout",
     "output_type": "stream",
     "text": [
      "Total null values present in the dataset:  15533\n"
     ]
    }
   ],
   "source": [
    "print('Total null values present in the dataset: ',df.isnull().sum().sum())"
   ]
  },
  {
   "cell_type": "markdown",
   "metadata": {},
   "source": [
    "### Removing Null values from Other columns"
   ]
  },
  {
   "cell_type": "raw",
   "metadata": {},
   "source": [
    "There are some rows which contains null values in most number of columns, so its better to drop them."
   ]
  },
  {
   "cell_type": "code",
   "execution_count": 10,
   "metadata": {},
   "outputs": [],
   "source": [
    "df = df.dropna(axis=0, subset=['volleys'])  \n",
    "# Dropping all the rows contains Null values in 'volleys' columns\n",
    "# since most of the columns contains null in same records"
   ]
  },
  {
   "cell_type": "code",
   "execution_count": 11,
   "metadata": {},
   "outputs": [
    {
     "data": {
      "text/plain": [
       "id                       0\n",
       "player_fifa_api_id       0\n",
       "player_api_id            0\n",
       "date                     0\n",
       "overall_rating           0\n",
       "potential                0\n",
       "preferred_foot           0\n",
       "attacking_work_rate    911\n",
       "defensive_work_rate      0\n",
       "crossing                 0\n",
       "finishing                0\n",
       "heading_accuracy         0\n",
       "short_passing            0\n",
       "volleys                  0\n",
       "dribbling                0\n",
       "curve                    0\n",
       "free_kick_accuracy       0\n",
       "long_passing             0\n",
       "ball_control             0\n",
       "acceleration             0\n",
       "sprint_speed             0\n",
       "agility                  0\n",
       "reactions                0\n",
       "balance                  0\n",
       "shot_power               0\n",
       "jumping                  0\n",
       "stamina                  0\n",
       "strength                 0\n",
       "long_shots               0\n",
       "aggression               0\n",
       "interceptions            0\n",
       "positioning              0\n",
       "vision                   0\n",
       "penalties                0\n",
       "marking                  0\n",
       "standing_tackle          0\n",
       "sliding_tackle           0\n",
       "gk_diving                0\n",
       "gk_handling              0\n",
       "gk_kicking               0\n",
       "gk_positioning           0\n",
       "gk_reflexes              0\n",
       "dtype: int64"
      ]
     },
     "execution_count": 11,
     "metadata": {},
     "output_type": "execute_result"
    }
   ],
   "source": [
    "df.isnull().sum()"
   ]
  },
  {
   "cell_type": "code",
   "execution_count": 12,
   "metadata": {},
   "outputs": [
    {
     "data": {
      "text/plain": [
       "medium    125070\n",
       "high       42823\n",
       "low         8569\n",
       "None        3317\n",
       "norm         317\n",
       "y             94\n",
       "stoc          86\n",
       "le            78\n",
       "Name: attacking_work_rate, dtype: int64"
      ]
     },
     "execution_count": 12,
     "metadata": {},
     "output_type": "execute_result"
    }
   ],
   "source": [
    "df['attacking_work_rate'].value_counts()"
   ]
  },
  {
   "cell_type": "code",
   "execution_count": 13,
   "metadata": {},
   "outputs": [
    {
     "data": {
      "text/plain": [
       "'medium'"
      ]
     },
     "execution_count": 13,
     "metadata": {},
     "output_type": "execute_result"
    }
   ],
   "source": [
    "df['attacking_work_rate'].mode()[0]"
   ]
  },
  {
   "cell_type": "code",
   "execution_count": 14,
   "metadata": {},
   "outputs": [],
   "source": [
    "# Imputing attacking_work_rate with mode i.e. 'Medium'\n",
    "df.loc[ df['attacking_work_rate'].isnull() , 'attacking_work_rate' ] = df['attacking_work_rate'].mode()[0]"
   ]
  },
  {
   "cell_type": "code",
   "execution_count": 15,
   "metadata": {},
   "outputs": [
    {
     "name": "stdout",
     "output_type": "stream",
     "text": [
      "Total Missing values present now:  0\n"
     ]
    }
   ],
   "source": [
    "print('Total Missing values present now: ',df.isnull().sum().sum())"
   ]
  },
  {
   "cell_type": "code",
   "execution_count": 16,
   "metadata": {},
   "outputs": [
    {
     "data": {
      "text/plain": [
       "(181265, 42)"
      ]
     },
     "execution_count": 16,
     "metadata": {},
     "output_type": "execute_result"
    }
   ],
   "source": [
    "# Shape of the Data Set\n",
    "df.shape"
   ]
  },
  {
   "cell_type": "code",
   "execution_count": 17,
   "metadata": {},
   "outputs": [],
   "source": [
    "df = df.reset_index(drop=True)"
   ]
  },
  {
   "cell_type": "markdown",
   "metadata": {},
   "source": [
    "## Removing Redundant Features"
   ]
  },
  {
   "cell_type": "raw",
   "metadata": {},
   "source": [
    "Since our main aim is to predict the overall rating of the players, based upon their performances in different aspects of athletics, We will remove, some unique features like is, api_id as well as date."
   ]
  },
  {
   "cell_type": "code",
   "execution_count": 18,
   "metadata": {},
   "outputs": [
    {
     "data": {
      "text/html": [
       "<div>\n",
       "<style scoped>\n",
       "    .dataframe tbody tr th:only-of-type {\n",
       "        vertical-align: middle;\n",
       "    }\n",
       "\n",
       "    .dataframe tbody tr th {\n",
       "        vertical-align: top;\n",
       "    }\n",
       "\n",
       "    .dataframe thead th {\n",
       "        text-align: right;\n",
       "    }\n",
       "</style>\n",
       "<table border=\"1\" class=\"dataframe\">\n",
       "  <thead>\n",
       "    <tr style=\"text-align: right;\">\n",
       "      <th></th>\n",
       "      <th>overall_rating</th>\n",
       "      <th>potential</th>\n",
       "      <th>preferred_foot</th>\n",
       "      <th>attacking_work_rate</th>\n",
       "      <th>defensive_work_rate</th>\n",
       "      <th>crossing</th>\n",
       "      <th>finishing</th>\n",
       "      <th>heading_accuracy</th>\n",
       "      <th>short_passing</th>\n",
       "      <th>volleys</th>\n",
       "      <th>dribbling</th>\n",
       "      <th>curve</th>\n",
       "      <th>free_kick_accuracy</th>\n",
       "      <th>long_passing</th>\n",
       "      <th>ball_control</th>\n",
       "      <th>acceleration</th>\n",
       "      <th>sprint_speed</th>\n",
       "      <th>agility</th>\n",
       "      <th>reactions</th>\n",
       "      <th>balance</th>\n",
       "      <th>shot_power</th>\n",
       "      <th>jumping</th>\n",
       "      <th>stamina</th>\n",
       "      <th>strength</th>\n",
       "      <th>long_shots</th>\n",
       "      <th>aggression</th>\n",
       "      <th>interceptions</th>\n",
       "      <th>positioning</th>\n",
       "      <th>vision</th>\n",
       "      <th>penalties</th>\n",
       "      <th>marking</th>\n",
       "      <th>standing_tackle</th>\n",
       "      <th>sliding_tackle</th>\n",
       "      <th>gk_diving</th>\n",
       "      <th>gk_handling</th>\n",
       "      <th>gk_kicking</th>\n",
       "      <th>gk_positioning</th>\n",
       "      <th>gk_reflexes</th>\n",
       "    </tr>\n",
       "  </thead>\n",
       "  <tbody>\n",
       "    <tr>\n",
       "      <th>0</th>\n",
       "      <td>67.0</td>\n",
       "      <td>71.0</td>\n",
       "      <td>right</td>\n",
       "      <td>medium</td>\n",
       "      <td>medium</td>\n",
       "      <td>49.0</td>\n",
       "      <td>44.0</td>\n",
       "      <td>71.0</td>\n",
       "      <td>61.0</td>\n",
       "      <td>44.0</td>\n",
       "      <td>51.0</td>\n",
       "      <td>45.0</td>\n",
       "      <td>39.0</td>\n",
       "      <td>64.0</td>\n",
       "      <td>49.0</td>\n",
       "      <td>60.0</td>\n",
       "      <td>64.0</td>\n",
       "      <td>59.0</td>\n",
       "      <td>47.0</td>\n",
       "      <td>65.0</td>\n",
       "      <td>55.0</td>\n",
       "      <td>58.0</td>\n",
       "      <td>54.0</td>\n",
       "      <td>76.0</td>\n",
       "      <td>35.0</td>\n",
       "      <td>71.0</td>\n",
       "      <td>70.0</td>\n",
       "      <td>45.0</td>\n",
       "      <td>54.0</td>\n",
       "      <td>48.0</td>\n",
       "      <td>65.0</td>\n",
       "      <td>69.0</td>\n",
       "      <td>69.0</td>\n",
       "      <td>6.0</td>\n",
       "      <td>11.0</td>\n",
       "      <td>10.0</td>\n",
       "      <td>8.0</td>\n",
       "      <td>8.0</td>\n",
       "    </tr>\n",
       "    <tr>\n",
       "      <th>1</th>\n",
       "      <td>67.0</td>\n",
       "      <td>71.0</td>\n",
       "      <td>right</td>\n",
       "      <td>medium</td>\n",
       "      <td>medium</td>\n",
       "      <td>49.0</td>\n",
       "      <td>44.0</td>\n",
       "      <td>71.0</td>\n",
       "      <td>61.0</td>\n",
       "      <td>44.0</td>\n",
       "      <td>51.0</td>\n",
       "      <td>45.0</td>\n",
       "      <td>39.0</td>\n",
       "      <td>64.0</td>\n",
       "      <td>49.0</td>\n",
       "      <td>60.0</td>\n",
       "      <td>64.0</td>\n",
       "      <td>59.0</td>\n",
       "      <td>47.0</td>\n",
       "      <td>65.0</td>\n",
       "      <td>55.0</td>\n",
       "      <td>58.0</td>\n",
       "      <td>54.0</td>\n",
       "      <td>76.0</td>\n",
       "      <td>35.0</td>\n",
       "      <td>71.0</td>\n",
       "      <td>70.0</td>\n",
       "      <td>45.0</td>\n",
       "      <td>54.0</td>\n",
       "      <td>48.0</td>\n",
       "      <td>65.0</td>\n",
       "      <td>69.0</td>\n",
       "      <td>69.0</td>\n",
       "      <td>6.0</td>\n",
       "      <td>11.0</td>\n",
       "      <td>10.0</td>\n",
       "      <td>8.0</td>\n",
       "      <td>8.0</td>\n",
       "    </tr>\n",
       "    <tr>\n",
       "      <th>2</th>\n",
       "      <td>62.0</td>\n",
       "      <td>66.0</td>\n",
       "      <td>right</td>\n",
       "      <td>medium</td>\n",
       "      <td>medium</td>\n",
       "      <td>49.0</td>\n",
       "      <td>44.0</td>\n",
       "      <td>71.0</td>\n",
       "      <td>61.0</td>\n",
       "      <td>44.0</td>\n",
       "      <td>51.0</td>\n",
       "      <td>45.0</td>\n",
       "      <td>39.0</td>\n",
       "      <td>64.0</td>\n",
       "      <td>49.0</td>\n",
       "      <td>60.0</td>\n",
       "      <td>64.0</td>\n",
       "      <td>59.0</td>\n",
       "      <td>47.0</td>\n",
       "      <td>65.0</td>\n",
       "      <td>55.0</td>\n",
       "      <td>58.0</td>\n",
       "      <td>54.0</td>\n",
       "      <td>76.0</td>\n",
       "      <td>35.0</td>\n",
       "      <td>63.0</td>\n",
       "      <td>41.0</td>\n",
       "      <td>45.0</td>\n",
       "      <td>54.0</td>\n",
       "      <td>48.0</td>\n",
       "      <td>65.0</td>\n",
       "      <td>66.0</td>\n",
       "      <td>69.0</td>\n",
       "      <td>6.0</td>\n",
       "      <td>11.0</td>\n",
       "      <td>10.0</td>\n",
       "      <td>8.0</td>\n",
       "      <td>8.0</td>\n",
       "    </tr>\n",
       "    <tr>\n",
       "      <th>3</th>\n",
       "      <td>61.0</td>\n",
       "      <td>65.0</td>\n",
       "      <td>right</td>\n",
       "      <td>medium</td>\n",
       "      <td>medium</td>\n",
       "      <td>48.0</td>\n",
       "      <td>43.0</td>\n",
       "      <td>70.0</td>\n",
       "      <td>60.0</td>\n",
       "      <td>43.0</td>\n",
       "      <td>50.0</td>\n",
       "      <td>44.0</td>\n",
       "      <td>38.0</td>\n",
       "      <td>63.0</td>\n",
       "      <td>48.0</td>\n",
       "      <td>60.0</td>\n",
       "      <td>64.0</td>\n",
       "      <td>59.0</td>\n",
       "      <td>46.0</td>\n",
       "      <td>65.0</td>\n",
       "      <td>54.0</td>\n",
       "      <td>58.0</td>\n",
       "      <td>54.0</td>\n",
       "      <td>76.0</td>\n",
       "      <td>34.0</td>\n",
       "      <td>62.0</td>\n",
       "      <td>40.0</td>\n",
       "      <td>44.0</td>\n",
       "      <td>53.0</td>\n",
       "      <td>47.0</td>\n",
       "      <td>62.0</td>\n",
       "      <td>63.0</td>\n",
       "      <td>66.0</td>\n",
       "      <td>5.0</td>\n",
       "      <td>10.0</td>\n",
       "      <td>9.0</td>\n",
       "      <td>7.0</td>\n",
       "      <td>7.0</td>\n",
       "    </tr>\n",
       "    <tr>\n",
       "      <th>4</th>\n",
       "      <td>61.0</td>\n",
       "      <td>65.0</td>\n",
       "      <td>right</td>\n",
       "      <td>medium</td>\n",
       "      <td>medium</td>\n",
       "      <td>48.0</td>\n",
       "      <td>43.0</td>\n",
       "      <td>70.0</td>\n",
       "      <td>60.0</td>\n",
       "      <td>43.0</td>\n",
       "      <td>50.0</td>\n",
       "      <td>44.0</td>\n",
       "      <td>38.0</td>\n",
       "      <td>63.0</td>\n",
       "      <td>48.0</td>\n",
       "      <td>60.0</td>\n",
       "      <td>64.0</td>\n",
       "      <td>59.0</td>\n",
       "      <td>46.0</td>\n",
       "      <td>65.0</td>\n",
       "      <td>54.0</td>\n",
       "      <td>58.0</td>\n",
       "      <td>54.0</td>\n",
       "      <td>76.0</td>\n",
       "      <td>34.0</td>\n",
       "      <td>62.0</td>\n",
       "      <td>40.0</td>\n",
       "      <td>44.0</td>\n",
       "      <td>53.0</td>\n",
       "      <td>47.0</td>\n",
       "      <td>62.0</td>\n",
       "      <td>63.0</td>\n",
       "      <td>66.0</td>\n",
       "      <td>5.0</td>\n",
       "      <td>10.0</td>\n",
       "      <td>9.0</td>\n",
       "      <td>7.0</td>\n",
       "      <td>7.0</td>\n",
       "    </tr>\n",
       "  </tbody>\n",
       "</table>\n",
       "</div>"
      ],
      "text/plain": [
       "   overall_rating  potential preferred_foot attacking_work_rate  \\\n",
       "0            67.0       71.0          right              medium   \n",
       "1            67.0       71.0          right              medium   \n",
       "2            62.0       66.0          right              medium   \n",
       "3            61.0       65.0          right              medium   \n",
       "4            61.0       65.0          right              medium   \n",
       "\n",
       "  defensive_work_rate  crossing  finishing  heading_accuracy  short_passing  \\\n",
       "0              medium      49.0       44.0              71.0           61.0   \n",
       "1              medium      49.0       44.0              71.0           61.0   \n",
       "2              medium      49.0       44.0              71.0           61.0   \n",
       "3              medium      48.0       43.0              70.0           60.0   \n",
       "4              medium      48.0       43.0              70.0           60.0   \n",
       "\n",
       "   volleys  dribbling  curve  free_kick_accuracy  long_passing  ball_control  \\\n",
       "0     44.0       51.0   45.0                39.0          64.0          49.0   \n",
       "1     44.0       51.0   45.0                39.0          64.0          49.0   \n",
       "2     44.0       51.0   45.0                39.0          64.0          49.0   \n",
       "3     43.0       50.0   44.0                38.0          63.0          48.0   \n",
       "4     43.0       50.0   44.0                38.0          63.0          48.0   \n",
       "\n",
       "   acceleration  sprint_speed  agility  reactions  balance  shot_power  \\\n",
       "0          60.0          64.0     59.0       47.0     65.0        55.0   \n",
       "1          60.0          64.0     59.0       47.0     65.0        55.0   \n",
       "2          60.0          64.0     59.0       47.0     65.0        55.0   \n",
       "3          60.0          64.0     59.0       46.0     65.0        54.0   \n",
       "4          60.0          64.0     59.0       46.0     65.0        54.0   \n",
       "\n",
       "   jumping  stamina  strength  long_shots  aggression  interceptions  \\\n",
       "0     58.0     54.0      76.0        35.0        71.0           70.0   \n",
       "1     58.0     54.0      76.0        35.0        71.0           70.0   \n",
       "2     58.0     54.0      76.0        35.0        63.0           41.0   \n",
       "3     58.0     54.0      76.0        34.0        62.0           40.0   \n",
       "4     58.0     54.0      76.0        34.0        62.0           40.0   \n",
       "\n",
       "   positioning  vision  penalties  marking  standing_tackle  sliding_tackle  \\\n",
       "0         45.0    54.0       48.0     65.0             69.0            69.0   \n",
       "1         45.0    54.0       48.0     65.0             69.0            69.0   \n",
       "2         45.0    54.0       48.0     65.0             66.0            69.0   \n",
       "3         44.0    53.0       47.0     62.0             63.0            66.0   \n",
       "4         44.0    53.0       47.0     62.0             63.0            66.0   \n",
       "\n",
       "   gk_diving  gk_handling  gk_kicking  gk_positioning  gk_reflexes  \n",
       "0        6.0         11.0        10.0             8.0          8.0  \n",
       "1        6.0         11.0        10.0             8.0          8.0  \n",
       "2        6.0         11.0        10.0             8.0          8.0  \n",
       "3        5.0         10.0         9.0             7.0          7.0  \n",
       "4        5.0         10.0         9.0             7.0          7.0  "
      ]
     },
     "execution_count": 18,
     "metadata": {},
     "output_type": "execute_result"
    }
   ],
   "source": [
    "df = df.drop(columns=['id','player_fifa_api_id','player_api_id','date'])\n",
    "df.head()"
   ]
  },
  {
   "cell_type": "code",
   "execution_count": 19,
   "metadata": {},
   "outputs": [
    {
     "data": {
      "text/plain": [
       "(181265, 38)"
      ]
     },
     "execution_count": 19,
     "metadata": {},
     "output_type": "execute_result"
    }
   ],
   "source": [
    "df.shape"
   ]
  },
  {
   "cell_type": "markdown",
   "metadata": {},
   "source": [
    "## Creating Dummy columns for Categorical Variable"
   ]
  },
  {
   "cell_type": "raw",
   "metadata": {},
   "source": [
    "We have 3 categorical variable in the data set namely\n",
    "1. preferred_foot : It consists of 2 category i.e. Right and Left. After encoding, right will be termed as 1 and left as 0.\n",
    "2. attacking_work_rate and defensive_work_rate will create a new columns for each category in it."
   ]
  },
  {
   "cell_type": "code",
   "execution_count": 20,
   "metadata": {},
   "outputs": [
    {
     "data": {
      "text/plain": [
       "medium    125981\n",
       "high       42823\n",
       "low         8569\n",
       "None        3317\n",
       "norm         317\n",
       "y             94\n",
       "stoc          86\n",
       "le            78\n",
       "Name: attacking_work_rate, dtype: int64"
      ]
     },
     "execution_count": 20,
     "metadata": {},
     "output_type": "execute_result"
    }
   ],
   "source": [
    "df['attacking_work_rate'].value_counts()"
   ]
  },
  {
   "cell_type": "code",
   "execution_count": 21,
   "metadata": {
    "scrolled": true
   },
   "outputs": [
    {
     "data": {
      "text/plain": [
       "medium    130846\n",
       "high       27041\n",
       "low        18432\n",
       "o           1328\n",
       "_0           911\n",
       "1            421\n",
       "2            334\n",
       "ormal        317\n",
       "3            243\n",
       "5            231\n",
       "7            207\n",
       "0            188\n",
       "6            179\n",
       "9            143\n",
       "4            116\n",
       "es            94\n",
       "tocky         86\n",
       "ean           78\n",
       "8             70\n",
       "Name: defensive_work_rate, dtype: int64"
      ]
     },
     "execution_count": 21,
     "metadata": {},
     "output_type": "execute_result"
    }
   ],
   "source": [
    "df['defensive_work_rate'].value_counts()"
   ]
  },
  {
   "cell_type": "code",
   "execution_count": 22,
   "metadata": {},
   "outputs": [
    {
     "data": {
      "text/html": [
       "<div>\n",
       "<style scoped>\n",
       "    .dataframe tbody tr th:only-of-type {\n",
       "        vertical-align: middle;\n",
       "    }\n",
       "\n",
       "    .dataframe tbody tr th {\n",
       "        vertical-align: top;\n",
       "    }\n",
       "\n",
       "    .dataframe thead th {\n",
       "        text-align: right;\n",
       "    }\n",
       "</style>\n",
       "<table border=\"1\" class=\"dataframe\">\n",
       "  <thead>\n",
       "    <tr style=\"text-align: right;\">\n",
       "      <th>defensive_work_rate</th>\n",
       "      <th>0</th>\n",
       "      <th>1</th>\n",
       "      <th>2</th>\n",
       "      <th>3</th>\n",
       "      <th>4</th>\n",
       "      <th>5</th>\n",
       "      <th>6</th>\n",
       "      <th>7</th>\n",
       "      <th>8</th>\n",
       "      <th>9</th>\n",
       "      <th>_0</th>\n",
       "      <th>ean</th>\n",
       "      <th>es</th>\n",
       "      <th>high</th>\n",
       "      <th>low</th>\n",
       "      <th>medium</th>\n",
       "      <th>o</th>\n",
       "      <th>ormal</th>\n",
       "      <th>tocky</th>\n",
       "    </tr>\n",
       "    <tr>\n",
       "      <th>attacking_work_rate</th>\n",
       "      <th></th>\n",
       "      <th></th>\n",
       "      <th></th>\n",
       "      <th></th>\n",
       "      <th></th>\n",
       "      <th></th>\n",
       "      <th></th>\n",
       "      <th></th>\n",
       "      <th></th>\n",
       "      <th></th>\n",
       "      <th></th>\n",
       "      <th></th>\n",
       "      <th></th>\n",
       "      <th></th>\n",
       "      <th></th>\n",
       "      <th></th>\n",
       "      <th></th>\n",
       "      <th></th>\n",
       "      <th></th>\n",
       "    </tr>\n",
       "  </thead>\n",
       "  <tbody>\n",
       "    <tr>\n",
       "      <th>None</th>\n",
       "      <td>168</td>\n",
       "      <td>377</td>\n",
       "      <td>245</td>\n",
       "      <td>220</td>\n",
       "      <td>89</td>\n",
       "      <td>203</td>\n",
       "      <td>145</td>\n",
       "      <td>193</td>\n",
       "      <td>65</td>\n",
       "      <td>126</td>\n",
       "      <td>0</td>\n",
       "      <td>0</td>\n",
       "      <td>0</td>\n",
       "      <td>69</td>\n",
       "      <td>7</td>\n",
       "      <td>82</td>\n",
       "      <td>1328</td>\n",
       "      <td>0</td>\n",
       "      <td>0</td>\n",
       "    </tr>\n",
       "    <tr>\n",
       "      <th>high</th>\n",
       "      <td>11</td>\n",
       "      <td>9</td>\n",
       "      <td>13</td>\n",
       "      <td>0</td>\n",
       "      <td>0</td>\n",
       "      <td>17</td>\n",
       "      <td>13</td>\n",
       "      <td>5</td>\n",
       "      <td>0</td>\n",
       "      <td>4</td>\n",
       "      <td>0</td>\n",
       "      <td>0</td>\n",
       "      <td>0</td>\n",
       "      <td>7939</td>\n",
       "      <td>5727</td>\n",
       "      <td>29085</td>\n",
       "      <td>0</td>\n",
       "      <td>0</td>\n",
       "      <td>0</td>\n",
       "    </tr>\n",
       "    <tr>\n",
       "      <th>le</th>\n",
       "      <td>0</td>\n",
       "      <td>0</td>\n",
       "      <td>0</td>\n",
       "      <td>0</td>\n",
       "      <td>0</td>\n",
       "      <td>0</td>\n",
       "      <td>0</td>\n",
       "      <td>0</td>\n",
       "      <td>0</td>\n",
       "      <td>0</td>\n",
       "      <td>0</td>\n",
       "      <td>78</td>\n",
       "      <td>0</td>\n",
       "      <td>0</td>\n",
       "      <td>0</td>\n",
       "      <td>0</td>\n",
       "      <td>0</td>\n",
       "      <td>0</td>\n",
       "      <td>0</td>\n",
       "    </tr>\n",
       "    <tr>\n",
       "      <th>low</th>\n",
       "      <td>0</td>\n",
       "      <td>0</td>\n",
       "      <td>0</td>\n",
       "      <td>12</td>\n",
       "      <td>18</td>\n",
       "      <td>0</td>\n",
       "      <td>0</td>\n",
       "      <td>0</td>\n",
       "      <td>0</td>\n",
       "      <td>0</td>\n",
       "      <td>0</td>\n",
       "      <td>0</td>\n",
       "      <td>0</td>\n",
       "      <td>3319</td>\n",
       "      <td>695</td>\n",
       "      <td>4525</td>\n",
       "      <td>0</td>\n",
       "      <td>0</td>\n",
       "      <td>0</td>\n",
       "    </tr>\n",
       "    <tr>\n",
       "      <th>medium</th>\n",
       "      <td>9</td>\n",
       "      <td>35</td>\n",
       "      <td>76</td>\n",
       "      <td>11</td>\n",
       "      <td>9</td>\n",
       "      <td>11</td>\n",
       "      <td>21</td>\n",
       "      <td>9</td>\n",
       "      <td>5</td>\n",
       "      <td>13</td>\n",
       "      <td>911</td>\n",
       "      <td>0</td>\n",
       "      <td>0</td>\n",
       "      <td>15714</td>\n",
       "      <td>12003</td>\n",
       "      <td>97154</td>\n",
       "      <td>0</td>\n",
       "      <td>0</td>\n",
       "      <td>0</td>\n",
       "    </tr>\n",
       "    <tr>\n",
       "      <th>norm</th>\n",
       "      <td>0</td>\n",
       "      <td>0</td>\n",
       "      <td>0</td>\n",
       "      <td>0</td>\n",
       "      <td>0</td>\n",
       "      <td>0</td>\n",
       "      <td>0</td>\n",
       "      <td>0</td>\n",
       "      <td>0</td>\n",
       "      <td>0</td>\n",
       "      <td>0</td>\n",
       "      <td>0</td>\n",
       "      <td>0</td>\n",
       "      <td>0</td>\n",
       "      <td>0</td>\n",
       "      <td>0</td>\n",
       "      <td>0</td>\n",
       "      <td>317</td>\n",
       "      <td>0</td>\n",
       "    </tr>\n",
       "    <tr>\n",
       "      <th>stoc</th>\n",
       "      <td>0</td>\n",
       "      <td>0</td>\n",
       "      <td>0</td>\n",
       "      <td>0</td>\n",
       "      <td>0</td>\n",
       "      <td>0</td>\n",
       "      <td>0</td>\n",
       "      <td>0</td>\n",
       "      <td>0</td>\n",
       "      <td>0</td>\n",
       "      <td>0</td>\n",
       "      <td>0</td>\n",
       "      <td>0</td>\n",
       "      <td>0</td>\n",
       "      <td>0</td>\n",
       "      <td>0</td>\n",
       "      <td>0</td>\n",
       "      <td>0</td>\n",
       "      <td>86</td>\n",
       "    </tr>\n",
       "    <tr>\n",
       "      <th>y</th>\n",
       "      <td>0</td>\n",
       "      <td>0</td>\n",
       "      <td>0</td>\n",
       "      <td>0</td>\n",
       "      <td>0</td>\n",
       "      <td>0</td>\n",
       "      <td>0</td>\n",
       "      <td>0</td>\n",
       "      <td>0</td>\n",
       "      <td>0</td>\n",
       "      <td>0</td>\n",
       "      <td>0</td>\n",
       "      <td>94</td>\n",
       "      <td>0</td>\n",
       "      <td>0</td>\n",
       "      <td>0</td>\n",
       "      <td>0</td>\n",
       "      <td>0</td>\n",
       "      <td>0</td>\n",
       "    </tr>\n",
       "  </tbody>\n",
       "</table>\n",
       "</div>"
      ],
      "text/plain": [
       "defensive_work_rate    0    1    2    3   4    5    6    7   8    9   _0  ean  \\\n",
       "attacking_work_rate                                                             \n",
       "None                 168  377  245  220  89  203  145  193  65  126    0    0   \n",
       "high                  11    9   13    0   0   17   13    5   0    4    0    0   \n",
       "le                     0    0    0    0   0    0    0    0   0    0    0   78   \n",
       "low                    0    0    0   12  18    0    0    0   0    0    0    0   \n",
       "medium                 9   35   76   11   9   11   21    9   5   13  911    0   \n",
       "norm                   0    0    0    0   0    0    0    0   0    0    0    0   \n",
       "stoc                   0    0    0    0   0    0    0    0   0    0    0    0   \n",
       "y                      0    0    0    0   0    0    0    0   0    0    0    0   \n",
       "\n",
       "defensive_work_rate  es   high    low  medium     o  ormal  tocky  \n",
       "attacking_work_rate                                                \n",
       "None                  0     69      7      82  1328      0      0  \n",
       "high                  0   7939   5727   29085     0      0      0  \n",
       "le                    0      0      0       0     0      0      0  \n",
       "low                   0   3319    695    4525     0      0      0  \n",
       "medium                0  15714  12003   97154     0      0      0  \n",
       "norm                  0      0      0       0     0    317      0  \n",
       "stoc                  0      0      0       0     0      0     86  \n",
       "y                    94      0      0       0     0      0      0  "
      ]
     },
     "execution_count": 22,
     "metadata": {},
     "output_type": "execute_result"
    }
   ],
   "source": [
    "pd.crosstab(df['attacking_work_rate'], df['defensive_work_rate'])"
   ]
  },
  {
   "cell_type": "markdown",
   "metadata": {},
   "source": [
    "Assuming some mistakes while taking data, it is assumed that some of the cataegories from attacking_work_rate is present in the defensive_work_rate like\n",
    "* stoc - tockey --> stockey (a person who has short height but borad chest and shoulders)\n",
    "* norm - ormal --> normal\n",
    "* le - ean --> lean\n",
    "* None - o --> None\n"
   ]
  },
  {
   "cell_type": "code",
   "execution_count": 23,
   "metadata": {},
   "outputs": [],
   "source": [
    "# Changing Classes name in attacking_work_rate\n",
    "df['attacking_work_rate'].replace({'le':'lean','norm':'normal','stoc':'stocky','y':'yes'}, inplace=True)"
   ]
  },
  {
   "cell_type": "code",
   "execution_count": 24,
   "metadata": {},
   "outputs": [],
   "source": [
    "# Changing Classes name in attacking_work_rate\n",
    "df['defensive_work_rate'].replace({'ean':'lean','ormal':'normal','tocky':'stocky','es':'yes','o':'None','_0':'medium'}, inplace=True)"
   ]
  },
  {
   "cell_type": "code",
   "execution_count": 25,
   "metadata": {},
   "outputs": [],
   "source": [
    "# Imputing numeric classes to None\n",
    "df.loc[ df['defensive_work_rate'].isin(list('0123456789')) , 'defensive_work_rate' ] = 'None'"
   ]
  },
  {
   "cell_type": "code",
   "execution_count": 26,
   "metadata": {},
   "outputs": [
    {
     "data": {
      "text/plain": [
       "medium    125981\n",
       "high       42823\n",
       "low         8569\n",
       "None        3317\n",
       "normal       317\n",
       "yes           94\n",
       "stocky        86\n",
       "lean          78\n",
       "Name: attacking_work_rate, dtype: int64"
      ]
     },
     "execution_count": 26,
     "metadata": {},
     "output_type": "execute_result"
    }
   ],
   "source": [
    "df['attacking_work_rate'].value_counts()"
   ]
  },
  {
   "cell_type": "code",
   "execution_count": 27,
   "metadata": {},
   "outputs": [
    {
     "data": {
      "text/plain": [
       "medium    131757\n",
       "high       27041\n",
       "low        18432\n",
       "None        3460\n",
       "normal       317\n",
       "yes           94\n",
       "stocky        86\n",
       "lean          78\n",
       "Name: defensive_work_rate, dtype: int64"
      ]
     },
     "execution_count": 27,
     "metadata": {},
     "output_type": "execute_result"
    }
   ],
   "source": [
    "# All the classes have same name.\n",
    "df['defensive_work_rate'].value_counts()"
   ]
  },
  {
   "cell_type": "code",
   "execution_count": 28,
   "metadata": {},
   "outputs": [
    {
     "data": {
      "text/html": [
       "<div>\n",
       "<style scoped>\n",
       "    .dataframe tbody tr th:only-of-type {\n",
       "        vertical-align: middle;\n",
       "    }\n",
       "\n",
       "    .dataframe tbody tr th {\n",
       "        vertical-align: top;\n",
       "    }\n",
       "\n",
       "    .dataframe thead th {\n",
       "        text-align: right;\n",
       "    }\n",
       "</style>\n",
       "<table border=\"1\" class=\"dataframe\">\n",
       "  <thead>\n",
       "    <tr style=\"text-align: right;\">\n",
       "      <th></th>\n",
       "      <th>overall_rating</th>\n",
       "      <th>potential</th>\n",
       "      <th>crossing</th>\n",
       "      <th>finishing</th>\n",
       "      <th>heading_accuracy</th>\n",
       "      <th>short_passing</th>\n",
       "      <th>volleys</th>\n",
       "      <th>dribbling</th>\n",
       "      <th>curve</th>\n",
       "      <th>free_kick_accuracy</th>\n",
       "      <th>long_passing</th>\n",
       "      <th>ball_control</th>\n",
       "      <th>acceleration</th>\n",
       "      <th>sprint_speed</th>\n",
       "      <th>agility</th>\n",
       "      <th>reactions</th>\n",
       "      <th>balance</th>\n",
       "      <th>shot_power</th>\n",
       "      <th>jumping</th>\n",
       "      <th>stamina</th>\n",
       "      <th>strength</th>\n",
       "      <th>long_shots</th>\n",
       "      <th>aggression</th>\n",
       "      <th>interceptions</th>\n",
       "      <th>positioning</th>\n",
       "      <th>vision</th>\n",
       "      <th>penalties</th>\n",
       "      <th>marking</th>\n",
       "      <th>standing_tackle</th>\n",
       "      <th>sliding_tackle</th>\n",
       "      <th>gk_diving</th>\n",
       "      <th>gk_handling</th>\n",
       "      <th>gk_kicking</th>\n",
       "      <th>gk_positioning</th>\n",
       "      <th>gk_reflexes</th>\n",
       "      <th>preferred_foot_right</th>\n",
       "      <th>attacking_work_rate_high</th>\n",
       "      <th>attacking_work_rate_lean</th>\n",
       "      <th>attacking_work_rate_low</th>\n",
       "      <th>attacking_work_rate_medium</th>\n",
       "      <th>attacking_work_rate_normal</th>\n",
       "      <th>attacking_work_rate_stocky</th>\n",
       "      <th>attacking_work_rate_yes</th>\n",
       "      <th>defensive_work_rate_high</th>\n",
       "      <th>defensive_work_rate_lean</th>\n",
       "      <th>defensive_work_rate_low</th>\n",
       "      <th>defensive_work_rate_medium</th>\n",
       "      <th>defensive_work_rate_normal</th>\n",
       "      <th>defensive_work_rate_stocky</th>\n",
       "      <th>defensive_work_rate_yes</th>\n",
       "    </tr>\n",
       "  </thead>\n",
       "  <tbody>\n",
       "    <tr>\n",
       "      <th>0</th>\n",
       "      <td>67.0</td>\n",
       "      <td>71.0</td>\n",
       "      <td>49.0</td>\n",
       "      <td>44.0</td>\n",
       "      <td>71.0</td>\n",
       "      <td>61.0</td>\n",
       "      <td>44.0</td>\n",
       "      <td>51.0</td>\n",
       "      <td>45.0</td>\n",
       "      <td>39.0</td>\n",
       "      <td>64.0</td>\n",
       "      <td>49.0</td>\n",
       "      <td>60.0</td>\n",
       "      <td>64.0</td>\n",
       "      <td>59.0</td>\n",
       "      <td>47.0</td>\n",
       "      <td>65.0</td>\n",
       "      <td>55.0</td>\n",
       "      <td>58.0</td>\n",
       "      <td>54.0</td>\n",
       "      <td>76.0</td>\n",
       "      <td>35.0</td>\n",
       "      <td>71.0</td>\n",
       "      <td>70.0</td>\n",
       "      <td>45.0</td>\n",
       "      <td>54.0</td>\n",
       "      <td>48.0</td>\n",
       "      <td>65.0</td>\n",
       "      <td>69.0</td>\n",
       "      <td>69.0</td>\n",
       "      <td>6.0</td>\n",
       "      <td>11.0</td>\n",
       "      <td>10.0</td>\n",
       "      <td>8.0</td>\n",
       "      <td>8.0</td>\n",
       "      <td>1</td>\n",
       "      <td>0</td>\n",
       "      <td>0</td>\n",
       "      <td>0</td>\n",
       "      <td>1</td>\n",
       "      <td>0</td>\n",
       "      <td>0</td>\n",
       "      <td>0</td>\n",
       "      <td>0</td>\n",
       "      <td>0</td>\n",
       "      <td>0</td>\n",
       "      <td>1</td>\n",
       "      <td>0</td>\n",
       "      <td>0</td>\n",
       "      <td>0</td>\n",
       "    </tr>\n",
       "    <tr>\n",
       "      <th>1</th>\n",
       "      <td>67.0</td>\n",
       "      <td>71.0</td>\n",
       "      <td>49.0</td>\n",
       "      <td>44.0</td>\n",
       "      <td>71.0</td>\n",
       "      <td>61.0</td>\n",
       "      <td>44.0</td>\n",
       "      <td>51.0</td>\n",
       "      <td>45.0</td>\n",
       "      <td>39.0</td>\n",
       "      <td>64.0</td>\n",
       "      <td>49.0</td>\n",
       "      <td>60.0</td>\n",
       "      <td>64.0</td>\n",
       "      <td>59.0</td>\n",
       "      <td>47.0</td>\n",
       "      <td>65.0</td>\n",
       "      <td>55.0</td>\n",
       "      <td>58.0</td>\n",
       "      <td>54.0</td>\n",
       "      <td>76.0</td>\n",
       "      <td>35.0</td>\n",
       "      <td>71.0</td>\n",
       "      <td>70.0</td>\n",
       "      <td>45.0</td>\n",
       "      <td>54.0</td>\n",
       "      <td>48.0</td>\n",
       "      <td>65.0</td>\n",
       "      <td>69.0</td>\n",
       "      <td>69.0</td>\n",
       "      <td>6.0</td>\n",
       "      <td>11.0</td>\n",
       "      <td>10.0</td>\n",
       "      <td>8.0</td>\n",
       "      <td>8.0</td>\n",
       "      <td>1</td>\n",
       "      <td>0</td>\n",
       "      <td>0</td>\n",
       "      <td>0</td>\n",
       "      <td>1</td>\n",
       "      <td>0</td>\n",
       "      <td>0</td>\n",
       "      <td>0</td>\n",
       "      <td>0</td>\n",
       "      <td>0</td>\n",
       "      <td>0</td>\n",
       "      <td>1</td>\n",
       "      <td>0</td>\n",
       "      <td>0</td>\n",
       "      <td>0</td>\n",
       "    </tr>\n",
       "    <tr>\n",
       "      <th>2</th>\n",
       "      <td>62.0</td>\n",
       "      <td>66.0</td>\n",
       "      <td>49.0</td>\n",
       "      <td>44.0</td>\n",
       "      <td>71.0</td>\n",
       "      <td>61.0</td>\n",
       "      <td>44.0</td>\n",
       "      <td>51.0</td>\n",
       "      <td>45.0</td>\n",
       "      <td>39.0</td>\n",
       "      <td>64.0</td>\n",
       "      <td>49.0</td>\n",
       "      <td>60.0</td>\n",
       "      <td>64.0</td>\n",
       "      <td>59.0</td>\n",
       "      <td>47.0</td>\n",
       "      <td>65.0</td>\n",
       "      <td>55.0</td>\n",
       "      <td>58.0</td>\n",
       "      <td>54.0</td>\n",
       "      <td>76.0</td>\n",
       "      <td>35.0</td>\n",
       "      <td>63.0</td>\n",
       "      <td>41.0</td>\n",
       "      <td>45.0</td>\n",
       "      <td>54.0</td>\n",
       "      <td>48.0</td>\n",
       "      <td>65.0</td>\n",
       "      <td>66.0</td>\n",
       "      <td>69.0</td>\n",
       "      <td>6.0</td>\n",
       "      <td>11.0</td>\n",
       "      <td>10.0</td>\n",
       "      <td>8.0</td>\n",
       "      <td>8.0</td>\n",
       "      <td>1</td>\n",
       "      <td>0</td>\n",
       "      <td>0</td>\n",
       "      <td>0</td>\n",
       "      <td>1</td>\n",
       "      <td>0</td>\n",
       "      <td>0</td>\n",
       "      <td>0</td>\n",
       "      <td>0</td>\n",
       "      <td>0</td>\n",
       "      <td>0</td>\n",
       "      <td>1</td>\n",
       "      <td>0</td>\n",
       "      <td>0</td>\n",
       "      <td>0</td>\n",
       "    </tr>\n",
       "    <tr>\n",
       "      <th>3</th>\n",
       "      <td>61.0</td>\n",
       "      <td>65.0</td>\n",
       "      <td>48.0</td>\n",
       "      <td>43.0</td>\n",
       "      <td>70.0</td>\n",
       "      <td>60.0</td>\n",
       "      <td>43.0</td>\n",
       "      <td>50.0</td>\n",
       "      <td>44.0</td>\n",
       "      <td>38.0</td>\n",
       "      <td>63.0</td>\n",
       "      <td>48.0</td>\n",
       "      <td>60.0</td>\n",
       "      <td>64.0</td>\n",
       "      <td>59.0</td>\n",
       "      <td>46.0</td>\n",
       "      <td>65.0</td>\n",
       "      <td>54.0</td>\n",
       "      <td>58.0</td>\n",
       "      <td>54.0</td>\n",
       "      <td>76.0</td>\n",
       "      <td>34.0</td>\n",
       "      <td>62.0</td>\n",
       "      <td>40.0</td>\n",
       "      <td>44.0</td>\n",
       "      <td>53.0</td>\n",
       "      <td>47.0</td>\n",
       "      <td>62.0</td>\n",
       "      <td>63.0</td>\n",
       "      <td>66.0</td>\n",
       "      <td>5.0</td>\n",
       "      <td>10.0</td>\n",
       "      <td>9.0</td>\n",
       "      <td>7.0</td>\n",
       "      <td>7.0</td>\n",
       "      <td>1</td>\n",
       "      <td>0</td>\n",
       "      <td>0</td>\n",
       "      <td>0</td>\n",
       "      <td>1</td>\n",
       "      <td>0</td>\n",
       "      <td>0</td>\n",
       "      <td>0</td>\n",
       "      <td>0</td>\n",
       "      <td>0</td>\n",
       "      <td>0</td>\n",
       "      <td>1</td>\n",
       "      <td>0</td>\n",
       "      <td>0</td>\n",
       "      <td>0</td>\n",
       "    </tr>\n",
       "    <tr>\n",
       "      <th>4</th>\n",
       "      <td>61.0</td>\n",
       "      <td>65.0</td>\n",
       "      <td>48.0</td>\n",
       "      <td>43.0</td>\n",
       "      <td>70.0</td>\n",
       "      <td>60.0</td>\n",
       "      <td>43.0</td>\n",
       "      <td>50.0</td>\n",
       "      <td>44.0</td>\n",
       "      <td>38.0</td>\n",
       "      <td>63.0</td>\n",
       "      <td>48.0</td>\n",
       "      <td>60.0</td>\n",
       "      <td>64.0</td>\n",
       "      <td>59.0</td>\n",
       "      <td>46.0</td>\n",
       "      <td>65.0</td>\n",
       "      <td>54.0</td>\n",
       "      <td>58.0</td>\n",
       "      <td>54.0</td>\n",
       "      <td>76.0</td>\n",
       "      <td>34.0</td>\n",
       "      <td>62.0</td>\n",
       "      <td>40.0</td>\n",
       "      <td>44.0</td>\n",
       "      <td>53.0</td>\n",
       "      <td>47.0</td>\n",
       "      <td>62.0</td>\n",
       "      <td>63.0</td>\n",
       "      <td>66.0</td>\n",
       "      <td>5.0</td>\n",
       "      <td>10.0</td>\n",
       "      <td>9.0</td>\n",
       "      <td>7.0</td>\n",
       "      <td>7.0</td>\n",
       "      <td>1</td>\n",
       "      <td>0</td>\n",
       "      <td>0</td>\n",
       "      <td>0</td>\n",
       "      <td>1</td>\n",
       "      <td>0</td>\n",
       "      <td>0</td>\n",
       "      <td>0</td>\n",
       "      <td>0</td>\n",
       "      <td>0</td>\n",
       "      <td>0</td>\n",
       "      <td>1</td>\n",
       "      <td>0</td>\n",
       "      <td>0</td>\n",
       "      <td>0</td>\n",
       "    </tr>\n",
       "  </tbody>\n",
       "</table>\n",
       "</div>"
      ],
      "text/plain": [
       "   overall_rating  potential  crossing  finishing  heading_accuracy  \\\n",
       "0            67.0       71.0      49.0       44.0              71.0   \n",
       "1            67.0       71.0      49.0       44.0              71.0   \n",
       "2            62.0       66.0      49.0       44.0              71.0   \n",
       "3            61.0       65.0      48.0       43.0              70.0   \n",
       "4            61.0       65.0      48.0       43.0              70.0   \n",
       "\n",
       "   short_passing  volleys  dribbling  curve  free_kick_accuracy  long_passing  \\\n",
       "0           61.0     44.0       51.0   45.0                39.0          64.0   \n",
       "1           61.0     44.0       51.0   45.0                39.0          64.0   \n",
       "2           61.0     44.0       51.0   45.0                39.0          64.0   \n",
       "3           60.0     43.0       50.0   44.0                38.0          63.0   \n",
       "4           60.0     43.0       50.0   44.0                38.0          63.0   \n",
       "\n",
       "   ball_control  acceleration  sprint_speed  agility  reactions  balance  \\\n",
       "0          49.0          60.0          64.0     59.0       47.0     65.0   \n",
       "1          49.0          60.0          64.0     59.0       47.0     65.0   \n",
       "2          49.0          60.0          64.0     59.0       47.0     65.0   \n",
       "3          48.0          60.0          64.0     59.0       46.0     65.0   \n",
       "4          48.0          60.0          64.0     59.0       46.0     65.0   \n",
       "\n",
       "   shot_power  jumping  stamina  strength  long_shots  aggression  \\\n",
       "0        55.0     58.0     54.0      76.0        35.0        71.0   \n",
       "1        55.0     58.0     54.0      76.0        35.0        71.0   \n",
       "2        55.0     58.0     54.0      76.0        35.0        63.0   \n",
       "3        54.0     58.0     54.0      76.0        34.0        62.0   \n",
       "4        54.0     58.0     54.0      76.0        34.0        62.0   \n",
       "\n",
       "   interceptions  positioning  vision  penalties  marking  standing_tackle  \\\n",
       "0           70.0         45.0    54.0       48.0     65.0             69.0   \n",
       "1           70.0         45.0    54.0       48.0     65.0             69.0   \n",
       "2           41.0         45.0    54.0       48.0     65.0             66.0   \n",
       "3           40.0         44.0    53.0       47.0     62.0             63.0   \n",
       "4           40.0         44.0    53.0       47.0     62.0             63.0   \n",
       "\n",
       "   sliding_tackle  gk_diving  gk_handling  gk_kicking  gk_positioning  \\\n",
       "0            69.0        6.0         11.0        10.0             8.0   \n",
       "1            69.0        6.0         11.0        10.0             8.0   \n",
       "2            69.0        6.0         11.0        10.0             8.0   \n",
       "3            66.0        5.0         10.0         9.0             7.0   \n",
       "4            66.0        5.0         10.0         9.0             7.0   \n",
       "\n",
       "   gk_reflexes  preferred_foot_right  attacking_work_rate_high  \\\n",
       "0          8.0                     1                         0   \n",
       "1          8.0                     1                         0   \n",
       "2          8.0                     1                         0   \n",
       "3          7.0                     1                         0   \n",
       "4          7.0                     1                         0   \n",
       "\n",
       "   attacking_work_rate_lean  attacking_work_rate_low  \\\n",
       "0                         0                        0   \n",
       "1                         0                        0   \n",
       "2                         0                        0   \n",
       "3                         0                        0   \n",
       "4                         0                        0   \n",
       "\n",
       "   attacking_work_rate_medium  attacking_work_rate_normal  \\\n",
       "0                           1                           0   \n",
       "1                           1                           0   \n",
       "2                           1                           0   \n",
       "3                           1                           0   \n",
       "4                           1                           0   \n",
       "\n",
       "   attacking_work_rate_stocky  attacking_work_rate_yes  \\\n",
       "0                           0                        0   \n",
       "1                           0                        0   \n",
       "2                           0                        0   \n",
       "3                           0                        0   \n",
       "4                           0                        0   \n",
       "\n",
       "   defensive_work_rate_high  defensive_work_rate_lean  \\\n",
       "0                         0                         0   \n",
       "1                         0                         0   \n",
       "2                         0                         0   \n",
       "3                         0                         0   \n",
       "4                         0                         0   \n",
       "\n",
       "   defensive_work_rate_low  defensive_work_rate_medium  \\\n",
       "0                        0                           1   \n",
       "1                        0                           1   \n",
       "2                        0                           1   \n",
       "3                        0                           1   \n",
       "4                        0                           1   \n",
       "\n",
       "   defensive_work_rate_normal  defensive_work_rate_stocky  \\\n",
       "0                           0                           0   \n",
       "1                           0                           0   \n",
       "2                           0                           0   \n",
       "3                           0                           0   \n",
       "4                           0                           0   \n",
       "\n",
       "   defensive_work_rate_yes  \n",
       "0                        0  \n",
       "1                        0  \n",
       "2                        0  \n",
       "3                        0  \n",
       "4                        0  "
      ]
     },
     "execution_count": 28,
     "metadata": {},
     "output_type": "execute_result"
    }
   ],
   "source": [
    "df = pd.get_dummies(df, drop_first=True)\n",
    "df.head()"
   ]
  },
  {
   "cell_type": "code",
   "execution_count": 29,
   "metadata": {},
   "outputs": [],
   "source": [
    "x = df.drop(columns='overall_rating')\n",
    "y = df[['overall_rating']]"
   ]
  },
  {
   "cell_type": "code",
   "execution_count": 30,
   "metadata": {},
   "outputs": [],
   "source": [
    "x_num = x.iloc[:,:-15]\n",
    "x_cat = x.iloc[:,-15:]"
   ]
  },
  {
   "cell_type": "code",
   "execution_count": 31,
   "metadata": {},
   "outputs": [
    {
     "name": "stderr",
     "output_type": "stream",
     "text": [
      "C:\\Users\\Divyajeet\\anaconda3\\lib\\site-packages\\seaborn\\_decorators.py:43: FutureWarning: Pass the following variable as a keyword arg: x. From version 0.12, the only valid positional argument will be `data`, and passing other arguments without an explicit keyword will result in an error or misinterpretation.\n",
      "  FutureWarning\n"
     ]
    },
    {
     "data": {
      "image/png": "[encoded data removed]",
      "text/plain": [
       "<Figure size 432x288 with 1 Axes>"
      ]
     },
     "metadata": {
      "needs_background": "light"
     },
     "output_type": "display_data"
    },
    {
     "name": "stderr",
     "output_type": "stream",
     "text": [
      "C:\\Users\\Divyajeet\\anaconda3\\lib\\site-packages\\seaborn\\_decorators.py:43: FutureWarning: Pass the following variable as a keyword arg: x. From version 0.12, the only valid positional argument will be `data`, and passing other arguments without an explicit keyword will result in an error or misinterpretation.\n",
      "  FutureWarning\n"
     ]
    },
    {
     "data": {
      "image/png": "[encoded data removed]",
      "text/plain": [
       "<Figure size 432x288 with 1 Axes>"
      ]
     },
     "metadata": {
      "needs_background": "light"
     },
     "output_type": "display_data"
    },
    {
     "name": "stderr",
     "output_type": "stream",
     "text": [
      "C:\\Users\\Divyajeet\\anaconda3\\lib\\site-packages\\seaborn\\_decorators.py:43: FutureWarning: Pass the following variable as a keyword arg: x. From version 0.12, the only valid positional argument will be `data`, and passing other arguments without an explicit keyword will result in an error or misinterpretation.\n",
      "  FutureWarning\n"
     ]
    },
    {
     "data": {
      "image/png": "[encoded data removed]",
      "text/plain": [
       "<Figure size 432x288 with 1 Axes>"
      ]
     },
     "metadata": {
      "needs_background": "light"
     },
     "output_type": "display_data"
    },
    {
     "name": "stderr",
     "output_type": "stream",
     "text": [
      "C:\\Users\\Divyajeet\\anaconda3\\lib\\site-packages\\seaborn\\_decorators.py:43: FutureWarning: Pass the following variable as a keyword arg: x. From version 0.12, the only valid positional argument will be `data`, and passing other arguments without an explicit keyword will result in an error or misinterpretation.\n",
      "  FutureWarning\n"
     ]
    },
    {
     "data": {
      "image/png": "[encoded data removed]",
      "text/plain": [
       "<Figure size 432x288 with 1 Axes>"
      ]
     },
     "metadata": {
      "needs_background": "light"
     },
     "output_type": "display_data"
    },
    {
     "name": "stderr",
     "output_type": "stream",
     "text": [
      "C:\\Users\\Divyajeet\\anaconda3\\lib\\site-packages\\seaborn\\_decorators.py:43: FutureWarning: Pass the following variable as a keyword arg: x. From version 0.12, the only valid positional argument will be `data`, and passing other arguments without an explicit keyword will result in an error or misinterpretation.\n",
      "  FutureWarning\n"
     ]
    },
    {
     "data": {
      "image/png": "[encoded data removed]",
      "text/plain": [
       "<Figure size 432x288 with 1 Axes>"
      ]
     },
     "metadata": {
      "needs_background": "light"
     },
     "output_type": "display_data"
    },
    {
     "name": "stderr",
     "output_type": "stream",
     "text": [
      "C:\\Users\\Divyajeet\\anaconda3\\lib\\site-packages\\seaborn\\_decorators.py:43: FutureWarning: Pass the following variable as a keyword arg: x. From version 0.12, the only valid positional argument will be `data`, and passing other arguments without an explicit keyword will result in an error or misinterpretation.\n",
      "  FutureWarning\n"
     ]
    },
    {
     "data": {
      "image/png": "[encoded data removed]",
      "text/plain": [
       "<Figure size 432x288 with 1 Axes>"
      ]
     },
     "metadata": {
      "needs_background": "light"
     },
     "output_type": "display_data"
    },
    {
     "name": "stderr",
     "output_type": "stream",
     "text": [
      "C:\\Users\\Divyajeet\\anaconda3\\lib\\site-packages\\seaborn\\_decorators.py:43: FutureWarning: Pass the following variable as a keyword arg: x. From version 0.12, the only valid positional argument will be `data`, and passing other arguments without an explicit keyword will result in an error or misinterpretation.\n",
      "  FutureWarning\n"
     ]
    },
    {
     "data": {
      "image/png": "[encoded data removed]",
      "text/plain": [
       "<Figure size 432x288 with 1 Axes>"
      ]
     },
     "metadata": {
      "needs_background": "light"
     },
     "output_type": "display_data"
    },
    {
     "name": "stderr",
     "output_type": "stream",
     "text": [
      "C:\\Users\\Divyajeet\\anaconda3\\lib\\site-packages\\seaborn\\_decorators.py:43: FutureWarning: Pass the following variable as a keyword arg: x. From version 0.12, the only valid positional argument will be `data`, and passing other arguments without an explicit keyword will result in an error or misinterpretation.\n",
      "  FutureWarning\n"
     ]
    },
    {
     "data": {
      "image/png": "[encoded data removed]",
      "text/plain": [
       "<Figure size 432x288 with 1 Axes>"
      ]
     },
     "metadata": {
      "needs_background": "light"
     },
     "output_type": "display_data"
    },
    {
     "name": "stderr",
     "output_type": "stream",
     "text": [
      "C:\\Users\\Divyajeet\\anaconda3\\lib\\site-packages\\seaborn\\_decorators.py:43: FutureWarning: Pass the following variable as a keyword arg: x. From version 0.12, the only valid positional argument will be `data`, and passing other arguments without an explicit keyword will result in an error or misinterpretation.\n",
      "  FutureWarning\n"
     ]
    },
    {
     "data": {
      "image/png": "[encoded data removed]",
      "text/plain": [
       "<Figure size 432x288 with 1 Axes>"
      ]
     },
     "metadata": {
      "needs_background": "light"
     },
     "output_type": "display_data"
    },
    {
     "name": "stderr",
     "output_type": "stream",
     "text": [
      "C:\\Users\\Divyajeet\\anaconda3\\lib\\site-packages\\seaborn\\_decorators.py:43: FutureWarning: Pass the following variable as a keyword arg: x. From version 0.12, the only valid positional argument will be `data`, and passing other arguments without an explicit keyword will result in an error or misinterpretation.\n",
      "  FutureWarning\n"
     ]
    },
    {
     "data": {
      "image/png": "[encoded data removed]",
      "text/plain": [
       "<Figure size 432x288 with 1 Axes>"
      ]
     },
     "metadata": {
      "needs_background": "light"
     },
     "output_type": "display_data"
    },
    {
     "name": "stderr",
     "output_type": "stream",
     "text": [
      "C:\\Users\\Divyajeet\\anaconda3\\lib\\site-packages\\seaborn\\_decorators.py:43: FutureWarning: Pass the following variable as a keyword arg: x. From version 0.12, the only valid positional argument will be `data`, and passing other arguments without an explicit keyword will result in an error or misinterpretation.\n",
      "  FutureWarning\n"
     ]
    },
    {
     "data": {
      "image/png": "[encoded data removed]",
      "text/plain": [
       "<Figure size 432x288 with 1 Axes>"
      ]
     },
     "metadata": {
      "needs_background": "light"
     },
     "output_type": "display_data"
    },
    {
     "name": "stderr",
     "output_type": "stream",
     "text": [
      "C:\\Users\\Divyajeet\\anaconda3\\lib\\site-packages\\seaborn\\_decorators.py:43: FutureWarning: Pass the following variable as a keyword arg: x. From version 0.12, the only valid positional argument will be `data`, and passing other arguments without an explicit keyword will result in an error or misinterpretation.\n",
      "  FutureWarning\n"
     ]
    },
    {
     "data": {
      "image/png": "[encoded data removed]",
      "text/plain": [
       "<Figure size 432x288 with 1 Axes>"
      ]
     },
     "metadata": {
      "needs_background": "light"
     },
     "output_type": "display_data"
    },
    {
     "name": "stderr",
     "output_type": "stream",
     "text": [
      "C:\\Users\\Divyajeet\\anaconda3\\lib\\site-packages\\seaborn\\_decorators.py:43: FutureWarning: Pass the following variable as a keyword arg: x. From version 0.12, the only valid positional argument will be `data`, and passing other arguments without an explicit keyword will result in an error or misinterpretation.\n",
      "  FutureWarning\n"
     ]
    },
    {
     "data": {
      "image/png": "[encoded data removed]",
      "text/plain": [
       "<Figure size 432x288 with 1 Axes>"
      ]
     },
     "metadata": {
      "needs_background": "light"
     },
     "output_type": "display_data"
    },
    {
     "name": "stderr",
     "output_type": "stream",
     "text": [
      "C:\\Users\\Divyajeet\\anaconda3\\lib\\site-packages\\seaborn\\_decorators.py:43: FutureWarning: Pass the following variable as a keyword arg: x. From version 0.12, the only valid positional argument will be `data`, and passing other arguments without an explicit keyword will result in an error or misinterpretation.\n",
      "  FutureWarning\n"
     ]
    },
    {
     "data": {
      "image/png": "[encoded data removed]",
      "text/plain": [
       "<Figure size 432x288 with 1 Axes>"
      ]
     },
     "metadata": {
      "needs_background": "light"
     },
     "output_type": "display_data"
    },
    {
     "name": "stderr",
     "output_type": "stream",
     "text": [
      "C:\\Users\\Divyajeet\\anaconda3\\lib\\site-packages\\seaborn\\_decorators.py:43: FutureWarning: Pass the following variable as a keyword arg: x. From version 0.12, the only valid positional argument will be `data`, and passing other arguments without an explicit keyword will result in an error or misinterpretation.\n",
      "  FutureWarning\n"
     ]
    },
    {
     "data": {
      "image/png": "[encoded data removed]",
      "text/plain": [
       "<Figure size 432x288 with 1 Axes>"
      ]
     },
     "metadata": {
      "needs_background": "light"
     },
     "output_type": "display_data"
    },
    {
     "name": "stderr",
     "output_type": "stream",
     "text": [
      "C:\\Users\\Divyajeet\\anaconda3\\lib\\site-packages\\seaborn\\_decorators.py:43: FutureWarning: Pass the following variable as a keyword arg: x. From version 0.12, the only valid positional argument will be `data`, and passing other arguments without an explicit keyword will result in an error or misinterpretation.\n",
      "  FutureWarning\n"
     ]
    },
    {
     "data": {
      "image/png": "[encoded data removed]",
      "text/plain": [
       "<Figure size 432x288 with 1 Axes>"
      ]
     },
     "metadata": {
      "needs_background": "light"
     },
     "output_type": "display_data"
    },
    {
     "name": "stderr",
     "output_type": "stream",
     "text": [
      "C:\\Users\\Divyajeet\\anaconda3\\lib\\site-packages\\seaborn\\_decorators.py:43: FutureWarning: Pass the following variable as a keyword arg: x. From version 0.12, the only valid positional argument will be `data`, and passing other arguments without an explicit keyword will result in an error or misinterpretation.\n",
      "  FutureWarning\n"
     ]
    },
    {
     "data": {
      "image/png": "[encoded data removed]",
      "text/plain": [
       "<Figure size 432x288 with 1 Axes>"
      ]
     },
     "metadata": {
      "needs_background": "light"
     },
     "output_type": "display_data"
    },
    {
     "name": "stderr",
     "output_type": "stream",
     "text": [
      "C:\\Users\\Divyajeet\\anaconda3\\lib\\site-packages\\seaborn\\_decorators.py:43: FutureWarning: Pass the following variable as a keyword arg: x. From version 0.12, the only valid positional argument will be `data`, and passing other arguments without an explicit keyword will result in an error or misinterpretation.\n",
      "  FutureWarning\n"
     ]
    },
    {
     "data": {
      "image/png": "[encoded data removed]",
      "text/plain": [
       "<Figure size 432x288 with 1 Axes>"
      ]
     },
     "metadata": {
      "needs_background": "light"
     },
     "output_type": "display_data"
    },
    {
     "name": "stderr",
     "output_type": "stream",
     "text": [
      "C:\\Users\\Divyajeet\\anaconda3\\lib\\site-packages\\seaborn\\_decorators.py:43: FutureWarning: Pass the following variable as a keyword arg: x. From version 0.12, the only valid positional argument will be `data`, and passing other arguments without an explicit keyword will result in an error or misinterpretation.\n",
      "  FutureWarning\n"
     ]
    },
    {
     "data": {
      "image/png": "[encoded data removed]",
      "text/plain": [
       "<Figure size 432x288 with 1 Axes>"
      ]
     },
     "metadata": {
      "needs_background": "light"
     },
     "output_type": "display_data"
    },
    {
     "name": "stderr",
     "output_type": "stream",
     "text": [
      "C:\\Users\\Divyajeet\\anaconda3\\lib\\site-packages\\seaborn\\_decorators.py:43: FutureWarning: Pass the following variable as a keyword arg: x. From version 0.12, the only valid positional argument will be `data`, and passing other arguments without an explicit keyword will result in an error or misinterpretation.\n",
      "  FutureWarning\n"
     ]
    },
    {
     "data": {
      "image/png": "[encoded data removed]",
      "text/plain": [
       "<Figure size 432x288 with 1 Axes>"
      ]
     },
     "metadata": {
      "needs_background": "light"
     },
     "output_type": "display_data"
    },
    {
     "name": "stderr",
     "output_type": "stream",
     "text": [
      "C:\\Users\\Divyajeet\\anaconda3\\lib\\site-packages\\seaborn\\_decorators.py:43: FutureWarning: Pass the following variable as a keyword arg: x. From version 0.12, the only valid positional argument will be `data`, and passing other arguments without an explicit keyword will result in an error or misinterpretation.\n",
      "  FutureWarning\n"
     ]
    },
    {
     "data": {
      "image/png": "[encoded data removed]",
      "text/plain": [
       "<Figure size 432x288 with 1 Axes>"
      ]
     },
     "metadata": {
      "needs_background": "light"
     },
     "output_type": "display_data"
    },
    {
     "name": "stderr",
     "output_type": "stream",
     "text": [
      "C:\\Users\\Divyajeet\\anaconda3\\lib\\site-packages\\seaborn\\_decorators.py:43: FutureWarning: Pass the following variable as a keyword arg: x. From version 0.12, the only valid positional argument will be `data`, and passing other arguments without an explicit keyword will result in an error or misinterpretation.\n",
      "  FutureWarning\n"
     ]
    },
    {
     "data": {
      "image/png": "[encoded data removed]",
      "text/plain": [
       "<Figure size 432x288 with 1 Axes>"
      ]
     },
     "metadata": {
      "needs_background": "light"
     },
     "output_type": "display_data"
    },
    {
     "name": "stderr",
     "output_type": "stream",
     "text": [
      "C:\\Users\\Divyajeet\\anaconda3\\lib\\site-packages\\seaborn\\_decorators.py:43: FutureWarning: Pass the following variable as a keyword arg: x. From version 0.12, the only valid positional argument will be `data`, and passing other arguments without an explicit keyword will result in an error or misinterpretation.\n",
      "  FutureWarning\n"
     ]
    },
    {
     "data": {
      "image/png": "[encoded data removed]",
      "text/plain": [
       "<Figure size 432x288 with 1 Axes>"
      ]
     },
     "metadata": {
      "needs_background": "light"
     },
     "output_type": "display_data"
    },
    {
     "name": "stderr",
     "output_type": "stream",
     "text": [
      "C:\\Users\\Divyajeet\\anaconda3\\lib\\site-packages\\seaborn\\_decorators.py:43: FutureWarning: Pass the following variable as a keyword arg: x. From version 0.12, the only valid positional argument will be `data`, and passing other arguments without an explicit keyword will result in an error or misinterpretation.\n",
      "  FutureWarning\n"
     ]
    },
    {
     "data": {
      "image/png": "[encoded data removed]",
      "text/plain": [
       "<Figure size 432x288 with 1 Axes>"
      ]
     },
     "metadata": {
      "needs_background": "light"
     },
     "output_type": "display_data"
    },
    {
     "name": "stderr",
     "output_type": "stream",
     "text": [
      "C:\\Users\\Divyajeet\\anaconda3\\lib\\site-packages\\seaborn\\_decorators.py:43: FutureWarning: Pass the following variable as a keyword arg: x. From version 0.12, the only valid positional argument will be `data`, and passing other arguments without an explicit keyword will result in an error or misinterpretation.\n",
      "  FutureWarning\n"
     ]
    },
    {
     "data": {
      "image/png": "[encoded data removed]",
      "text/plain": [
       "<Figure size 432x288 with 1 Axes>"
      ]
     },
     "metadata": {
      "needs_background": "light"
     },
     "output_type": "display_data"
    },
    {
     "name": "stderr",
     "output_type": "stream",
     "text": [
      "C:\\Users\\Divyajeet\\anaconda3\\lib\\site-packages\\seaborn\\_decorators.py:43: FutureWarning: Pass the following variable as a keyword arg: x. From version 0.12, the only valid positional argument will be `data`, and passing other arguments without an explicit keyword will result in an error or misinterpretation.\n",
      "  FutureWarning\n"
     ]
    },
    {
     "data": {
      "image/png": "[encoded data removed]",
      "text/plain": [
       "<Figure size 432x288 with 1 Axes>"
      ]
     },
     "metadata": {
      "needs_background": "light"
     },
     "output_type": "display_data"
    },
    {
     "name": "stderr",
     "output_type": "stream",
     "text": [
      "C:\\Users\\Divyajeet\\anaconda3\\lib\\site-packages\\seaborn\\_decorators.py:43: FutureWarning: Pass the following variable as a keyword arg: x. From version 0.12, the only valid positional argument will be `data`, and passing other arguments without an explicit keyword will result in an error or misinterpretation.\n",
      "  FutureWarning\n"
     ]
    },
    {
     "data": {
      "image/png": "[encoded data removed]",
      "text/plain": [
       "<Figure size 432x288 with 1 Axes>"
      ]
     },
     "metadata": {
      "needs_background": "light"
     },
     "output_type": "display_data"
    },
    {
     "name": "stderr",
     "output_type": "stream",
     "text": [
      "C:\\Users\\Divyajeet\\anaconda3\\lib\\site-packages\\seaborn\\_decorators.py:43: FutureWarning: Pass the following variable as a keyword arg: x. From version 0.12, the only valid positional argument will be `data`, and passing other arguments without an explicit keyword will result in an error or misinterpretation.\n",
      "  FutureWarning\n"
     ]
    },
    {
     "data": {
      "image/png": "[encoded data removed]",
      "text/plain": [
       "<Figure size 432x288 with 1 Axes>"
      ]
     },
     "metadata": {
      "needs_background": "light"
     },
     "output_type": "display_data"
    },
    {
     "name": "stderr",
     "output_type": "stream",
     "text": [
      "C:\\Users\\Divyajeet\\anaconda3\\lib\\site-packages\\seaborn\\_decorators.py:43: FutureWarning: Pass the following variable as a keyword arg: x. From version 0.12, the only valid positional argument will be `data`, and passing other arguments without an explicit keyword will result in an error or misinterpretation.\n",
      "  FutureWarning\n"
     ]
    },
    {
     "data": {
      "image/png": "[encoded data removed]",
      "text/plain": [
       "<Figure size 432x288 with 1 Axes>"
      ]
     },
     "metadata": {
      "needs_background": "light"
     },
     "output_type": "display_data"
    },
    {
     "name": "stderr",
     "output_type": "stream",
     "text": [
      "C:\\Users\\Divyajeet\\anaconda3\\lib\\site-packages\\seaborn\\_decorators.py:43: FutureWarning: Pass the following variable as a keyword arg: x. From version 0.12, the only valid positional argument will be `data`, and passing other arguments without an explicit keyword will result in an error or misinterpretation.\n",
      "  FutureWarning\n"
     ]
    },
    {
     "data": {
      "image/png": "[encoded data removed]",
      "text/plain": [
       "<Figure size 432x288 with 1 Axes>"
      ]
     },
     "metadata": {
      "needs_background": "light"
     },
     "output_type": "display_data"
    },
    {
     "name": "stderr",
     "output_type": "stream",
     "text": [
      "C:\\Users\\Divyajeet\\anaconda3\\lib\\site-packages\\seaborn\\_decorators.py:43: FutureWarning: Pass the following variable as a keyword arg: x. From version 0.12, the only valid positional argument will be `data`, and passing other arguments without an explicit keyword will result in an error or misinterpretation.\n",
      "  FutureWarning\n"
     ]
    },
    {
     "data": {
      "image/png": "[encoded data removed]",
      "text/plain": [
       "<Figure size 432x288 with 1 Axes>"
      ]
     },
     "metadata": {
      "needs_background": "light"
     },
     "output_type": "display_data"
    },
    {
     "name": "stderr",
     "output_type": "stream",
     "text": [
      "C:\\Users\\Divyajeet\\anaconda3\\lib\\site-packages\\seaborn\\_decorators.py:43: FutureWarning: Pass the following variable as a keyword arg: x. From version 0.12, the only valid positional argument will be `data`, and passing other arguments without an explicit keyword will result in an error or misinterpretation.\n",
      "  FutureWarning\n"
     ]
    },
    {
     "data": {
      "image/png": "[encoded data removed]",
      "text/plain": [
       "<Figure size 432x288 with 1 Axes>"
      ]
     },
     "metadata": {
      "needs_background": "light"
     },
     "output_type": "display_data"
    },
    {
     "name": "stderr",
     "output_type": "stream",
     "text": [
      "C:\\Users\\Divyajeet\\anaconda3\\lib\\site-packages\\seaborn\\_decorators.py:43: FutureWarning: Pass the following variable as a keyword arg: x. From version 0.12, the only valid positional argument will be `data`, and passing other arguments without an explicit keyword will result in an error or misinterpretation.\n",
      "  FutureWarning\n"
     ]
    },
    {
     "data": {
      "image/png": "[encoded data removed]",
      "text/plain": [
       "<Figure size 432x288 with 1 Axes>"
      ]
     },
     "metadata": {
      "needs_background": "light"
     },
     "output_type": "display_data"
    },
    {
     "name": "stderr",
     "output_type": "stream",
     "text": [
      "C:\\Users\\Divyajeet\\anaconda3\\lib\\site-packages\\seaborn\\_decorators.py:43: FutureWarning: Pass the following variable as a keyword arg: x. From version 0.12, the only valid positional argument will be `data`, and passing other arguments without an explicit keyword will result in an error or misinterpretation.\n",
      "  FutureWarning\n"
     ]
    },
    {
     "data": {
      "image/png": "[encoded data removed]",
      "text/plain": [
       "<Figure size 432x288 with 1 Axes>"
      ]
     },
     "metadata": {
      "needs_background": "light"
     },
     "output_type": "display_data"
    }
   ],
   "source": [
    "for i in x_num.columns:\n",
    "    sns.boxplot(x_num[i])\n",
    "    plt.show()"
   ]
  },
  {
   "cell_type": "code",
   "execution_count": 32,
   "metadata": {},
   "outputs": [],
   "source": [
    "for i in x_num.columns:\n",
    "    q1 = x_num[i].quantile(0.25)\n",
    "    q3 = x_num[i].quantile(0.75)\n",
    "    \n",
    "    iqr = q3-q1\n",
    "    \n",
    "    ub = q3 + iqr*1.5\n",
    "    lb = q1 - iqr*1.5\n",
    "    \n",
    "#     x_num.loc[ (x_num[i] > ub) , i] = x_num[i].quantile(0.99)\n",
    "    x_num.loc[ (x_num[i] < lb) , i] = x_num[i].quantile(0.01)"
   ]
  },
  {
   "cell_type": "code",
   "execution_count": 33,
   "metadata": {},
   "outputs": [
    {
     "name": "stderr",
     "output_type": "stream",
     "text": [
      "C:\\Users\\Divyajeet\\anaconda3\\lib\\site-packages\\seaborn\\_decorators.py:43: FutureWarning: Pass the following variable as a keyword arg: x. From version 0.12, the only valid positional argument will be `data`, and passing other arguments without an explicit keyword will result in an error or misinterpretation.\n",
      "  FutureWarning\n"
     ]
    },
    {
     "data": {
      "image/png": "[encoded data removed]",
      "text/plain": [
       "<Figure size 432x288 with 1 Axes>"
      ]
     },
     "metadata": {
      "needs_background": "light"
     },
     "output_type": "display_data"
    },
    {
     "name": "stderr",
     "output_type": "stream",
     "text": [
      "C:\\Users\\Divyajeet\\anaconda3\\lib\\site-packages\\seaborn\\_decorators.py:43: FutureWarning: Pass the following variable as a keyword arg: x. From version 0.12, the only valid positional argument will be `data`, and passing other arguments without an explicit keyword will result in an error or misinterpretation.\n",
      "  FutureWarning\n"
     ]
    },
    {
     "data": {
      "image/png": "[encoded data removed]",
      "text/plain": [
       "<Figure size 432x288 with 1 Axes>"
      ]
     },
     "metadata": {
      "needs_background": "light"
     },
     "output_type": "display_data"
    },
    {
     "name": "stderr",
     "output_type": "stream",
     "text": [
      "C:\\Users\\Divyajeet\\anaconda3\\lib\\site-packages\\seaborn\\_decorators.py:43: FutureWarning: Pass the following variable as a keyword arg: x. From version 0.12, the only valid positional argument will be `data`, and passing other arguments without an explicit keyword will result in an error or misinterpretation.\n",
      "  FutureWarning\n"
     ]
    },
    {
     "data": {
      "image/png": "[encoded data removed]",
      "text/plain": [
       "<Figure size 432x288 with 1 Axes>"
      ]
     },
     "metadata": {
      "needs_background": "light"
     },
     "output_type": "display_data"
    },
    {
     "name": "stderr",
     "output_type": "stream",
     "text": [
      "C:\\Users\\Divyajeet\\anaconda3\\lib\\site-packages\\seaborn\\_decorators.py:43: FutureWarning: Pass the following variable as a keyword arg: x. From version 0.12, the only valid positional argument will be `data`, and passing other arguments without an explicit keyword will result in an error or misinterpretation.\n",
      "  FutureWarning\n"
     ]
    },
    {
     "data": {
      "image/png": "[encoded data removed]",
      "text/plain": [
       "<Figure size 432x288 with 1 Axes>"
      ]
     },
     "metadata": {
      "needs_background": "light"
     },
     "output_type": "display_data"
    },
    {
     "name": "stderr",
     "output_type": "stream",
     "text": [
      "C:\\Users\\Divyajeet\\anaconda3\\lib\\site-packages\\seaborn\\_decorators.py:43: FutureWarning: Pass the following variable as a keyword arg: x. From version 0.12, the only valid positional argument will be `data`, and passing other arguments without an explicit keyword will result in an error or misinterpretation.\n",
      "  FutureWarning\n"
     ]
    },
    {
     "data": {
      "image/png": "[encoded data removed]",
      "text/plain": [
       "<Figure size 432x288 with 1 Axes>"
      ]
     },
     "metadata": {
      "needs_background": "light"
     },
     "output_type": "display_data"
    },
    {
     "name": "stderr",
     "output_type": "stream",
     "text": [
      "C:\\Users\\Divyajeet\\anaconda3\\lib\\site-packages\\seaborn\\_decorators.py:43: FutureWarning: Pass the following variable as a keyword arg: x. From version 0.12, the only valid positional argument will be `data`, and passing other arguments without an explicit keyword will result in an error or misinterpretation.\n",
      "  FutureWarning\n"
     ]
    },
    {
     "data": {
      "image/png": "[encoded data removed]",
      "text/plain": [
       "<Figure size 432x288 with 1 Axes>"
      ]
     },
     "metadata": {
      "needs_background": "light"
     },
     "output_type": "display_data"
    },
    {
     "name": "stderr",
     "output_type": "stream",
     "text": [
      "C:\\Users\\Divyajeet\\anaconda3\\lib\\site-packages\\seaborn\\_decorators.py:43: FutureWarning: Pass the following variable as a keyword arg: x. From version 0.12, the only valid positional argument will be `data`, and passing other arguments without an explicit keyword will result in an error or misinterpretation.\n",
      "  FutureWarning\n"
     ]
    },
    {
     "data": {
      "image/png": "[encoded data removed]",
      "text/plain": [
       "<Figure size 432x288 with 1 Axes>"
      ]
     },
     "metadata": {
      "needs_background": "light"
     },
     "output_type": "display_data"
    },
    {
     "name": "stderr",
     "output_type": "stream",
     "text": [
      "C:\\Users\\Divyajeet\\anaconda3\\lib\\site-packages\\seaborn\\_decorators.py:43: FutureWarning: Pass the following variable as a keyword arg: x. From version 0.12, the only valid positional argument will be `data`, and passing other arguments without an explicit keyword will result in an error or misinterpretation.\n",
      "  FutureWarning\n"
     ]
    },
    {
     "data": {
      "image/png": "[encoded data removed]",
      "text/plain": [
       "<Figure size 432x288 with 1 Axes>"
      ]
     },
     "metadata": {
      "needs_background": "light"
     },
     "output_type": "display_data"
    },
    {
     "name": "stderr",
     "output_type": "stream",
     "text": [
      "C:\\Users\\Divyajeet\\anaconda3\\lib\\site-packages\\seaborn\\_decorators.py:43: FutureWarning: Pass the following variable as a keyword arg: x. From version 0.12, the only valid positional argument will be `data`, and passing other arguments without an explicit keyword will result in an error or misinterpretation.\n",
      "  FutureWarning\n"
     ]
    },
    {
     "data": {
      "image/png": "[encoded data removed]",
      "text/plain": [
       "<Figure size 432x288 with 1 Axes>"
      ]
     },
     "metadata": {
      "needs_background": "light"
     },
     "output_type": "display_data"
    },
    {
     "name": "stderr",
     "output_type": "stream",
     "text": [
      "C:\\Users\\Divyajeet\\anaconda3\\lib\\site-packages\\seaborn\\_decorators.py:43: FutureWarning: Pass the following variable as a keyword arg: x. From version 0.12, the only valid positional argument will be `data`, and passing other arguments without an explicit keyword will result in an error or misinterpretation.\n",
      "  FutureWarning\n"
     ]
    },
    {
     "data": {
      "image/png": "[encoded data removed]",
      "text/plain": [
       "<Figure size 432x288 with 1 Axes>"
      ]
     },
     "metadata": {
      "needs_background": "light"
     },
     "output_type": "display_data"
    },
    {
     "name": "stderr",
     "output_type": "stream",
     "text": [
      "C:\\Users\\Divyajeet\\anaconda3\\lib\\site-packages\\seaborn\\_decorators.py:43: FutureWarning: Pass the following variable as a keyword arg: x. From version 0.12, the only valid positional argument will be `data`, and passing other arguments without an explicit keyword will result in an error or misinterpretation.\n",
      "  FutureWarning\n"
     ]
    },
    {
     "data": {
      "image/png": "[encoded data removed]",
      "text/plain": [
       "<Figure size 432x288 with 1 Axes>"
      ]
     },
     "metadata": {
      "needs_background": "light"
     },
     "output_type": "display_data"
    },
    {
     "name": "stderr",
     "output_type": "stream",
     "text": [
      "C:\\Users\\Divyajeet\\anaconda3\\lib\\site-packages\\seaborn\\_decorators.py:43: FutureWarning: Pass the following variable as a keyword arg: x. From version 0.12, the only valid positional argument will be `data`, and passing other arguments without an explicit keyword will result in an error or misinterpretation.\n",
      "  FutureWarning\n"
     ]
    },
    {
     "data": {
      "image/png": "[encoded data removed]",
      "text/plain": [
       "<Figure size 432x288 with 1 Axes>"
      ]
     },
     "metadata": {
      "needs_background": "light"
     },
     "output_type": "display_data"
    },
    {
     "name": "stderr",
     "output_type": "stream",
     "text": [
      "C:\\Users\\Divyajeet\\anaconda3\\lib\\site-packages\\seaborn\\_decorators.py:43: FutureWarning: Pass the following variable as a keyword arg: x. From version 0.12, the only valid positional argument will be `data`, and passing other arguments without an explicit keyword will result in an error or misinterpretation.\n",
      "  FutureWarning\n"
     ]
    },
    {
     "data": {
      "image/png": "[encoded data removed]",
      "text/plain": [
       "<Figure size 432x288 with 1 Axes>"
      ]
     },
     "metadata": {
      "needs_background": "light"
     },
     "output_type": "display_data"
    },
    {
     "name": "stderr",
     "output_type": "stream",
     "text": [
      "C:\\Users\\Divyajeet\\anaconda3\\lib\\site-packages\\seaborn\\_decorators.py:43: FutureWarning: Pass the following variable as a keyword arg: x. From version 0.12, the only valid positional argument will be `data`, and passing other arguments without an explicit keyword will result in an error or misinterpretation.\n",
      "  FutureWarning\n"
     ]
    },
    {
     "data": {
      "image/png": "[encoded data removed]",
      "text/plain": [
       "<Figure size 432x288 with 1 Axes>"
      ]
     },
     "metadata": {
      "needs_background": "light"
     },
     "output_type": "display_data"
    },
    {
     "name": "stderr",
     "output_type": "stream",
     "text": [
      "C:\\Users\\Divyajeet\\anaconda3\\lib\\site-packages\\seaborn\\_decorators.py:43: FutureWarning: Pass the following variable as a keyword arg: x. From version 0.12, the only valid positional argument will be `data`, and passing other arguments without an explicit keyword will result in an error or misinterpretation.\n",
      "  FutureWarning\n"
     ]
    },
    {
     "data": {
      "image/png": "[encoded data removed]",
      "text/plain": [
       "<Figure size 432x288 with 1 Axes>"
      ]
     },
     "metadata": {
      "needs_background": "light"
     },
     "output_type": "display_data"
    },
    {
     "name": "stderr",
     "output_type": "stream",
     "text": [
      "C:\\Users\\Divyajeet\\anaconda3\\lib\\site-packages\\seaborn\\_decorators.py:43: FutureWarning: Pass the following variable as a keyword arg: x. From version 0.12, the only valid positional argument will be `data`, and passing other arguments without an explicit keyword will result in an error or misinterpretation.\n",
      "  FutureWarning\n"
     ]
    },
    {
     "data": {
      "image/png": "[encoded data removed]",
      "text/plain": [
       "<Figure size 432x288 with 1 Axes>"
      ]
     },
     "metadata": {
      "needs_background": "light"
     },
     "output_type": "display_data"
    },
    {
     "name": "stderr",
     "output_type": "stream",
     "text": [
      "C:\\Users\\Divyajeet\\anaconda3\\lib\\site-packages\\seaborn\\_decorators.py:43: FutureWarning: Pass the following variable as a keyword arg: x. From version 0.12, the only valid positional argument will be `data`, and passing other arguments without an explicit keyword will result in an error or misinterpretation.\n",
      "  FutureWarning\n"
     ]
    },
    {
     "data": {
      "image/png": "[encoded data removed]",
      "text/plain": [
       "<Figure size 432x288 with 1 Axes>"
      ]
     },
     "metadata": {
      "needs_background": "light"
     },
     "output_type": "display_data"
    },
    {
     "name": "stderr",
     "output_type": "stream",
     "text": [
      "C:\\Users\\Divyajeet\\anaconda3\\lib\\site-packages\\seaborn\\_decorators.py:43: FutureWarning: Pass the following variable as a keyword arg: x. From version 0.12, the only valid positional argument will be `data`, and passing other arguments without an explicit keyword will result in an error or misinterpretation.\n",
      "  FutureWarning\n"
     ]
    },
    {
     "data": {
      "image/png": "[encoded data removed]",
      "text/plain": [
       "<Figure size 432x288 with 1 Axes>"
      ]
     },
     "metadata": {
      "needs_background": "light"
     },
     "output_type": "display_data"
    },
    {
     "name": "stderr",
     "output_type": "stream",
     "text": [
      "C:\\Users\\Divyajeet\\anaconda3\\lib\\site-packages\\seaborn\\_decorators.py:43: FutureWarning: Pass the following variable as a keyword arg: x. From version 0.12, the only valid positional argument will be `data`, and passing other arguments without an explicit keyword will result in an error or misinterpretation.\n",
      "  FutureWarning\n"
     ]
    },
    {
     "data": {
      "image/png": "[encoded data removed]",
      "text/plain": [
       "<Figure size 432x288 with 1 Axes>"
      ]
     },
     "metadata": {
      "needs_background": "light"
     },
     "output_type": "display_data"
    },
    {
     "name": "stderr",
     "output_type": "stream",
     "text": [
      "C:\\Users\\Divyajeet\\anaconda3\\lib\\site-packages\\seaborn\\_decorators.py:43: FutureWarning: Pass the following variable as a keyword arg: x. From version 0.12, the only valid positional argument will be `data`, and passing other arguments without an explicit keyword will result in an error or misinterpretation.\n",
      "  FutureWarning\n"
     ]
    },
    {
     "data": {
      "image/png": "[encoded data removed]",
      "text/plain": [
       "<Figure size 432x288 with 1 Axes>"
      ]
     },
     "metadata": {
      "needs_background": "light"
     },
     "output_type": "display_data"
    },
    {
     "name": "stderr",
     "output_type": "stream",
     "text": [
      "C:\\Users\\Divyajeet\\anaconda3\\lib\\site-packages\\seaborn\\_decorators.py:43: FutureWarning: Pass the following variable as a keyword arg: x. From version 0.12, the only valid positional argument will be `data`, and passing other arguments without an explicit keyword will result in an error or misinterpretation.\n",
      "  FutureWarning\n"
     ]
    },
    {
     "data": {
      "image/png": "[encoded data removed]",
      "text/plain": [
       "<Figure size 432x288 with 1 Axes>"
      ]
     },
     "metadata": {
      "needs_background": "light"
     },
     "output_type": "display_data"
    },
    {
     "name": "stderr",
     "output_type": "stream",
     "text": [
      "C:\\Users\\Divyajeet\\anaconda3\\lib\\site-packages\\seaborn\\_decorators.py:43: FutureWarning: Pass the following variable as a keyword arg: x. From version 0.12, the only valid positional argument will be `data`, and passing other arguments without an explicit keyword will result in an error or misinterpretation.\n",
      "  FutureWarning\n"
     ]
    },
    {
     "data": {
      "image/png": "[encoded data removed]",
      "text/plain": [
       "<Figure size 432x288 with 1 Axes>"
      ]
     },
     "metadata": {
      "needs_background": "light"
     },
     "output_type": "display_data"
    },
    {
     "name": "stderr",
     "output_type": "stream",
     "text": [
      "C:\\Users\\Divyajeet\\anaconda3\\lib\\site-packages\\seaborn\\_decorators.py:43: FutureWarning: Pass the following variable as a keyword arg: x. From version 0.12, the only valid positional argument will be `data`, and passing other arguments without an explicit keyword will result in an error or misinterpretation.\n",
      "  FutureWarning\n"
     ]
    },
    {
     "data": {
      "image/png": "[encoded data removed]",
      "text/plain": [
       "<Figure size 432x288 with 1 Axes>"
      ]
     },
     "metadata": {
      "needs_background": "light"
     },
     "output_type": "display_data"
    },
    {
     "name": "stderr",
     "output_type": "stream",
     "text": [
      "C:\\Users\\Divyajeet\\anaconda3\\lib\\site-packages\\seaborn\\_decorators.py:43: FutureWarning: Pass the following variable as a keyword arg: x. From version 0.12, the only valid positional argument will be `data`, and passing other arguments without an explicit keyword will result in an error or misinterpretation.\n",
      "  FutureWarning\n"
     ]
    },
    {
     "data": {
      "image/png": "[encoded data removed]",
      "text/plain": [
       "<Figure size 432x288 with 1 Axes>"
      ]
     },
     "metadata": {
      "needs_background": "light"
     },
     "output_type": "display_data"
    },
    {
     "name": "stderr",
     "output_type": "stream",
     "text": [
      "C:\\Users\\Divyajeet\\anaconda3\\lib\\site-packages\\seaborn\\_decorators.py:43: FutureWarning: Pass the following variable as a keyword arg: x. From version 0.12, the only valid positional argument will be `data`, and passing other arguments without an explicit keyword will result in an error or misinterpretation.\n",
      "  FutureWarning\n"
     ]
    },
    {
     "data": {
      "image/png": "[encoded data removed]",
      "text/plain": [
       "<Figure size 432x288 with 1 Axes>"
      ]
     },
     "metadata": {
      "needs_background": "light"
     },
     "output_type": "display_data"
    },
    {
     "name": "stderr",
     "output_type": "stream",
     "text": [
      "C:\\Users\\Divyajeet\\anaconda3\\lib\\site-packages\\seaborn\\_decorators.py:43: FutureWarning: Pass the following variable as a keyword arg: x. From version 0.12, the only valid positional argument will be `data`, and passing other arguments without an explicit keyword will result in an error or misinterpretation.\n",
      "  FutureWarning\n"
     ]
    },
    {
     "data": {
      "image/png": "[encoded data removed]",
      "text/plain": [
       "<Figure size 432x288 with 1 Axes>"
      ]
     },
     "metadata": {
      "needs_background": "light"
     },
     "output_type": "display_data"
    },
    {
     "name": "stderr",
     "output_type": "stream",
     "text": [
      "C:\\Users\\Divyajeet\\anaconda3\\lib\\site-packages\\seaborn\\_decorators.py:43: FutureWarning: Pass the following variable as a keyword arg: x. From version 0.12, the only valid positional argument will be `data`, and passing other arguments without an explicit keyword will result in an error or misinterpretation.\n",
      "  FutureWarning\n"
     ]
    },
    {
     "data": {
      "image/png": "[encoded data removed]",
      "text/plain": [
       "<Figure size 432x288 with 1 Axes>"
      ]
     },
     "metadata": {
      "needs_background": "light"
     },
     "output_type": "display_data"
    },
    {
     "name": "stderr",
     "output_type": "stream",
     "text": [
      "C:\\Users\\Divyajeet\\anaconda3\\lib\\site-packages\\seaborn\\_decorators.py:43: FutureWarning: Pass the following variable as a keyword arg: x. From version 0.12, the only valid positional argument will be `data`, and passing other arguments without an explicit keyword will result in an error or misinterpretation.\n",
      "  FutureWarning\n"
     ]
    },
    {
     "data": {
      "image/png": "[encoded data removed]",
      "text/plain": [
       "<Figure size 432x288 with 1 Axes>"
      ]
     },
     "metadata": {
      "needs_background": "light"
     },
     "output_type": "display_data"
    },
    {
     "name": "stderr",
     "output_type": "stream",
     "text": [
      "C:\\Users\\Divyajeet\\anaconda3\\lib\\site-packages\\seaborn\\_decorators.py:43: FutureWarning: Pass the following variable as a keyword arg: x. From version 0.12, the only valid positional argument will be `data`, and passing other arguments without an explicit keyword will result in an error or misinterpretation.\n",
      "  FutureWarning\n"
     ]
    },
    {
     "data": {
      "image/png": "[encoded data removed]",
      "text/plain": [
       "<Figure size 432x288 with 1 Axes>"
      ]
     },
     "metadata": {
      "needs_background": "light"
     },
     "output_type": "display_data"
    },
    {
     "name": "stderr",
     "output_type": "stream",
     "text": [
      "C:\\Users\\Divyajeet\\anaconda3\\lib\\site-packages\\seaborn\\_decorators.py:43: FutureWarning: Pass the following variable as a keyword arg: x. From version 0.12, the only valid positional argument will be `data`, and passing other arguments without an explicit keyword will result in an error or misinterpretation.\n",
      "  FutureWarning\n"
     ]
    },
    {
     "data": {
      "image/png": "[encoded data removed]",
      "text/plain": [
       "<Figure size 432x288 with 1 Axes>"
      ]
     },
     "metadata": {
      "needs_background": "light"
     },
     "output_type": "display_data"
    },
    {
     "name": "stderr",
     "output_type": "stream",
     "text": [
      "C:\\Users\\Divyajeet\\anaconda3\\lib\\site-packages\\seaborn\\_decorators.py:43: FutureWarning: Pass the following variable as a keyword arg: x. From version 0.12, the only valid positional argument will be `data`, and passing other arguments without an explicit keyword will result in an error or misinterpretation.\n",
      "  FutureWarning\n"
     ]
    },
    {
     "data": {
      "image/png": "[encoded data removed]",
      "text/plain": [
       "<Figure size 432x288 with 1 Axes>"
      ]
     },
     "metadata": {
      "needs_background": "light"
     },
     "output_type": "display_data"
    },
    {
     "name": "stderr",
     "output_type": "stream",
     "text": [
      "C:\\Users\\Divyajeet\\anaconda3\\lib\\site-packages\\seaborn\\_decorators.py:43: FutureWarning: Pass the following variable as a keyword arg: x. From version 0.12, the only valid positional argument will be `data`, and passing other arguments without an explicit keyword will result in an error or misinterpretation.\n",
      "  FutureWarning\n"
     ]
    },
    {
     "data": {
      "image/png": "[encoded data removed]",
      "text/plain": [
       "<Figure size 432x288 with 1 Axes>"
      ]
     },
     "metadata": {
      "needs_background": "light"
     },
     "output_type": "display_data"
    },
    {
     "name": "stderr",
     "output_type": "stream",
     "text": [
      "C:\\Users\\Divyajeet\\anaconda3\\lib\\site-packages\\seaborn\\_decorators.py:43: FutureWarning: Pass the following variable as a keyword arg: x. From version 0.12, the only valid positional argument will be `data`, and passing other arguments without an explicit keyword will result in an error or misinterpretation.\n",
      "  FutureWarning\n"
     ]
    },
    {
     "data": {
      "image/png": "[encoded data removed]",
      "text/plain": [
       "<Figure size 432x288 with 1 Axes>"
      ]
     },
     "metadata": {
      "needs_background": "light"
     },
     "output_type": "display_data"
    },
    {
     "name": "stderr",
     "output_type": "stream",
     "text": [
      "C:\\Users\\Divyajeet\\anaconda3\\lib\\site-packages\\seaborn\\_decorators.py:43: FutureWarning: Pass the following variable as a keyword arg: x. From version 0.12, the only valid positional argument will be `data`, and passing other arguments without an explicit keyword will result in an error or misinterpretation.\n",
      "  FutureWarning\n"
     ]
    },
    {
     "data": {
      "image/png": "[encoded data removed]",
      "text/plain": [
       "<Figure size 432x288 with 1 Axes>"
      ]
     },
     "metadata": {
      "needs_background": "light"
     },
     "output_type": "display_data"
    }
   ],
   "source": [
    "for i in x_num.columns:\n",
    "    sns.boxplot(x_num[i])\n",
    "    plt.show()"
   ]
  },
  {
   "cell_type": "code",
   "execution_count": 34,
   "metadata": {},
   "outputs": [],
   "source": [
    "x = pd.concat([x_num, x_cat], axis=1)"
   ]
  },
  {
   "cell_type": "markdown",
   "metadata": {},
   "source": [
    "## Creating a Base model"
   ]
  },
  {
   "cell_type": "code",
   "execution_count": 35,
   "metadata": {},
   "outputs": [],
   "source": [
    "import statsmodels.api as sm\n",
    "\n",
    "xc = sm.add_constant(x)\n",
    "ols1 = sm.OLS(y, xc)\n",
    "ols_mod = ols1.fit()"
   ]
  },
  {
   "cell_type": "code",
   "execution_count": 36,
   "metadata": {},
   "outputs": [
    {
     "data": {
      "text/html": [
       "<table class=\"simpletable\">\n",
       "<caption>OLS Regression Results</caption>\n",
       "<tr>\n",
       "  <th>Dep. Variable:</th>     <td>overall_rating</td>  <th>  R-squared:         </th>  <td>   0.844</td>  \n",
       "</tr>\n",
       "<tr>\n",
       "  <th>Model:</th>                   <td>OLS</td>       <th>  Adj. R-squared:    </th>  <td>   0.844</td>  \n",
       "</tr>\n",
       "<tr>\n",
       "  <th>Method:</th>             <td>Least Squares</td>  <th>  F-statistic:       </th>  <td>2.181e+04</td> \n",
       "</tr>\n",
       "<tr>\n",
       "  <th>Date:</th>             <td>Mon, 01 Feb 2021</td> <th>  Prob (F-statistic):</th>   <td>  0.00</td>   \n",
       "</tr>\n",
       "<tr>\n",
       "  <th>Time:</th>                 <td>19:33:26</td>     <th>  Log-Likelihood:    </th> <td>-4.4222e+05</td>\n",
       "</tr>\n",
       "<tr>\n",
       "  <th>No. Observations:</th>      <td>181265</td>      <th>  AIC:               </th>  <td>8.845e+05</td> \n",
       "</tr>\n",
       "<tr>\n",
       "  <th>Df Residuals:</th>          <td>181219</td>      <th>  BIC:               </th>  <td>8.850e+05</td> \n",
       "</tr>\n",
       "<tr>\n",
       "  <th>Df Model:</th>              <td>    45</td>      <th>                     </th>      <td> </td>     \n",
       "</tr>\n",
       "<tr>\n",
       "  <th>Covariance Type:</th>      <td>nonrobust</td>    <th>                     </th>      <td> </td>     \n",
       "</tr>\n",
       "</table>\n",
       "<table class=\"simpletable\">\n",
       "<tr>\n",
       "               <td></td>                 <th>coef</th>     <th>std err</th>      <th>t</th>      <th>P>|t|</th>  <th>[0.025</th>    <th>0.975]</th>  \n",
       "</tr>\n",
       "<tr>\n",
       "  <th>const</th>                      <td>   -3.9154</td> <td>    0.106</td> <td>  -36.843</td> <td> 0.000</td> <td>   -4.124</td> <td>   -3.707</td>\n",
       "</tr>\n",
       "<tr>\n",
       "  <th>potential</th>                  <td>    0.3769</td> <td>    0.001</td> <td>  258.723</td> <td> 0.000</td> <td>    0.374</td> <td>    0.380</td>\n",
       "</tr>\n",
       "<tr>\n",
       "  <th>crossing</th>                   <td>    0.0225</td> <td>    0.001</td> <td>   26.788</td> <td> 0.000</td> <td>    0.021</td> <td>    0.024</td>\n",
       "</tr>\n",
       "<tr>\n",
       "  <th>finishing</th>                  <td>    0.0125</td> <td>    0.001</td> <td>   13.680</td> <td> 0.000</td> <td>    0.011</td> <td>    0.014</td>\n",
       "</tr>\n",
       "<tr>\n",
       "  <th>heading_accuracy</th>           <td>    0.0667</td> <td>    0.001</td> <td>   82.598</td> <td> 0.000</td> <td>    0.065</td> <td>    0.068</td>\n",
       "</tr>\n",
       "<tr>\n",
       "  <th>short_passing</th>              <td>    0.0519</td> <td>    0.001</td> <td>   39.510</td> <td> 0.000</td> <td>    0.049</td> <td>    0.054</td>\n",
       "</tr>\n",
       "<tr>\n",
       "  <th>volleys</th>                    <td>    0.0035</td> <td>    0.001</td> <td>    4.309</td> <td> 0.000</td> <td>    0.002</td> <td>    0.005</td>\n",
       "</tr>\n",
       "<tr>\n",
       "  <th>dribbling</th>                  <td>   -0.0070</td> <td>    0.001</td> <td>   -6.300</td> <td> 0.000</td> <td>   -0.009</td> <td>   -0.005</td>\n",
       "</tr>\n",
       "<tr>\n",
       "  <th>curve</th>                      <td>    0.0127</td> <td>    0.001</td> <td>   15.919</td> <td> 0.000</td> <td>    0.011</td> <td>    0.014</td>\n",
       "</tr>\n",
       "<tr>\n",
       "  <th>free_kick_accuracy</th>         <td>    0.0131</td> <td>    0.001</td> <td>   18.446</td> <td> 0.000</td> <td>    0.012</td> <td>    0.014</td>\n",
       "</tr>\n",
       "<tr>\n",
       "  <th>long_passing</th>               <td>    0.0084</td> <td>    0.001</td> <td>    8.966</td> <td> 0.000</td> <td>    0.007</td> <td>    0.010</td>\n",
       "</tr>\n",
       "<tr>\n",
       "  <th>ball_control</th>               <td>    0.1183</td> <td>    0.001</td> <td>   80.898</td> <td> 0.000</td> <td>    0.115</td> <td>    0.121</td>\n",
       "</tr>\n",
       "<tr>\n",
       "  <th>acceleration</th>               <td>    0.0057</td> <td>    0.001</td> <td>    4.207</td> <td> 0.000</td> <td>    0.003</td> <td>    0.008</td>\n",
       "</tr>\n",
       "<tr>\n",
       "  <th>sprint_speed</th>               <td>    0.0115</td> <td>    0.001</td> <td>    8.923</td> <td> 0.000</td> <td>    0.009</td> <td>    0.014</td>\n",
       "</tr>\n",
       "<tr>\n",
       "  <th>agility</th>                    <td>   -0.0075</td> <td>    0.001</td> <td>   -7.369</td> <td> 0.000</td> <td>   -0.009</td> <td>   -0.005</td>\n",
       "</tr>\n",
       "<tr>\n",
       "  <th>reactions</th>                  <td>    0.2177</td> <td>    0.001</td> <td>  198.137</td> <td> 0.000</td> <td>    0.216</td> <td>    0.220</td>\n",
       "</tr>\n",
       "<tr>\n",
       "  <th>balance</th>                    <td>    0.0082</td> <td>    0.001</td> <td>   10.435</td> <td> 0.000</td> <td>    0.007</td> <td>    0.010</td>\n",
       "</tr>\n",
       "<tr>\n",
       "  <th>shot_power</th>                 <td>    0.0168</td> <td>    0.001</td> <td>   19.489</td> <td> 0.000</td> <td>    0.015</td> <td>    0.019</td>\n",
       "</tr>\n",
       "<tr>\n",
       "  <th>jumping</th>                    <td>    0.0157</td> <td>    0.001</td> <td>   21.473</td> <td> 0.000</td> <td>    0.014</td> <td>    0.017</td>\n",
       "</tr>\n",
       "<tr>\n",
       "  <th>stamina</th>                    <td>   -0.0045</td> <td>    0.001</td> <td>   -5.664</td> <td> 0.000</td> <td>   -0.006</td> <td>   -0.003</td>\n",
       "</tr>\n",
       "<tr>\n",
       "  <th>strength</th>                   <td>    0.0632</td> <td>    0.001</td> <td>   75.015</td> <td> 0.000</td> <td>    0.062</td> <td>    0.065</td>\n",
       "</tr>\n",
       "<tr>\n",
       "  <th>long_shots</th>                 <td>   -0.0147</td> <td>    0.001</td> <td>  -16.141</td> <td> 0.000</td> <td>   -0.016</td> <td>   -0.013</td>\n",
       "</tr>\n",
       "<tr>\n",
       "  <th>aggression</th>                 <td>    0.0188</td> <td>    0.001</td> <td>   27.278</td> <td> 0.000</td> <td>    0.017</td> <td>    0.020</td>\n",
       "</tr>\n",
       "<tr>\n",
       "  <th>interceptions</th>              <td>    0.0105</td> <td>    0.001</td> <td>   14.379</td> <td> 0.000</td> <td>    0.009</td> <td>    0.012</td>\n",
       "</tr>\n",
       "<tr>\n",
       "  <th>positioning</th>                <td>   -0.0088</td> <td>    0.001</td> <td>  -11.171</td> <td> 0.000</td> <td>   -0.010</td> <td>   -0.007</td>\n",
       "</tr>\n",
       "<tr>\n",
       "  <th>vision</th>                     <td>   -0.0032</td> <td>    0.001</td> <td>   -3.599</td> <td> 0.000</td> <td>   -0.005</td> <td>   -0.001</td>\n",
       "</tr>\n",
       "<tr>\n",
       "  <th>penalties</th>                  <td>    0.0140</td> <td>    0.001</td> <td>   18.740</td> <td> 0.000</td> <td>    0.013</td> <td>    0.015</td>\n",
       "</tr>\n",
       "<tr>\n",
       "  <th>marking</th>                    <td>    0.0318</td> <td>    0.001</td> <td>   28.497</td> <td> 0.000</td> <td>    0.030</td> <td>    0.034</td>\n",
       "</tr>\n",
       "<tr>\n",
       "  <th>standing_tackle</th>            <td>    0.0051</td> <td>    0.001</td> <td>    3.972</td> <td> 0.000</td> <td>    0.003</td> <td>    0.008</td>\n",
       "</tr>\n",
       "<tr>\n",
       "  <th>sliding_tackle</th>             <td>   -0.0263</td> <td>    0.001</td> <td>  -24.013</td> <td> 0.000</td> <td>   -0.028</td> <td>   -0.024</td>\n",
       "</tr>\n",
       "<tr>\n",
       "  <th>gk_diving</th>                  <td>    0.1696</td> <td>    0.001</td> <td>  116.279</td> <td> 0.000</td> <td>    0.167</td> <td>    0.172</td>\n",
       "</tr>\n",
       "<tr>\n",
       "  <th>gk_handling</th>                <td>    0.0332</td> <td>    0.002</td> <td>   17.396</td> <td> 0.000</td> <td>    0.029</td> <td>    0.037</td>\n",
       "</tr>\n",
       "<tr>\n",
       "  <th>gk_kicking</th>                 <td>   -0.0341</td> <td>    0.001</td> <td>  -55.078</td> <td> 0.000</td> <td>   -0.035</td> <td>   -0.033</td>\n",
       "</tr>\n",
       "<tr>\n",
       "  <th>gk_positioning</th>             <td>    0.0589</td> <td>    0.002</td> <td>   31.005</td> <td> 0.000</td> <td>    0.055</td> <td>    0.063</td>\n",
       "</tr>\n",
       "<tr>\n",
       "  <th>gk_reflexes</th>                <td>    0.0256</td> <td>    0.002</td> <td>   13.719</td> <td> 0.000</td> <td>    0.022</td> <td>    0.029</td>\n",
       "</tr>\n",
       "<tr>\n",
       "  <th>preferred_foot_right</th>       <td>   -0.0041</td> <td>    0.016</td> <td>   -0.260</td> <td> 0.795</td> <td>   -0.035</td> <td>    0.027</td>\n",
       "</tr>\n",
       "<tr>\n",
       "  <th>attacking_work_rate_high</th>   <td>    0.2419</td> <td>    0.134</td> <td>    1.801</td> <td> 0.072</td> <td>   -0.021</td> <td>    0.505</td>\n",
       "</tr>\n",
       "<tr>\n",
       "  <th>attacking_work_rate_lean</th>   <td>   -0.6583</td> <td>    0.159</td> <td>   -4.137</td> <td> 0.000</td> <td>   -0.970</td> <td>   -0.346</td>\n",
       "</tr>\n",
       "<tr>\n",
       "  <th>attacking_work_rate_low</th>    <td>    1.5118</td> <td>    0.137</td> <td>   11.064</td> <td> 0.000</td> <td>    1.244</td> <td>    1.780</td>\n",
       "</tr>\n",
       "<tr>\n",
       "  <th>attacking_work_rate_medium</th> <td>    0.1646</td> <td>    0.134</td> <td>    1.231</td> <td> 0.218</td> <td>   -0.097</td> <td>    0.427</td>\n",
       "</tr>\n",
       "<tr>\n",
       "  <th>attacking_work_rate_normal</th> <td>    0.0189</td> <td>    0.082</td> <td>    0.231</td> <td> 0.818</td> <td>   -0.141</td> <td>    0.179</td>\n",
       "</tr>\n",
       "<tr>\n",
       "  <th>attacking_work_rate_stocky</th> <td>   -0.6577</td> <td>    0.152</td> <td>   -4.335</td> <td> 0.000</td> <td>   -0.955</td> <td>   -0.360</td>\n",
       "</tr>\n",
       "<tr>\n",
       "  <th>attacking_work_rate_yes</th>    <td>    0.0741</td> <td>    0.146</td> <td>    0.509</td> <td> 0.611</td> <td>   -0.211</td> <td>    0.359</td>\n",
       "</tr>\n",
       "<tr>\n",
       "  <th>defensive_work_rate_high</th>   <td>   -0.0151</td> <td>    0.132</td> <td>   -0.114</td> <td> 0.909</td> <td>   -0.273</td> <td>    0.243</td>\n",
       "</tr>\n",
       "<tr>\n",
       "  <th>defensive_work_rate_lean</th>   <td>   -0.6583</td> <td>    0.159</td> <td>   -4.137</td> <td> 0.000</td> <td>   -0.970</td> <td>   -0.346</td>\n",
       "</tr>\n",
       "<tr>\n",
       "  <th>defensive_work_rate_low</th>    <td>    0.4179</td> <td>    0.133</td> <td>    3.153</td> <td> 0.002</td> <td>    0.158</td> <td>    0.678</td>\n",
       "</tr>\n",
       "<tr>\n",
       "  <th>defensive_work_rate_medium</th> <td>   -0.2609</td> <td>    0.131</td> <td>   -1.992</td> <td> 0.046</td> <td>   -0.518</td> <td>   -0.004</td>\n",
       "</tr>\n",
       "<tr>\n",
       "  <th>defensive_work_rate_normal</th> <td>    0.0189</td> <td>    0.082</td> <td>    0.231</td> <td> 0.818</td> <td>   -0.141</td> <td>    0.179</td>\n",
       "</tr>\n",
       "<tr>\n",
       "  <th>defensive_work_rate_stocky</th> <td>   -0.6577</td> <td>    0.152</td> <td>   -4.335</td> <td> 0.000</td> <td>   -0.955</td> <td>   -0.360</td>\n",
       "</tr>\n",
       "<tr>\n",
       "  <th>defensive_work_rate_yes</th>    <td>    0.0741</td> <td>    0.146</td> <td>    0.509</td> <td> 0.611</td> <td>   -0.211</td> <td>    0.359</td>\n",
       "</tr>\n",
       "</table>\n",
       "<table class=\"simpletable\">\n",
       "<tr>\n",
       "  <th>Omnibus:</th>       <td>7995.210</td> <th>  Durbin-Watson:     </th> <td>   0.380</td> \n",
       "</tr>\n",
       "<tr>\n",
       "  <th>Prob(Omnibus):</th>  <td> 0.000</td>  <th>  Jarque-Bera (JB):  </th> <td>17679.620</td>\n",
       "</tr>\n",
       "<tr>\n",
       "  <th>Skew:</th>           <td>-0.290</td>  <th>  Prob(JB):          </th> <td>    0.00</td> \n",
       "</tr>\n",
       "<tr>\n",
       "  <th>Kurtosis:</th>       <td> 4.416</td>  <th>  Cond. No.          </th> <td>1.01e+16</td> \n",
       "</tr>\n",
       "</table><br/><br/>Warnings:<br/>[1] Standard Errors assume that the covariance matrix of the errors is correctly specified.<br/>[2] The smallest eigenvalue is 1.87e-22. This might indicate that there are<br/>strong multicollinearity problems or that the design matrix is singular."
      ],
      "text/plain": [
       "<class 'statsmodels.iolib.summary.Summary'>\n",
       "\"\"\"\n",
       "                            OLS Regression Results                            \n",
       "==============================================================================\n",
       "Dep. Variable:         overall_rating   R-squared:                       0.844\n",
       "Model:                            OLS   Adj. R-squared:                  0.844\n",
       "Method:                 Least Squares   F-statistic:                 2.181e+04\n",
       "Date:                Mon, 01 Feb 2021   Prob (F-statistic):               0.00\n",
       "Time:                        19:33:26   Log-Likelihood:            -4.4222e+05\n",
       "No. Observations:              181265   AIC:                         8.845e+05\n",
       "Df Residuals:                  181219   BIC:                         8.850e+05\n",
       "Df Model:                          45                                         \n",
       "Covariance Type:            nonrobust                                         \n",
       "==============================================================================================\n",
       "                                 coef    std err          t      P>|t|      [0.025      0.975]\n",
       "----------------------------------------------------------------------------------------------\n",
       "const                         -3.9154      0.106    -36.843      0.000      -4.124      -3.707\n",
       "potential                      0.3769      0.001    258.723      0.000       0.374       0.380\n",
       "crossing                       0.0225      0.001     26.788      0.000       0.021       0.024\n",
       "finishing                      0.0125      0.001     13.680      0.000       0.011       0.014\n",
       "heading_accuracy               0.0667      0.001     82.598      0.000       0.065       0.068\n",
       "short_passing                  0.0519      0.001     39.510      0.000       0.049       0.054\n",
       "volleys                        0.0035      0.001      4.309      0.000       0.002       0.005\n",
       "dribbling                     -0.0070      0.001     -6.300      0.000      -0.009      -0.005\n",
       "curve                          0.0127      0.001     15.919      0.000       0.011       0.014\n",
       "free_kick_accuracy             0.0131      0.001     18.446      0.000       0.012       0.014\n",
       "long_passing                   0.0084      0.001      8.966      0.000       0.007       0.010\n",
       "ball_control                   0.1183      0.001     80.898      0.000       0.115       0.121\n",
       "acceleration                   0.0057      0.001      4.207      0.000       0.003       0.008\n",
       "sprint_speed                   0.0115      0.001      8.923      0.000       0.009       0.014\n",
       "agility                       -0.0075      0.001     -7.369      0.000      -0.009      -0.005\n",
       "reactions                      0.2177      0.001    198.137      0.000       0.216       0.220\n",
       "balance                        0.0082      0.001     10.435      0.000       0.007       0.010\n",
       "shot_power                     0.0168      0.001     19.489      0.000       0.015       0.019\n",
       "jumping                        0.0157      0.001     21.473      0.000       0.014       0.017\n",
       "stamina                       -0.0045      0.001     -5.664      0.000      -0.006      -0.003\n",
       "strength                       0.0632      0.001     75.015      0.000       0.062       0.065\n",
       "long_shots                    -0.0147      0.001    -16.141      0.000      -0.016      -0.013\n",
       "aggression                     0.0188      0.001     27.278      0.000       0.017       0.020\n",
       "interceptions                  0.0105      0.001     14.379      0.000       0.009       0.012\n",
       "positioning                   -0.0088      0.001    -11.171      0.000      -0.010      -0.007\n",
       "vision                        -0.0032      0.001     -3.599      0.000      -0.005      -0.001\n",
       "penalties                      0.0140      0.001     18.740      0.000       0.013       0.015\n",
       "marking                        0.0318      0.001     28.497      0.000       0.030       0.034\n",
       "standing_tackle                0.0051      0.001      3.972      0.000       0.003       0.008\n",
       "sliding_tackle                -0.0263      0.001    -24.013      0.000      -0.028      -0.024\n",
       "gk_diving                      0.1696      0.001    116.279      0.000       0.167       0.172\n",
       "gk_handling                    0.0332      0.002     17.396      0.000       0.029       0.037\n",
       "gk_kicking                    -0.0341      0.001    -55.078      0.000      -0.035      -0.033\n",
       "gk_positioning                 0.0589      0.002     31.005      0.000       0.055       0.063\n",
       "gk_reflexes                    0.0256      0.002     13.719      0.000       0.022       0.029\n",
       "preferred_foot_right          -0.0041      0.016     -0.260      0.795      -0.035       0.027\n",
       "attacking_work_rate_high       0.2419      0.134      1.801      0.072      -0.021       0.505\n",
       "attacking_work_rate_lean      -0.6583      0.159     -4.137      0.000      -0.970      -0.346\n",
       "attacking_work_rate_low        1.5118      0.137     11.064      0.000       1.244       1.780\n",
       "attacking_work_rate_medium     0.1646      0.134      1.231      0.218      -0.097       0.427\n",
       "attacking_work_rate_normal     0.0189      0.082      0.231      0.818      -0.141       0.179\n",
       "attacking_work_rate_stocky    -0.6577      0.152     -4.335      0.000      -0.955      -0.360\n",
       "attacking_work_rate_yes        0.0741      0.146      0.509      0.611      -0.211       0.359\n",
       "defensive_work_rate_high      -0.0151      0.132     -0.114      0.909      -0.273       0.243\n",
       "defensive_work_rate_lean      -0.6583      0.159     -4.137      0.000      -0.970      -0.346\n",
       "defensive_work_rate_low        0.4179      0.133      3.153      0.002       0.158       0.678\n",
       "defensive_work_rate_medium    -0.2609      0.131     -1.992      0.046      -0.518      -0.004\n",
       "defensive_work_rate_normal     0.0189      0.082      0.231      0.818      -0.141       0.179\n",
       "defensive_work_rate_stocky    -0.6577      0.152     -4.335      0.000      -0.955      -0.360\n",
       "defensive_work_rate_yes        0.0741      0.146      0.509      0.611      -0.211       0.359\n",
       "==============================================================================\n",
       "Omnibus:                     7995.210   Durbin-Watson:                   0.380\n",
       "Prob(Omnibus):                  0.000   Jarque-Bera (JB):            17679.620\n",
       "Skew:                          -0.290   Prob(JB):                         0.00\n",
       "Kurtosis:                       4.416   Cond. No.                     1.01e+16\n",
       "==============================================================================\n",
       "\n",
       "Warnings:\n",
       "[1] Standard Errors assume that the covariance matrix of the errors is correctly specified.\n",
       "[2] The smallest eigenvalue is 1.87e-22. This might indicate that there are\n",
       "strong multicollinearity problems or that the design matrix is singular.\n",
       "\"\"\""
      ]
     },
     "execution_count": 36,
     "metadata": {},
     "output_type": "execute_result"
    }
   ],
   "source": [
    "ols_mod.summary()"
   ]
  },
  {
   "cell_type": "markdown",
   "metadata": {},
   "source": [
    "As we can see that p-value of mostly all the categorical features are more than 0.05 and value of condition no is around 10^16, which is showing high multicollinearity. Lets remove all these categorical features and their label encoding."
   ]
  },
  {
   "cell_type": "code",
   "execution_count": 37,
   "metadata": {},
   "outputs": [],
   "source": [
    "# Removing categorical features and their respective labels\n",
    "x1 = x.iloc[:,:-15]"
   ]
  },
  {
   "cell_type": "code",
   "execution_count": 38,
   "metadata": {},
   "outputs": [],
   "source": [
    "# Creating model again\n",
    "xc = sm.add_constant(x1)\n",
    "ols1 = sm.OLS(y, xc)\n",
    "ols_mod = ols1.fit()"
   ]
  },
  {
   "cell_type": "code",
   "execution_count": 39,
   "metadata": {
    "scrolled": true
   },
   "outputs": [
    {
     "data": {
      "text/html": [
       "<table class=\"simpletable\">\n",
       "<caption>OLS Regression Results</caption>\n",
       "<tr>\n",
       "  <th>Dep. Variable:</th>     <td>overall_rating</td>  <th>  R-squared:         </th>  <td>   0.842</td>  \n",
       "</tr>\n",
       "<tr>\n",
       "  <th>Model:</th>                   <td>OLS</td>       <th>  Adj. R-squared:    </th>  <td>   0.842</td>  \n",
       "</tr>\n",
       "<tr>\n",
       "  <th>Method:</th>             <td>Least Squares</td>  <th>  F-statistic:       </th>  <td>2.832e+04</td> \n",
       "</tr>\n",
       "<tr>\n",
       "  <th>Date:</th>             <td>Mon, 01 Feb 2021</td> <th>  Prob (F-statistic):</th>   <td>  0.00</td>   \n",
       "</tr>\n",
       "<tr>\n",
       "  <th>Time:</th>                 <td>19:33:28</td>     <th>  Log-Likelihood:    </th> <td>-4.4369e+05</td>\n",
       "</tr>\n",
       "<tr>\n",
       "  <th>No. Observations:</th>      <td>181265</td>      <th>  AIC:               </th>  <td>8.875e+05</td> \n",
       "</tr>\n",
       "<tr>\n",
       "  <th>Df Residuals:</th>          <td>181230</td>      <th>  BIC:               </th>  <td>8.878e+05</td> \n",
       "</tr>\n",
       "<tr>\n",
       "  <th>Df Model:</th>              <td>    34</td>      <th>                     </th>      <td> </td>     \n",
       "</tr>\n",
       "<tr>\n",
       "  <th>Covariance Type:</th>      <td>nonrobust</td>    <th>                     </th>      <td> </td>     \n",
       "</tr>\n",
       "</table>\n",
       "<table class=\"simpletable\">\n",
       "<tr>\n",
       "           <td></td>             <th>coef</th>     <th>std err</th>      <th>t</th>      <th>P>|t|</th>  <th>[0.025</th>    <th>0.975]</th>  \n",
       "</tr>\n",
       "<tr>\n",
       "  <th>const</th>              <td>   -3.9475</td> <td>    0.095</td> <td>  -41.712</td> <td> 0.000</td> <td>   -4.133</td> <td>   -3.762</td>\n",
       "</tr>\n",
       "<tr>\n",
       "  <th>potential</th>          <td>    0.3791</td> <td>    0.001</td> <td>  258.556</td> <td> 0.000</td> <td>    0.376</td> <td>    0.382</td>\n",
       "</tr>\n",
       "<tr>\n",
       "  <th>crossing</th>           <td>    0.0217</td> <td>    0.001</td> <td>   25.876</td> <td> 0.000</td> <td>    0.020</td> <td>    0.023</td>\n",
       "</tr>\n",
       "<tr>\n",
       "  <th>finishing</th>          <td>    0.0119</td> <td>    0.001</td> <td>   12.932</td> <td> 0.000</td> <td>    0.010</td> <td>    0.014</td>\n",
       "</tr>\n",
       "<tr>\n",
       "  <th>heading_accuracy</th>   <td>    0.0678</td> <td>    0.001</td> <td>   83.390</td> <td> 0.000</td> <td>    0.066</td> <td>    0.069</td>\n",
       "</tr>\n",
       "<tr>\n",
       "  <th>short_passing</th>      <td>    0.0512</td> <td>    0.001</td> <td>   38.746</td> <td> 0.000</td> <td>    0.049</td> <td>    0.054</td>\n",
       "</tr>\n",
       "<tr>\n",
       "  <th>volleys</th>            <td>    0.0047</td> <td>    0.001</td> <td>    5.669</td> <td> 0.000</td> <td>    0.003</td> <td>    0.006</td>\n",
       "</tr>\n",
       "<tr>\n",
       "  <th>dribbling</th>          <td>   -0.0090</td> <td>    0.001</td> <td>   -7.997</td> <td> 0.000</td> <td>   -0.011</td> <td>   -0.007</td>\n",
       "</tr>\n",
       "<tr>\n",
       "  <th>curve</th>              <td>    0.0122</td> <td>    0.001</td> <td>   15.296</td> <td> 0.000</td> <td>    0.011</td> <td>    0.014</td>\n",
       "</tr>\n",
       "<tr>\n",
       "  <th>free_kick_accuracy</th> <td>    0.0129</td> <td>    0.001</td> <td>   18.175</td> <td> 0.000</td> <td>    0.012</td> <td>    0.014</td>\n",
       "</tr>\n",
       "<tr>\n",
       "  <th>long_passing</th>       <td>    0.0086</td> <td>    0.001</td> <td>    9.123</td> <td> 0.000</td> <td>    0.007</td> <td>    0.010</td>\n",
       "</tr>\n",
       "<tr>\n",
       "  <th>ball_control</th>       <td>    0.1198</td> <td>    0.001</td> <td>   81.369</td> <td> 0.000</td> <td>    0.117</td> <td>    0.123</td>\n",
       "</tr>\n",
       "<tr>\n",
       "  <th>acceleration</th>       <td>    0.0062</td> <td>    0.001</td> <td>    4.516</td> <td> 0.000</td> <td>    0.004</td> <td>    0.009</td>\n",
       "</tr>\n",
       "<tr>\n",
       "  <th>sprint_speed</th>       <td>    0.0098</td> <td>    0.001</td> <td>    7.567</td> <td> 0.000</td> <td>    0.007</td> <td>    0.012</td>\n",
       "</tr>\n",
       "<tr>\n",
       "  <th>agility</th>            <td>   -0.0074</td> <td>    0.001</td> <td>   -7.254</td> <td> 0.000</td> <td>   -0.009</td> <td>   -0.005</td>\n",
       "</tr>\n",
       "<tr>\n",
       "  <th>reactions</th>          <td>    0.2199</td> <td>    0.001</td> <td>  198.797</td> <td> 0.000</td> <td>    0.218</td> <td>    0.222</td>\n",
       "</tr>\n",
       "<tr>\n",
       "  <th>balance</th>            <td>    0.0091</td> <td>    0.001</td> <td>   11.498</td> <td> 0.000</td> <td>    0.008</td> <td>    0.011</td>\n",
       "</tr>\n",
       "<tr>\n",
       "  <th>shot_power</th>         <td>    0.0169</td> <td>    0.001</td> <td>   19.419</td> <td> 0.000</td> <td>    0.015</td> <td>    0.019</td>\n",
       "</tr>\n",
       "<tr>\n",
       "  <th>jumping</th>            <td>    0.0158</td> <td>    0.001</td> <td>   21.539</td> <td> 0.000</td> <td>    0.014</td> <td>    0.017</td>\n",
       "</tr>\n",
       "<tr>\n",
       "  <th>stamina</th>            <td>   -0.0066</td> <td>    0.001</td> <td>   -8.449</td> <td> 0.000</td> <td>   -0.008</td> <td>   -0.005</td>\n",
       "</tr>\n",
       "<tr>\n",
       "  <th>strength</th>           <td>    0.0655</td> <td>    0.001</td> <td>   77.196</td> <td> 0.000</td> <td>    0.064</td> <td>    0.067</td>\n",
       "</tr>\n",
       "<tr>\n",
       "  <th>long_shots</th>         <td>   -0.0143</td> <td>    0.001</td> <td>  -15.628</td> <td> 0.000</td> <td>   -0.016</td> <td>   -0.013</td>\n",
       "</tr>\n",
       "<tr>\n",
       "  <th>aggression</th>         <td>    0.0191</td> <td>    0.001</td> <td>   27.714</td> <td> 0.000</td> <td>    0.018</td> <td>    0.020</td>\n",
       "</tr>\n",
       "<tr>\n",
       "  <th>interceptions</th>      <td>    0.0109</td> <td>    0.001</td> <td>   14.815</td> <td> 0.000</td> <td>    0.009</td> <td>    0.012</td>\n",
       "</tr>\n",
       "<tr>\n",
       "  <th>positioning</th>        <td>   -0.0102</td> <td>    0.001</td> <td>  -12.923</td> <td> 0.000</td> <td>   -0.012</td> <td>   -0.009</td>\n",
       "</tr>\n",
       "<tr>\n",
       "  <th>vision</th>             <td>   -0.0034</td> <td>    0.001</td> <td>   -3.850</td> <td> 0.000</td> <td>   -0.005</td> <td>   -0.002</td>\n",
       "</tr>\n",
       "<tr>\n",
       "  <th>penalties</th>          <td>    0.0150</td> <td>    0.001</td> <td>   19.935</td> <td> 0.000</td> <td>    0.014</td> <td>    0.016</td>\n",
       "</tr>\n",
       "<tr>\n",
       "  <th>marking</th>            <td>    0.0325</td> <td>    0.001</td> <td>   28.869</td> <td> 0.000</td> <td>    0.030</td> <td>    0.035</td>\n",
       "</tr>\n",
       "<tr>\n",
       "  <th>standing_tackle</th>    <td>    0.0044</td> <td>    0.001</td> <td>    3.382</td> <td> 0.001</td> <td>    0.002</td> <td>    0.007</td>\n",
       "</tr>\n",
       "<tr>\n",
       "  <th>sliding_tackle</th>     <td>   -0.0280</td> <td>    0.001</td> <td>  -25.353</td> <td> 0.000</td> <td>   -0.030</td> <td>   -0.026</td>\n",
       "</tr>\n",
       "<tr>\n",
       "  <th>gk_diving</th>          <td>    0.1673</td> <td>    0.001</td> <td>  113.868</td> <td> 0.000</td> <td>    0.164</td> <td>    0.170</td>\n",
       "</tr>\n",
       "<tr>\n",
       "  <th>gk_handling</th>        <td>    0.0323</td> <td>    0.002</td> <td>   16.759</td> <td> 0.000</td> <td>    0.028</td> <td>    0.036</td>\n",
       "</tr>\n",
       "<tr>\n",
       "  <th>gk_kicking</th>         <td>   -0.0332</td> <td>    0.001</td> <td>  -53.377</td> <td> 0.000</td> <td>   -0.034</td> <td>   -0.032</td>\n",
       "</tr>\n",
       "<tr>\n",
       "  <th>gk_positioning</th>     <td>    0.0563</td> <td>    0.002</td> <td>   29.437</td> <td> 0.000</td> <td>    0.053</td> <td>    0.060</td>\n",
       "</tr>\n",
       "<tr>\n",
       "  <th>gk_reflexes</th>        <td>    0.0248</td> <td>    0.002</td> <td>   13.200</td> <td> 0.000</td> <td>    0.021</td> <td>    0.028</td>\n",
       "</tr>\n",
       "</table>\n",
       "<table class=\"simpletable\">\n",
       "<tr>\n",
       "  <th>Omnibus:</th>       <td>7614.192</td> <th>  Durbin-Watson:     </th> <td>   0.376</td> \n",
       "</tr>\n",
       "<tr>\n",
       "  <th>Prob(Omnibus):</th>  <td> 0.000</td>  <th>  Jarque-Bera (JB):  </th> <td>16885.152</td>\n",
       "</tr>\n",
       "<tr>\n",
       "  <th>Skew:</th>           <td>-0.274</td>  <th>  Prob(JB):          </th> <td>    0.00</td> \n",
       "</tr>\n",
       "<tr>\n",
       "  <th>Kurtosis:</th>       <td> 4.392</td>  <th>  Cond. No.          </th> <td>4.68e+03</td> \n",
       "</tr>\n",
       "</table><br/><br/>Warnings:<br/>[1] Standard Errors assume that the covariance matrix of the errors is correctly specified.<br/>[2] The condition number is large, 4.68e+03. This might indicate that there are<br/>strong multicollinearity or other numerical problems."
      ],
      "text/plain": [
       "<class 'statsmodels.iolib.summary.Summary'>\n",
       "\"\"\"\n",
       "                            OLS Regression Results                            \n",
       "==============================================================================\n",
       "Dep. Variable:         overall_rating   R-squared:                       0.842\n",
       "Model:                            OLS   Adj. R-squared:                  0.842\n",
       "Method:                 Least Squares   F-statistic:                 2.832e+04\n",
       "Date:                Mon, 01 Feb 2021   Prob (F-statistic):               0.00\n",
       "Time:                        19:33:28   Log-Likelihood:            -4.4369e+05\n",
       "No. Observations:              181265   AIC:                         8.875e+05\n",
       "Df Residuals:                  181230   BIC:                         8.878e+05\n",
       "Df Model:                          34                                         \n",
       "Covariance Type:            nonrobust                                         \n",
       "======================================================================================\n",
       "                         coef    std err          t      P>|t|      [0.025      0.975]\n",
       "--------------------------------------------------------------------------------------\n",
       "const                 -3.9475      0.095    -41.712      0.000      -4.133      -3.762\n",
       "potential              0.3791      0.001    258.556      0.000       0.376       0.382\n",
       "crossing               0.0217      0.001     25.876      0.000       0.020       0.023\n",
       "finishing              0.0119      0.001     12.932      0.000       0.010       0.014\n",
       "heading_accuracy       0.0678      0.001     83.390      0.000       0.066       0.069\n",
       "short_passing          0.0512      0.001     38.746      0.000       0.049       0.054\n",
       "volleys                0.0047      0.001      5.669      0.000       0.003       0.006\n",
       "dribbling             -0.0090      0.001     -7.997      0.000      -0.011      -0.007\n",
       "curve                  0.0122      0.001     15.296      0.000       0.011       0.014\n",
       "free_kick_accuracy     0.0129      0.001     18.175      0.000       0.012       0.014\n",
       "long_passing           0.0086      0.001      9.123      0.000       0.007       0.010\n",
       "ball_control           0.1198      0.001     81.369      0.000       0.117       0.123\n",
       "acceleration           0.0062      0.001      4.516      0.000       0.004       0.009\n",
       "sprint_speed           0.0098      0.001      7.567      0.000       0.007       0.012\n",
       "agility               -0.0074      0.001     -7.254      0.000      -0.009      -0.005\n",
       "reactions              0.2199      0.001    198.797      0.000       0.218       0.222\n",
       "balance                0.0091      0.001     11.498      0.000       0.008       0.011\n",
       "shot_power             0.0169      0.001     19.419      0.000       0.015       0.019\n",
       "jumping                0.0158      0.001     21.539      0.000       0.014       0.017\n",
       "stamina               -0.0066      0.001     -8.449      0.000      -0.008      -0.005\n",
       "strength               0.0655      0.001     77.196      0.000       0.064       0.067\n",
       "long_shots            -0.0143      0.001    -15.628      0.000      -0.016      -0.013\n",
       "aggression             0.0191      0.001     27.714      0.000       0.018       0.020\n",
       "interceptions          0.0109      0.001     14.815      0.000       0.009       0.012\n",
       "positioning           -0.0102      0.001    -12.923      0.000      -0.012      -0.009\n",
       "vision                -0.0034      0.001     -3.850      0.000      -0.005      -0.002\n",
       "penalties              0.0150      0.001     19.935      0.000       0.014       0.016\n",
       "marking                0.0325      0.001     28.869      0.000       0.030       0.035\n",
       "standing_tackle        0.0044      0.001      3.382      0.001       0.002       0.007\n",
       "sliding_tackle        -0.0280      0.001    -25.353      0.000      -0.030      -0.026\n",
       "gk_diving              0.1673      0.001    113.868      0.000       0.164       0.170\n",
       "gk_handling            0.0323      0.002     16.759      0.000       0.028       0.036\n",
       "gk_kicking            -0.0332      0.001    -53.377      0.000      -0.034      -0.032\n",
       "gk_positioning         0.0563      0.002     29.437      0.000       0.053       0.060\n",
       "gk_reflexes            0.0248      0.002     13.200      0.000       0.021       0.028\n",
       "==============================================================================\n",
       "Omnibus:                     7614.192   Durbin-Watson:                   0.376\n",
       "Prob(Omnibus):                  0.000   Jarque-Bera (JB):            16885.152\n",
       "Skew:                          -0.274   Prob(JB):                         0.00\n",
       "Kurtosis:                       4.392   Cond. No.                     4.68e+03\n",
       "==============================================================================\n",
       "\n",
       "Warnings:\n",
       "[1] Standard Errors assume that the covariance matrix of the errors is correctly specified.\n",
       "[2] The condition number is large, 4.68e+03. This might indicate that there are\n",
       "strong multicollinearity or other numerical problems.\n",
       "\"\"\""
      ]
     },
     "execution_count": 39,
     "metadata": {},
     "output_type": "execute_result"
    }
   ],
   "source": [
    "ols_mod.summary()"
   ]
  },
  {
   "cell_type": "markdown",
   "metadata": {},
   "source": [
    "* Multicollineairy is decreased from 10^16 to 4650. Suggesting the categorical feature we removed have lower variance among them with higher correlation.\n",
    "\n",
    "* All the features now have less than 0.05 p-value suggesting all these features are statistically significant."
   ]
  },
  {
   "cell_type": "code",
   "execution_count": null,
   "metadata": {},
   "outputs": [],
   "source": []
  },
  {
   "cell_type": "markdown",
   "metadata": {},
   "source": [
    "## Cross Validation of Linear Regression Model"
   ]
  },
  {
   "cell_type": "code",
   "execution_count": 40,
   "metadata": {},
   "outputs": [],
   "source": [
    "from sklearn.linear_model import LinearRegression\n",
    "from sklearn.metrics import r2_score, mean_squared_error\n",
    "from sklearn.model_selection import KFold, cross_val_score"
   ]
  },
  {
   "cell_type": "markdown",
   "metadata": {},
   "source": [
    "### Cross validation with all the features including categorical"
   ]
  },
  {
   "cell_type": "code",
   "execution_count": 41,
   "metadata": {},
   "outputs": [
    {
     "data": {
      "text/plain": [
       "(2.7839949607630614, 0.011176475953345628)"
      ]
     },
     "execution_count": 41,
     "metadata": {},
     "output_type": "execute_result"
    }
   ],
   "source": [
    "lr = LinearRegression()\n",
    "kf = KFold(n_splits= 5, shuffle = True)\n",
    "mse = cross_val_score(lr, x, y, cv=5, scoring='neg_mean_squared_error')\n",
    "rmse = np.sqrt(abs(mse))\n",
    "np.mean(rmse), np.std(rmse)"
   ]
  },
  {
   "cell_type": "markdown",
   "metadata": {},
   "source": [
    "### Cross validation without categorical features"
   ]
  },
  {
   "cell_type": "code",
   "execution_count": 42,
   "metadata": {},
   "outputs": [
    {
     "data": {
      "text/plain": [
       "(2.805006965191923, 0.010128700943119497)"
      ]
     },
     "execution_count": 42,
     "metadata": {},
     "output_type": "execute_result"
    }
   ],
   "source": [
    "lr = LinearRegression()\n",
    "kf = KFold(n_splits= 5, shuffle = True)\n",
    "mse = cross_val_score(lr, x1, y, cv=5, scoring='neg_mean_squared_error')\n",
    "rmse = np.sqrt(abs(mse))\n",
    "np.mean(rmse), np.std(rmse)"
   ]
  },
  {
   "cell_type": "markdown",
   "metadata": {},
   "source": [
    "<b> There is very little to no sign of overfitting <b>"
   ]
  },
  {
   "cell_type": "markdown",
   "metadata": {},
   "source": [
    "<b>There is very limited effect of excluding categorical features. Bias error is increased by 0.02 and variance error decreases by 0.001. This may be due to the fact that the columns we have excluded are having higher amount of multicollinearity. <b>"
   ]
  },
  {
   "cell_type": "markdown",
   "metadata": {},
   "source": [
    "## Fitting a Base Linear regression Model"
   ]
  },
  {
   "cell_type": "code",
   "execution_count": 43,
   "metadata": {},
   "outputs": [],
   "source": [
    "from sklearn.model_selection import train_test_split\n",
    "from sklearn.metrics import r2_score, mean_squared_error"
   ]
  },
  {
   "cell_type": "markdown",
   "metadata": {},
   "source": [
    "### LR model with all features"
   ]
  },
  {
   "cell_type": "code",
   "execution_count": 44,
   "metadata": {},
   "outputs": [],
   "source": [
    "xtrain, xtest, ytrain, ytest = train_test_split(x, y, test_size=0.3, random_state=42)"
   ]
  },
  {
   "cell_type": "code",
   "execution_count": 45,
   "metadata": {},
   "outputs": [
    {
     "name": "stdout",
     "output_type": "stream",
     "text": [
      "Train R2:  0.8445699992289595\n",
      "Test R2:  0.8431251377052987\n",
      "Train RMSE:  2.777695122749002\n",
      "Test R2:  2.7697121269279275\n"
     ]
    }
   ],
   "source": [
    "lr = LinearRegression()\n",
    "lr.fit(xtrain, ytrain)\n",
    "\n",
    "ytrain_pred = lr.predict(xtrain)\n",
    "ytest_pred = lr.predict(xtest)\n",
    "\n",
    "print('Train R2: ',r2_score(ytrain, ytrain_pred))\n",
    "print('Test R2: ',r2_score(ytest, ytest_pred))\n",
    "\n",
    "print('Train RMSE: ',mean_squared_error(ytrain, ytrain_pred)**0.5)\n",
    "print('Test R2: ',mean_squared_error(ytest, ytest_pred)**0.5)"
   ]
  },
  {
   "cell_type": "markdown",
   "metadata": {},
   "source": [
    "### LR model without categorical features"
   ]
  },
  {
   "cell_type": "code",
   "execution_count": 46,
   "metadata": {},
   "outputs": [],
   "source": [
    "xtrain, xtest, ytrain, ytest = train_test_split(x1, y, test_size=0.3, random_state=42)"
   ]
  },
  {
   "cell_type": "code",
   "execution_count": 47,
   "metadata": {},
   "outputs": [
    {
     "name": "stdout",
     "output_type": "stream",
     "text": [
      "Train R2:  0.8420593072224918\n",
      "Test R2:  0.840497686487108\n",
      "Train RMSE:  2.8000395840664027\n",
      "Test R2:  2.792810361595036\n"
     ]
    }
   ],
   "source": [
    "lr = LinearRegression()\n",
    "lr.fit(xtrain, ytrain)\n",
    "\n",
    "ytrain_pred = lr.predict(xtrain)\n",
    "ytest_pred = lr.predict(xtest)\n",
    "\n",
    "print('Train R2: ',r2_score(ytrain, ytrain_pred))\n",
    "print('Test R2: ',r2_score(ytest, ytest_pred))\n",
    "\n",
    "print('Train RMSE: ',mean_squared_error(ytrain, ytrain_pred)**0.5)\n",
    "print('Test R2: ',mean_squared_error(ytest, ytest_pred)**0.5)"
   ]
  },
  {
   "cell_type": "markdown",
   "metadata": {},
   "source": [
    "<b> R2- score and RMSE of train and test data are almost equal inferencing that the model is not overfit. <b>"
   ]
  },
  {
   "cell_type": "code",
   "execution_count": null,
   "metadata": {},
   "outputs": [],
   "source": []
  },
  {
   "cell_type": "markdown",
   "metadata": {},
   "source": [
    "## Regularization"
   ]
  },
  {
   "cell_type": "code",
   "execution_count": 48,
   "metadata": {},
   "outputs": [],
   "source": [
    "from sklearn.linear_model import Ridge, Lasso, ElasticNet\n",
    "from sklearn.model_selection import GridSearchCV"
   ]
  },
  {
   "cell_type": "markdown",
   "metadata": {},
   "source": [
    "### Scaling the dat before regularization"
   ]
  },
  {
   "cell_type": "code",
   "execution_count": 49,
   "metadata": {},
   "outputs": [],
   "source": [
    "from sklearn.preprocessing import StandardScaler"
   ]
  },
  {
   "cell_type": "code",
   "execution_count": 50,
   "metadata": {},
   "outputs": [],
   "source": [
    "st = StandardScaler()\n",
    "x1 = pd.DataFrame(st.fit_transform(x1) , columns=x1.columns)"
   ]
  },
  {
   "cell_type": "markdown",
   "metadata": {},
   "source": [
    "### Ridge Regularization"
   ]
  },
  {
   "cell_type": "code",
   "execution_count": 51,
   "metadata": {},
   "outputs": [
    {
     "name": "stdout",
     "output_type": "stream",
     "text": [
      "{'alpha': 30}\n",
      "7.868100784155791\n"
     ]
    }
   ],
   "source": [
    "rid = Ridge()\n",
    "param = {'alpha':[0.00005,0.00008,0.0001,0.001,0.01,0.1,0.5,1,2,3,4,5,6,7,8,9,10,20,30]}\n",
    "\n",
    "grid = GridSearchCV(rid, param_grid=param, cv=5, scoring='neg_mean_squared_error' )\n",
    "\n",
    "rid_mod=grid.fit(x1,y)\n",
    "\n",
    "print(rid_mod.best_params_)\n",
    "print(abs(rid_mod.best_score_))"
   ]
  },
  {
   "cell_type": "code",
   "execution_count": 52,
   "metadata": {},
   "outputs": [
    {
     "data": {
      "text/plain": [
       "(2.7837663615494197, 0.011094704462867746)"
      ]
     },
     "execution_count": 52,
     "metadata": {},
     "output_type": "execute_result"
    }
   ],
   "source": [
    "rid = Ridge(**rid_mod.best_params_)\n",
    "mse = cross_val_score(rid, x, y, cv=5, scoring='neg_mean_squared_error')\n",
    "rmse = np.sqrt(abs(mse))\n",
    "np.mean(rmse), np.std(rmse)"
   ]
  },
  {
   "cell_type": "markdown",
   "metadata": {},
   "source": [
    "### Lasso Regularization"
   ]
  },
  {
   "cell_type": "code",
   "execution_count": 53,
   "metadata": {},
   "outputs": [
    {
     "name": "stdout",
     "output_type": "stream",
     "text": [
      "{'alpha': 5e-05}\n",
      "7.868168885925712\n"
     ]
    }
   ],
   "source": [
    "las = Lasso()\n",
    "param = {'alpha':[0.00005,0.0008,0.0001,0.001,0.01,0.1,0.5,1,2,3,4,5,6,7,8,9,10,20,30]}\n",
    "\n",
    "grid = GridSearchCV(las, param_grid=param, cv=5, scoring='neg_mean_squared_error' )\n",
    "\n",
    "las_mod=grid.fit(x1,y)\n",
    "\n",
    "print(las_mod.best_params_)\n",
    "print(abs(las_mod.best_score_))"
   ]
  },
  {
   "cell_type": "code",
   "execution_count": 54,
   "metadata": {},
   "outputs": [
    {
     "name": "stderr",
     "output_type": "stream",
     "text": [
      "C:\\Users\\Divyajeet\\anaconda3\\lib\\site-packages\\sklearn\\linear_model\\_coordinate_descent.py:531: ConvergenceWarning: Objective did not converge. You might want to increase the number of iterations. Duality gap: 1203.4727385763545, tolerance: 723.1814390505625\n",
      "  positive)\n"
     ]
    },
    {
     "data": {
      "text/plain": [
       "(2.783866110632283, 0.011113422230659949)"
      ]
     },
     "execution_count": 54,
     "metadata": {},
     "output_type": "execute_result"
    }
   ],
   "source": [
    "las = Lasso(**las_mod.best_params_)\n",
    "mse = cross_val_score(las, x, y, cv=5, scoring='neg_mean_squared_error')\n",
    "rmse = np.sqrt(abs(mse))\n",
    "np.mean(rmse), np.std(rmse)"
   ]
  },
  {
   "cell_type": "code",
   "execution_count": null,
   "metadata": {},
   "outputs": [],
   "source": []
  },
  {
   "cell_type": "markdown",
   "metadata": {},
   "source": [
    "## Principal Component Analysis"
   ]
  },
  {
   "cell_type": "markdown",
   "metadata": {},
   "source": [
    "### Splitting in test and train"
   ]
  },
  {
   "cell_type": "code",
   "execution_count": 68,
   "metadata": {},
   "outputs": [],
   "source": [
    "from sklearn.model_selection import train_test_split"
   ]
  },
  {
   "cell_type": "code",
   "execution_count": 172,
   "metadata": {},
   "outputs": [
    {
     "data": {
      "text/plain": [
       "((126885, 34), (54380, 34), (126885, 1), (54380, 1))"
      ]
     },
     "execution_count": 172,
     "metadata": {},
     "output_type": "execute_result"
    }
   ],
   "source": [
    "xtrain, xtest, ytrain, ytest = train_test_split(x1, y, test_size=0.3, random_state=42)\n",
    "xtrain.shape, xtest.shape, ytrain.shape, ytest.shape"
   ]
  },
  {
   "cell_type": "markdown",
   "metadata": {},
   "source": [
    "### Scaling of Original Features"
   ]
  },
  {
   "cell_type": "code",
   "execution_count": 179,
   "metadata": {},
   "outputs": [
    {
     "data": {
      "text/html": [
       "<div>\n",
       "<style scoped>\n",
       "    .dataframe tbody tr th:only-of-type {\n",
       "        vertical-align: middle;\n",
       "    }\n",
       "\n",
       "    .dataframe tbody tr th {\n",
       "        vertical-align: top;\n",
       "    }\n",
       "\n",
       "    .dataframe thead th {\n",
       "        text-align: right;\n",
       "    }\n",
       "</style>\n",
       "<table border=\"1\" class=\"dataframe\">\n",
       "  <thead>\n",
       "    <tr style=\"text-align: right;\">\n",
       "      <th></th>\n",
       "      <th>potential</th>\n",
       "      <th>crossing</th>\n",
       "      <th>finishing</th>\n",
       "      <th>heading_accuracy</th>\n",
       "      <th>short_passing</th>\n",
       "      <th>volleys</th>\n",
       "      <th>dribbling</th>\n",
       "      <th>curve</th>\n",
       "      <th>free_kick_accuracy</th>\n",
       "      <th>long_passing</th>\n",
       "      <th>ball_control</th>\n",
       "      <th>acceleration</th>\n",
       "      <th>sprint_speed</th>\n",
       "      <th>agility</th>\n",
       "      <th>reactions</th>\n",
       "      <th>balance</th>\n",
       "      <th>shot_power</th>\n",
       "      <th>jumping</th>\n",
       "      <th>stamina</th>\n",
       "      <th>strength</th>\n",
       "      <th>long_shots</th>\n",
       "      <th>aggression</th>\n",
       "      <th>interceptions</th>\n",
       "      <th>positioning</th>\n",
       "      <th>vision</th>\n",
       "      <th>penalties</th>\n",
       "      <th>marking</th>\n",
       "      <th>standing_tackle</th>\n",
       "      <th>sliding_tackle</th>\n",
       "      <th>gk_diving</th>\n",
       "      <th>gk_handling</th>\n",
       "      <th>gk_kicking</th>\n",
       "      <th>gk_positioning</th>\n",
       "      <th>gk_reflexes</th>\n",
       "    </tr>\n",
       "  </thead>\n",
       "  <tbody>\n",
       "    <tr>\n",
       "      <th>0</th>\n",
       "      <td>0.841822</td>\n",
       "      <td>1.096358</td>\n",
       "      <td>1.054880</td>\n",
       "      <td>0.707694</td>\n",
       "      <td>0.324597</td>\n",
       "      <td>0.743081</td>\n",
       "      <td>1.372446</td>\n",
       "      <td>1.207476</td>\n",
       "      <td>0.653186</td>\n",
       "      <td>0.551547</td>\n",
       "      <td>0.980163</td>\n",
       "      <td>1.330148</td>\n",
       "      <td>0.867905</td>\n",
       "      <td>0.932097</td>\n",
       "      <td>0.312038</td>\n",
       "      <td>1.292984</td>\n",
       "      <td>0.812357</td>\n",
       "      <td>-0.090840</td>\n",
       "      <td>0.886514</td>\n",
       "      <td>0.628713</td>\n",
       "      <td>0.797116</td>\n",
       "      <td>-1.182488</td>\n",
       "      <td>-0.356903</td>\n",
       "      <td>1.097616</td>\n",
       "      <td>0.870617</td>\n",
       "      <td>1.033397</td>\n",
       "      <td>-0.555207</td>\n",
       "      <td>-0.993782</td>\n",
       "      <td>-0.696877</td>\n",
       "      <td>-0.338457</td>\n",
       "      <td>-0.566696</td>\n",
       "      <td>-0.596350</td>\n",
       "      <td>-0.003540</td>\n",
       "      <td>-0.021503</td>\n",
       "    </tr>\n",
       "    <tr>\n",
       "      <th>1</th>\n",
       "      <td>-1.910544</td>\n",
       "      <td>-1.342898</td>\n",
       "      <td>-1.362834</td>\n",
       "      <td>-0.309851</td>\n",
       "      <td>-1.403724</td>\n",
       "      <td>-1.504277</td>\n",
       "      <td>-1.597022</td>\n",
       "      <td>-1.642120</td>\n",
       "      <td>-0.245092</td>\n",
       "      <td>-1.333591</td>\n",
       "      <td>-2.678173</td>\n",
       "      <td>-0.205329</td>\n",
       "      <td>-0.004997</td>\n",
       "      <td>-1.318502</td>\n",
       "      <td>-2.017662</td>\n",
       "      <td>-0.479277</td>\n",
       "      <td>-1.337249</td>\n",
       "      <td>0.365465</td>\n",
       "      <td>-0.647824</td>\n",
       "      <td>-0.540371</td>\n",
       "      <td>-1.542118</td>\n",
       "      <td>0.436806</td>\n",
       "      <td>0.310297</td>\n",
       "      <td>-1.449402</td>\n",
       "      <td>-1.732389</td>\n",
       "      <td>-1.223553</td>\n",
       "      <td>0.527762</td>\n",
       "      <td>0.540329</td>\n",
       "      <td>0.598994</td>\n",
       "      <td>-0.457057</td>\n",
       "      <td>-0.503593</td>\n",
       "      <td>-0.690502</td>\n",
       "      <td>-0.127930</td>\n",
       "      <td>-0.544531</td>\n",
       "    </tr>\n",
       "    <tr>\n",
       "      <th>2</th>\n",
       "      <td>0.536003</td>\n",
       "      <td>-0.007115</td>\n",
       "      <td>-0.469331</td>\n",
       "      <td>0.468271</td>\n",
       "      <td>-0.140720</td>\n",
       "      <td>-0.572446</td>\n",
       "      <td>-0.717180</td>\n",
       "      <td>-0.272122</td>\n",
       "      <td>0.372474</td>\n",
       "      <td>-0.216472</td>\n",
       "      <td>-0.239283</td>\n",
       "      <td>0.715957</td>\n",
       "      <td>-0.322416</td>\n",
       "      <td>-0.232006</td>\n",
       "      <td>-0.797343</td>\n",
       "      <td>0.676545</td>\n",
       "      <td>-0.538824</td>\n",
       "      <td>-0.182101</td>\n",
       "      <td>0.228941</td>\n",
       "      <td>0.712219</td>\n",
       "      <td>-0.127697</td>\n",
       "      <td>0.748209</td>\n",
       "      <td>0.515589</td>\n",
       "      <td>0.880848</td>\n",
       "      <td>0.002948</td>\n",
       "      <td>0.130617</td>\n",
       "      <td>0.669019</td>\n",
       "      <td>0.958723</td>\n",
       "      <td>0.506432</td>\n",
       "      <td>-0.457057</td>\n",
       "      <td>0.316754</td>\n",
       "      <td>1.522063</td>\n",
       "      <td>0.307432</td>\n",
       "      <td>0.269069</td>\n",
       "    </tr>\n",
       "    <tr>\n",
       "      <th>3</th>\n",
       "      <td>1.453459</td>\n",
       "      <td>1.038280</td>\n",
       "      <td>0.529290</td>\n",
       "      <td>-0.549273</td>\n",
       "      <td>0.856388</td>\n",
       "      <td>0.359386</td>\n",
       "      <td>1.152485</td>\n",
       "      <td>0.659477</td>\n",
       "      <td>0.147905</td>\n",
       "      <td>0.411907</td>\n",
       "      <td>1.041135</td>\n",
       "      <td>1.330148</td>\n",
       "      <td>0.867905</td>\n",
       "      <td>1.242525</td>\n",
       "      <td>0.755790</td>\n",
       "      <td>1.061819</td>\n",
       "      <td>-0.293155</td>\n",
       "      <td>0.000421</td>\n",
       "      <td>0.521196</td>\n",
       "      <td>-2.377504</td>\n",
       "      <td>-0.073297</td>\n",
       "      <td>-0.995646</td>\n",
       "      <td>0.772204</td>\n",
       "      <td>0.772465</td>\n",
       "      <td>0.937361</td>\n",
       "      <td>0.195101</td>\n",
       "      <td>0.810276</td>\n",
       "      <td>0.912235</td>\n",
       "      <td>1.061805</td>\n",
       "      <td>-0.101256</td>\n",
       "      <td>-0.061867</td>\n",
       "      <td>-0.502199</td>\n",
       "      <td>-0.190124</td>\n",
       "      <td>-0.428302</td>\n",
       "    </tr>\n",
       "    <tr>\n",
       "      <th>4</th>\n",
       "      <td>0.841822</td>\n",
       "      <td>-0.239425</td>\n",
       "      <td>1.054880</td>\n",
       "      <td>-0.429562</td>\n",
       "      <td>0.125175</td>\n",
       "      <td>1.455657</td>\n",
       "      <td>0.877535</td>\n",
       "      <td>0.275878</td>\n",
       "      <td>-0.974943</td>\n",
       "      <td>-1.263771</td>\n",
       "      <td>0.736274</td>\n",
       "      <td>1.406921</td>\n",
       "      <td>1.582098</td>\n",
       "      <td>1.009704</td>\n",
       "      <td>1.088604</td>\n",
       "      <td>0.984765</td>\n",
       "      <td>0.996609</td>\n",
       "      <td>0.821770</td>\n",
       "      <td>0.813451</td>\n",
       "      <td>0.879231</td>\n",
       "      <td>1.123520</td>\n",
       "      <td>1.308734</td>\n",
       "      <td>-1.691304</td>\n",
       "      <td>0.989232</td>\n",
       "      <td>0.937361</td>\n",
       "      <td>-0.320773</td>\n",
       "      <td>-1.402749</td>\n",
       "      <td>-0.947294</td>\n",
       "      <td>-0.743158</td>\n",
       "      <td>-0.041955</td>\n",
       "      <td>-0.188074</td>\n",
       "      <td>-0.643426</td>\n",
       "      <td>-0.563291</td>\n",
       "      <td>-0.137731</td>\n",
       "    </tr>\n",
       "  </tbody>\n",
       "</table>\n",
       "</div>"
      ],
      "text/plain": [
       "   potential  crossing  finishing  heading_accuracy  short_passing   volleys  \\\n",
       "0   0.841822  1.096358   1.054880          0.707694       0.324597  0.743081   \n",
       "1  -1.910544 -1.342898  -1.362834         -0.309851      -1.403724 -1.504277   \n",
       "2   0.536003 -0.007115  -0.469331          0.468271      -0.140720 -0.572446   \n",
       "3   1.453459  1.038280   0.529290         -0.549273       0.856388  0.359386   \n",
       "4   0.841822 -0.239425   1.054880         -0.429562       0.125175  1.455657   \n",
       "\n",
       "   dribbling     curve  free_kick_accuracy  long_passing  ball_control  \\\n",
       "0   1.372446  1.207476            0.653186      0.551547      0.980163   \n",
       "1  -1.597022 -1.642120           -0.245092     -1.333591     -2.678173   \n",
       "2  -0.717180 -0.272122            0.372474     -0.216472     -0.239283   \n",
       "3   1.152485  0.659477            0.147905      0.411907      1.041135   \n",
       "4   0.877535  0.275878           -0.974943     -1.263771      0.736274   \n",
       "\n",
       "   acceleration  sprint_speed   agility  reactions   balance  shot_power  \\\n",
       "0      1.330148      0.867905  0.932097   0.312038  1.292984    0.812357   \n",
       "1     -0.205329     -0.004997 -1.318502  -2.017662 -0.479277   -1.337249   \n",
       "2      0.715957     -0.322416 -0.232006  -0.797343  0.676545   -0.538824   \n",
       "3      1.330148      0.867905  1.242525   0.755790  1.061819   -0.293155   \n",
       "4      1.406921      1.582098  1.009704   1.088604  0.984765    0.996609   \n",
       "\n",
       "    jumping   stamina  strength  long_shots  aggression  interceptions  \\\n",
       "0 -0.090840  0.886514  0.628713    0.797116   -1.182488      -0.356903   \n",
       "1  0.365465 -0.647824 -0.540371   -1.542118    0.436806       0.310297   \n",
       "2 -0.182101  0.228941  0.712219   -0.127697    0.748209       0.515589   \n",
       "3  0.000421  0.521196 -2.377504   -0.073297   -0.995646       0.772204   \n",
       "4  0.821770  0.813451  0.879231    1.123520    1.308734      -1.691304   \n",
       "\n",
       "   positioning    vision  penalties   marking  standing_tackle  \\\n",
       "0     1.097616  0.870617   1.033397 -0.555207        -0.993782   \n",
       "1    -1.449402 -1.732389  -1.223553  0.527762         0.540329   \n",
       "2     0.880848  0.002948   0.130617  0.669019         0.958723   \n",
       "3     0.772465  0.937361   0.195101  0.810276         0.912235   \n",
       "4     0.989232  0.937361  -0.320773 -1.402749        -0.947294   \n",
       "\n",
       "   sliding_tackle  gk_diving  gk_handling  gk_kicking  gk_positioning  \\\n",
       "0       -0.696877  -0.338457    -0.566696   -0.596350       -0.003540   \n",
       "1        0.598994  -0.457057    -0.503593   -0.690502       -0.127930   \n",
       "2        0.506432  -0.457057     0.316754    1.522063        0.307432   \n",
       "3        1.061805  -0.101256    -0.061867   -0.502199       -0.190124   \n",
       "4       -0.743158  -0.041955    -0.188074   -0.643426       -0.563291   \n",
       "\n",
       "   gk_reflexes  \n",
       "0    -0.021503  \n",
       "1    -0.544531  \n",
       "2     0.269069  \n",
       "3    -0.428302  \n",
       "4    -0.137731  "
      ]
     },
     "execution_count": 179,
     "metadata": {},
     "output_type": "execute_result"
    }
   ],
   "source": [
    "st = StandardScaler()\n",
    "\n",
    "xtrain = pd.DataFrame(st.fit_transform(xtrain), columns = xtrain.columns)\n",
    "\n",
    "xtest = pd.DataFrame(st.transform(xtest), columns = xtest.columns)\n",
    "\n",
    "xtrain.head()"
   ]
  },
  {
   "cell_type": "markdown",
   "metadata": {},
   "source": [
    "### Creating covariance matrix"
   ]
  },
  {
   "cell_type": "code",
   "execution_count": 174,
   "metadata": {},
   "outputs": [
    {
     "data": {
      "text/plain": [
       "(34, 34)"
      ]
     },
     "execution_count": 174,
     "metadata": {},
     "output_type": "execute_result"
    }
   ],
   "source": [
    "cov_matrix =  np.cov(xtrain.T)  # We use transpose, because np.cov function will by default take rows for finding covariance\n",
    "cov_matrix.shape"
   ]
  },
  {
   "cell_type": "markdown",
   "metadata": {},
   "source": [
    "### Eigen Values and Eigen Vectors"
   ]
  },
  {
   "cell_type": "code",
   "execution_count": 175,
   "metadata": {},
   "outputs": [
    {
     "data": {
      "text/plain": [
       "((34,), (34, 34))"
      ]
     },
     "execution_count": 175,
     "metadata": {},
     "output_type": "execute_result"
    }
   ],
   "source": [
    "eig_vals, eig_vecs = np.linalg.eig(cov_matrix) \n",
    "eig_vals.shape, eig_vecs.shape"
   ]
  },
  {
   "cell_type": "code",
   "execution_count": 181,
   "metadata": {},
   "outputs": [
    {
     "data": {
      "text/plain": [
       "array([15.61851576,  5.52612424,  2.6126341 ,  1.91242708,  1.54133722,\n",
       "        0.7978193 ,  0.67199495,  0.56188824,  0.45491045,  0.39633581,\n",
       "        0.36696176,  0.32293978,  0.31125896,  0.28845337,  0.28142193,\n",
       "        0.24376389,  0.03231196,  0.03382161,  0.03905587,  0.04911375,\n",
       "        0.05598123,  0.05956025,  0.08573219,  0.09013168,  0.10376699,\n",
       "        0.12734935,  0.13162569,  0.22754096,  0.20861419,  0.15088205,\n",
       "        0.16236346,  0.18555935,  0.17272657,  0.17534398])"
      ]
     },
     "execution_count": 181,
     "metadata": {},
     "output_type": "execute_result"
    }
   ],
   "source": [
    "# Array of eigen values. But this is not in sorted order.\n",
    "eig_vals"
   ]
  },
  {
   "cell_type": "code",
   "execution_count": 182,
   "metadata": {},
   "outputs": [],
   "source": [
    "# Fetching eigen values and their cooresponding eigen vectors so that we can later sort them on the basis of eigen values\n",
    "\n",
    "# Fetching eigen vector. they are columns\n",
    "eigen_pairs = [(np.abs(eig_vals[i]), eig_vecs[ :, i]) for i in range(eig_vecs.shape[0])]"
   ]
  },
  {
   "cell_type": "code",
   "execution_count": 183,
   "metadata": {},
   "outputs": [
    {
     "data": {
      "text/plain": [
       "[(15.618515756485445,\n",
       "  array([-0.08998463, -0.21493193, -0.18562461, -0.1554181 , -0.2295208 ,\n",
       "         -0.19539975, -0.22753425, -0.20950485, -0.19454857, -0.17939705,\n",
       "         -0.24018989, -0.1700249 , -0.16781214, -0.16401791, -0.11337284,\n",
       "         -0.14410383, -0.2097918 , -0.03167164, -0.17687245, -0.01507689,\n",
       "         -0.21214999, -0.1155355 , -0.0897136 , -0.20464315, -0.19980461,\n",
       "         -0.18300913, -0.06875014, -0.08495348, -0.07745037,  0.20245921,\n",
       "          0.20074366,  0.12797255,  0.20133926,  0.20220685])),\n",
       " (5.526124237841918,\n",
       "  array([ 0.04295314,  0.0221313 ,  0.21122749, -0.18575197, -0.05100421,\n",
       "          0.17041593,  0.11219489,  0.10537602,  0.07917576, -0.09705304,\n",
       "          0.02130662,  0.12766168,  0.09779992,  0.1783517 ,  0.00874488,\n",
       "          0.09797408,  0.0414758 , -0.09141332, -0.11399561, -0.22217547,\n",
       "          0.11282753, -0.27978947, -0.32943998,  0.13881819,  0.07680064,\n",
       "          0.1101594 , -0.37925797, -0.37361932, -0.36854314,  0.10344062,\n",
       "          0.10904642,  0.07668059,  0.10637821,  0.10677399])),\n",
       " (2.6126341008573255,\n",
       "  array([ 0.39521449,  0.04097815, -0.00339032, -0.03649117,  0.04775272,\n",
       "          0.03278145, -0.02988593,  0.03782215,  0.0705018 ,  0.17223263,\n",
       "         -0.00918474, -0.02305451, -0.02601757,  0.01336399,  0.40102431,\n",
       "          0.01590932,  0.04561673,  0.17643076,  0.06700593,  0.15950199,\n",
       "          0.057376  ,  0.12047367,  0.15933289,  0.06360838,  0.15184157,\n",
       "          0.10158806,  0.05702916,  0.06403825,  0.05940701,  0.26866058,\n",
       "          0.30955289,  0.35270034,  0.30965378,  0.30822689])),\n",
       " (1.9124270773492387,\n",
       "  array([ 0.04147067,  0.10376777, -0.20802656, -0.26805941, -0.01242708,\n",
       "         -0.18194154,  0.0232188 , -0.01145937, -0.07980616,  0.06291772,\n",
       "         -0.019119  ,  0.34468737,  0.30286857,  0.33402133, -0.07038018,\n",
       "          0.38387673, -0.20257278,  0.10311558,  0.13184243, -0.38021783,\n",
       "         -0.14974264, -0.06865614,  0.09648276, -0.08591503, -0.02359442,\n",
       "         -0.19935505,  0.12404772,  0.1080682 ,  0.14669021,  0.01690964,\n",
       "          0.03087853,  0.06013278,  0.03317426,  0.03246527])),\n",
       " (1.5413372225079083,\n",
       "  array([ 0.1383452 , -0.16606946,  0.07672602,  0.2560245 , -0.12892563,\n",
       "          0.01003495, -0.02362754, -0.17357613, -0.24461489, -0.30394758,\n",
       "         -0.0226292 ,  0.24486276,  0.30099607,  0.07372615,  0.11510911,\n",
       "          0.01307643,  0.04232323,  0.52076626,  0.15862369,  0.3049551 ,\n",
       "         -0.08483356,  0.10392546, -0.13056442,  0.02867535, -0.18475577,\n",
       "         -0.01623592, -0.09824115, -0.11288586, -0.11075821, -0.0303956 ,\n",
       "         -0.04511738, -0.09616061, -0.04563299, -0.0439045 ])),\n",
       " (0.7978192993786347,\n",
       "  array([ 0.50481979,  0.01652295, -0.05480477, -0.01685244,  0.08387695,\n",
       "         -0.08583102,  0.09282667, -0.03683495, -0.13768862,  0.01794182,\n",
       "          0.10276845,  0.16127644,  0.21051299, -0.02120085,  0.25319899,\n",
       "         -0.33956977, -0.02176051, -0.52335594, -0.0253115 ,  0.06030132,\n",
       "         -0.07590671, -0.08423988, -0.05424543, -0.12681187, -0.10150859,\n",
       "         -0.22206664, -0.01133459, -0.00333629, -0.02247758,  0.0345813 ,\n",
       "         -0.05096194, -0.24138324, -0.04933016, -0.04356385])),\n",
       " (0.6719949535320084,\n",
       "  array([-0.09538824,  0.00551638,  0.05296957,  0.0832881 , -0.07088308,\n",
       "          0.01658459, -0.00283128, -0.0927623 , -0.09659432, -0.13054702,\n",
       "         -0.02547224,  0.2005954 ,  0.27985676, -0.09443846, -0.34004424,\n",
       "         -0.12447911, -0.02073532, -0.40544715,  0.28265499,  0.16322231,\n",
       "         -0.02614702,  0.04119539,  0.12531589,  0.2061545 ,  0.02061916,\n",
       "          0.16648425,  0.02748749,  0.00582148,  0.00883202, -0.14359354,\n",
       "          0.05469395,  0.54148956,  0.05039361,  0.03583226])),\n",
       " (0.5618882374285812,\n",
       "  array([-4.31195357e-01,  1.61133781e-01, -5.20724572e-02, -3.31120535e-01,\n",
       "         -8.19912506e-02, -3.12241698e-02,  4.17667992e-04,  1.07079092e-01,\n",
       "          1.49053990e-01,  5.33130566e-02, -1.07597204e-01,  7.89753877e-02,\n",
       "          1.03778914e-01,  9.24476846e-02,  9.23751098e-02, -1.25899968e-01,\n",
       "          1.51109232e-01, -1.08738615e-01,  3.92483563e-01,  3.00064736e-01,\n",
       "          1.37771140e-01,  2.76210590e-01, -7.51337305e-02, -7.75897348e-02,\n",
       "         -7.33106462e-02, -1.70244093e-01, -7.35933412e-02, -3.81084276e-02,\n",
       "         -4.82681113e-02,  2.20610349e-01,  8.92989547e-02, -2.59635692e-01,\n",
       "          8.81791529e-02,  9.46177762e-02])),\n",
       " (0.4549104456524603,\n",
       "  array([ 1.53926359e-03, -2.35570669e-01,  2.46441706e-04, -4.84521712e-02,\n",
       "          1.00543502e-01, -1.10324711e-01, -8.36410235e-02, -2.76139645e-01,\n",
       "         -2.96821184e-01,  1.22000380e-01,  3.89968698e-02, -1.40311558e-01,\n",
       "         -2.01557727e-01,  2.73173609e-02,  1.67181065e-01,  3.78967359e-01,\n",
       "         -1.60227997e-01, -2.45123707e-01,  2.85052284e-01,  2.53724799e-02,\n",
       "         -1.61561637e-01,  2.63509144e-01, -4.98177990e-02,  1.47509066e-01,\n",
       "          3.38657866e-01,  1.07085319e-01, -1.42873807e-01, -1.15909397e-01,\n",
       "         -1.58871529e-01, -2.18549972e-02, -4.98009695e-02, -1.35590852e-01,\n",
       "         -5.09121360e-02, -5.36475535e-02])),\n",
       " (0.39633581183737404,\n",
       "  array([ 0.19126554,  0.01133681, -0.03379521, -0.07496448,  0.2139546 ,\n",
       "         -0.13822651,  0.05090081, -0.09580192, -0.07641764,  0.46955819,\n",
       "          0.08128426, -0.040171  , -0.01259664, -0.03361247, -0.52807803,\n",
       "         -0.22197155,  0.03027095,  0.29003814,  0.22611764,  0.16474813,\n",
       "          0.01313336, -0.24521497, -0.04754697, -0.06278158,  0.19525383,\n",
       "         -0.10176274, -0.10678937, -0.08160213, -0.11723344,  0.05484498,\n",
       "          0.01178589, -0.05021499,  0.00671862,  0.00943235])),\n",
       " (0.3669617641768498,\n",
       "  array([ 0.35517626, -0.20303167, -0.05971584, -0.10483012, -0.10307767,\n",
       "         -0.0842188 , -0.11798864, -0.05334253,  0.27094026, -0.01061267,\n",
       "         -0.08493304,  0.07063889,  0.043546  , -0.03226475, -0.37712977,\n",
       "          0.39613011,  0.28682735, -0.16100672, -0.16840601,  0.16873902,\n",
       "          0.14899953,  0.22786088, -0.08010622, -0.17655624, -0.16021738,\n",
       "          0.25054227,  0.02963755,  0.04144392,  0.0166366 ,  0.0845539 ,\n",
       "          0.00951957, -0.14240467,  0.00622013,  0.01309593])),\n",
       " (0.3229397819624523,\n",
       "  array([ 0.03223765, -0.05692243,  0.16915255,  0.02045694,  0.03707546,\n",
       "          0.27862801,  0.11634003, -0.09719151, -0.32886515, -0.08041581,\n",
       "          0.04147091, -0.08690014, -0.10341717,  0.07237647, -0.13870294,\n",
       "          0.16739201,  0.35144244, -0.05897426, -0.0863195 , -0.05285046,\n",
       "          0.27585418,  0.16275917,  0.10464317, -0.0491869 ,  0.03854217,\n",
       "         -0.62858348, -0.00754293,  0.01176699,  0.03176302, -0.02094555,\n",
       "          0.04718285,  0.13980307,  0.04910109,  0.04472518])),\n",
       " (0.31125895806188125,\n",
       "  array([ 0.14095779, -0.27113856,  0.12339512, -0.01710669, -0.15001739,\n",
       "          0.07978153, -0.11899256, -0.12976036,  0.06347122, -0.12011982,\n",
       "         -0.12119873, -0.08231354, -0.0985378 , -0.04263901,  0.04548405,\n",
       "         -0.16529105,  0.20075614,  0.01992102,  0.56094405, -0.46655707,\n",
       "          0.21560124, -0.22296418,  0.12062633, -0.00915207, -0.09819948,\n",
       "          0.12766629,  0.07786191,  0.08430135,  0.07094405,  0.04630349,\n",
       "         -0.00450509, -0.14193831,  0.00642231,  0.00526014])),\n",
       " (0.2884533718541332,\n",
       "  array([ 0.23266247, -0.08902003, -0.08063413, -0.02625814, -0.06732617,\n",
       "          0.08128205, -0.04992824,  0.35762495,  0.36326132, -0.36540926,\n",
       "          0.03803846, -0.15006022, -0.15926452,  0.04052468, -0.05720465,\n",
       "          0.14552307, -0.24518396, -0.00775688,  0.2928162 ,  0.25405224,\n",
       "         -0.11320444, -0.15034235, -0.02395884, -0.08826235,  0.20129228,\n",
       "         -0.3315977 , -0.0402466 , -0.02575439, -0.00271845, -0.13188205,\n",
       "         -0.06399418,  0.10379612, -0.06500401, -0.06946104])),\n",
       " (0.2814219280604294,\n",
       "  array([-0.13777331,  0.08471792,  0.06195118,  0.00375486,  0.02200625,\n",
       "          0.00964982,  0.03532055, -0.10873177, -0.17671665, -0.01144057,\n",
       "         -0.01102964, -0.02167194, -0.01469057, -0.06705614,  0.11737989,\n",
       "          0.36956136,  0.07899081, -0.12015422,  0.03315282,  0.3898353 ,\n",
       "          0.09731061, -0.67360513, -0.06667886,  0.09829151, -0.07841526,\n",
       "          0.04645458,  0.16932823,  0.16188728,  0.1586175 ,  0.11034394,\n",
       "          0.03812747, -0.11306731,  0.04052463,  0.04307071])),\n",
       " (0.24376388889812353,\n",
       "  array([ 0.23449042,  0.41212913,  0.07216099, -0.0684595 , -0.0871538 ,\n",
       "          0.07787901,  0.14913262,  0.17540036, -0.238598  , -0.17484443,\n",
       "          0.01707071, -0.11505288, -0.10853695, -0.27616787, -0.2498065 ,\n",
       "          0.0515997 , -0.18904064,  0.04909622,  0.12208468, -0.12016393,\n",
       "         -0.06721656,  0.20869041, -0.23721601,  0.36733223, -0.13699208,\n",
       "          0.04247002,  0.06860099,  0.09481537,  0.12709731,  0.1652733 ,\n",
       "          0.07480652, -0.21189375,  0.06800661,  0.06956864])),\n",
       " (0.22754095700761584,\n",
       "  array([ 1.43523114e-04,  2.68679739e-01, -8.68031191e-02,  1.94096658e-01,\n",
       "          1.14694095e-01, -2.30217604e-01, -1.49170253e-02, -3.13187004e-02,\n",
       "          1.58706949e-01,  1.44399246e-01,  4.76777373e-02, -2.43764749e-02,\n",
       "          1.08082210e-02, -4.93947330e-01,  1.68747611e-01,  2.88994972e-01,\n",
       "          1.29150344e-01,  1.06975713e-02,  2.00888836e-01, -1.41936436e-01,\n",
       "          1.70616487e-02, -9.27038660e-03, -1.52232516e-05, -1.02111160e-01,\n",
       "         -3.60299902e-01, -1.74533906e-01, -1.54715953e-01, -1.90498540e-01,\n",
       "         -2.15435940e-01, -9.33805882e-02, -3.64664187e-02,  2.04880653e-01,\n",
       "         -3.66549461e-02, -4.30865620e-02])),\n",
       " (0.20861419419067914,\n",
       "  array([ 0.03142833,  0.11789602,  0.01029485,  0.29966517,  0.03504945,\n",
       "          0.07858809,  0.09763126,  0.13509626, -0.1389027 ,  0.11930901,\n",
       "          0.05219088, -0.17754922, -0.26707324,  0.56038847, -0.09064949,\n",
       "          0.02815087, -0.07294957, -0.12788528,  0.17099453,  0.06000529,\n",
       "         -0.10567401,  0.0168297 ,  0.05521573, -0.22531383, -0.47298989,\n",
       "          0.17582443, -0.02508685, -0.06997625, -0.08083116,  0.03338086,\n",
       "          0.04429095,  0.06588368,  0.04492   ,  0.04429025])),\n",
       " (0.1855593521024659,\n",
       "  array([-0.01292467,  0.00263557,  0.19878376, -0.0427533 , -0.10364063,\n",
       "          0.47979436,  0.0087979 ,  0.10527174, -0.10834725,  0.14150219,\n",
       "         -0.08628605,  0.1103936 ,  0.14116864, -0.30720897, -0.04860241,\n",
       "          0.12789558, -0.31337585, -0.00243903, -0.00449073,  0.04060246,\n",
       "         -0.05858195, -0.01523746,  0.46179035, -0.35603541,  0.01476208,\n",
       "          0.09827131, -0.09238605, -0.07789691, -0.11244972,  0.07323502,\n",
       "          0.0124081 , -0.18765148,  0.01309811,  0.01950223])),\n",
       " (0.17534398129811918,\n",
       "  array([-0.06279079, -0.17466808,  0.22626083,  0.38907643,  0.01126661,\n",
       "          0.16399338, -0.0612115 , -0.22428531,  0.35995175,  0.2947511 ,\n",
       "         -0.10807691,  0.09345424,  0.08264985,  0.02795917, -0.04240053,\n",
       "          0.03703224, -0.38861513, -0.08798836,  0.00593807, -0.04576111,\n",
       "          0.07897294,  0.06681065, -0.31223852,  0.1506371 , -0.0829307 ,\n",
       "         -0.27299613,  0.09809462,  0.091066  ,  0.08639259,  0.13483521,\n",
       "          0.07127138, -0.05301346,  0.06547645,  0.0730995 ])),\n",
       " (0.17272656786363857,\n",
       "  array([-0.07548651,  0.08430194, -0.22599415,  0.30699505,  0.08640717,\n",
       "          0.21643818, -0.21000608,  0.21042518, -0.19799175,  0.00129921,\n",
       "         -0.07055997,  0.02932908,  0.12884708, -0.09443497,  0.00149194,\n",
       "          0.02195517,  0.19691544, -0.05295236,  0.10463915, -0.13609416,\n",
       "         -0.09167195,  0.00661163, -0.46979821, -0.41944167,  0.324028  ,\n",
       "          0.10943202,  0.0654584 ,  0.03888345,  0.12921378,  0.03770242,\n",
       "          0.05998153,  0.03496907,  0.05955671,  0.05240492])),\n",
       " (0.16236346044912014,\n",
       "  array([ 0.01539914, -0.25649874, -0.05430195, -0.48996125,  0.2302732 ,\n",
       "          0.38123637, -0.00867774, -0.00187879, -0.07085741,  0.1622148 ,\n",
       "          0.11782795, -0.00860527, -0.03210765, -0.0992174 ,  0.11482449,\n",
       "         -0.03288869, -0.08213474,  0.08502649,  0.05947649,  0.06433229,\n",
       "         -0.02299962,  0.05031634, -0.33104462, -0.02710797, -0.35583113,\n",
       "          0.07040496,  0.02782772,  0.07397637,  0.14044497, -0.18084318,\n",
       "         -0.09838147,  0.26032484, -0.10098261, -0.09565431])),\n",
       " (0.15088204539226546,\n",
       "  array([-0.03877804, -0.41785974, -0.06670873,  0.11172677, -0.08687532,\n",
       "         -0.14789005, -0.15555278,  0.66218079, -0.23118117,  0.27891827,\n",
       "         -0.1043267 ,  0.04364091,  0.08964786, -0.06197643,  0.0071115 ,\n",
       "          0.04277983,  0.07268125, -0.03460469, -0.03707288, -0.0130081 ,\n",
       "          0.03038945, -0.03208987,  0.07388159,  0.33239314, -0.12964654,\n",
       "         -0.0975967 , -0.03249762, -0.00598582, -0.03467769,  0.02215967,\n",
       "          0.01252082, -0.04281419, -0.0055638 ,  0.00319856])),\n",
       " (0.1316256894585551,\n",
       "  array([ 0.10795915,  0.24842014, -0.34908741, -0.00067451, -0.14089198,\n",
       "          0.41729675, -0.36583675, -0.17927043,  0.098548  ,  0.15620133,\n",
       "         -0.24190798, -0.06981513,  0.0271615 ,  0.13092845, -0.00281029,\n",
       "         -0.0143655 ,  0.22791638, -0.02239411, -0.04163775,  0.02596922,\n",
       "         -0.28520045, -0.07657777,  0.12011522,  0.35510395, -0.03596554,\n",
       "         -0.09780858, -0.08356197, -0.06992535, -0.05477719, -0.03820328,\n",
       "         -0.07556307, -0.05838294, -0.07523688, -0.06821442])),\n",
       " (0.12734935298350064,\n",
       "  array([ 0.151132  ,  0.29279378,  0.1542987 , -0.09110408, -0.30191841,\n",
       "         -0.14505343, -0.32935151,  0.02251772, -0.19377354,  0.15580791,\n",
       "         -0.28438707, -0.0298461 , -0.03959415,  0.10563861,  0.08974986,\n",
       "         -0.02903142, -0.23962711,  0.01614507, -0.02880836,  0.07879574,\n",
       "          0.5023511 ,  0.01862366, -0.12300328, -0.11121713,  0.06014197,\n",
       "          0.01615341,  0.01643566, -0.04065577,  0.00383915, -0.20978622,\n",
       "         -0.1312616 ,  0.13947962, -0.14114356, -0.14689219])),\n",
       " (0.10376698588311313,\n",
       "  array([ 2.52438529e-02,  6.69136337e-02,  6.65201687e-01, -1.36960118e-01,\n",
       "         -1.27556858e-01, -1.46350760e-01, -8.22889162e-02,  7.08269741e-02,\n",
       "          4.94754259e-02,  1.36650695e-01, -1.37925982e-01, -9.17114003e-02,\n",
       "          4.39657117e-02,  2.14047221e-02,  3.13658991e-02,  1.22181776e-02,\n",
       "          2.63737134e-01, -2.13033950e-03,  5.30372737e-03,  5.32551111e-04,\n",
       "         -5.56993570e-01,  3.16547605e-03, -9.04266279e-02, -9.86722032e-02,\n",
       "          2.15038209e-02, -6.64375011e-02,  9.99262006e-02,  5.31461191e-02,\n",
       "          5.92974619e-02, -4.83869637e-02, -3.56656580e-02,  7.90222652e-02,\n",
       "         -3.64417572e-02, -4.39690076e-02])),\n",
       " (0.09013168045090482,\n",
       "  array([-1.03088076e-02,  7.87597586e-02,  2.04371405e-01, -4.39160945e-02,\n",
       "          6.64781290e-01, -5.16130554e-02, -5.33293659e-01,  5.28863272e-02,\n",
       "         -1.31881775e-02, -2.63153206e-01, -2.96060049e-02, -1.58967305e-01,\n",
       "          2.15892756e-01,  7.90124662e-02, -7.33675534e-02, -4.12821362e-03,\n",
       "         -8.72086988e-02, -3.31425881e-03, -3.52881047e-02, -2.26299143e-02,\n",
       "          8.45505216e-02,  1.28367697e-02,  1.28207180e-01,  4.91793515e-02,\n",
       "         -9.48033051e-02,  4.40393749e-04, -2.52251183e-02,  8.56946496e-04,\n",
       "         -3.89115585e-02,  8.33805094e-02,  4.28911470e-02, -8.18258541e-02,\n",
       "          2.61950245e-02,  3.89671014e-02])),\n",
       " (0.08573219338032004,\n",
       "  array([ 1.47257093e-03, -5.60175080e-02, -8.03669726e-02, -1.09613592e-02,\n",
       "         -1.61341421e-01, -6.89205091e-03,  2.00022466e-01, -4.09694054e-02,\n",
       "          1.67851278e-02,  5.77967611e-02,  5.29121822e-02, -7.27021253e-01,\n",
       "          6.07484986e-01,  5.26072057e-02,  2.36679017e-02,  5.38308966e-02,\n",
       "         -4.74222150e-02,  3.60278229e-03, -3.00791001e-03, -2.83683552e-02,\n",
       "          6.05525349e-02,  1.02455030e-02, -1.73503370e-02, -2.09936406e-02,\n",
       "          5.76321882e-04,  2.52513965e-02, -4.41533404e-02,  5.49790345e-03,\n",
       "          3.85710783e-02, -7.06469225e-03,  5.67999198e-03,  1.31401707e-02,\n",
       "         -1.14960819e-02, -1.37160011e-02])),\n",
       " (0.05956025031032349,\n",
       "  array([ 0.03435357, -0.01502115,  0.00275198,  0.05309928,  0.19832281,\n",
       "         -0.06449522,  0.24756093, -0.00429868,  0.01169752, -0.02309345,\n",
       "         -0.49539339,  0.02196288, -0.03659728,  0.00184252,  0.01790574,\n",
       "          0.00670634,  0.00211457, -0.00906966,  0.00251639,  0.01580812,\n",
       "         -0.01424575, -0.00885776,  0.04141067, -0.00866873, -0.00364379,\n",
       "          0.03267647, -0.61264818,  0.03299533,  0.50945941, -0.04148598,\n",
       "         -0.02099081,  0.01062963, -0.00788699, -0.02979117])),\n",
       " (0.05598123007205031,\n",
       "  array([ 4.53799608e-02, -4.01833079e-02, -7.59926931e-02, -2.46712250e-02,\n",
       "          2.67097940e-01,  2.80990036e-02,  3.58432396e-01,  3.41841057e-02,\n",
       "         -9.12798071e-03, -6.31823231e-02, -6.38780729e-01, -3.77560430e-02,\n",
       "          8.76863071e-03, -2.50813582e-03,  2.06457513e-02,  4.30986943e-03,\n",
       "          6.16337208e-06,  1.50181348e-02,  7.66862794e-03,  3.16144768e-03,\n",
       "          9.94867684e-04,  1.81939790e-02, -3.29737335e-02,  1.20954180e-02,\n",
       "          3.58381776e-02,  1.10735728e-02,  4.17967896e-01, -1.50450981e-02,\n",
       "         -3.94941243e-01,  8.97022240e-02, -1.18076293e-01,  7.44070834e-02,\n",
       "         -9.96166075e-02, -4.98209735e-02])),\n",
       " (0.049113748213880974,\n",
       "  array([-0.01839422, -0.00197855,  0.00964051,  0.02370611, -0.05680235,\n",
       "         -0.00206633, -0.04721857,  0.00585201, -0.02330284, -0.02829665,\n",
       "          0.12230719,  0.01107603, -0.00719947,  0.00598421, -0.00670501,\n",
       "         -0.00329751, -0.00256703, -0.00410284, -0.00262669, -0.01718735,\n",
       "          0.00775729,  0.0056244 ,  0.02219104, -0.01573183,  0.0237914 ,\n",
       "         -0.00320818, -0.09209034,  0.00917359,  0.07531547,  0.74533664,\n",
       "         -0.42423535,  0.26566377, -0.38364851, -0.08776401])),\n",
       " (0.039055865919892394,\n",
       "  array([-5.61504497e-03,  3.38065911e-02, -3.63468980e-03,  1.06810096e-02,\n",
       "         -3.77033345e-02,  9.24401634e-03, -1.57261604e-02,  4.17171333e-03,\n",
       "         -1.29380491e-02, -1.05529877e-02,  4.44510614e-03,  1.00591698e-02,\n",
       "          4.79803668e-04,  1.44163028e-02,  8.16028824e-03,  6.11611615e-04,\n",
       "         -1.59669122e-03,  9.50945332e-03, -7.49486869e-03, -1.75372725e-02,\n",
       "         -6.60514633e-03, -7.06808228e-03, -4.42532101e-02, -2.92221739e-02,\n",
       "          2.39438117e-04, -1.68373912e-03, -3.38328383e-01,  8.23929230e-01,\n",
       "         -4.34330766e-01, -7.36930292e-03,  2.02407684e-02,  4.36221901e-02,\n",
       "          3.90429842e-02, -8.38239563e-02])),\n",
       " (0.03382160685682823,\n",
       "  array([ 6.91980957e-04, -2.98926211e-04,  3.41953835e-03, -7.33725884e-04,\n",
       "          6.41043870e-04, -3.24272178e-03, -1.25889216e-02,  9.07022002e-03,\n",
       "         -2.22595464e-03,  6.93139107e-03,  6.90032804e-03, -1.00175228e-02,\n",
       "          1.25530807e-02, -5.95001609e-04, -5.41907852e-03,  1.82409381e-03,\n",
       "         -5.65476480e-03, -6.79397890e-04, -2.76359810e-03,  4.79349891e-03,\n",
       "          3.91567193e-03,  3.65247563e-03, -4.26755406e-03,  7.49750360e-03,\n",
       "         -2.98836149e-03, -9.48506540e-04,  3.78840267e-03, -1.03500528e-02,\n",
       "          1.62264664e-03, -2.84606940e-02, -7.02772096e-01, -9.70805953e-03,\n",
       "          7.09433109e-01,  3.09132710e-02])),\n",
       " (0.0323119635694448,\n",
       "  array([-1.42985155e-03, -1.06200639e-02, -5.09766192e-03, -1.30144028e-03,\n",
       "          4.78455482e-03,  7.77570593e-03,  1.23263507e-03, -3.97784658e-04,\n",
       "         -6.59244307e-04, -7.73922827e-03,  6.98449426e-03,  7.14225431e-03,\n",
       "         -5.61125445e-03,  1.80847099e-03,  1.15945521e-03, -2.96458203e-03,\n",
       "         -7.48335942e-04,  1.40591283e-03, -4.07750676e-03, -2.11292199e-03,\n",
       "          2.75843758e-03,  4.79405791e-04,  1.17927066e-02, -4.53426500e-05,\n",
       "          6.47195697e-04, -1.52461891e-03,  3.70607844e-02, -7.69596602e-02,\n",
       "          3.56235058e-02,  2.13001587e-01,  2.87465422e-01,  5.38221913e-02,\n",
       "          3.30746176e-01, -8.66333038e-01]))]"
      ]
     },
     "execution_count": 183,
     "metadata": {},
     "output_type": "execute_result"
    }
   ],
   "source": [
    "eigen_pairs_sorted=sorted(eigen_pairs,reverse=True)\n",
    "eigen_pairs_sorted"
   ]
  },
  {
   "cell_type": "markdown",
   "metadata": {},
   "source": [
    "### Cumulative sum of eigen values"
   ]
  },
  {
   "cell_type": "code",
   "execution_count": 185,
   "metadata": {},
   "outputs": [
    {
     "name": "stdout",
     "output_type": "stream",
     "text": [
      "Variance of each eigen vector:\n",
      " [45.936, 16.253, 7.684, 5.625, 4.533, 2.347, 1.976, 1.653, 1.338, 1.166, 1.079, 0.95, 0.915, 0.848, 0.828, 0.717, 0.669, 0.614, 0.546, 0.516, 0.508, 0.478, 0.444, 0.387, 0.375, 0.305, 0.265, 0.252, 0.175, 0.165, 0.144, 0.115, 0.099, 0.095]\n",
      "\n",
      "Cumulative Variance Explained [ 45.936  62.189  69.873  75.498  80.031  82.378  84.354  86.007  87.345\n",
      "  88.511  89.59   90.54   91.455  92.303  93.131  93.848  94.517  95.131\n",
      "  95.677  96.193  96.701  97.179  97.623  98.01   98.385  98.69   98.955\n",
      "  99.207  99.382  99.547  99.691  99.806  99.905 100.   ]\n"
     ]
    }
   ],
   "source": [
    "# Total sum of eigen value\n",
    "tot = sum(eig_vals)\n",
    "\n",
    "# List contain percenatage wise eigen value contain\n",
    "var_exp = [round(( i /tot )*100,3) for i in sorted(eig_vals, reverse=True)]\n",
    "print('Variance of each eigen vector:\\n',var_exp)\n",
    "\n",
    "# List contains cumulative eigen value for each eigen vector starting from the first eigen vector's eigen value\n",
    "cum_var_exp = np.cumsum(var_exp)\n",
    "print(\"\\nCumulative Variance Explained\", cum_var_exp)\n",
    "# The last 4 features are contributing very less amount, similar to 1.4% of total variance"
   ]
  },
  {
   "cell_type": "code",
   "execution_count": 189,
   "metadata": {},
   "outputs": [
    {
     "name": "stderr",
     "output_type": "stream",
     "text": [
      "C:\\Users\\Divyajeet\\anaconda3\\lib\\site-packages\\seaborn\\_decorators.py:43: FutureWarning: Pass the following variables as keyword args: x, y. From version 0.12, the only valid positional argument will be `data`, and passing other arguments without an explicit keyword will result in an error or misinterpretation.\n",
      "  FutureWarning\n"
     ]
    },
    {
     "data": {
      "text/plain": [
       "<AxesSubplot:>"
      ]
     },
     "execution_count": 189,
     "metadata": {},
     "output_type": "execute_result"
    },
    {
     "data": {
      "image/png": "[encoded data removed]",
      "text/plain": [
       "<Figure size 1080x432 with 1 Axes>"
      ]
     },
     "metadata": {
      "needs_background": "light"
     },
     "output_type": "display_data"
    }
   ],
   "source": [
    "plt.figure(figsize=(15,6))\n",
    "sns.barplot(np.arange(1,cum_var_exp.shape[0]+1) , cum_var_exp)"
   ]
  },
  {
   "cell_type": "markdown",
   "metadata": {},
   "source": [
    "Around 18 PCA are able to explain 95% of the total variance."
   ]
  },
  {
   "cell_type": "markdown",
   "metadata": {},
   "source": [
    "### Extracting Eigen values and eigen vector back"
   ]
  },
  {
   "cell_type": "code",
   "execution_count": 192,
   "metadata": {},
   "outputs": [],
   "source": [
    "# Extract the eigenvalues and eigenvectors from the eigen pair (sorted)\n",
    "eigvalues_sort = [eigen_pairs_sorted[j][0] for j in range(len(eig_vals))]\n",
    "eigvectors_sort = [eigen_pairs_sorted[j][1] for j in range(len(eig_vals))]\n",
    "\n",
    "# Here the aigen vectors are row wise. we have to again change them to columns-wise"
   ]
  },
  {
   "cell_type": "code",
   "execution_count": 193,
   "metadata": {},
   "outputs": [
    {
     "data": {
      "text/plain": [
       "[array([-0.08998463, -0.21493193, -0.18562461, -0.1554181 , -0.2295208 ,\n",
       "        -0.19539975, -0.22753425, -0.20950485, -0.19454857, -0.17939705,\n",
       "        -0.24018989, -0.1700249 , -0.16781214, -0.16401791, -0.11337284,\n",
       "        -0.14410383, -0.2097918 , -0.03167164, -0.17687245, -0.01507689,\n",
       "        -0.21214999, -0.1155355 , -0.0897136 , -0.20464315, -0.19980461,\n",
       "        -0.18300913, -0.06875014, -0.08495348, -0.07745037,  0.20245921,\n",
       "         0.20074366,  0.12797255,  0.20133926,  0.20220685]),\n",
       " array([ 0.04295314,  0.0221313 ,  0.21122749, -0.18575197, -0.05100421,\n",
       "         0.17041593,  0.11219489,  0.10537602,  0.07917576, -0.09705304,\n",
       "         0.02130662,  0.12766168,  0.09779992,  0.1783517 ,  0.00874488,\n",
       "         0.09797408,  0.0414758 , -0.09141332, -0.11399561, -0.22217547,\n",
       "         0.11282753, -0.27978947, -0.32943998,  0.13881819,  0.07680064,\n",
       "         0.1101594 , -0.37925797, -0.37361932, -0.36854314,  0.10344062,\n",
       "         0.10904642,  0.07668059,  0.10637821,  0.10677399]),\n",
       " array([ 0.39521449,  0.04097815, -0.00339032, -0.03649117,  0.04775272,\n",
       "         0.03278145, -0.02988593,  0.03782215,  0.0705018 ,  0.17223263,\n",
       "        -0.00918474, -0.02305451, -0.02601757,  0.01336399,  0.40102431,\n",
       "         0.01590932,  0.04561673,  0.17643076,  0.06700593,  0.15950199,\n",
       "         0.057376  ,  0.12047367,  0.15933289,  0.06360838,  0.15184157,\n",
       "         0.10158806,  0.05702916,  0.06403825,  0.05940701,  0.26866058,\n",
       "         0.30955289,  0.35270034,  0.30965378,  0.30822689]),\n",
       " array([ 0.04147067,  0.10376777, -0.20802656, -0.26805941, -0.01242708,\n",
       "        -0.18194154,  0.0232188 , -0.01145937, -0.07980616,  0.06291772,\n",
       "        -0.019119  ,  0.34468737,  0.30286857,  0.33402133, -0.07038018,\n",
       "         0.38387673, -0.20257278,  0.10311558,  0.13184243, -0.38021783,\n",
       "        -0.14974264, -0.06865614,  0.09648276, -0.08591503, -0.02359442,\n",
       "        -0.19935505,  0.12404772,  0.1080682 ,  0.14669021,  0.01690964,\n",
       "         0.03087853,  0.06013278,  0.03317426,  0.03246527]),\n",
       " array([ 0.1383452 , -0.16606946,  0.07672602,  0.2560245 , -0.12892563,\n",
       "         0.01003495, -0.02362754, -0.17357613, -0.24461489, -0.30394758,\n",
       "        -0.0226292 ,  0.24486276,  0.30099607,  0.07372615,  0.11510911,\n",
       "         0.01307643,  0.04232323,  0.52076626,  0.15862369,  0.3049551 ,\n",
       "        -0.08483356,  0.10392546, -0.13056442,  0.02867535, -0.18475577,\n",
       "        -0.01623592, -0.09824115, -0.11288586, -0.11075821, -0.0303956 ,\n",
       "        -0.04511738, -0.09616061, -0.04563299, -0.0439045 ]),\n",
       " array([ 0.50481979,  0.01652295, -0.05480477, -0.01685244,  0.08387695,\n",
       "        -0.08583102,  0.09282667, -0.03683495, -0.13768862,  0.01794182,\n",
       "         0.10276845,  0.16127644,  0.21051299, -0.02120085,  0.25319899,\n",
       "        -0.33956977, -0.02176051, -0.52335594, -0.0253115 ,  0.06030132,\n",
       "        -0.07590671, -0.08423988, -0.05424543, -0.12681187, -0.10150859,\n",
       "        -0.22206664, -0.01133459, -0.00333629, -0.02247758,  0.0345813 ,\n",
       "        -0.05096194, -0.24138324, -0.04933016, -0.04356385]),\n",
       " array([-0.09538824,  0.00551638,  0.05296957,  0.0832881 , -0.07088308,\n",
       "         0.01658459, -0.00283128, -0.0927623 , -0.09659432, -0.13054702,\n",
       "        -0.02547224,  0.2005954 ,  0.27985676, -0.09443846, -0.34004424,\n",
       "        -0.12447911, -0.02073532, -0.40544715,  0.28265499,  0.16322231,\n",
       "        -0.02614702,  0.04119539,  0.12531589,  0.2061545 ,  0.02061916,\n",
       "         0.16648425,  0.02748749,  0.00582148,  0.00883202, -0.14359354,\n",
       "         0.05469395,  0.54148956,  0.05039361,  0.03583226]),\n",
       " array([-4.31195357e-01,  1.61133781e-01, -5.20724572e-02, -3.31120535e-01,\n",
       "        -8.19912506e-02, -3.12241698e-02,  4.17667992e-04,  1.07079092e-01,\n",
       "         1.49053990e-01,  5.33130566e-02, -1.07597204e-01,  7.89753877e-02,\n",
       "         1.03778914e-01,  9.24476846e-02,  9.23751098e-02, -1.25899968e-01,\n",
       "         1.51109232e-01, -1.08738615e-01,  3.92483563e-01,  3.00064736e-01,\n",
       "         1.37771140e-01,  2.76210590e-01, -7.51337305e-02, -7.75897348e-02,\n",
       "        -7.33106462e-02, -1.70244093e-01, -7.35933412e-02, -3.81084276e-02,\n",
       "        -4.82681113e-02,  2.20610349e-01,  8.92989547e-02, -2.59635692e-01,\n",
       "         8.81791529e-02,  9.46177762e-02]),\n",
       " array([ 1.53926359e-03, -2.35570669e-01,  2.46441706e-04, -4.84521712e-02,\n",
       "         1.00543502e-01, -1.10324711e-01, -8.36410235e-02, -2.76139645e-01,\n",
       "        -2.96821184e-01,  1.22000380e-01,  3.89968698e-02, -1.40311558e-01,\n",
       "        -2.01557727e-01,  2.73173609e-02,  1.67181065e-01,  3.78967359e-01,\n",
       "        -1.60227997e-01, -2.45123707e-01,  2.85052284e-01,  2.53724799e-02,\n",
       "        -1.61561637e-01,  2.63509144e-01, -4.98177990e-02,  1.47509066e-01,\n",
       "         3.38657866e-01,  1.07085319e-01, -1.42873807e-01, -1.15909397e-01,\n",
       "        -1.58871529e-01, -2.18549972e-02, -4.98009695e-02, -1.35590852e-01,\n",
       "        -5.09121360e-02, -5.36475535e-02]),\n",
       " array([ 0.19126554,  0.01133681, -0.03379521, -0.07496448,  0.2139546 ,\n",
       "        -0.13822651,  0.05090081, -0.09580192, -0.07641764,  0.46955819,\n",
       "         0.08128426, -0.040171  , -0.01259664, -0.03361247, -0.52807803,\n",
       "        -0.22197155,  0.03027095,  0.29003814,  0.22611764,  0.16474813,\n",
       "         0.01313336, -0.24521497, -0.04754697, -0.06278158,  0.19525383,\n",
       "        -0.10176274, -0.10678937, -0.08160213, -0.11723344,  0.05484498,\n",
       "         0.01178589, -0.05021499,  0.00671862,  0.00943235]),\n",
       " array([ 0.35517626, -0.20303167, -0.05971584, -0.10483012, -0.10307767,\n",
       "        -0.0842188 , -0.11798864, -0.05334253,  0.27094026, -0.01061267,\n",
       "        -0.08493304,  0.07063889,  0.043546  , -0.03226475, -0.37712977,\n",
       "         0.39613011,  0.28682735, -0.16100672, -0.16840601,  0.16873902,\n",
       "         0.14899953,  0.22786088, -0.08010622, -0.17655624, -0.16021738,\n",
       "         0.25054227,  0.02963755,  0.04144392,  0.0166366 ,  0.0845539 ,\n",
       "         0.00951957, -0.14240467,  0.00622013,  0.01309593]),\n",
       " array([ 0.03223765, -0.05692243,  0.16915255,  0.02045694,  0.03707546,\n",
       "         0.27862801,  0.11634003, -0.09719151, -0.32886515, -0.08041581,\n",
       "         0.04147091, -0.08690014, -0.10341717,  0.07237647, -0.13870294,\n",
       "         0.16739201,  0.35144244, -0.05897426, -0.0863195 , -0.05285046,\n",
       "         0.27585418,  0.16275917,  0.10464317, -0.0491869 ,  0.03854217,\n",
       "        -0.62858348, -0.00754293,  0.01176699,  0.03176302, -0.02094555,\n",
       "         0.04718285,  0.13980307,  0.04910109,  0.04472518]),\n",
       " array([ 0.14095779, -0.27113856,  0.12339512, -0.01710669, -0.15001739,\n",
       "         0.07978153, -0.11899256, -0.12976036,  0.06347122, -0.12011982,\n",
       "        -0.12119873, -0.08231354, -0.0985378 , -0.04263901,  0.04548405,\n",
       "        -0.16529105,  0.20075614,  0.01992102,  0.56094405, -0.46655707,\n",
       "         0.21560124, -0.22296418,  0.12062633, -0.00915207, -0.09819948,\n",
       "         0.12766629,  0.07786191,  0.08430135,  0.07094405,  0.04630349,\n",
       "        -0.00450509, -0.14193831,  0.00642231,  0.00526014]),\n",
       " array([ 0.23266247, -0.08902003, -0.08063413, -0.02625814, -0.06732617,\n",
       "         0.08128205, -0.04992824,  0.35762495,  0.36326132, -0.36540926,\n",
       "         0.03803846, -0.15006022, -0.15926452,  0.04052468, -0.05720465,\n",
       "         0.14552307, -0.24518396, -0.00775688,  0.2928162 ,  0.25405224,\n",
       "        -0.11320444, -0.15034235, -0.02395884, -0.08826235,  0.20129228,\n",
       "        -0.3315977 , -0.0402466 , -0.02575439, -0.00271845, -0.13188205,\n",
       "        -0.06399418,  0.10379612, -0.06500401, -0.06946104]),\n",
       " array([-0.13777331,  0.08471792,  0.06195118,  0.00375486,  0.02200625,\n",
       "         0.00964982,  0.03532055, -0.10873177, -0.17671665, -0.01144057,\n",
       "        -0.01102964, -0.02167194, -0.01469057, -0.06705614,  0.11737989,\n",
       "         0.36956136,  0.07899081, -0.12015422,  0.03315282,  0.3898353 ,\n",
       "         0.09731061, -0.67360513, -0.06667886,  0.09829151, -0.07841526,\n",
       "         0.04645458,  0.16932823,  0.16188728,  0.1586175 ,  0.11034394,\n",
       "         0.03812747, -0.11306731,  0.04052463,  0.04307071]),\n",
       " array([ 0.23449042,  0.41212913,  0.07216099, -0.0684595 , -0.0871538 ,\n",
       "         0.07787901,  0.14913262,  0.17540036, -0.238598  , -0.17484443,\n",
       "         0.01707071, -0.11505288, -0.10853695, -0.27616787, -0.2498065 ,\n",
       "         0.0515997 , -0.18904064,  0.04909622,  0.12208468, -0.12016393,\n",
       "        -0.06721656,  0.20869041, -0.23721601,  0.36733223, -0.13699208,\n",
       "         0.04247002,  0.06860099,  0.09481537,  0.12709731,  0.1652733 ,\n",
       "         0.07480652, -0.21189375,  0.06800661,  0.06956864]),\n",
       " array([ 1.43523114e-04,  2.68679739e-01, -8.68031191e-02,  1.94096658e-01,\n",
       "         1.14694095e-01, -2.30217604e-01, -1.49170253e-02, -3.13187004e-02,\n",
       "         1.58706949e-01,  1.44399246e-01,  4.76777373e-02, -2.43764749e-02,\n",
       "         1.08082210e-02, -4.93947330e-01,  1.68747611e-01,  2.88994972e-01,\n",
       "         1.29150344e-01,  1.06975713e-02,  2.00888836e-01, -1.41936436e-01,\n",
       "         1.70616487e-02, -9.27038660e-03, -1.52232516e-05, -1.02111160e-01,\n",
       "        -3.60299902e-01, -1.74533906e-01, -1.54715953e-01, -1.90498540e-01,\n",
       "        -2.15435940e-01, -9.33805882e-02, -3.64664187e-02,  2.04880653e-01,\n",
       "        -3.66549461e-02, -4.30865620e-02]),\n",
       " array([ 0.03142833,  0.11789602,  0.01029485,  0.29966517,  0.03504945,\n",
       "         0.07858809,  0.09763126,  0.13509626, -0.1389027 ,  0.11930901,\n",
       "         0.05219088, -0.17754922, -0.26707324,  0.56038847, -0.09064949,\n",
       "         0.02815087, -0.07294957, -0.12788528,  0.17099453,  0.06000529,\n",
       "        -0.10567401,  0.0168297 ,  0.05521573, -0.22531383, -0.47298989,\n",
       "         0.17582443, -0.02508685, -0.06997625, -0.08083116,  0.03338086,\n",
       "         0.04429095,  0.06588368,  0.04492   ,  0.04429025]),\n",
       " array([-0.01292467,  0.00263557,  0.19878376, -0.0427533 , -0.10364063,\n",
       "         0.47979436,  0.0087979 ,  0.10527174, -0.10834725,  0.14150219,\n",
       "        -0.08628605,  0.1103936 ,  0.14116864, -0.30720897, -0.04860241,\n",
       "         0.12789558, -0.31337585, -0.00243903, -0.00449073,  0.04060246,\n",
       "        -0.05858195, -0.01523746,  0.46179035, -0.35603541,  0.01476208,\n",
       "         0.09827131, -0.09238605, -0.07789691, -0.11244972,  0.07323502,\n",
       "         0.0124081 , -0.18765148,  0.01309811,  0.01950223]),\n",
       " array([-0.06279079, -0.17466808,  0.22626083,  0.38907643,  0.01126661,\n",
       "         0.16399338, -0.0612115 , -0.22428531,  0.35995175,  0.2947511 ,\n",
       "        -0.10807691,  0.09345424,  0.08264985,  0.02795917, -0.04240053,\n",
       "         0.03703224, -0.38861513, -0.08798836,  0.00593807, -0.04576111,\n",
       "         0.07897294,  0.06681065, -0.31223852,  0.1506371 , -0.0829307 ,\n",
       "        -0.27299613,  0.09809462,  0.091066  ,  0.08639259,  0.13483521,\n",
       "         0.07127138, -0.05301346,  0.06547645,  0.0730995 ]),\n",
       " array([-0.07548651,  0.08430194, -0.22599415,  0.30699505,  0.08640717,\n",
       "         0.21643818, -0.21000608,  0.21042518, -0.19799175,  0.00129921,\n",
       "        -0.07055997,  0.02932908,  0.12884708, -0.09443497,  0.00149194,\n",
       "         0.02195517,  0.19691544, -0.05295236,  0.10463915, -0.13609416,\n",
       "        -0.09167195,  0.00661163, -0.46979821, -0.41944167,  0.324028  ,\n",
       "         0.10943202,  0.0654584 ,  0.03888345,  0.12921378,  0.03770242,\n",
       "         0.05998153,  0.03496907,  0.05955671,  0.05240492]),\n",
       " array([ 0.01539914, -0.25649874, -0.05430195, -0.48996125,  0.2302732 ,\n",
       "         0.38123637, -0.00867774, -0.00187879, -0.07085741,  0.1622148 ,\n",
       "         0.11782795, -0.00860527, -0.03210765, -0.0992174 ,  0.11482449,\n",
       "        -0.03288869, -0.08213474,  0.08502649,  0.05947649,  0.06433229,\n",
       "        -0.02299962,  0.05031634, -0.33104462, -0.02710797, -0.35583113,\n",
       "         0.07040496,  0.02782772,  0.07397637,  0.14044497, -0.18084318,\n",
       "        -0.09838147,  0.26032484, -0.10098261, -0.09565431]),\n",
       " array([-0.03877804, -0.41785974, -0.06670873,  0.11172677, -0.08687532,\n",
       "        -0.14789005, -0.15555278,  0.66218079, -0.23118117,  0.27891827,\n",
       "        -0.1043267 ,  0.04364091,  0.08964786, -0.06197643,  0.0071115 ,\n",
       "         0.04277983,  0.07268125, -0.03460469, -0.03707288, -0.0130081 ,\n",
       "         0.03038945, -0.03208987,  0.07388159,  0.33239314, -0.12964654,\n",
       "        -0.0975967 , -0.03249762, -0.00598582, -0.03467769,  0.02215967,\n",
       "         0.01252082, -0.04281419, -0.0055638 ,  0.00319856]),\n",
       " array([ 0.10795915,  0.24842014, -0.34908741, -0.00067451, -0.14089198,\n",
       "         0.41729675, -0.36583675, -0.17927043,  0.098548  ,  0.15620133,\n",
       "        -0.24190798, -0.06981513,  0.0271615 ,  0.13092845, -0.00281029,\n",
       "        -0.0143655 ,  0.22791638, -0.02239411, -0.04163775,  0.02596922,\n",
       "        -0.28520045, -0.07657777,  0.12011522,  0.35510395, -0.03596554,\n",
       "        -0.09780858, -0.08356197, -0.06992535, -0.05477719, -0.03820328,\n",
       "        -0.07556307, -0.05838294, -0.07523688, -0.06821442]),\n",
       " array([ 0.151132  ,  0.29279378,  0.1542987 , -0.09110408, -0.30191841,\n",
       "        -0.14505343, -0.32935151,  0.02251772, -0.19377354,  0.15580791,\n",
       "        -0.28438707, -0.0298461 , -0.03959415,  0.10563861,  0.08974986,\n",
       "        -0.02903142, -0.23962711,  0.01614507, -0.02880836,  0.07879574,\n",
       "         0.5023511 ,  0.01862366, -0.12300328, -0.11121713,  0.06014197,\n",
       "         0.01615341,  0.01643566, -0.04065577,  0.00383915, -0.20978622,\n",
       "        -0.1312616 ,  0.13947962, -0.14114356, -0.14689219]),\n",
       " array([ 2.52438529e-02,  6.69136337e-02,  6.65201687e-01, -1.36960118e-01,\n",
       "        -1.27556858e-01, -1.46350760e-01, -8.22889162e-02,  7.08269741e-02,\n",
       "         4.94754259e-02,  1.36650695e-01, -1.37925982e-01, -9.17114003e-02,\n",
       "         4.39657117e-02,  2.14047221e-02,  3.13658991e-02,  1.22181776e-02,\n",
       "         2.63737134e-01, -2.13033950e-03,  5.30372737e-03,  5.32551111e-04,\n",
       "        -5.56993570e-01,  3.16547605e-03, -9.04266279e-02, -9.86722032e-02,\n",
       "         2.15038209e-02, -6.64375011e-02,  9.99262006e-02,  5.31461191e-02,\n",
       "         5.92974619e-02, -4.83869637e-02, -3.56656580e-02,  7.90222652e-02,\n",
       "        -3.64417572e-02, -4.39690076e-02]),\n",
       " array([-1.03088076e-02,  7.87597586e-02,  2.04371405e-01, -4.39160945e-02,\n",
       "         6.64781290e-01, -5.16130554e-02, -5.33293659e-01,  5.28863272e-02,\n",
       "        -1.31881775e-02, -2.63153206e-01, -2.96060049e-02, -1.58967305e-01,\n",
       "         2.15892756e-01,  7.90124662e-02, -7.33675534e-02, -4.12821362e-03,\n",
       "        -8.72086988e-02, -3.31425881e-03, -3.52881047e-02, -2.26299143e-02,\n",
       "         8.45505216e-02,  1.28367697e-02,  1.28207180e-01,  4.91793515e-02,\n",
       "        -9.48033051e-02,  4.40393749e-04, -2.52251183e-02,  8.56946496e-04,\n",
       "        -3.89115585e-02,  8.33805094e-02,  4.28911470e-02, -8.18258541e-02,\n",
       "         2.61950245e-02,  3.89671014e-02]),\n",
       " array([ 1.47257093e-03, -5.60175080e-02, -8.03669726e-02, -1.09613592e-02,\n",
       "        -1.61341421e-01, -6.89205091e-03,  2.00022466e-01, -4.09694054e-02,\n",
       "         1.67851278e-02,  5.77967611e-02,  5.29121822e-02, -7.27021253e-01,\n",
       "         6.07484986e-01,  5.26072057e-02,  2.36679017e-02,  5.38308966e-02,\n",
       "        -4.74222150e-02,  3.60278229e-03, -3.00791001e-03, -2.83683552e-02,\n",
       "         6.05525349e-02,  1.02455030e-02, -1.73503370e-02, -2.09936406e-02,\n",
       "         5.76321882e-04,  2.52513965e-02, -4.41533404e-02,  5.49790345e-03,\n",
       "         3.85710783e-02, -7.06469225e-03,  5.67999198e-03,  1.31401707e-02,\n",
       "        -1.14960819e-02, -1.37160011e-02]),\n",
       " array([ 0.03435357, -0.01502115,  0.00275198,  0.05309928,  0.19832281,\n",
       "        -0.06449522,  0.24756093, -0.00429868,  0.01169752, -0.02309345,\n",
       "        -0.49539339,  0.02196288, -0.03659728,  0.00184252,  0.01790574,\n",
       "         0.00670634,  0.00211457, -0.00906966,  0.00251639,  0.01580812,\n",
       "        -0.01424575, -0.00885776,  0.04141067, -0.00866873, -0.00364379,\n",
       "         0.03267647, -0.61264818,  0.03299533,  0.50945941, -0.04148598,\n",
       "        -0.02099081,  0.01062963, -0.00788699, -0.02979117]),\n",
       " array([ 4.53799608e-02, -4.01833079e-02, -7.59926931e-02, -2.46712250e-02,\n",
       "         2.67097940e-01,  2.80990036e-02,  3.58432396e-01,  3.41841057e-02,\n",
       "        -9.12798071e-03, -6.31823231e-02, -6.38780729e-01, -3.77560430e-02,\n",
       "         8.76863071e-03, -2.50813582e-03,  2.06457513e-02,  4.30986943e-03,\n",
       "         6.16337208e-06,  1.50181348e-02,  7.66862794e-03,  3.16144768e-03,\n",
       "         9.94867684e-04,  1.81939790e-02, -3.29737335e-02,  1.20954180e-02,\n",
       "         3.58381776e-02,  1.10735728e-02,  4.17967896e-01, -1.50450981e-02,\n",
       "        -3.94941243e-01,  8.97022240e-02, -1.18076293e-01,  7.44070834e-02,\n",
       "        -9.96166075e-02, -4.98209735e-02]),\n",
       " array([-0.01839422, -0.00197855,  0.00964051,  0.02370611, -0.05680235,\n",
       "        -0.00206633, -0.04721857,  0.00585201, -0.02330284, -0.02829665,\n",
       "         0.12230719,  0.01107603, -0.00719947,  0.00598421, -0.00670501,\n",
       "        -0.00329751, -0.00256703, -0.00410284, -0.00262669, -0.01718735,\n",
       "         0.00775729,  0.0056244 ,  0.02219104, -0.01573183,  0.0237914 ,\n",
       "        -0.00320818, -0.09209034,  0.00917359,  0.07531547,  0.74533664,\n",
       "        -0.42423535,  0.26566377, -0.38364851, -0.08776401]),\n",
       " array([-5.61504497e-03,  3.38065911e-02, -3.63468980e-03,  1.06810096e-02,\n",
       "        -3.77033345e-02,  9.24401634e-03, -1.57261604e-02,  4.17171333e-03,\n",
       "        -1.29380491e-02, -1.05529877e-02,  4.44510614e-03,  1.00591698e-02,\n",
       "         4.79803668e-04,  1.44163028e-02,  8.16028824e-03,  6.11611615e-04,\n",
       "        -1.59669122e-03,  9.50945332e-03, -7.49486869e-03, -1.75372725e-02,\n",
       "        -6.60514633e-03, -7.06808228e-03, -4.42532101e-02, -2.92221739e-02,\n",
       "         2.39438117e-04, -1.68373912e-03, -3.38328383e-01,  8.23929230e-01,\n",
       "        -4.34330766e-01, -7.36930292e-03,  2.02407684e-02,  4.36221901e-02,\n",
       "         3.90429842e-02, -8.38239563e-02]),\n",
       " array([ 6.91980957e-04, -2.98926211e-04,  3.41953835e-03, -7.33725884e-04,\n",
       "         6.41043870e-04, -3.24272178e-03, -1.25889216e-02,  9.07022002e-03,\n",
       "        -2.22595464e-03,  6.93139107e-03,  6.90032804e-03, -1.00175228e-02,\n",
       "         1.25530807e-02, -5.95001609e-04, -5.41907852e-03,  1.82409381e-03,\n",
       "        -5.65476480e-03, -6.79397890e-04, -2.76359810e-03,  4.79349891e-03,\n",
       "         3.91567193e-03,  3.65247563e-03, -4.26755406e-03,  7.49750360e-03,\n",
       "        -2.98836149e-03, -9.48506540e-04,  3.78840267e-03, -1.03500528e-02,\n",
       "         1.62264664e-03, -2.84606940e-02, -7.02772096e-01, -9.70805953e-03,\n",
       "         7.09433109e-01,  3.09132710e-02]),\n",
       " array([-1.42985155e-03, -1.06200639e-02, -5.09766192e-03, -1.30144028e-03,\n",
       "         4.78455482e-03,  7.77570593e-03,  1.23263507e-03, -3.97784658e-04,\n",
       "        -6.59244307e-04, -7.73922827e-03,  6.98449426e-03,  7.14225431e-03,\n",
       "        -5.61125445e-03,  1.80847099e-03,  1.15945521e-03, -2.96458203e-03,\n",
       "        -7.48335942e-04,  1.40591283e-03, -4.07750676e-03, -2.11292199e-03,\n",
       "         2.75843758e-03,  4.79405791e-04,  1.17927066e-02, -4.53426500e-05,\n",
       "         6.47195697e-04, -1.52461891e-03,  3.70607844e-02, -7.69596602e-02,\n",
       "         3.56235058e-02,  2.13001587e-01,  2.87465422e-01,  5.38221913e-02,\n",
       "         3.30746176e-01, -8.66333038e-01])]"
      ]
     },
     "execution_count": 193,
     "metadata": {},
     "output_type": "execute_result"
    }
   ],
   "source": [
    "eigvectors_sort"
   ]
  },
  {
   "cell_type": "code",
   "execution_count": 196,
   "metadata": {},
   "outputs": [
    {
     "data": {
      "text/plain": [
       "array([[-8.99846347e-02,  4.29531397e-02,  3.95214494e-01, ...,\n",
       "        -5.61504497e-03,  6.91980957e-04, -1.42985155e-03],\n",
       "       [-2.14931930e-01,  2.21312960e-02,  4.09781510e-02, ...,\n",
       "         3.38065911e-02, -2.98926211e-04, -1.06200639e-02],\n",
       "       [-1.85624609e-01,  2.11227490e-01, -3.39031702e-03, ...,\n",
       "        -3.63468980e-03,  3.41953835e-03, -5.09766192e-03],\n",
       "       ...,\n",
       "       [ 1.27972552e-01,  7.66805911e-02,  3.52700341e-01, ...,\n",
       "         4.36221901e-02, -9.70805953e-03,  5.38221913e-02],\n",
       "       [ 2.01339261e-01,  1.06378210e-01,  3.09653778e-01, ...,\n",
       "         3.90429842e-02,  7.09433109e-01,  3.30746176e-01],\n",
       "       [ 2.02206852e-01,  1.06773989e-01,  3.08226885e-01, ...,\n",
       "        -8.38239563e-02,  3.09132710e-02, -8.66333038e-01]])"
      ]
     },
     "execution_count": 196,
     "metadata": {},
     "output_type": "execute_result"
    }
   ],
   "source": [
    "# Eigen vectors columns wise\n",
    "eig_vect =  np.array(eigvectors_sort).transpose()\n",
    "eig_vect"
   ]
  },
  {
   "cell_type": "markdown",
   "metadata": {},
   "source": [
    "Since we got our eigen vectors for PCA, we can check that which original feature is given most importance for PCA1"
   ]
  },
  {
   "cell_type": "markdown",
   "metadata": {},
   "source": [
    "### Top 5 features impacting PCA1"
   ]
  },
  {
   "cell_type": "code",
   "execution_count": 201,
   "metadata": {},
   "outputs": [
    {
     "data": {
      "text/html": [
       "<div>\n",
       "<style scoped>\n",
       "    .dataframe tbody tr th:only-of-type {\n",
       "        vertical-align: middle;\n",
       "    }\n",
       "\n",
       "    .dataframe tbody tr th {\n",
       "        vertical-align: top;\n",
       "    }\n",
       "\n",
       "    .dataframe thead th {\n",
       "        text-align: right;\n",
       "    }\n",
       "</style>\n",
       "<table border=\"1\" class=\"dataframe\">\n",
       "  <thead>\n",
       "    <tr style=\"text-align: right;\">\n",
       "      <th></th>\n",
       "      <th>feature</th>\n",
       "      <th>PCA1_weight</th>\n",
       "      <th>PCA1_abs</th>\n",
       "    </tr>\n",
       "  </thead>\n",
       "  <tbody>\n",
       "    <tr>\n",
       "      <th>10</th>\n",
       "      <td>ball_control</td>\n",
       "      <td>-0.240190</td>\n",
       "      <td>0.240190</td>\n",
       "    </tr>\n",
       "    <tr>\n",
       "      <th>4</th>\n",
       "      <td>short_passing</td>\n",
       "      <td>-0.229521</td>\n",
       "      <td>0.229521</td>\n",
       "    </tr>\n",
       "    <tr>\n",
       "      <th>6</th>\n",
       "      <td>dribbling</td>\n",
       "      <td>-0.227534</td>\n",
       "      <td>0.227534</td>\n",
       "    </tr>\n",
       "    <tr>\n",
       "      <th>1</th>\n",
       "      <td>crossing</td>\n",
       "      <td>-0.214932</td>\n",
       "      <td>0.214932</td>\n",
       "    </tr>\n",
       "    <tr>\n",
       "      <th>20</th>\n",
       "      <td>long_shots</td>\n",
       "      <td>-0.212150</td>\n",
       "      <td>0.212150</td>\n",
       "    </tr>\n",
       "  </tbody>\n",
       "</table>\n",
       "</div>"
      ],
      "text/plain": [
       "          feature  PCA1_weight  PCA1_abs\n",
       "10   ball_control    -0.240190  0.240190\n",
       "4   short_passing    -0.229521  0.229521\n",
       "6       dribbling    -0.227534  0.227534\n",
       "1        crossing    -0.214932  0.214932\n",
       "20     long_shots    -0.212150  0.212150"
      ]
     },
     "execution_count": 201,
     "metadata": {},
     "output_type": "execute_result"
    }
   ],
   "source": [
    "feat_importance =  pd.DataFrame({'feature':xtrain.columns , 'PCA1_weight':eig_vect[:,0], 'PCA1_abs':abs(eig_vect[:,0])})\n",
    "feat_importance.sort_values(by='PCA1_abs', ascending=False).head()"
   ]
  },
  {
   "cell_type": "markdown",
   "metadata": {},
   "source": [
    "### Transforming data in PCA space."
   ]
  },
  {
   "cell_type": "code",
   "execution_count": 216,
   "metadata": {},
   "outputs": [
    {
     "data": {
      "text/plain": [
       "array([-3.61905911,  2.47866668,  0.34270108,  0.06127944,  0.64656724,\n",
       "        0.29208221,  0.25026785,  0.0670028 ,  0.05773125,  0.58907415,\n",
       "        0.1902463 , -0.39683313, -0.25878998,  0.46292949,  1.23130356,\n",
       "        0.16371042,  0.28899747,  0.43768136,  0.27343957, -0.09731527,\n",
       "        0.01596933, -0.73868431,  0.26921172, -0.02229451, -0.09696828,\n",
       "       -0.05727352, -0.49196716, -0.23384362, -0.08055713, -0.05642752,\n",
       "       -0.17227232, -0.36136215,  0.42019134, -0.23348673])"
      ]
     },
     "execution_count": 216,
     "metadata": {},
     "output_type": "execute_result"
    }
   ],
   "source": [
    "xtrain_pca = np.dot(xtrain, eig_vect)\n",
    "\n",
    "xtest_pca = np.dot(xtest, eig_vect)\n",
    "\n",
    "xtrain_pca[0]  # Values of 1st record on PCA scale."
   ]
  },
  {
   "cell_type": "markdown",
   "metadata": {},
   "source": [
    "### Importing PCA"
   ]
  },
  {
   "cell_type": "code",
   "execution_count": 203,
   "metadata": {},
   "outputs": [],
   "source": [
    "from sklearn.decomposition import PCA"
   ]
  },
  {
   "cell_type": "code",
   "execution_count": 220,
   "metadata": {},
   "outputs": [
    {
     "data": {
      "text/plain": [
       "array([-3.61905911, -2.47866668,  0.34270108, -0.06127944, -0.64656724,\n",
       "        0.29208221,  0.25026785, -0.0670028 ,  0.05773125,  0.58907415,\n",
       "        0.1902463 ,  0.39683313,  0.25878998, -0.46292949, -1.23130356,\n",
       "       -0.16371042, -0.28899747,  0.43768136,  0.27343957,  0.09731527,\n",
       "        0.01596933,  0.73868431,  0.26921172,  0.02229451,  0.09696828,\n",
       "        0.05727352,  0.49196716,  0.23384362, -0.08055713, -0.05642752,\n",
       "       -0.17227232,  0.36136215, -0.42019134, -0.23348673])"
      ]
     },
     "execution_count": 220,
     "metadata": {},
     "output_type": "execute_result"
    }
   ],
   "source": [
    "pc = PCA()\n",
    "xtr_pca = pc.fit_transform(xtrain)\n",
    "xtt_pca = pc.transform(xtest)\n",
    "xtr_pca[0]"
   ]
  },
  {
   "cell_type": "markdown",
   "metadata": {},
   "source": [
    "`As we can see that`, values of the record using manual calculation and using PCA are exactly same."
   ]
  },
  {
   "cell_type": "code",
   "execution_count": null,
   "metadata": {},
   "outputs": [],
   "source": []
  },
  {
   "cell_type": "markdown",
   "metadata": {},
   "source": [
    "### Creating LR model"
   ]
  },
  {
   "cell_type": "markdown",
   "metadata": {},
   "source": [
    "#### Using all PCA Model"
   ]
  },
  {
   "cell_type": "code",
   "execution_count": 224,
   "metadata": {},
   "outputs": [
    {
     "name": "stdout",
     "output_type": "stream",
     "text": [
      "Train R2:  0.8420593072224918\n",
      "Test R2:  0.840497686487108\n",
      "Train RMSE:  2.8000395840664027\n",
      "Test R2:  2.792810361595036\n"
     ]
    }
   ],
   "source": [
    "lr = LinearRegression()\n",
    "lr.fit(xtrain_pca, ytrain)\n",
    "\n",
    "ytrain_pred = lr.predict(xtrain_pca)\n",
    "ytest_pred = lr.predict(xtest_pca)\n",
    "\n",
    "print('Train R2: ',r2_score(ytrain, ytrain_pred))\n",
    "print('Test R2: ',r2_score(ytest, ytest_pred))\n",
    "\n",
    "print('Train RMSE: ',mean_squared_error(ytrain, ytrain_pred)**0.5)\n",
    "print('Test R2: ',mean_squared_error(ytest, ytest_pred)**0.5)"
   ]
  },
  {
   "cell_type": "markdown",
   "metadata": {},
   "source": [
    "#### Using only 18 PCA components"
   ]
  },
  {
   "cell_type": "code",
   "execution_count": 231,
   "metadata": {},
   "outputs": [
    {
     "name": "stdout",
     "output_type": "stream",
     "text": [
      "Train R2:  0.8277872643410716\n",
      "Test R2:  0.8262290575208309\n",
      "Train RMSE:  2.923814291131864\n",
      "Test R2:  2.915053515156587\n"
     ]
    }
   ],
   "source": [
    "lr = LinearRegression()\n",
    "lr.fit(xtrain_pca[:,:18], ytrain)\n",
    "\n",
    "ytrain_pred = lr.predict(xtrain_pca[:,:18])\n",
    "ytest_pred = lr.predict(xtest_pca[:,:18])\n",
    "\n",
    "print('Train R2: ',r2_score(ytrain, ytrain_pred))\n",
    "print('Test R2: ',r2_score(ytest, ytest_pred))\n",
    "\n",
    "print('Train RMSE: ',mean_squared_error(ytrain, ytrain_pred)**0.5)\n",
    "print('Test R2: ',mean_squared_error(ytest, ytest_pred)**0.5)"
   ]
  },
  {
   "cell_type": "code",
   "execution_count": null,
   "metadata": {},
   "outputs": [],
   "source": []
  },
  {
   "cell_type": "markdown",
   "metadata": {},
   "source": [
    "### Conclusion\n",
    "#### After using regularization and PCA the result is not getting improve, since the already the model is very rightly fit."
   ]
  },
  {
   "cell_type": "code",
   "execution_count": null,
   "metadata": {},
   "outputs": [],
   "source": []
  }
 ],
 "metadata": {
  "kernelspec": {
   "display_name": "Python 3",
   "language": "python",
   "name": "python3"
  },
  "language_info": {
   "codemirror_mode": {
    "name": "ipython",
    "version": 3
   },
   "file_extension": ".py",
   "mimetype": "text/x-python",
   "name": "python",
   "nbconvert_exporter": "python",
   "pygments_lexer": "ipython3",
   "version": "3.7.9"
  }
 },
 "nbformat": 4,
 "nbformat_minor": 4
}
